{
 "cells": [
  {
   "cell_type": "code",
   "execution_count": 1,
   "id": "12b81da6",
   "metadata": {},
   "outputs": [],
   "source": [
    "import pandas as pd\n",
    "import numpy as np\n"
   ]
  },
  {
   "cell_type": "code",
   "execution_count": 2,
   "id": "28f7ca9a",
   "metadata": {},
   "outputs": [
    {
     "data": {
      "text/html": [
       "<div>\n",
       "<style scoped>\n",
       "    .dataframe tbody tr th:only-of-type {\n",
       "        vertical-align: middle;\n",
       "    }\n",
       "\n",
       "    .dataframe tbody tr th {\n",
       "        vertical-align: top;\n",
       "    }\n",
       "\n",
       "    .dataframe thead th {\n",
       "        text-align: right;\n",
       "    }\n",
       "</style>\n",
       "<table border=\"1\" class=\"dataframe\">\n",
       "  <thead>\n",
       "    <tr style=\"text-align: right;\">\n",
       "      <th></th>\n",
       "      <th>admission_id</th>\n",
       "      <th>patient_id</th>\n",
       "      <th>race</th>\n",
       "      <th>gender</th>\n",
       "      <th>age</th>\n",
       "      <th>weight</th>\n",
       "      <th>admission_type_code</th>\n",
       "      <th>discharge_disposition_code</th>\n",
       "      <th>admission_source_code</th>\n",
       "      <th>time_in_hospital</th>\n",
       "      <th>...</th>\n",
       "      <th>blood_transfusion</th>\n",
       "      <th>max_glu_serum</th>\n",
       "      <th>A1Cresult</th>\n",
       "      <th>diuretics</th>\n",
       "      <th>insulin</th>\n",
       "      <th>change</th>\n",
       "      <th>diabetesMed</th>\n",
       "      <th>readmitted_proba</th>\n",
       "      <th>true_class</th>\n",
       "      <th>readmitted</th>\n",
       "    </tr>\n",
       "  </thead>\n",
       "  <tbody>\n",
       "    <tr>\n",
       "      <th>0</th>\n",
       "      <td>95646.0</td>\n",
       "      <td>2590308.0</td>\n",
       "      <td>?</td>\n",
       "      <td>Male</td>\n",
       "      <td>[70-80)</td>\n",
       "      <td>?</td>\n",
       "      <td>2.0</td>\n",
       "      <td>1.0</td>\n",
       "      <td>9.0</td>\n",
       "      <td>1.0</td>\n",
       "      <td>...</td>\n",
       "      <td>False</td>\n",
       "      <td>None</td>\n",
       "      <td>None</td>\n",
       "      <td>No</td>\n",
       "      <td>No</td>\n",
       "      <td>No</td>\n",
       "      <td>Yes</td>\n",
       "      <td>0.401941</td>\n",
       "      <td>0</td>\n",
       "      <td>No</td>\n",
       "    </tr>\n",
       "    <tr>\n",
       "      <th>1</th>\n",
       "      <td>87927.0</td>\n",
       "      <td>190052460.0</td>\n",
       "      <td>Caucasian</td>\n",
       "      <td>Male</td>\n",
       "      <td>[60-70)</td>\n",
       "      <td>?</td>\n",
       "      <td>2.0</td>\n",
       "      <td>1.0</td>\n",
       "      <td>1.0</td>\n",
       "      <td>1.0</td>\n",
       "      <td>...</td>\n",
       "      <td>False</td>\n",
       "      <td>NONE</td>\n",
       "      <td>None</td>\n",
       "      <td>No</td>\n",
       "      <td>No</td>\n",
       "      <td>Ch</td>\n",
       "      <td>Yes</td>\n",
       "      <td>0.395329</td>\n",
       "      <td>0</td>\n",
       "      <td>No</td>\n",
       "    </tr>\n",
       "    <tr>\n",
       "      <th>2</th>\n",
       "      <td>99160.0</td>\n",
       "      <td>6887610.0</td>\n",
       "      <td>Hispanic</td>\n",
       "      <td>Female</td>\n",
       "      <td>[40-50)</td>\n",
       "      <td>?</td>\n",
       "      <td>1.0</td>\n",
       "      <td>18.0</td>\n",
       "      <td>7.0</td>\n",
       "      <td>1.0</td>\n",
       "      <td>...</td>\n",
       "      <td>False</td>\n",
       "      <td>None</td>\n",
       "      <td>None</td>\n",
       "      <td>No</td>\n",
       "      <td>No</td>\n",
       "      <td>Ch</td>\n",
       "      <td>Yes</td>\n",
       "      <td>0.423172</td>\n",
       "      <td>0</td>\n",
       "      <td>No</td>\n",
       "    </tr>\n",
       "    <tr>\n",
       "      <th>3</th>\n",
       "      <td>90155.0</td>\n",
       "      <td>61379460.0</td>\n",
       "      <td>Other</td>\n",
       "      <td>Female</td>\n",
       "      <td>[60-70)</td>\n",
       "      <td>?</td>\n",
       "      <td>2.0</td>\n",
       "      <td>1.0</td>\n",
       "      <td>7.0</td>\n",
       "      <td>1.0</td>\n",
       "      <td>...</td>\n",
       "      <td>False</td>\n",
       "      <td>None</td>\n",
       "      <td>&gt;8</td>\n",
       "      <td>No</td>\n",
       "      <td>Yes</td>\n",
       "      <td>Ch</td>\n",
       "      <td>Yes</td>\n",
       "      <td>0.468113</td>\n",
       "      <td>0</td>\n",
       "      <td>No</td>\n",
       "    </tr>\n",
       "    <tr>\n",
       "      <th>4</th>\n",
       "      <td>90613.0</td>\n",
       "      <td>186370740.0</td>\n",
       "      <td>Caucasian</td>\n",
       "      <td>Male</td>\n",
       "      <td>[50-60)</td>\n",
       "      <td>?</td>\n",
       "      <td>1.0</td>\n",
       "      <td>1.0</td>\n",
       "      <td>1.0</td>\n",
       "      <td>1.0</td>\n",
       "      <td>...</td>\n",
       "      <td>True</td>\n",
       "      <td>NONE</td>\n",
       "      <td>&gt;8</td>\n",
       "      <td>No</td>\n",
       "      <td>Yes</td>\n",
       "      <td>Ch</td>\n",
       "      <td>Yes</td>\n",
       "      <td>0.443700</td>\n",
       "      <td>0</td>\n",
       "      <td>No</td>\n",
       "    </tr>\n",
       "  </tbody>\n",
       "</table>\n",
       "<p>5 rows × 36 columns</p>\n",
       "</div>"
      ],
      "text/plain": [
       "   admission_id   patient_id       race  gender      age weight  \\\n",
       "0       95646.0    2590308.0          ?    Male  [70-80)      ?   \n",
       "1       87927.0  190052460.0  Caucasian    Male  [60-70)      ?   \n",
       "2       99160.0    6887610.0   Hispanic  Female  [40-50)      ?   \n",
       "3       90155.0   61379460.0      Other  Female  [60-70)      ?   \n",
       "4       90613.0  186370740.0  Caucasian    Male  [50-60)      ?   \n",
       "\n",
       "   admission_type_code  discharge_disposition_code  admission_source_code  \\\n",
       "0                  2.0                         1.0                    9.0   \n",
       "1                  2.0                         1.0                    1.0   \n",
       "2                  1.0                        18.0                    7.0   \n",
       "3                  2.0                         1.0                    7.0   \n",
       "4                  1.0                         1.0                    1.0   \n",
       "\n",
       "   time_in_hospital  ... blood_transfusion max_glu_serum  A1Cresult diuretics  \\\n",
       "0               1.0  ...             False          None       None        No   \n",
       "1               1.0  ...             False          NONE       None        No   \n",
       "2               1.0  ...             False          None       None        No   \n",
       "3               1.0  ...             False          None         >8        No   \n",
       "4               1.0  ...              True          NONE         >8        No   \n",
       "\n",
       "   insulin  change  diabetesMed  readmitted_proba  true_class  readmitted  \n",
       "0       No      No          Yes          0.401941           0          No  \n",
       "1       No      Ch          Yes          0.395329           0          No  \n",
       "2       No      Ch          Yes          0.423172           0          No  \n",
       "3      Yes      Ch          Yes          0.468113           0          No  \n",
       "4      Yes      Ch          Yes          0.443700           0          No  \n",
       "\n",
       "[5 rows x 36 columns]"
      ]
     },
     "execution_count": 2,
     "metadata": {},
     "output_type": "execute_result"
    }
   ],
   "source": [
    "#data = pd.read_csv(\"data/train_data.csv\")\n",
    "data = pd.read_csv(\"data/first_round.csv\")\n",
    "\n",
    "data.head()"
   ]
  },
  {
   "cell_type": "code",
   "execution_count": null,
   "id": "03bbe538",
   "metadata": {},
   "outputs": [],
   "source": []
  },
  {
   "cell_type": "code",
   "execution_count": 4,
   "id": "c63a6398",
   "metadata": {},
   "outputs": [
    {
     "data": {
      "text/plain": [
       "(9696, 36)"
      ]
     },
     "execution_count": 4,
     "metadata": {},
     "output_type": "execute_result"
    }
   ],
   "source": [
    "data.shape"
   ]
  },
  {
   "cell_type": "code",
   "execution_count": 3,
   "id": "e82761c7",
   "metadata": {},
   "outputs": [
    {
     "data": {
      "text/html": [
       "<div>\n",
       "<style scoped>\n",
       "    .dataframe tbody tr th:only-of-type {\n",
       "        vertical-align: middle;\n",
       "    }\n",
       "\n",
       "    .dataframe tbody tr th {\n",
       "        vertical-align: top;\n",
       "    }\n",
       "\n",
       "    .dataframe thead th {\n",
       "        text-align: right;\n",
       "    }\n",
       "</style>\n",
       "<table border=\"1\" class=\"dataframe\">\n",
       "  <thead>\n",
       "    <tr style=\"text-align: right;\">\n",
       "      <th></th>\n",
       "      <th>Variable name</th>\n",
       "      <th>Description</th>\n",
       "      <th>Codes</th>\n",
       "    </tr>\n",
       "  </thead>\n",
       "  <tbody>\n",
       "    <tr>\n",
       "      <th>0</th>\n",
       "      <td>admission_id</td>\n",
       "      <td>Unique identifier of an encounter</td>\n",
       "      <td>NaN</td>\n",
       "    </tr>\n",
       "    <tr>\n",
       "      <th>1</th>\n",
       "      <td>patient_id</td>\n",
       "      <td>Unique identifier of a patient</td>\n",
       "      <td>NaN</td>\n",
       "    </tr>\n",
       "    <tr>\n",
       "      <th>2</th>\n",
       "      <td>race</td>\n",
       "      <td>Patient race</td>\n",
       "      <td>NaN</td>\n",
       "    </tr>\n",
       "    <tr>\n",
       "      <th>3</th>\n",
       "      <td>gender</td>\n",
       "      <td>Patient gender</td>\n",
       "      <td>NaN</td>\n",
       "    </tr>\n",
       "    <tr>\n",
       "      <th>4</th>\n",
       "      <td>age</td>\n",
       "      <td>Patient age grouped in 10-year intervals</td>\n",
       "      <td>NaN</td>\n",
       "    </tr>\n",
       "    <tr>\n",
       "      <th>5</th>\n",
       "      <td>weight</td>\n",
       "      <td>Patient weight (lb)</td>\n",
       "      <td>NaN</td>\n",
       "    </tr>\n",
       "    <tr>\n",
       "      <th>6</th>\n",
       "      <td>admission_type_code</td>\n",
       "      <td>Admission type identifier</td>\n",
       "      <td>1: Emergency\\r\\n2: Urgent\\r\\n3: Elective\\r\\n4:...</td>\n",
       "    </tr>\n",
       "    <tr>\n",
       "      <th>7</th>\n",
       "      <td>discharge_disposition_code</td>\n",
       "      <td>discharge_disposition_code</td>\n",
       "      <td>1: Discharged to home\\r\\n2: Discharged/transfe...</td>\n",
       "    </tr>\n",
       "    <tr>\n",
       "      <th>8</th>\n",
       "      <td>admission_source_code</td>\n",
       "      <td>Admission source identifier</td>\n",
       "      <td>1: Physician Referral\\n2: Clinic Referral\\n3: ...</td>\n",
       "    </tr>\n",
       "    <tr>\n",
       "      <th>9</th>\n",
       "      <td>time_in_hospital</td>\n",
       "      <td>Number of days between admission and discharge</td>\n",
       "      <td>NaN</td>\n",
       "    </tr>\n",
       "    <tr>\n",
       "      <th>10</th>\n",
       "      <td>payer_code</td>\n",
       "      <td>Payer identifier</td>\n",
       "      <td>NaN</td>\n",
       "    </tr>\n",
       "    <tr>\n",
       "      <th>11</th>\n",
       "      <td>medical_specialty</td>\n",
       "      <td>Physician speciality</td>\n",
       "      <td>NaN</td>\n",
       "    </tr>\n",
       "    <tr>\n",
       "      <th>12</th>\n",
       "      <td>has_prosthesis</td>\n",
       "      <td>Indicates if patient has any prothesis.</td>\n",
       "      <td>NaN</td>\n",
       "    </tr>\n",
       "    <tr>\n",
       "      <th>13</th>\n",
       "      <td>complete_vaccination_status</td>\n",
       "      <td>The patient vaccination status.</td>\n",
       "      <td>NaN</td>\n",
       "    </tr>\n",
       "    <tr>\n",
       "      <th>14</th>\n",
       "      <td>num_lab_procedures</td>\n",
       "      <td>Number of lab tests performed during the encou...</td>\n",
       "      <td>NaN</td>\n",
       "    </tr>\n",
       "    <tr>\n",
       "      <th>15</th>\n",
       "      <td>num_procedures</td>\n",
       "      <td>Number of procedures (other than lab tests) pe...</td>\n",
       "      <td>NaN</td>\n",
       "    </tr>\n",
       "    <tr>\n",
       "      <th>16</th>\n",
       "      <td>num_medications</td>\n",
       "      <td>Number of distinct generic names administered ...</td>\n",
       "      <td>NaN</td>\n",
       "    </tr>\n",
       "    <tr>\n",
       "      <th>17</th>\n",
       "      <td>number_outpatient</td>\n",
       "      <td>Number of outpatient visits of the patient in ...</td>\n",
       "      <td>NaN</td>\n",
       "    </tr>\n",
       "    <tr>\n",
       "      <th>18</th>\n",
       "      <td>number_emergency</td>\n",
       "      <td>Number of emergency visits of the patient in t...</td>\n",
       "      <td>NaN</td>\n",
       "    </tr>\n",
       "    <tr>\n",
       "      <th>19</th>\n",
       "      <td>number_inpatient</td>\n",
       "      <td>Number of inpatient visits of the patient in t...</td>\n",
       "      <td>NaN</td>\n",
       "    </tr>\n",
       "    <tr>\n",
       "      <th>20</th>\n",
       "      <td>diag_1</td>\n",
       "      <td>The primary diagnosis (coded as first three di...</td>\n",
       "      <td>NaN</td>\n",
       "    </tr>\n",
       "    <tr>\n",
       "      <th>21</th>\n",
       "      <td>diag_2</td>\n",
       "      <td>Secondary diagnosis (coded as first three digi...</td>\n",
       "      <td>NaN</td>\n",
       "    </tr>\n",
       "    <tr>\n",
       "      <th>22</th>\n",
       "      <td>diag_3</td>\n",
       "      <td>Additional secondary diagnosis (coded as first...</td>\n",
       "      <td>NaN</td>\n",
       "    </tr>\n",
       "    <tr>\n",
       "      <th>23</th>\n",
       "      <td>number_diagnoses</td>\n",
       "      <td>Number of diagnoses entered to the system</td>\n",
       "      <td>NaN</td>\n",
       "    </tr>\n",
       "    <tr>\n",
       "      <th>24</th>\n",
       "      <td>blood_type</td>\n",
       "      <td>Patient blood type</td>\n",
       "      <td>NaN</td>\n",
       "    </tr>\n",
       "    <tr>\n",
       "      <th>25</th>\n",
       "      <td>hemoglobin_level</td>\n",
       "      <td>Encounter initial patient hemoglobin level (g/dl)</td>\n",
       "      <td>NaN</td>\n",
       "    </tr>\n",
       "    <tr>\n",
       "      <th>26</th>\n",
       "      <td>blood_transfusion</td>\n",
       "      <td>Indicates if pacient required blood transfusio...</td>\n",
       "      <td>Yes: blood transfusion was performed during th...</td>\n",
       "    </tr>\n",
       "    <tr>\n",
       "      <th>27</th>\n",
       "      <td>max_glu_serum</td>\n",
       "      <td>Indicates the range of the glucose serum resul...</td>\n",
       "      <td>&gt;200: result greater than 200 but less than 30...</td>\n",
       "    </tr>\n",
       "    <tr>\n",
       "      <th>28</th>\n",
       "      <td>A1Cresult</td>\n",
       "      <td>Indicates the range of the A1c test result or ...</td>\n",
       "      <td>&gt;8: the result was greater than 8%\\n&gt;7: the re...</td>\n",
       "    </tr>\n",
       "    <tr>\n",
       "      <th>29</th>\n",
       "      <td>diuretics</td>\n",
       "      <td>Indicate whether diuretics were prescribed.</td>\n",
       "      <td>Yes: a diuretic was prescribed during the enco...</td>\n",
       "    </tr>\n",
       "    <tr>\n",
       "      <th>30</th>\n",
       "      <td>insulin</td>\n",
       "      <td>Indicate whether insulin was prescribed.</td>\n",
       "      <td>Yes: insulin was prescribed during the encount...</td>\n",
       "    </tr>\n",
       "    <tr>\n",
       "      <th>31</th>\n",
       "      <td>change</td>\n",
       "      <td>Indicates if there was a change in diabetic me...</td>\n",
       "      <td>Ch: there was a change in diabetic medication\\...</td>\n",
       "    </tr>\n",
       "    <tr>\n",
       "      <th>32</th>\n",
       "      <td>diabetesMed</td>\n",
       "      <td>Indicates if there was any diabetic medication...</td>\n",
       "      <td>Yes: diabetic medication was prescribed during...</td>\n",
       "    </tr>\n",
       "    <tr>\n",
       "      <th>33</th>\n",
       "      <td>readmitted</td>\n",
       "      <td>Patient readmitted within 30 days of discharge.</td>\n",
       "      <td>Yes: if the patient was readmitted\\nNo: no rec...</td>\n",
       "    </tr>\n",
       "  </tbody>\n",
       "</table>\n",
       "</div>"
      ],
      "text/plain": [
       "                  Variable name  \\\n",
       "0                  admission_id   \n",
       "1                    patient_id   \n",
       "2                          race   \n",
       "3                        gender   \n",
       "4                           age   \n",
       "5                        weight   \n",
       "6           admission_type_code   \n",
       "7    discharge_disposition_code   \n",
       "8         admission_source_code   \n",
       "9              time_in_hospital   \n",
       "10                   payer_code   \n",
       "11            medical_specialty   \n",
       "12               has_prosthesis   \n",
       "13  complete_vaccination_status   \n",
       "14           num_lab_procedures   \n",
       "15               num_procedures   \n",
       "16              num_medications   \n",
       "17            number_outpatient   \n",
       "18             number_emergency   \n",
       "19             number_inpatient   \n",
       "20                       diag_1   \n",
       "21                       diag_2   \n",
       "22                       diag_3   \n",
       "23             number_diagnoses   \n",
       "24                   blood_type   \n",
       "25             hemoglobin_level   \n",
       "26            blood_transfusion   \n",
       "27                max_glu_serum   \n",
       "28                    A1Cresult   \n",
       "29                    diuretics   \n",
       "30                      insulin   \n",
       "31                       change   \n",
       "32                  diabetesMed   \n",
       "33                   readmitted   \n",
       "\n",
       "                                          Description  \\\n",
       "0                   Unique identifier of an encounter   \n",
       "1                      Unique identifier of a patient   \n",
       "2                                        Patient race   \n",
       "3                                      Patient gender   \n",
       "4            Patient age grouped in 10-year intervals   \n",
       "5                                 Patient weight (lb)   \n",
       "6                           Admission type identifier   \n",
       "7                          discharge_disposition_code   \n",
       "8                         Admission source identifier   \n",
       "9      Number of days between admission and discharge   \n",
       "10                                   Payer identifier   \n",
       "11                               Physician speciality   \n",
       "12            Indicates if patient has any prothesis.   \n",
       "13                    The patient vaccination status.   \n",
       "14  Number of lab tests performed during the encou...   \n",
       "15  Number of procedures (other than lab tests) pe...   \n",
       "16  Number of distinct generic names administered ...   \n",
       "17  Number of outpatient visits of the patient in ...   \n",
       "18  Number of emergency visits of the patient in t...   \n",
       "19  Number of inpatient visits of the patient in t...   \n",
       "20  The primary diagnosis (coded as first three di...   \n",
       "21  Secondary diagnosis (coded as first three digi...   \n",
       "22  Additional secondary diagnosis (coded as first...   \n",
       "23          Number of diagnoses entered to the system   \n",
       "24                                 Patient blood type   \n",
       "25  Encounter initial patient hemoglobin level (g/dl)   \n",
       "26  Indicates if pacient required blood transfusio...   \n",
       "27  Indicates the range of the glucose serum resul...   \n",
       "28  Indicates the range of the A1c test result or ...   \n",
       "29        Indicate whether diuretics were prescribed.   \n",
       "30           Indicate whether insulin was prescribed.   \n",
       "31  Indicates if there was a change in diabetic me...   \n",
       "32  Indicates if there was any diabetic medication...   \n",
       "33    Patient readmitted within 30 days of discharge.   \n",
       "\n",
       "                                                Codes  \n",
       "0                                                 NaN  \n",
       "1                                                 NaN  \n",
       "2                                                 NaN  \n",
       "3                                                 NaN  \n",
       "4                                                 NaN  \n",
       "5                                                 NaN  \n",
       "6   1: Emergency\\r\\n2: Urgent\\r\\n3: Elective\\r\\n4:...  \n",
       "7   1: Discharged to home\\r\\n2: Discharged/transfe...  \n",
       "8   1: Physician Referral\\n2: Clinic Referral\\n3: ...  \n",
       "9                                                 NaN  \n",
       "10                                                NaN  \n",
       "11                                                NaN  \n",
       "12                                                NaN  \n",
       "13                                                NaN  \n",
       "14                                                NaN  \n",
       "15                                                NaN  \n",
       "16                                                NaN  \n",
       "17                                                NaN  \n",
       "18                                                NaN  \n",
       "19                                                NaN  \n",
       "20                                                NaN  \n",
       "21                                                NaN  \n",
       "22                                                NaN  \n",
       "23                                                NaN  \n",
       "24                                                NaN  \n",
       "25                                                NaN  \n",
       "26  Yes: blood transfusion was performed during th...  \n",
       "27  >200: result greater than 200 but less than 30...  \n",
       "28  >8: the result was greater than 8%\\n>7: the re...  \n",
       "29  Yes: a diuretic was prescribed during the enco...  \n",
       "30  Yes: insulin was prescribed during the encount...  \n",
       "31  Ch: there was a change in diabetic medication\\...  \n",
       "32  Yes: diabetic medication was prescribed during...  \n",
       "33  Yes: if the patient was readmitted\\nNo: no rec...  "
      ]
     },
     "execution_count": 3,
     "metadata": {},
     "output_type": "execute_result"
    }
   ],
   "source": [
    "data_dictionary = pd.read_csv(\"data/Data Dictionary.csv\")\n",
    "data_dictionary"
   ]
  },
  {
   "cell_type": "markdown",
   "id": "3e71e4ed",
   "metadata": {},
   "source": [
    "## Processind and cleaning data\n",
    "- Check if there are nans\n"
   ]
  },
  {
   "cell_type": "code",
   "execution_count": 5,
   "id": "5a9bea38",
   "metadata": {},
   "outputs": [],
   "source": [
    "def check_for_nans(df):\n",
    "    return(np.sum(df.isnull()))\n",
    "\n",
    "def check_column(df, column_name):\n",
    "    print(f\"Feature: {column_name}\")\n",
    "    print(f\"Unique values: {df[column_name].unique()}\")\n",
    "    print(f\"dtype: {df[column_name].dtypes}\")\n",
    "    print(f\"Num of nan: {df[column_name].isnull().sum()}\")"
   ]
  },
  {
   "cell_type": "code",
   "execution_count": 6,
   "id": "59f374c8",
   "metadata": {},
   "outputs": [
    {
     "data": {
      "text/plain": [
       "admission_id                     0\n",
       "patient_id                       0\n",
       "race                             0\n",
       "gender                           0\n",
       "age                            293\n",
       "weight                         166\n",
       "admission_type_code            146\n",
       "discharge_disposition_code      71\n",
       "admission_source_code            0\n",
       "time_in_hospital                 0\n",
       "payer_code                       0\n",
       "medical_specialty                0\n",
       "has_prosthesis                   0\n",
       "complete_vaccination_status      0\n",
       "num_lab_procedures             184\n",
       "num_procedures                   0\n",
       "num_medications                308\n",
       "number_outpatient                0\n",
       "number_emergency                 0\n",
       "number_inpatient                 0\n",
       "diag_1                           0\n",
       "diag_2                         169\n",
       "diag_3                           0\n",
       "number_diagnoses                 0\n",
       "blood_type                       0\n",
       "hemoglobin_level                 0\n",
       "blood_transfusion                0\n",
       "max_glu_serum                    0\n",
       "A1Cresult                        0\n",
       "diuretics                        0\n",
       "insulin                          0\n",
       "change                           0\n",
       "diabetesMed                      0\n",
       "readmitted_proba                 0\n",
       "true_class                       0\n",
       "readmitted                       0\n",
       "dtype: int64"
      ]
     },
     "execution_count": 6,
     "metadata": {},
     "output_type": "execute_result"
    }
   ],
   "source": [
    "check_for_nans(data)"
   ]
  },
  {
   "cell_type": "code",
   "execution_count": 315,
   "id": "cb3c692d",
   "metadata": {},
   "outputs": [
    {
     "data": {
      "text/plain": [
       "admission_id                   float64\n",
       "patient_id                     float64\n",
       "race                            object\n",
       "gender                          object\n",
       "age                             object\n",
       "weight                          object\n",
       "admission_type_code            float64\n",
       "discharge_disposition_code     float64\n",
       "admission_source_code          float64\n",
       "time_in_hospital               float64\n",
       "payer_code                      object\n",
       "medical_specialty               object\n",
       "has_prosthesis                    bool\n",
       "complete_vaccination_status     object\n",
       "num_lab_procedures             float64\n",
       "num_procedures                 float64\n",
       "num_medications                float64\n",
       "number_outpatient              float64\n",
       "number_emergency               float64\n",
       "number_inpatient               float64\n",
       "diag_1                          object\n",
       "diag_2                          object\n",
       "diag_3                          object\n",
       "number_diagnoses               float64\n",
       "blood_type                      object\n",
       "hemoglobin_level               float64\n",
       "blood_transfusion                 bool\n",
       "max_glu_serum                   object\n",
       "A1Cresult                       object\n",
       "diuretics                       object\n",
       "insulin                         object\n",
       "change                          object\n",
       "diabetesMed                     object\n",
       "readmitted_proba               float64\n",
       "true_class                     float64\n",
       "readmitted                      object\n",
       "dtype: object"
      ]
     },
     "execution_count": 315,
     "metadata": {},
     "output_type": "execute_result"
    }
   ],
   "source": [
    "data.dtypes"
   ]
  },
  {
   "cell_type": "code",
   "execution_count": 316,
   "id": "84a88438",
   "metadata": {},
   "outputs": [
    {
     "data": {
      "text/plain": [
       "admission_id                   9696\n",
       "patient_id                     9221\n",
       "race                             15\n",
       "gender                            3\n",
       "age                              10\n",
       "weight                            9\n",
       "admission_type_code               7\n",
       "discharge_disposition_code       21\n",
       "admission_source_code            12\n",
       "time_in_hospital                 14\n",
       "payer_code                       17\n",
       "medical_specialty                50\n",
       "has_prosthesis                    2\n",
       "complete_vaccination_status       3\n",
       "num_lab_procedures              105\n",
       "num_procedures                    7\n",
       "num_medications                  64\n",
       "number_outpatient                19\n",
       "number_emergency                 15\n",
       "number_inpatient                 17\n",
       "diag_1                          447\n",
       "diag_2                          441\n",
       "diag_3                          469\n",
       "number_diagnoses                 14\n",
       "blood_type                        8\n",
       "hemoglobin_level                 70\n",
       "blood_transfusion                 2\n",
       "max_glu_serum                     6\n",
       "A1Cresult                         4\n",
       "diuretics                         2\n",
       "insulin                           2\n",
       "change                            2\n",
       "diabetesMed                       2\n",
       "readmitted_proba               9619\n",
       "true_class                        2\n",
       "readmitted                        2\n",
       "dtype: int64"
      ]
     },
     "execution_count": 316,
     "metadata": {},
     "output_type": "execute_result"
    }
   ],
   "source": [
    "data.nunique()"
   ]
  },
  {
   "cell_type": "code",
   "execution_count": 7,
   "id": "05b9e8c7",
   "metadata": {},
   "outputs": [],
   "source": [
    "data.replace(\"?\", np.nan, inplace=True)"
   ]
  },
  {
   "cell_type": "markdown",
   "id": "f59fd702",
   "metadata": {},
   "source": []
  },
  {
   "cell_type": "code",
   "execution_count": 8,
   "id": "d1fba181",
   "metadata": {},
   "outputs": [
    {
     "name": "stdout",
     "output_type": "stream",
     "text": [
      "Feature: race\n",
      "Unique values: [nan 'Caucasian' 'Hispanic' 'Other' 'Latino' 'African American'\n",
      " 'AfricanAmerican' 'WHITE' 'AFRICANAMERICAN' 'Afro American' 'European'\n",
      " 'Asian' 'White' 'Black' 'EURO']\n",
      "dtype: object\n",
      "Num of nan: 227\n"
     ]
    }
   ],
   "source": [
    "#clean the race data\n",
    "check_column(data, \"race\")"
   ]
  },
  {
   "cell_type": "code",
   "execution_count": 9,
   "id": "c7461e98",
   "metadata": {},
   "outputs": [],
   "source": [
    "data.race = data.race.replace([\"EURO\", \"European\", \"WHITE\", \"White\"], \"Caucasian\")\n",
    "data.race = data.race.replace(\"Latino\", \"Hispanic\")\n",
    "data.race = data.race.replace([\"AfricanAmerican\", \"Afro American\", \"AFRICANAMERICAN\", \"Black\"], \"African American\")\n"
   ]
  },
  {
   "cell_type": "code",
   "execution_count": 10,
   "id": "0989cd51",
   "metadata": {},
   "outputs": [
    {
     "name": "stdout",
     "output_type": "stream",
     "text": [
      "Feature: race\n",
      "Unique values: [nan 'Caucasian' 'Hispanic' 'Other' 'African American' 'Asian']\n",
      "dtype: object\n",
      "Num of nan: 227\n"
     ]
    }
   ],
   "source": [
    "check_column(data, \"race\")"
   ]
  },
  {
   "cell_type": "code",
   "execution_count": 11,
   "id": "10e329e3",
   "metadata": {},
   "outputs": [
    {
     "name": "stdout",
     "output_type": "stream",
     "text": [
      "Feature: gender\n",
      "Unique values: ['Male' 'Female' 'Unknown/Invalid']\n",
      "dtype: object\n",
      "Num of nan: 0\n"
     ]
    }
   ],
   "source": [
    "#clean gender data\n",
    "check_column(data, \"gender\")"
   ]
  },
  {
   "cell_type": "code",
   "execution_count": 12,
   "id": "288989ed",
   "metadata": {},
   "outputs": [
    {
     "name": "stdout",
     "output_type": "stream",
     "text": [
      "Feature: gender\n",
      "Unique values: ['Male' 'Female' nan]\n",
      "dtype: object\n",
      "Num of nan: 1\n"
     ]
    }
   ],
   "source": [
    "#replace Unknow/Invalid value in gender with np.nan\n",
    "data.gender.replace(\"Unknown/Invalid\", np.nan, inplace=True)\n",
    "check_column(data, \"gender\")"
   ]
  },
  {
   "cell_type": "code",
   "execution_count": 13,
   "id": "57a35fbc",
   "metadata": {},
   "outputs": [
    {
     "name": "stdout",
     "output_type": "stream",
     "text": [
      "Feature: age\n",
      "Unique values: ['[70-80)' '[60-70)' '[40-50)' '[50-60)' '[80-90)' '[10-20)' nan '[30-40)'\n",
      " '[20-30)' '[90-100)' '[0-10)']\n",
      "dtype: object\n",
      "Num of nan: 293\n"
     ]
    }
   ],
   "source": [
    "#clean age data\n",
    "check_column(data, \"age\")"
   ]
  },
  {
   "cell_type": "code",
   "execution_count": 14,
   "id": "e6d1ba78",
   "metadata": {},
   "outputs": [
    {
     "name": "stdout",
     "output_type": "stream",
     "text": [
      "Feature: weight\n",
      "Unique values: [nan '[100-125)' '[75-100)' '[125-150)' '[50-75)' '[25-50)' '[150-175)'\n",
      " '[175-200)' '[0-25)']\n",
      "dtype: object\n",
      "Num of nan: 9391\n"
     ]
    }
   ],
   "source": [
    "#clean weight data\n",
    "check_column(data, \"weight\")"
   ]
  },
  {
   "cell_type": "code",
   "execution_count": 15,
   "id": "1a0b0d1d",
   "metadata": {},
   "outputs": [
    {
     "name": "stdout",
     "output_type": "stream",
     "text": [
      "Feature: admission_type_code\n",
      "Unique values: [ 2.  1.  5.  3. nan  6.  8.  7.]\n",
      "dtype: float64\n",
      "Num of nan: 146\n"
     ]
    },
    {
     "data": {
      "text/html": [
       "<div>\n",
       "<style scoped>\n",
       "    .dataframe tbody tr th:only-of-type {\n",
       "        vertical-align: middle;\n",
       "    }\n",
       "\n",
       "    .dataframe tbody tr th {\n",
       "        vertical-align: top;\n",
       "    }\n",
       "\n",
       "    .dataframe thead th {\n",
       "        text-align: right;\n",
       "    }\n",
       "</style>\n",
       "<table border=\"1\" class=\"dataframe\">\n",
       "  <thead>\n",
       "    <tr style=\"text-align: right;\">\n",
       "      <th></th>\n",
       "      <th>code_number</th>\n",
       "      <th>meaning</th>\n",
       "    </tr>\n",
       "  </thead>\n",
       "  <tbody>\n",
       "    <tr>\n",
       "      <th>0</th>\n",
       "      <td>1</td>\n",
       "      <td>Emergency</td>\n",
       "    </tr>\n",
       "    <tr>\n",
       "      <th>1</th>\n",
       "      <td>2</td>\n",
       "      <td>Urgent</td>\n",
       "    </tr>\n",
       "    <tr>\n",
       "      <th>2</th>\n",
       "      <td>3</td>\n",
       "      <td>Elective</td>\n",
       "    </tr>\n",
       "    <tr>\n",
       "      <th>3</th>\n",
       "      <td>4</td>\n",
       "      <td>Newborn</td>\n",
       "    </tr>\n",
       "    <tr>\n",
       "      <th>4</th>\n",
       "      <td>5</td>\n",
       "      <td>Not Available</td>\n",
       "    </tr>\n",
       "    <tr>\n",
       "      <th>5</th>\n",
       "      <td>6</td>\n",
       "      <td>NULL</td>\n",
       "    </tr>\n",
       "    <tr>\n",
       "      <th>6</th>\n",
       "      <td>7</td>\n",
       "      <td>Trauma Center</td>\n",
       "    </tr>\n",
       "    <tr>\n",
       "      <th>7</th>\n",
       "      <td>8</td>\n",
       "      <td>Not Mapped</td>\n",
       "    </tr>\n",
       "  </tbody>\n",
       "</table>\n",
       "</div>"
      ],
      "text/plain": [
       "  code_number        meaning\n",
       "0           1      Emergency\n",
       "1           2         Urgent\n",
       "2           3       Elective\n",
       "3           4        Newborn\n",
       "4           5  Not Available\n",
       "5           6           NULL\n",
       "6           7  Trauma Center\n",
       "7           8     Not Mapped"
      ]
     },
     "execution_count": 15,
     "metadata": {},
     "output_type": "execute_result"
    }
   ],
   "source": [
    "#clean admission_type_code\n",
    "check_column(data, \"admission_type_code\")\n",
    "\n",
    "codes = data_dictionary[data_dictionary[\"Variable name\"]==\"admission_type_code\"].Codes.values[0].split(\"\\r\\n\")\n",
    "admission_type_code_df = pd.DataFrame([code.split(\": \", maxsplit=1) for code in codes], columns=[\"code_number\", \"meaning\"])\n",
    "admission_type_code_df\n",
    "\n",
    "\n"
   ]
  },
  {
   "cell_type": "code",
   "execution_count": 16,
   "id": "42dee664",
   "metadata": {},
   "outputs": [
    {
     "name": "stdout",
     "output_type": "stream",
     "text": [
      "Feature: admission_type_code\n",
      "Unique values: ['2.0' '1.0' 'nan' '3.0' '7.0']\n",
      "dtype: object\n",
      "Num of nan: 0\n"
     ]
    }
   ],
   "source": [
    "\n",
    "data.admission_type_code = data.admission_type_code.replace([5., 6., 8.], np.nan)\n",
    "\n",
    "#data.admission_type_code = data.admission_type_code.replace([\"1.0\", \"2.0\", \"3.0\", \"4.0\", \"7.0\"], [\"Emergency\", \"Urgent\", \"Elective\", \"Newborn\", \"Trauma Center\"])\n",
    "data.admission_type_code = data.admission_type_code.astype(str)\n",
    "\n",
    "check_column(data, \"admission_type_code\")\n"
   ]
  },
  {
   "cell_type": "code",
   "execution_count": 17,
   "id": "a02639c3",
   "metadata": {},
   "outputs": [
    {
     "name": "stdout",
     "output_type": "stream",
     "text": [
      "Feature: discharge_disposition_code\n",
      "Unique values: [ 1. 18.  6.  3. 23. 13. 22. 15.  2.  4. 25.  5. nan  7.  8. 28. 14. 16.\n",
      " 17. 12. 27.  9.]\n",
      "dtype: float64\n",
      "Num of nan: 71\n"
     ]
    },
    {
     "data": {
      "text/html": [
       "<div>\n",
       "<style scoped>\n",
       "    .dataframe tbody tr th:only-of-type {\n",
       "        vertical-align: middle;\n",
       "    }\n",
       "\n",
       "    .dataframe tbody tr th {\n",
       "        vertical-align: top;\n",
       "    }\n",
       "\n",
       "    .dataframe thead th {\n",
       "        text-align: right;\n",
       "    }\n",
       "</style>\n",
       "<table border=\"1\" class=\"dataframe\">\n",
       "  <thead>\n",
       "    <tr style=\"text-align: right;\">\n",
       "      <th></th>\n",
       "      <th>code_number</th>\n",
       "      <th>meaning</th>\n",
       "    </tr>\n",
       "  </thead>\n",
       "  <tbody>\n",
       "    <tr>\n",
       "      <th>0</th>\n",
       "      <td>1</td>\n",
       "      <td>Discharged to home</td>\n",
       "    </tr>\n",
       "    <tr>\n",
       "      <th>1</th>\n",
       "      <td>2</td>\n",
       "      <td>Discharged/transferred to another short term h...</td>\n",
       "    </tr>\n",
       "    <tr>\n",
       "      <th>2</th>\n",
       "      <td>3</td>\n",
       "      <td>Discharged/transferred to SNF</td>\n",
       "    </tr>\n",
       "    <tr>\n",
       "      <th>3</th>\n",
       "      <td>4</td>\n",
       "      <td>Discharged/transferred to ICF</td>\n",
       "    </tr>\n",
       "    <tr>\n",
       "      <th>4</th>\n",
       "      <td>5</td>\n",
       "      <td>Discharged/transferred to another type of inpa...</td>\n",
       "    </tr>\n",
       "    <tr>\n",
       "      <th>5</th>\n",
       "      <td>6</td>\n",
       "      <td>Discharged/transferred to home with home healt...</td>\n",
       "    </tr>\n",
       "    <tr>\n",
       "      <th>6</th>\n",
       "      <td>7</td>\n",
       "      <td>Left AMA</td>\n",
       "    </tr>\n",
       "    <tr>\n",
       "      <th>7</th>\n",
       "      <td>8</td>\n",
       "      <td>Discharged/transferred to home under care of H...</td>\n",
       "    </tr>\n",
       "    <tr>\n",
       "      <th>8</th>\n",
       "      <td>9</td>\n",
       "      <td>Admitted as an inpatient to this hospital</td>\n",
       "    </tr>\n",
       "    <tr>\n",
       "      <th>9</th>\n",
       "      <td>10</td>\n",
       "      <td>Neonate discharged to another hospital for neo...</td>\n",
       "    </tr>\n",
       "    <tr>\n",
       "      <th>10</th>\n",
       "      <td>11</td>\n",
       "      <td>Expired</td>\n",
       "    </tr>\n",
       "    <tr>\n",
       "      <th>11</th>\n",
       "      <td>12</td>\n",
       "      <td>Still patient or expected to return for outpat...</td>\n",
       "    </tr>\n",
       "    <tr>\n",
       "      <th>12</th>\n",
       "      <td>13</td>\n",
       "      <td>Hospice / home</td>\n",
       "    </tr>\n",
       "    <tr>\n",
       "      <th>13</th>\n",
       "      <td>14</td>\n",
       "      <td>Hospice / medical facility</td>\n",
       "    </tr>\n",
       "    <tr>\n",
       "      <th>14</th>\n",
       "      <td>15</td>\n",
       "      <td>Discharged/transferred within this institution...</td>\n",
       "    </tr>\n",
       "    <tr>\n",
       "      <th>15</th>\n",
       "      <td>16</td>\n",
       "      <td>Discharged/transferred/referred another instit...</td>\n",
       "    </tr>\n",
       "    <tr>\n",
       "      <th>16</th>\n",
       "      <td>17</td>\n",
       "      <td>Discharged/transferred/referred to this instit...</td>\n",
       "    </tr>\n",
       "    <tr>\n",
       "      <th>17</th>\n",
       "      <td>18</td>\n",
       "      <td>NULL</td>\n",
       "    </tr>\n",
       "    <tr>\n",
       "      <th>18</th>\n",
       "      <td>19</td>\n",
       "      <td>\"Expired at home. Medicaid only:  hospice.\"</td>\n",
       "    </tr>\n",
       "    <tr>\n",
       "      <th>19</th>\n",
       "      <td>20</td>\n",
       "      <td>\"Expired in a medical facility. Medicaid only:...</td>\n",
       "    </tr>\n",
       "    <tr>\n",
       "      <th>20</th>\n",
       "      <td>21</td>\n",
       "      <td>\"Expired:  place unknown. Medicaid only:  hosp...</td>\n",
       "    </tr>\n",
       "    <tr>\n",
       "      <th>21</th>\n",
       "      <td>22</td>\n",
       "      <td>Discharged/transferred to another rehab fac in...</td>\n",
       "    </tr>\n",
       "    <tr>\n",
       "      <th>22</th>\n",
       "      <td>23</td>\n",
       "      <td>Discharged/transferred to a long term care hos...</td>\n",
       "    </tr>\n",
       "    <tr>\n",
       "      <th>23</th>\n",
       "      <td>24</td>\n",
       "      <td>Discharged/transferred to a nursing facility c...</td>\n",
       "    </tr>\n",
       "    <tr>\n",
       "      <th>24</th>\n",
       "      <td>25</td>\n",
       "      <td>Not Mapped</td>\n",
       "    </tr>\n",
       "    <tr>\n",
       "      <th>25</th>\n",
       "      <td>26</td>\n",
       "      <td>Unknown/Invalid</td>\n",
       "    </tr>\n",
       "    <tr>\n",
       "      <th>26</th>\n",
       "      <td>30</td>\n",
       "      <td>Discharged/transferred to another Type of Heal...</td>\n",
       "    </tr>\n",
       "    <tr>\n",
       "      <th>27</th>\n",
       "      <td>27</td>\n",
       "      <td>Discharged/transferred to a federal health car...</td>\n",
       "    </tr>\n",
       "    <tr>\n",
       "      <th>28</th>\n",
       "      <td>28</td>\n",
       "      <td>Discharged/transferred/referred to a psychiatr...</td>\n",
       "    </tr>\n",
       "    <tr>\n",
       "      <th>29</th>\n",
       "      <td>29</td>\n",
       "      <td>Discharged/transferred to a Critical Access Ho...</td>\n",
       "    </tr>\n",
       "  </tbody>\n",
       "</table>\n",
       "</div>"
      ],
      "text/plain": [
       "   code_number                                            meaning\n",
       "0            1                                 Discharged to home\n",
       "1            2  Discharged/transferred to another short term h...\n",
       "2            3                      Discharged/transferred to SNF\n",
       "3            4                      Discharged/transferred to ICF\n",
       "4            5  Discharged/transferred to another type of inpa...\n",
       "5            6  Discharged/transferred to home with home healt...\n",
       "6            7                                           Left AMA\n",
       "7            8  Discharged/transferred to home under care of H...\n",
       "8            9          Admitted as an inpatient to this hospital\n",
       "9           10  Neonate discharged to another hospital for neo...\n",
       "10          11                                            Expired\n",
       "11          12  Still patient or expected to return for outpat...\n",
       "12          13                                     Hospice / home\n",
       "13          14                         Hospice / medical facility\n",
       "14          15  Discharged/transferred within this institution...\n",
       "15          16  Discharged/transferred/referred another instit...\n",
       "16          17  Discharged/transferred/referred to this instit...\n",
       "17          18                                               NULL\n",
       "18          19        \"Expired at home. Medicaid only:  hospice.\"\n",
       "19          20  \"Expired in a medical facility. Medicaid only:...\n",
       "20          21  \"Expired:  place unknown. Medicaid only:  hosp...\n",
       "21          22  Discharged/transferred to another rehab fac in...\n",
       "22          23  Discharged/transferred to a long term care hos...\n",
       "23          24  Discharged/transferred to a nursing facility c...\n",
       "24          25                                         Not Mapped\n",
       "25          26                                    Unknown/Invalid\n",
       "26          30  Discharged/transferred to another Type of Heal...\n",
       "27          27  Discharged/transferred to a federal health car...\n",
       "28          28  Discharged/transferred/referred to a psychiatr...\n",
       "29          29  Discharged/transferred to a Critical Access Ho..."
      ]
     },
     "execution_count": 17,
     "metadata": {},
     "output_type": "execute_result"
    }
   ],
   "source": [
    "## discharge_disposition_code \n",
    "check_column(data, \"discharge_disposition_code\")\n",
    "\n",
    "codes = data_dictionary[data_dictionary[\"Variable name\"]==\"discharge_disposition_code\"].Codes.values[0].split(\"\\r\\n\")\n",
    "discharge_disposition_code_df = pd.DataFrame([code.split(\": \", maxsplit=1) for code in codes], columns=[\"code_number\", \"meaning\"])\n",
    "discharge_disposition_code_df \n"
   ]
  },
  {
   "cell_type": "code",
   "execution_count": 18,
   "id": "9ebd7833",
   "metadata": {},
   "outputs": [
    {
     "name": "stdout",
     "output_type": "stream",
     "text": [
      "Feature: discharge_disposition_code\n",
      "Unique values: ['1.0' 'nan' '6.0' '3.0' '23.0' '13.0' '22.0' '15.0' '2.0' '4.0' '5.0'\n",
      " '7.0' '8.0' '28.0' '14.0' '16.0' '17.0' '12.0' '27.0' '9.0']\n",
      "dtype: object\n",
      "Num of nan: 0\n"
     ]
    }
   ],
   "source": [
    "data.discharge_disposition_code = data.discharge_disposition_code.replace([18., 25., 26.], np.nan)\n",
    "data.discharge_disposition_code = data.discharge_disposition_code.astype(str)\n",
    "\n",
    "check_column(data, \"discharge_disposition_code\")\n"
   ]
  },
  {
   "cell_type": "code",
   "execution_count": 19,
   "id": "7bf0c417",
   "metadata": {},
   "outputs": [
    {
     "name": "stdout",
     "output_type": "stream",
     "text": [
      "Feature: admission_source_code\n",
      "Unique values: [ 9.  1.  7. 17.  5.  4.  6.  2. 20.  3.  8. 10.]\n",
      "dtype: float64\n",
      "Num of nan: 0\n"
     ]
    },
    {
     "data": {
      "text/html": [
       "<div>\n",
       "<style scoped>\n",
       "    .dataframe tbody tr th:only-of-type {\n",
       "        vertical-align: middle;\n",
       "    }\n",
       "\n",
       "    .dataframe tbody tr th {\n",
       "        vertical-align: top;\n",
       "    }\n",
       "\n",
       "    .dataframe thead th {\n",
       "        text-align: right;\n",
       "    }\n",
       "</style>\n",
       "<table border=\"1\" class=\"dataframe\">\n",
       "  <thead>\n",
       "    <tr style=\"text-align: right;\">\n",
       "      <th></th>\n",
       "      <th>code_number</th>\n",
       "      <th>meaning</th>\n",
       "    </tr>\n",
       "  </thead>\n",
       "  <tbody>\n",
       "    <tr>\n",
       "      <th>0</th>\n",
       "      <td>1</td>\n",
       "      <td>Physician Referral</td>\n",
       "    </tr>\n",
       "    <tr>\n",
       "      <th>1</th>\n",
       "      <td>2</td>\n",
       "      <td>Clinic Referral</td>\n",
       "    </tr>\n",
       "    <tr>\n",
       "      <th>2</th>\n",
       "      <td>3</td>\n",
       "      <td>HMO Referral</td>\n",
       "    </tr>\n",
       "    <tr>\n",
       "      <th>3</th>\n",
       "      <td>4</td>\n",
       "      <td>Transfer from a hospital</td>\n",
       "    </tr>\n",
       "    <tr>\n",
       "      <th>4</th>\n",
       "      <td>5</td>\n",
       "      <td>Transfer from a Skilled Nursing Facility (SNF)</td>\n",
       "    </tr>\n",
       "    <tr>\n",
       "      <th>5</th>\n",
       "      <td>6</td>\n",
       "      <td>Transfer from another health care facility</td>\n",
       "    </tr>\n",
       "    <tr>\n",
       "      <th>6</th>\n",
       "      <td>7</td>\n",
       "      <td>Emergency Room</td>\n",
       "    </tr>\n",
       "    <tr>\n",
       "      <th>7</th>\n",
       "      <td>8</td>\n",
       "      <td>Court/Law Enforcement</td>\n",
       "    </tr>\n",
       "    <tr>\n",
       "      <th>8</th>\n",
       "      <td>9</td>\n",
       "      <td>Not Available</td>\n",
       "    </tr>\n",
       "    <tr>\n",
       "      <th>9</th>\n",
       "      <td>10</td>\n",
       "      <td>Transfer from critial access hospital</td>\n",
       "    </tr>\n",
       "    <tr>\n",
       "      <th>10</th>\n",
       "      <td>11</td>\n",
       "      <td>Normal Delivery</td>\n",
       "    </tr>\n",
       "    <tr>\n",
       "      <th>11</th>\n",
       "      <td>12</td>\n",
       "      <td>Premature Delivery</td>\n",
       "    </tr>\n",
       "    <tr>\n",
       "      <th>12</th>\n",
       "      <td>13</td>\n",
       "      <td>Sick Baby</td>\n",
       "    </tr>\n",
       "    <tr>\n",
       "      <th>13</th>\n",
       "      <td>14</td>\n",
       "      <td>Extramural Birth</td>\n",
       "    </tr>\n",
       "    <tr>\n",
       "      <th>14</th>\n",
       "      <td>15</td>\n",
       "      <td>Not Available</td>\n",
       "    </tr>\n",
       "    <tr>\n",
       "      <th>15</th>\n",
       "      <td>17</td>\n",
       "      <td>NULL</td>\n",
       "    </tr>\n",
       "    <tr>\n",
       "      <th>16</th>\n",
       "      <td>18</td>\n",
       "      <td>Transfer From Another Home Health Agency</td>\n",
       "    </tr>\n",
       "    <tr>\n",
       "      <th>17</th>\n",
       "      <td>19</td>\n",
       "      <td>Readmission to Same Home Health Agency</td>\n",
       "    </tr>\n",
       "    <tr>\n",
       "      <th>18</th>\n",
       "      <td>20</td>\n",
       "      <td>Not Mapped</td>\n",
       "    </tr>\n",
       "    <tr>\n",
       "      <th>19</th>\n",
       "      <td>21</td>\n",
       "      <td>Unknown/Invalid</td>\n",
       "    </tr>\n",
       "    <tr>\n",
       "      <th>20</th>\n",
       "      <td>22</td>\n",
       "      <td>Transfer from hospital inpt/same fac reslt in ...</td>\n",
       "    </tr>\n",
       "    <tr>\n",
       "      <th>21</th>\n",
       "      <td>23</td>\n",
       "      <td>Born inside this hospital</td>\n",
       "    </tr>\n",
       "    <tr>\n",
       "      <th>22</th>\n",
       "      <td>24</td>\n",
       "      <td>Born outside this hospital</td>\n",
       "    </tr>\n",
       "    <tr>\n",
       "      <th>23</th>\n",
       "      <td>25</td>\n",
       "      <td>Transfer from Ambulatory Surgery Center</td>\n",
       "    </tr>\n",
       "    <tr>\n",
       "      <th>24</th>\n",
       "      <td>26</td>\n",
       "      <td>Transfer from Hospice</td>\n",
       "    </tr>\n",
       "  </tbody>\n",
       "</table>\n",
       "</div>"
      ],
      "text/plain": [
       "   code_number                                            meaning\n",
       "0            1                                 Physician Referral\n",
       "1            2                                    Clinic Referral\n",
       "2            3                                       HMO Referral\n",
       "3            4                           Transfer from a hospital\n",
       "4            5     Transfer from a Skilled Nursing Facility (SNF)\n",
       "5            6         Transfer from another health care facility\n",
       "6            7                                     Emergency Room\n",
       "7            8                              Court/Law Enforcement\n",
       "8            9                                      Not Available\n",
       "9           10              Transfer from critial access hospital\n",
       "10          11                                    Normal Delivery\n",
       "11          12                                 Premature Delivery\n",
       "12          13                                          Sick Baby\n",
       "13          14                                   Extramural Birth\n",
       "14          15                                      Not Available\n",
       "15          17                                               NULL\n",
       "16          18           Transfer From Another Home Health Agency\n",
       "17          19             Readmission to Same Home Health Agency\n",
       "18          20                                         Not Mapped\n",
       "19          21                                    Unknown/Invalid\n",
       "20          22  Transfer from hospital inpt/same fac reslt in ...\n",
       "21          23                          Born inside this hospital\n",
       "22          24                         Born outside this hospital\n",
       "23          25            Transfer from Ambulatory Surgery Center\n",
       "24          26                              Transfer from Hospice"
      ]
     },
     "execution_count": 19,
     "metadata": {},
     "output_type": "execute_result"
    }
   ],
   "source": [
    "#admission_source_code\n",
    "check_column(data, \"admission_source_code\")\n",
    "codes = data_dictionary[data_dictionary[\"Variable name\"]==\"admission_source_code\"].Codes.values[0].split(\"\\n\")\n",
    "admission_source_code_df = pd.DataFrame([code.split(\": \", maxsplit=1) for code in codes], columns=[\"code_number\", \"meaning\"])\n",
    "admission_source_code_df\n"
   ]
  },
  {
   "cell_type": "code",
   "execution_count": 20,
   "id": "9a38b7b9",
   "metadata": {},
   "outputs": [
    {
     "name": "stdout",
     "output_type": "stream",
     "text": [
      "Feature: admission_source_code\n",
      "Unique values: [ 9.  1.  7. 17.  5.  4.  6.  2. 20.  3.  8. 10.]\n",
      "dtype: float64\n",
      "Num of nan: 0\n",
      "Feature: admission_source_code\n",
      "Unique values: ['nan' '1.0' '7.0' '5.0' '4.0' '6.0' '2.0' '3.0' '8.0' '10.0']\n",
      "dtype: object\n",
      "Num of nan: 0\n"
     ]
    }
   ],
   "source": [
    "check_column(data, \"admission_source_code\")\n",
    "\n",
    "data.admission_source_code = data.admission_source_code.replace([9, 15, 17, 20, 21], np.nan)\n",
    "data.admission_source_code = data.admission_source_code.astype(str)\n",
    "\n",
    "check_column(data, \"admission_source_code\")"
   ]
  },
  {
   "cell_type": "code",
   "execution_count": 21,
   "id": "79d1de57",
   "metadata": {},
   "outputs": [
    {
     "name": "stdout",
     "output_type": "stream",
     "text": [
      "Feature: time_in_hospital\n",
      "Unique values: [ 1.  3. 11.  2.  6. 12.  9.  8. 10.  4.  5.  7. 14. 13.]\n",
      "dtype: float64\n",
      "Num of nan: 0\n"
     ]
    }
   ],
   "source": [
    "#time in hospital\n",
    "check_column(data, \"time_in_hospital\")"
   ]
  },
  {
   "cell_type": "code",
   "execution_count": 22,
   "id": "1b6b8a61",
   "metadata": {},
   "outputs": [
    {
     "name": "stdout",
     "output_type": "stream",
     "text": [
      "Feature: payer_code\n",
      "Unique values: ['MC' 'BC' nan 'MD' 'SP' 'OG' 'UN' 'SI' 'HM' 'CM' 'CP' 'DM' 'MP' 'CH' 'PO'\n",
      " 'WC' 'OT']\n",
      "dtype: object\n",
      "Num of nan: 3844\n"
     ]
    }
   ],
   "source": [
    "#payer code\n",
    "check_column(data, \"payer_code\")\n"
   ]
  },
  {
   "cell_type": "code",
   "execution_count": 23,
   "id": "7bdd3b74",
   "metadata": {},
   "outputs": [
    {
     "name": "stdout",
     "output_type": "stream",
     "text": [
      "Feature: medical_specialty\n",
      "Unique values: ['Family/GeneralPractice' 'Cardiology' 'Emergency/Trauma' nan 'Nephrology'\n",
      " 'ObstetricsandGynecology' 'Psychology' 'InternalMedicine'\n",
      " 'Surgery-Cardiovascular/Thoracic' 'Radiologist' 'Oncology' 'Psychiatry'\n",
      " 'Orthopedics' 'Surgery-Vascular' 'Surgery-General' 'Gastroenterology'\n",
      " 'Orthopedics-Reconstructive' 'Pulmonology'\n",
      " 'PhysicalMedicineandRehabilitation' 'Hematology/Oncology' 'Surgery-Neuro'\n",
      " 'Neurology' 'Urology' 'Hematology' 'Surgery-Thoracic'\n",
      " 'Surgery-Cardiovascular' 'Pediatrics-Endocrinology' 'Rheumatology'\n",
      " 'Pediatrics-Pulmonology' 'Otolaryngology' 'Surgery-Plastic'\n",
      " 'Pediatrics-CriticalCare' 'Pediatrics' 'InfectiousDiseases' 'Radiology'\n",
      " 'Hospitalist' 'Gynecology' 'Surgery-PlasticwithinHeadandNeck'\n",
      " 'Endocrinology' 'SurgicalSpecialty' 'Osteopath' 'Anesthesiology'\n",
      " 'Surgeon' 'Podiatry' 'Ophthalmology'\n",
      " 'Obsterics&Gynecology-GynecologicOnco' 'Resident' 'DCPTEAM'\n",
      " 'Pediatrics-Neurology' 'Obstetrics']\n",
      "dtype: object\n",
      "Num of nan: 4708\n"
     ]
    }
   ],
   "source": [
    "check_column(data, \"medical_specialty\")\n"
   ]
  },
  {
   "cell_type": "code",
   "execution_count": 24,
   "id": "9679919b",
   "metadata": {},
   "outputs": [
    {
     "name": "stdout",
     "output_type": "stream",
     "text": [
      "Feature: medical_specialty\n",
      "Unique values: ['Family/GeneralPractice' 'Cardiology' 'Emergency/Trauma' nan 'Nephrology'\n",
      " 'ObstetricsandGynecology' 'Psychology' 'InternalMedicine'\n",
      " 'Surgery-Cardiovascular/Thoracic' 'Radiologist' 'Oncology' 'Psychiatry'\n",
      " 'Orthopedics' 'Surgery-Vascular' 'Surgery-General' 'Gastroenterology'\n",
      " 'Orthopedics-Reconstructive' 'Pulmonology'\n",
      " 'PhysicalMedicineandRehabilitation' 'Hematology/Oncology' 'Surgery-Neuro'\n",
      " 'Neurology' 'Urology' 'Hematology' 'Surgery-Thoracic'\n",
      " 'Surgery-Cardiovascular' 'Pediatrics-Endocrinology' 'Rheumatology'\n",
      " 'Pediatrics-Pulmonology' 'Otolaryngology' 'Surgery-Plastic'\n",
      " 'Pediatrics-CriticalCare' 'Pediatrics' 'InfectiousDiseases' 'Radiology'\n",
      " 'Hospitalist' 'Gynecology' 'Surgery-PlasticwithinHeadandNeck'\n",
      " 'Endocrinology' 'SurgicalSpecialty' 'Osteopath' 'Anesthesiology'\n",
      " 'Surgeon' 'Podiatry' 'Ophthalmology'\n",
      " 'Obsterics&Gynecology-GynecologicOnco' 'Resident' 'DCPTEAM'\n",
      " 'Pediatrics-Neurology' 'Obstetrics']\n",
      "dtype: object\n",
      "Num of nan: 4708\n"
     ]
    }
   ],
   "source": [
    "\n",
    "data.medical_specialty = data.medical_specialty.replace('PhysicianNotFound', np.nan)\n",
    "\n",
    "check_column(data, \"medical_specialty\")\n"
   ]
  },
  {
   "cell_type": "code",
   "execution_count": 25,
   "id": "a777ba9b",
   "metadata": {},
   "outputs": [
    {
     "name": "stdout",
     "output_type": "stream",
     "text": [
      "Feature: has_prosthesis\n",
      "Unique values: [False  True]\n",
      "dtype: bool\n",
      "Num of nan: 0\n"
     ]
    }
   ],
   "source": [
    "#has_prosthesis\n",
    "check_column(data, \"has_prosthesis\")"
   ]
  },
  {
   "cell_type": "code",
   "execution_count": 26,
   "id": "748560d9",
   "metadata": {},
   "outputs": [
    {
     "name": "stdout",
     "output_type": "stream",
     "text": [
      "Feature: complete_vaccination_status\n",
      "Unique values: ['Complete' 'Incomplete' 'None']\n",
      "dtype: object\n",
      "Num of nan: 0\n"
     ]
    }
   ],
   "source": [
    "#complete_vaccination_status\n",
    "check_column(data, \"complete_vaccination_status\")"
   ]
  },
  {
   "cell_type": "code",
   "execution_count": 27,
   "id": "9e128d21",
   "metadata": {},
   "outputs": [
    {
     "name": "stdout",
     "output_type": "stream",
     "text": [
      "Feature: num_lab_procedures\n",
      "Unique values: [ 31.  29.  42.  23.  46.  40.  44.  71.  56.  59.  43.  67.  27.  37.\n",
      "  62.  48.  73.  41.  32.  64.  15.  39.  14.  45.  36.   3.   8.  75.\n",
      "  28.  68.   7.  70.  20.   1.  82.   9.  30.  66.  47.  58.  34.  51.\n",
      "  80.  85.  11.   2.  55.  24.  38.  19.  78.  nan  95.  60.  50.  35.\n",
      "  25.  76.  77.  54.  16.  65.  84.  79.  57.  49.  22.  10.   4.  86.\n",
      "  13.  17.  53.  61.  21.   6.   5.  69.  33.  63.  52.  26.  81.  74.\n",
      "  18.  90.  89.  72. 100.  12.  87.  88.  97.  94.  96. 102.  91.  93.\n",
      "  83. 107.  98. 103. 109.  92. 101. 111.]\n",
      "dtype: float64\n",
      "Num of nan: 184\n"
     ]
    }
   ],
   "source": [
    "#num_lab_procedures\n",
    "check_column(data, \"num_lab_procedures\")"
   ]
  },
  {
   "cell_type": "code",
   "execution_count": 28,
   "id": "daac135f",
   "metadata": {},
   "outputs": [
    {
     "name": "stdout",
     "output_type": "stream",
     "text": [
      "Feature: num_procedures\n",
      "Unique values: [0. 6. 1. 2. 3. 4. 5.]\n",
      "dtype: float64\n",
      "Num of nan: 0\n"
     ]
    }
   ],
   "source": [
    "#num_procedures\n",
    "check_column(data, \"num_procedures\")"
   ]
  },
  {
   "cell_type": "code",
   "execution_count": 29,
   "id": "afb55286",
   "metadata": {},
   "outputs": [
    {
     "name": "stdout",
     "output_type": "stream",
     "text": [
      "Feature: num_medications\n",
      "Unique values: [10.  9.  5. nan 14.  2. 19. 11. 22. 21. 28.  8. 29. 16. 15. 41.  7. 13.\n",
      " 18.  4. 20.  6. 12.  3. 32. 35. 31. 47. 17. 26. 23. 46. 25. 24. 30. 39.\n",
      " 42. 40. 27. 36. 38. 33.  1. 59. 45. 44. 34. 50. 55. 49. 37. 56. 48. 43.\n",
      " 53. 58. 52. 60. 57. 54. 51. 79. 61. 65. 66.]\n",
      "dtype: float64\n",
      "Num of nan: 308\n"
     ]
    }
   ],
   "source": [
    "#num_medications\n",
    "check_column(data, \"num_medications\")"
   ]
  },
  {
   "cell_type": "code",
   "execution_count": 30,
   "id": "8854df94",
   "metadata": {},
   "outputs": [
    {
     "name": "stdout",
     "output_type": "stream",
     "text": [
      "Feature: number_outpatient\n",
      "Unique values: [ 0.  4.  3.  1.  6.  2.  5.  8.  9. 19.  7. 15. 11. 14. 17. 16. 10. 21.\n",
      " 13.]\n",
      "dtype: float64\n",
      "Num of nan: 0\n"
     ]
    }
   ],
   "source": [
    "#number_outpatient\n",
    "check_column(data, \"number_outpatient\")"
   ]
  },
  {
   "cell_type": "code",
   "execution_count": 31,
   "id": "5dbe2c97",
   "metadata": {},
   "outputs": [
    {
     "name": "stdout",
     "output_type": "stream",
     "text": [
      "Feature: number_emergency\n",
      "Unique values: [ 0.  1.  2.  3.  5.  4.  7.  6. 10.  8. 11. 12.  9. 63. 13.]\n",
      "dtype: float64\n",
      "Num of nan: 0\n"
     ]
    }
   ],
   "source": [
    "#number_emergency\n",
    "check_column(data, \"number_emergency\")"
   ]
  },
  {
   "cell_type": "code",
   "execution_count": 32,
   "id": "2f1e7f55",
   "metadata": {},
   "outputs": [
    {
     "name": "stdout",
     "output_type": "stream",
     "text": [
      "Feature: number_inpatient\n",
      "Unique values: [ 0.  1.  2.  3.  5.  4.  7.  6. 11. 10.  9.  8. 14. 15. 12. 16. 13.]\n",
      "dtype: float64\n",
      "Num of nan: 0\n"
     ]
    }
   ],
   "source": [
    "#number_inpatient\n",
    "check_column(data, \"number_inpatient\")"
   ]
  },
  {
   "cell_type": "code",
   "execution_count": 33,
   "id": "04cd74c6",
   "metadata": {},
   "outputs": [
    {
     "name": "stdout",
     "output_type": "stream",
     "text": [
      "Feature: diag_1\n",
      "Unique values: ['428' '414' '786' '562' '780' '481' '813' '38' '348' '440' '642' '296'\n",
      " '790' '682' '295' '781' '518' '998' '288' '574' '250.11' '250' '198'\n",
      " '312' '493' '427' '716' '535' '433' '785' '250.13' '572' '278' '293'\n",
      " '996' '458' '444' '486' '8' '438' '530' '560' '491' 'V55' '250.6' '552'\n",
      " '410' '527' '197' '724' '386' '276' '823' '820' '959' '435' '402' '434'\n",
      " '729' '202' '592' '79' '250.7' '578' '715' '453' '191' '250.8' '250.12'\n",
      " '564' '999' 'V57' '576' '824' '445' '599' '707' '511' '185' '577'\n",
      " '250.02' '345' '398' '465' '540' '174' '413' '722' '553' '789' '415' '88'\n",
      " '992' '164' '607' '797' '730' '593' '719' '292' '997' '300' '285' '451'\n",
      " '728' '723' '590' '238' '280' '404' '426' '461' '515' '352' '814' '745'\n",
      " '584' '536' '432' '424' '571' '250.82' '117' '620' '822' '808' '162'\n",
      " '726' '346' '441' '585' '425' '721' '478' '189' '600' '558' '566' '250.1'\n",
      " '733' '250.03' '303' '480' '537' '192' '625' '971' '507' '291' '396'\n",
      " '787' '411' '821' '241' '253' '487' '575' '274' '437' '250.23' '403'\n",
      " '567' '333' '568' '154' '648' 'V58' '482' '150' '275' '794' '738' '784'\n",
      " '331' '840' '618' '531' '250.81' '324' '466' '557' '378' '492' '550'\n",
      " '508' '664' '380' '429' '626' '443' '569' '272' '287' '799' '860' '283'\n",
      " '218' '897' '431' '846' '812' '601' '307' '34' '995' '294' '924' '135'\n",
      " '658' '844' '153' '309' '250.43' '807' '250.31' '659' '873' '436' '211'\n",
      " '193' '175' '250.4' '591' '289' '782' '70' '608' '401' '573' '423' '230'\n",
      " '805' '958' 'V54' '555' '447' '286' '627' '155' '962' '203' '196' '965'\n",
      " '734' '212' '282' '532' '496' '250.33' '922' '156' '852' '421' '250.41'\n",
      " '42' '455' '250.42' '250.22' '250.2' '660' '681' '604' '53' '661' nan\n",
      " '157' '250.01' '112' '290' '881' '621' '969' '188' 'V56' '284' '416'\n",
      " '485' '298' '385' '182' '977' '654' '382' '9' '250.83' '459' '759' '802'\n",
      " '711' '473' '892' '831' '361' '281' '710' '541' '327' '611' '475' '49'\n",
      " '588' '693' '151' '551' '934' '163' '966' '882' '344' '494' '801' '596'\n",
      " '161' '205' '147' '244' '457' '933' '964' '850' '708' 'V53' '233' '220'\n",
      " '595' '5' '972' '968' '514' '227' '617' '297' '311' '351' '456' '171'\n",
      " '788' '714' '183' '725' '656' '920' '839' '632' '341' '304' '195' '251'\n",
      " '851' '522' '383' '944' '47' '305' '963' '867' '362' '967' '184' '913'\n",
      " '510' '349' '263' '250.92' '796' '641' '825' '861' '340' '976' '350' '82'\n",
      " '255' '337' '556' '652' '11' '863' '464' '332' '308' '680' '250.21' '355'\n",
      " '242' '616' '446' '843' '357' '533' '806' '647' '310' '354' '952' '314'\n",
      " '250.9' '534' '709' '239' '430' '131' '519' '442' '477' '989' '736' '368'\n",
      " '526' '225' 'V45' '705' '226' '570' '939' '338' '655' '301' '586' '235'\n",
      " '273' '250.93' '727' '277' '718' '935' '420' '500' '783' '524' '490'\n",
      " '543' '695' '250.32' '685' '152' '454' '323' '987' '792' '815' '945'\n",
      " '370' '895' '594' '395' '376']\n",
      "dtype: object\n",
      "Num of nan: 3\n"
     ]
    }
   ],
   "source": [
    "#diag_1\n",
    "check_column(data, \"diag_1\")"
   ]
  },
  {
   "cell_type": "code",
   "execution_count": 34,
   "id": "9c9eb869",
   "metadata": {},
   "outputs": [
    {
     "name": "stdout",
     "output_type": "stream",
     "text": [
      "Feature: diag_2\n",
      "Unique values: ['427' '401' '719' '276' '280' '250.02' 'E885' '482' '403' '507' '648'\n",
      " '585' '250.6' '486' '428' '284' 'V58' nan '716' '496' 'V65' '599' '250'\n",
      " '204' '729' '305' '425' '94' '531' '571' '443' '864' '281' '584' '414'\n",
      " '250.82' '250.01' '348' '728' '295' '530' '562' '411' '553' '714'\n",
      " '250.42' '780' '591' '426' '959' '789' '278' '781' '592' 'E935' '440'\n",
      " '733' '342' '707' '250.4' '991' '492' '413' '38' '799' '558' '996' '314'\n",
      " '250.12' '682' '788' '998' '285' '8' '303' '337' '70' '491' 'V45' '493'\n",
      " '466' '394' '250.92' '785' '696' '410' '790' 'V70' '196' '402' '424'\n",
      " '301' '518' '786' '535' '453' '263' '293' '478' '997' '112' '433' '331'\n",
      " '304' '723' '611' '724' '560' '438' '722' '193' '398' '311' '41' '368'\n",
      " '287' '822' '746' '154' 'V54' '824' '808' '783' '286' '511' '296'\n",
      " '250.41' 'V43' '574' '416' '306' '117' '250.83' '494' 'V85' 'E942' '805'\n",
      " '250.13' '972' '536' '250.03' '162' '519' '600' '202' '242' '197' '515'\n",
      " '787' '250.52' '198' '42' '203' 'V12' '590' '153' '532' 'E880' '250.8'\n",
      " '396' '593' '300' '298' '812' '135' '924' '250.7' '577' '272' '404'\n",
      " '250.91' 'V15' '279' '332' '188' '882' '596' '922' 'V62' '626' '432'\n",
      " '578' 'V42' '312' '244' '473' '517' '566' '737' '452' '183' '567' '995'\n",
      " '290' '861' '456' '465' '647' '225' '157' '262' 'E878' '569' '710' 'V86'\n",
      " '345' '738' '327' '836' '715' '277' '255' '458' '360' '621' 'V10' '214'\n",
      " '556' '446' '709' 'E849' '250.43' '727' '782' '397' '434' '218' '292'\n",
      " '784' '572' '576' '241' '282' 'E936' '698' '459' '185' 'E939' 'V63' '692'\n",
      " '294' '731' '905' '721' '307' 'E816' '253' '150' '261' '730' '595' '382'\n",
      " '718' '557' '873' '717' 'E933' '555' '250.11' '357' '920' '444' '512'\n",
      " '681' '412' '470' '340' '250.51' '510' '686' '634' '317' '110' '564'\n",
      " '288' '423' '642' '40' '608' '201' '250.5' '358' 'E879' '11' '386' '625'\n",
      " '794' '455' '437' '796' '490' '524' '250.2' '430' '753' '435' '275' '860'\n",
      " '614' '575' '583' 'E947' '485' '217' '851' '568' '309' '274' '189' '581'\n",
      " '372' '461' '199' '211' '79' 'E888' '537' 'V46' '601' '415' '252' '747'\n",
      " '289' '516' 'E917' '892' '366' '477' '349' '454' '814' '344' '174' 'V08'\n",
      " '420' '151' '481' '208' '273' '442' '552' '831' '389' 'V49' '958' '820'\n",
      " '793' '250.81' '378' '480' '513' '283' '429' '845' '844' 'E928' 'E887'\n",
      " '711' '269' 'V53' 'E900' '250.53' 'E812' '644' '816' '791' '963' 'E932'\n",
      " '500' '441' '205' '484' '462' '680' 'E884' '850' '989' '291' '457' '573'\n",
      " '866' 'V64' '200' '736' '322' 'V72' '53' '852' '250.33' '250.1' '701'\n",
      " '807' '431' '802' '447' '346' '823' '705' '138' '712' 'V25' '354' 'E930'\n",
      " '250.93' '259' '826' '797' '233' 'E821' '756' '297' '451' '742' '598'\n",
      " '656' '847' 'E944' '27' '152' '487' '620' '607' '155' '570' '338' '137'\n",
      " 'E934' '383' '811' '945' '955' 'E937' '840' 'E924' '529' '619' '421'\n",
      " '356' '335' '868' '821']\n",
      "dtype: object\n",
      "Num of nan: 207\n"
     ]
    }
   ],
   "source": [
    "#diag_2\n",
    "check_column(data, \"diag_2\")"
   ]
  },
  {
   "cell_type": "code",
   "execution_count": 35,
   "id": "96d9419f",
   "metadata": {},
   "outputs": [
    {
     "name": "stdout",
     "output_type": "stream",
     "text": [
      "Feature: diag_3\n",
      "Unique values: ['250' '272' '719' '250.6' '998' '276' '924' '491' '250.4' '780' '414'\n",
      " '250.91' '518' 'E930' '401' '242' '358' '428' '403' '411' '202' nan '162'\n",
      " '319' '840' '250.01' '280' '558' '284' '496' '585' '584' '707' 'V18'\n",
      " '729' 'E878' '564' '250.42' '427' '536' '305' '511' '593' '424' '244'\n",
      " '438' '786' '599' '465' '781' '493' '287' '784' '205' '278' '334' '682'\n",
      " 'V54' '331' '553' '574' 'V58' '446' 'V55' '250.02' '577' '722' '263'\n",
      " '285' '782' '425' '785' '790' '300' '788' '530' '799' 'V15' '596' '959'\n",
      " '250.82' '458' '41' 'V42' 'V45' '397' '303' '560' 'V57' '466' '342' '426'\n",
      " '571' '70' '535' '357' '789' '250.03' '402' '294' '996' '693' 'E947'\n",
      " '433' '733' '997' 'E935' '787' '296' '204' '250.43' 'V17' '435' 'V09'\n",
      " '250.92' 'E880' '590' '995' '301' '153' '389' 'E885' '412' '250.7' '298'\n",
      " '413' '197' '306' '8' '112' '250.83' '291' '482' '290' '710' '199' 'E858'\n",
      " '398' '440' '250.41' '455' '486' '238' '875' '443' '42' 'V08' '728'\n",
      " '250.51' 'V46' '362' '288' '172' '642' '453' '196' '198' '715' '295'\n",
      " '250.8' '250.5' '507' '311' '416' '805' '916' 'E849' '515' 'V14' '920'\n",
      " '616' '731' '644' '332' '211' '591' '253' '517' '569' '429' '286' '404'\n",
      " '592' '909' '135' '661' '794' '494' '38' '716' 'E819' '304' '437' '218'\n",
      " '933' '266' '955' 'V49' '337' '185' '490' '918' '873' '588' '578' '154'\n",
      " '595' '368' '250.53' '512' '293' '461' '79' '648' '813' 'V25' '572' 'V10'\n",
      " '575' '442' 'E938' 'E879' 'E942' '492' 'V43' '292' '562' '608' '568'\n",
      " '309' '250.52' '372' '459' '282' '473' '348' '783' '537' '275' '567'\n",
      " '338' '344' '394' 'E881' '432' '721' '405' '681' '573' '289' '686'\n",
      " '250.13' 'V65' '730' '174' '281' 'V63' '556' '410' '369' '709' '346'\n",
      " '256' '724' 'V62' '203' '351' '583' '610' 'E887' '396' '366' '355' 'V85'\n",
      " '698' '478' '654' '188' 'V12' '966' 'E932' '991' '225' '262' 'E884' '423'\n",
      " '692' '621' '737' '657' '696' '600' 'V64' '250.81' '626' '659' '531'\n",
      " '156' '664' '378' '570' '581' '183' '327' '261' '365' '250.12' '618'\n",
      " '431' '627' '131' '807' 'V02' '155' '611' '514' '386' '255' '277' '758'\n",
      " '576' '714' '270' 'V16' '274' '922' 'E888' '356' '614' '487' '791' '533'\n",
      " '420' '189' '836' '139' '157' '454' '462' '34' '354' '891' 'E920' '53'\n",
      " '717' '240' 'E934' '732' '310' '110' '723' '456' '532' 'E928' '434' '241'\n",
      " 'V44' '283' '625' '646' '441' '382' '250.93' '607' 'V27' '980' '150'\n",
      " '340' '913' '452' '965' '307' '345' '854' '510' '989' '233' 'E931' '447'\n",
      " '557' '594' '745' 'E870' '601' '685' 'E916' '754' '656' '802' '738' '757'\n",
      " '919' '868' '962' '711' '555' 'E886' '713' '250.9' '246' '945' '620'\n",
      " '952' 'E905' '380' '598' 'E906' '457' '704' '201' '736' '727' '647' '54'\n",
      " '359' 'E816' '171' '138' '619' '580' '550' '865' '860' '323' '191' '519'\n",
      " '958' '317' '726' 'E815' '877' 'E812' '822' 'E980' '173' '812' 'E917'\n",
      " '250.3' '521' '383' '808' '586' '312' '792' 'E933' '552' '746' '796'\n",
      " '236' '333' '905' '250.11' '831' '824' '318' '582' '444' '915' '907'\n",
      " 'V66' '999' '881' '882' '94' '470' '336' '747' '725' '379']\n",
      "dtype: object\n",
      "Num of nan: 149\n"
     ]
    }
   ],
   "source": [
    "#diag_3\n",
    "check_column(data, \"diag_3\")"
   ]
  },
  {
   "cell_type": "code",
   "execution_count": 36,
   "id": "a0e0e9b8",
   "metadata": {},
   "outputs": [
    {
     "name": "stdout",
     "output_type": "stream",
     "text": [
      "Feature: number_diagnoses\n",
      "Unique values: [ 3.  4.  5.  9.  6.  7.  8.  1.  2. 15. 12. 16. 10. 14.]\n",
      "dtype: float64\n",
      "Num of nan: 0\n"
     ]
    }
   ],
   "source": [
    "#number_diagnoses\n",
    "check_column(data, \"number_diagnoses\")"
   ]
  },
  {
   "cell_type": "code",
   "execution_count": 37,
   "id": "5f809c00",
   "metadata": {},
   "outputs": [
    {
     "name": "stdout",
     "output_type": "stream",
     "text": [
      "Feature: blood_type\n",
      "Unique values: ['A+' 'O-' 'O+' 'A-' 'AB+' 'B+' 'B-' 'AB-']\n",
      "dtype: object\n",
      "Num of nan: 0\n"
     ]
    }
   ],
   "source": [
    "#blood_type\n",
    "check_column(data, \"blood_type\")"
   ]
  },
  {
   "cell_type": "code",
   "execution_count": 38,
   "id": "31e86533",
   "metadata": {},
   "outputs": [
    {
     "name": "stdout",
     "output_type": "stream",
     "text": [
      "Feature: hemoglobin_level\n",
      "Unique values: [16.5 16.  15.3 14.9 13.5 13.  15.1 15.6 14.4 15.9 12.4 14.3 12.5 14.1\n",
      " 12.8 14.  13.3 15.7 12.6 14.7 15.4 14.5 12.7 13.4 14.2 13.7 15.  14.8\n",
      " 13.6 16.4 13.9 14.6 12.3 12.9 13.1 11.3 12.2 12.  16.6 15.5 13.2 13.8\n",
      " 17.  15.2 16.1 16.9 15.8 11.6 16.2 16.3 12.1 16.7 11.8 11.7 16.8 17.6\n",
      " 11.9 10.9 11.4 17.1 17.4 17.2 17.5 11.5 11.2 17.7 17.3 18.  17.8 11.1]\n",
      "dtype: float64\n",
      "Num of nan: 0\n"
     ]
    }
   ],
   "source": [
    "#hemoglobin_level\n",
    "check_column(data, \"hemoglobin_level\")"
   ]
  },
  {
   "cell_type": "code",
   "execution_count": 39,
   "id": "a338e880",
   "metadata": {},
   "outputs": [
    {
     "name": "stdout",
     "output_type": "stream",
     "text": [
      "Feature: blood_transfusion\n",
      "Unique values: [False  True]\n",
      "dtype: bool\n",
      "Num of nan: 0\n"
     ]
    }
   ],
   "source": [
    "#blood_transfusion\n",
    "check_column(data, \"blood_transfusion\")"
   ]
  },
  {
   "cell_type": "code",
   "execution_count": 40,
   "id": "1cc3b393",
   "metadata": {},
   "outputs": [
    {
     "name": "stdout",
     "output_type": "stream",
     "text": [
      "Feature: max_glu_serum\n",
      "Unique values: ['None' 'NONE' 'Norm' '>200' '>300' 'NORM']\n",
      "dtype: object\n",
      "Num of nan: 0\n",
      "Feature: max_glu_serum\n",
      "Unique values: ['None' 'Norm' '>200' '>300']\n",
      "dtype: object\n",
      "Num of nan: 0\n"
     ]
    }
   ],
   "source": [
    "#max_glu_serum\n",
    "check_column(data, \"max_glu_serum\")\n",
    "data.max_glu_serum = data.max_glu_serum.replace(\"NONE\", \"None\")\n",
    "data.max_glu_serum = data.max_glu_serum.replace(\"NORM\", \"Norm\")\n",
    "check_column(data, \"max_glu_serum\")\n",
    "\n"
   ]
  },
  {
   "cell_type": "code",
   "execution_count": 41,
   "id": "0201851a",
   "metadata": {},
   "outputs": [
    {
     "name": "stdout",
     "output_type": "stream",
     "text": [
      "Feature: A1Cresult\n",
      "Unique values: ['None' '>8' 'Norm' '>7']\n",
      "dtype: object\n",
      "Num of nan: 0\n"
     ]
    }
   ],
   "source": [
    "#A1Cresult\n",
    "check_column(data, \"A1Cresult\")"
   ]
  },
  {
   "cell_type": "code",
   "execution_count": 42,
   "id": "28f55183",
   "metadata": {},
   "outputs": [
    {
     "name": "stdout",
     "output_type": "stream",
     "text": [
      "Feature: diuretics\n",
      "Unique values: ['No' 'Yes']\n",
      "dtype: object\n",
      "Num of nan: 0\n"
     ]
    }
   ],
   "source": [
    "#diuretics\n",
    "check_column(data, \"diuretics\")"
   ]
  },
  {
   "cell_type": "code",
   "execution_count": 43,
   "id": "0002fad9",
   "metadata": {},
   "outputs": [
    {
     "name": "stdout",
     "output_type": "stream",
     "text": [
      "Feature: insulin\n",
      "Unique values: ['No' 'Yes']\n",
      "dtype: object\n",
      "Num of nan: 0\n"
     ]
    }
   ],
   "source": [
    "#insulin\n",
    "check_column(data, \"insulin\")"
   ]
  },
  {
   "cell_type": "code",
   "execution_count": 44,
   "id": "730f32c1",
   "metadata": {},
   "outputs": [
    {
     "name": "stdout",
     "output_type": "stream",
     "text": [
      "Feature: change\n",
      "Unique values: ['No' 'Ch']\n",
      "dtype: object\n",
      "Num of nan: 0\n"
     ]
    }
   ],
   "source": [
    "#change\n",
    "check_column(data, \"change\")"
   ]
  },
  {
   "cell_type": "code",
   "execution_count": 45,
   "id": "a01cfad1",
   "metadata": {},
   "outputs": [
    {
     "name": "stdout",
     "output_type": "stream",
     "text": [
      "Feature: diabetesMed\n",
      "Unique values: ['Yes' 'No']\n",
      "dtype: object\n",
      "Num of nan: 0\n"
     ]
    }
   ],
   "source": [
    "#diabetesMed\n",
    "check_column(data, \"diabetesMed\")"
   ]
  },
  {
   "cell_type": "code",
   "execution_count": null,
   "id": "92afbf1f",
   "metadata": {},
   "outputs": [],
   "source": []
  },
  {
   "cell_type": "code",
   "execution_count": 46,
   "id": "83271888",
   "metadata": {},
   "outputs": [
    {
     "name": "stdout",
     "output_type": "stream",
     "text": [
      "Feature: readmitted\n",
      "Unique values: ['No' 'Yes']\n",
      "dtype: object\n",
      "Num of nan: 0\n"
     ]
    }
   ],
   "source": [
    "#readmitted\n",
    "check_column(data, \"readmitted\")\n",
    "\n",
    "## change target value to boolean\n",
    "#data.readmitted = data.readmitted.replace([\"Yes\", \"No\"], [True, False])\n",
    "#check_column(data, \"readmitted\")\n"
   ]
  },
  {
   "cell_type": "code",
   "execution_count": null,
   "id": "dbe75c13",
   "metadata": {},
   "outputs": [],
   "source": []
  },
  {
   "cell_type": "code",
   "execution_count": null,
   "id": "5cf1c294",
   "metadata": {},
   "outputs": [],
   "source": []
  },
  {
   "cell_type": "code",
   "execution_count": 357,
   "id": "ff079dfa",
   "metadata": {},
   "outputs": [],
   "source": [
    "problematic_patient_ids_blood_type = []\n",
    "repeated_patient_ids = []\n",
    "for patient in data.patient_id.unique():\n",
    "    data_patient = data[data.patient_id==patient]\n",
    "    if data_patient.shape[0]>1:\n",
    "        repeated_patient_ids.append(patient)\n",
    "        if len(data_patient.blood_type.unique())>1:\n",
    "            #print(patient)\n",
    "            problematic_patient_ids_blood_type.append(patient)"
   ]
  },
  {
   "cell_type": "code",
   "execution_count": 358,
   "id": "5c42a61d",
   "metadata": {},
   "outputs": [
    {
     "data": {
      "text/plain": [
       "0.7565632458233891"
      ]
     },
     "execution_count": 358,
     "metadata": {},
     "output_type": "execute_result"
    }
   ],
   "source": [
    "len(problematic_patient_ids_blood_type)/len(repeated_patient_ids)"
   ]
  },
  {
   "cell_type": "code",
   "execution_count": 359,
   "id": "da37efb6",
   "metadata": {},
   "outputs": [
    {
     "data": {
      "text/html": [
       "<div>\n",
       "<style scoped>\n",
       "    .dataframe tbody tr th:only-of-type {\n",
       "        vertical-align: middle;\n",
       "    }\n",
       "\n",
       "    .dataframe tbody tr th {\n",
       "        vertical-align: top;\n",
       "    }\n",
       "\n",
       "    .dataframe thead th {\n",
       "        text-align: right;\n",
       "    }\n",
       "</style>\n",
       "<table border=\"1\" class=\"dataframe\">\n",
       "  <thead>\n",
       "    <tr style=\"text-align: right;\">\n",
       "      <th></th>\n",
       "      <th>admission_id</th>\n",
       "      <th>patient_id</th>\n",
       "      <th>race</th>\n",
       "      <th>gender</th>\n",
       "      <th>age</th>\n",
       "      <th>weight</th>\n",
       "      <th>admission_type_code</th>\n",
       "      <th>discharge_disposition_code</th>\n",
       "      <th>admission_source_code</th>\n",
       "      <th>time_in_hospital</th>\n",
       "      <th>...</th>\n",
       "      <th>blood_transfusion</th>\n",
       "      <th>max_glu_serum</th>\n",
       "      <th>A1Cresult</th>\n",
       "      <th>diuretics</th>\n",
       "      <th>insulin</th>\n",
       "      <th>change</th>\n",
       "      <th>diabetesMed</th>\n",
       "      <th>readmitted_proba</th>\n",
       "      <th>true_class</th>\n",
       "      <th>readmitted</th>\n",
       "    </tr>\n",
       "  </thead>\n",
       "  <tbody>\n",
       "    <tr>\n",
       "      <th>42</th>\n",
       "      <td>83142.0</td>\n",
       "      <td>88125354.0</td>\n",
       "      <td>Caucasian</td>\n",
       "      <td>Female</td>\n",
       "      <td>[70-80)</td>\n",
       "      <td>NaN</td>\n",
       "      <td>1.0</td>\n",
       "      <td>1.0</td>\n",
       "      <td>7.0</td>\n",
       "      <td>3.0</td>\n",
       "      <td>...</td>\n",
       "      <td>False</td>\n",
       "      <td>None</td>\n",
       "      <td>None</td>\n",
       "      <td>No</td>\n",
       "      <td>No</td>\n",
       "      <td>No</td>\n",
       "      <td>No</td>\n",
       "      <td>0.535548</td>\n",
       "      <td>0.0</td>\n",
       "      <td>No</td>\n",
       "    </tr>\n",
       "    <tr>\n",
       "      <th>6839</th>\n",
       "      <td>97405.0</td>\n",
       "      <td>88125354.0</td>\n",
       "      <td>Caucasian</td>\n",
       "      <td>Female</td>\n",
       "      <td>[70-80)</td>\n",
       "      <td>NaN</td>\n",
       "      <td>1.0</td>\n",
       "      <td>6.0</td>\n",
       "      <td>7.0</td>\n",
       "      <td>2.0</td>\n",
       "      <td>...</td>\n",
       "      <td>False</td>\n",
       "      <td>None</td>\n",
       "      <td>None</td>\n",
       "      <td>No</td>\n",
       "      <td>No</td>\n",
       "      <td>No</td>\n",
       "      <td>No</td>\n",
       "      <td>0.589050</td>\n",
       "      <td>1.0</td>\n",
       "      <td>Yes</td>\n",
       "    </tr>\n",
       "  </tbody>\n",
       "</table>\n",
       "<p>2 rows × 36 columns</p>\n",
       "</div>"
      ],
      "text/plain": [
       "      admission_id  patient_id       race  gender      age weight  \\\n",
       "42         83142.0  88125354.0  Caucasian  Female  [70-80)    NaN   \n",
       "6839       97405.0  88125354.0  Caucasian  Female  [70-80)    NaN   \n",
       "\n",
       "     admission_type_code discharge_disposition_code admission_source_code  \\\n",
       "42                   1.0                        1.0                   7.0   \n",
       "6839                 1.0                        6.0                   7.0   \n",
       "\n",
       "      time_in_hospital  ... blood_transfusion max_glu_serum  A1Cresult  \\\n",
       "42                 3.0  ...             False          None       None   \n",
       "6839               2.0  ...             False          None       None   \n",
       "\n",
       "     diuretics  insulin  change  diabetesMed  readmitted_proba  true_class  \\\n",
       "42          No       No      No           No          0.535548         0.0   \n",
       "6839        No       No      No           No          0.589050         1.0   \n",
       "\n",
       "      readmitted  \n",
       "42            No  \n",
       "6839         Yes  \n",
       "\n",
       "[2 rows x 36 columns]"
      ]
     },
     "execution_count": 359,
     "metadata": {},
     "output_type": "execute_result"
    }
   ],
   "source": [
    "data[data.patient_id == problematic_patient_ids_blood_type[2]]"
   ]
  },
  {
   "cell_type": "code",
   "execution_count": 360,
   "id": "7aaba1cf",
   "metadata": {},
   "outputs": [
    {
     "data": {
      "text/plain": [
       "419"
      ]
     },
     "execution_count": 360,
     "metadata": {},
     "output_type": "execute_result"
    }
   ],
   "source": [
    "len(repeated_patient_ids)"
   ]
  },
  {
   "cell_type": "code",
   "execution_count": 361,
   "id": "96864ad3",
   "metadata": {},
   "outputs": [],
   "source": [
    "problematic_patient_ids_race = []\n",
    "problematic_patient_ids_gender = []\n",
    "\n",
    "for patient in repeated_patient_ids:\n",
    "    data_patient = data[data.patient_id==patient]\n",
    "    if data_patient.shape[0]>1:\n",
    "        if len(data_patient.race.dropna().unique())>1:\n",
    "            problematic_patient_ids_race.append(patient)\n",
    "        elif len(data_patient.gender.dropna().unique())>1:\n",
    "            problematic_patient_ids_gender.append(patient)"
   ]
  },
  {
   "cell_type": "code",
   "execution_count": 362,
   "id": "61adfd0b",
   "metadata": {},
   "outputs": [
    {
     "data": {
      "text/plain": [
       "5"
      ]
     },
     "execution_count": 362,
     "metadata": {},
     "output_type": "execute_result"
    }
   ],
   "source": [
    "len(problematic_patient_ids_race)"
   ]
  },
  {
   "cell_type": "code",
   "execution_count": 363,
   "id": "ce36e1c5",
   "metadata": {},
   "outputs": [
    {
     "data": {
      "text/plain": [
       "0.011933174224343675"
      ]
     },
     "execution_count": 363,
     "metadata": {},
     "output_type": "execute_result"
    }
   ],
   "source": [
    "len(problematic_patient_ids_race)/len(repeated_patient_ids)"
   ]
  },
  {
   "cell_type": "code",
   "execution_count": 364,
   "id": "cb6a1e49",
   "metadata": {},
   "outputs": [
    {
     "data": {
      "text/html": [
       "<div>\n",
       "<style scoped>\n",
       "    .dataframe tbody tr th:only-of-type {\n",
       "        vertical-align: middle;\n",
       "    }\n",
       "\n",
       "    .dataframe tbody tr th {\n",
       "        vertical-align: top;\n",
       "    }\n",
       "\n",
       "    .dataframe thead th {\n",
       "        text-align: right;\n",
       "    }\n",
       "</style>\n",
       "<table border=\"1\" class=\"dataframe\">\n",
       "  <thead>\n",
       "    <tr style=\"text-align: right;\">\n",
       "      <th></th>\n",
       "      <th>admission_id</th>\n",
       "      <th>patient_id</th>\n",
       "      <th>race</th>\n",
       "      <th>gender</th>\n",
       "      <th>age</th>\n",
       "      <th>weight</th>\n",
       "      <th>admission_type_code</th>\n",
       "      <th>discharge_disposition_code</th>\n",
       "      <th>admission_source_code</th>\n",
       "      <th>time_in_hospital</th>\n",
       "      <th>...</th>\n",
       "      <th>blood_transfusion</th>\n",
       "      <th>max_glu_serum</th>\n",
       "      <th>A1Cresult</th>\n",
       "      <th>diuretics</th>\n",
       "      <th>insulin</th>\n",
       "      <th>change</th>\n",
       "      <th>diabetesMed</th>\n",
       "      <th>readmitted_proba</th>\n",
       "      <th>true_class</th>\n",
       "      <th>readmitted</th>\n",
       "    </tr>\n",
       "  </thead>\n",
       "  <tbody>\n",
       "    <tr>\n",
       "      <th>7290</th>\n",
       "      <td>99260.0</td>\n",
       "      <td>63624078.0</td>\n",
       "      <td>Other</td>\n",
       "      <td>Male</td>\n",
       "      <td>[50-60)</td>\n",
       "      <td>NaN</td>\n",
       "      <td>2.0</td>\n",
       "      <td>1.0</td>\n",
       "      <td>7.0</td>\n",
       "      <td>5.0</td>\n",
       "      <td>...</td>\n",
       "      <td>False</td>\n",
       "      <td>None</td>\n",
       "      <td>&gt;7</td>\n",
       "      <td>No</td>\n",
       "      <td>Yes</td>\n",
       "      <td>Ch</td>\n",
       "      <td>Yes</td>\n",
       "      <td>0.438346</td>\n",
       "      <td>NaN</td>\n",
       "      <td>NaN</td>\n",
       "    </tr>\n",
       "    <tr>\n",
       "      <th>8986</th>\n",
       "      <td>91397.0</td>\n",
       "      <td>63624078.0</td>\n",
       "      <td>Asian</td>\n",
       "      <td>Male</td>\n",
       "      <td>[50-60)</td>\n",
       "      <td>NaN</td>\n",
       "      <td>2.0</td>\n",
       "      <td>2.0</td>\n",
       "      <td>7.0</td>\n",
       "      <td>3.0</td>\n",
       "      <td>...</td>\n",
       "      <td>False</td>\n",
       "      <td>None</td>\n",
       "      <td>Norm</td>\n",
       "      <td>No</td>\n",
       "      <td>Yes</td>\n",
       "      <td>No</td>\n",
       "      <td>Yes</td>\n",
       "      <td>0.495602</td>\n",
       "      <td>0.0</td>\n",
       "      <td>No</td>\n",
       "    </tr>\n",
       "  </tbody>\n",
       "</table>\n",
       "<p>2 rows × 36 columns</p>\n",
       "</div>"
      ],
      "text/plain": [
       "      admission_id  patient_id   race gender      age weight  \\\n",
       "7290       99260.0  63624078.0  Other   Male  [50-60)    NaN   \n",
       "8986       91397.0  63624078.0  Asian   Male  [50-60)    NaN   \n",
       "\n",
       "     admission_type_code discharge_disposition_code admission_source_code  \\\n",
       "7290                 2.0                        1.0                   7.0   \n",
       "8986                 2.0                        2.0                   7.0   \n",
       "\n",
       "      time_in_hospital  ... blood_transfusion max_glu_serum  A1Cresult  \\\n",
       "7290               5.0  ...             False          None         >7   \n",
       "8986               3.0  ...             False          None       Norm   \n",
       "\n",
       "     diuretics  insulin  change  diabetesMed  readmitted_proba  true_class  \\\n",
       "7290        No      Yes      Ch          Yes          0.438346         NaN   \n",
       "8986        No      Yes      No          Yes          0.495602         0.0   \n",
       "\n",
       "      readmitted  \n",
       "7290         NaN  \n",
       "8986          No  \n",
       "\n",
       "[2 rows x 36 columns]"
      ]
     },
     "execution_count": 364,
     "metadata": {},
     "output_type": "execute_result"
    }
   ],
   "source": [
    "data[data.patient_id == problematic_patient_ids_race[4]]"
   ]
  },
  {
   "cell_type": "code",
   "execution_count": 365,
   "id": "2fe7d49e",
   "metadata": {},
   "outputs": [
    {
     "data": {
      "text/plain": [
       "0.002386634844868735"
      ]
     },
     "execution_count": 365,
     "metadata": {},
     "output_type": "execute_result"
    }
   ],
   "source": [
    "len(problematic_patient_ids_gender)/len(repeated_patient_ids)"
   ]
  },
  {
   "cell_type": "code",
   "execution_count": 366,
   "id": "6c8a1641",
   "metadata": {},
   "outputs": [
    {
     "data": {
      "text/html": [
       "<div>\n",
       "<style scoped>\n",
       "    .dataframe tbody tr th:only-of-type {\n",
       "        vertical-align: middle;\n",
       "    }\n",
       "\n",
       "    .dataframe tbody tr th {\n",
       "        vertical-align: top;\n",
       "    }\n",
       "\n",
       "    .dataframe thead th {\n",
       "        text-align: right;\n",
       "    }\n",
       "</style>\n",
       "<table border=\"1\" class=\"dataframe\">\n",
       "  <thead>\n",
       "    <tr style=\"text-align: right;\">\n",
       "      <th></th>\n",
       "      <th>admission_id</th>\n",
       "      <th>patient_id</th>\n",
       "      <th>race</th>\n",
       "      <th>gender</th>\n",
       "      <th>age</th>\n",
       "      <th>weight</th>\n",
       "      <th>admission_type_code</th>\n",
       "      <th>discharge_disposition_code</th>\n",
       "      <th>admission_source_code</th>\n",
       "      <th>time_in_hospital</th>\n",
       "      <th>...</th>\n",
       "      <th>blood_transfusion</th>\n",
       "      <th>max_glu_serum</th>\n",
       "      <th>A1Cresult</th>\n",
       "      <th>diuretics</th>\n",
       "      <th>insulin</th>\n",
       "      <th>change</th>\n",
       "      <th>diabetesMed</th>\n",
       "      <th>readmitted_proba</th>\n",
       "      <th>true_class</th>\n",
       "      <th>readmitted</th>\n",
       "    </tr>\n",
       "  </thead>\n",
       "  <tbody>\n",
       "    <tr>\n",
       "      <th>427</th>\n",
       "      <td>83990.0</td>\n",
       "      <td>81735282.0</td>\n",
       "      <td>NaN</td>\n",
       "      <td>Male</td>\n",
       "      <td>[40-50)</td>\n",
       "      <td>NaN</td>\n",
       "      <td>1.0</td>\n",
       "      <td>1.0</td>\n",
       "      <td>7.0</td>\n",
       "      <td>3.0</td>\n",
       "      <td>...</td>\n",
       "      <td>False</td>\n",
       "      <td>None</td>\n",
       "      <td>None</td>\n",
       "      <td>No</td>\n",
       "      <td>Yes</td>\n",
       "      <td>Ch</td>\n",
       "      <td>Yes</td>\n",
       "      <td>0.549632</td>\n",
       "      <td>0.0</td>\n",
       "      <td>No</td>\n",
       "    </tr>\n",
       "    <tr>\n",
       "      <th>7504</th>\n",
       "      <td>81730.0</td>\n",
       "      <td>81735282.0</td>\n",
       "      <td>NaN</td>\n",
       "      <td>Female</td>\n",
       "      <td>[40-50)</td>\n",
       "      <td>NaN</td>\n",
       "      <td>1.0</td>\n",
       "      <td>5.0</td>\n",
       "      <td>7.0</td>\n",
       "      <td>2.0</td>\n",
       "      <td>...</td>\n",
       "      <td>False</td>\n",
       "      <td>None</td>\n",
       "      <td>None</td>\n",
       "      <td>No</td>\n",
       "      <td>Yes</td>\n",
       "      <td>Ch</td>\n",
       "      <td>Yes</td>\n",
       "      <td>0.599821</td>\n",
       "      <td>NaN</td>\n",
       "      <td>NaN</td>\n",
       "    </tr>\n",
       "  </tbody>\n",
       "</table>\n",
       "<p>2 rows × 36 columns</p>\n",
       "</div>"
      ],
      "text/plain": [
       "      admission_id  patient_id race  gender      age weight  \\\n",
       "427        83990.0  81735282.0  NaN    Male  [40-50)    NaN   \n",
       "7504       81730.0  81735282.0  NaN  Female  [40-50)    NaN   \n",
       "\n",
       "     admission_type_code discharge_disposition_code admission_source_code  \\\n",
       "427                  1.0                        1.0                   7.0   \n",
       "7504                 1.0                        5.0                   7.0   \n",
       "\n",
       "      time_in_hospital  ... blood_transfusion max_glu_serum  A1Cresult  \\\n",
       "427                3.0  ...             False          None       None   \n",
       "7504               2.0  ...             False          None       None   \n",
       "\n",
       "     diuretics  insulin  change  diabetesMed  readmitted_proba  true_class  \\\n",
       "427         No      Yes      Ch          Yes          0.549632         0.0   \n",
       "7504        No      Yes      Ch          Yes          0.599821         NaN   \n",
       "\n",
       "      readmitted  \n",
       "427           No  \n",
       "7504         NaN  \n",
       "\n",
       "[2 rows x 36 columns]"
      ]
     },
     "execution_count": 366,
     "metadata": {},
     "output_type": "execute_result"
    }
   ],
   "source": [
    "data[data.patient_id == problematic_patient_ids_gender[0]]"
   ]
  },
  {
   "cell_type": "code",
   "execution_count": 367,
   "id": "27d3c911",
   "metadata": {},
   "outputs": [],
   "source": [
    "#remove patients with problematic values for race or gender\n",
    "data = data[~data[\"patient_id\"].isin(problematic_patient_ids_gender)]\n",
    "data = data[~data[\"patient_id\"].isin(problematic_patient_ids_race)]"
   ]
  },
  {
   "cell_type": "code",
   "execution_count": 368,
   "id": "8b4c0286",
   "metadata": {},
   "outputs": [
    {
     "data": {
      "text/plain": [
       "(9683, 36)"
      ]
     },
     "execution_count": 368,
     "metadata": {},
     "output_type": "execute_result"
    }
   ],
   "source": [
    "data.shape"
   ]
  },
  {
   "cell_type": "code",
   "execution_count": 369,
   "id": "fcffa72d",
   "metadata": {},
   "outputs": [
    {
     "data": {
      "text/html": [
       "<div>\n",
       "<style scoped>\n",
       "    .dataframe tbody tr th:only-of-type {\n",
       "        vertical-align: middle;\n",
       "    }\n",
       "\n",
       "    .dataframe tbody tr th {\n",
       "        vertical-align: top;\n",
       "    }\n",
       "\n",
       "    .dataframe thead th {\n",
       "        text-align: right;\n",
       "    }\n",
       "</style>\n",
       "<table border=\"1\" class=\"dataframe\">\n",
       "  <thead>\n",
       "    <tr style=\"text-align: right;\">\n",
       "      <th></th>\n",
       "      <th>admission_id</th>\n",
       "      <th>patient_id</th>\n",
       "      <th>race</th>\n",
       "      <th>gender</th>\n",
       "      <th>age</th>\n",
       "      <th>weight</th>\n",
       "      <th>admission_type_code</th>\n",
       "      <th>discharge_disposition_code</th>\n",
       "      <th>admission_source_code</th>\n",
       "      <th>time_in_hospital</th>\n",
       "      <th>...</th>\n",
       "      <th>blood_transfusion</th>\n",
       "      <th>max_glu_serum</th>\n",
       "      <th>A1Cresult</th>\n",
       "      <th>diuretics</th>\n",
       "      <th>insulin</th>\n",
       "      <th>change</th>\n",
       "      <th>diabetesMed</th>\n",
       "      <th>readmitted_proba</th>\n",
       "      <th>true_class</th>\n",
       "      <th>readmitted</th>\n",
       "    </tr>\n",
       "  </thead>\n",
       "  <tbody>\n",
       "    <tr>\n",
       "      <th>1993</th>\n",
       "      <td>91267.0</td>\n",
       "      <td>46384344.0</td>\n",
       "      <td>African American</td>\n",
       "      <td>Female</td>\n",
       "      <td>[40-50)</td>\n",
       "      <td>NaN</td>\n",
       "      <td>1.0</td>\n",
       "      <td>13.0</td>\n",
       "      <td>7.0</td>\n",
       "      <td>7.0</td>\n",
       "      <td>...</td>\n",
       "      <td>False</td>\n",
       "      <td>None</td>\n",
       "      <td>None</td>\n",
       "      <td>No</td>\n",
       "      <td>No</td>\n",
       "      <td>No</td>\n",
       "      <td>No</td>\n",
       "      <td>0.0</td>\n",
       "      <td>1.0</td>\n",
       "      <td>Yes</td>\n",
       "    </tr>\n",
       "  </tbody>\n",
       "</table>\n",
       "<p>1 rows × 36 columns</p>\n",
       "</div>"
      ],
      "text/plain": [
       "      admission_id  patient_id              race  gender      age weight  \\\n",
       "1993       91267.0  46384344.0  African American  Female  [40-50)    NaN   \n",
       "\n",
       "     admission_type_code discharge_disposition_code admission_source_code  \\\n",
       "1993                 1.0                       13.0                   7.0   \n",
       "\n",
       "      time_in_hospital  ... blood_transfusion max_glu_serum  A1Cresult  \\\n",
       "1993               7.0  ...             False          None       None   \n",
       "\n",
       "     diuretics  insulin  change  diabetesMed  readmitted_proba  true_class  \\\n",
       "1993        No       No      No           No               0.0         1.0   \n",
       "\n",
       "      readmitted  \n",
       "1993         Yes  \n",
       "\n",
       "[1 rows x 36 columns]"
      ]
     },
     "execution_count": 369,
     "metadata": {},
     "output_type": "execute_result"
    }
   ],
   "source": [
    "#remove patients that died or were sent to hospice\n",
    "#NOTE: in app.py add line of code that predicts false automatically for these cases\n",
    "#data = data[~data[\"discharge_disposition_code\"].isin([\"11.0\", \"13.0\", \"14.0\", \"19.0\", \"20.0\", \"21.0\"])]\n",
    "data[(data[\"discharge_disposition_code\"].isin([\"11.0\", \"13.0\", \"14.0\", \"19.0\", \"20.0\", \"21.0\"])) & (data.readmitted==\"Yes\")]"
   ]
  },
  {
   "cell_type": "code",
   "execution_count": 370,
   "id": "c19ceac6",
   "metadata": {},
   "outputs": [
    {
     "data": {
      "text/plain": [
       "(9683, 36)"
      ]
     },
     "execution_count": 370,
     "metadata": {},
     "output_type": "execute_result"
    }
   ],
   "source": [
    "data.shape"
   ]
  },
  {
   "cell_type": "code",
   "execution_count": 48,
   "id": "b1e85469",
   "metadata": {},
   "outputs": [],
   "source": [
    "##save cleaned data\n",
    "#data.to_csv(\"data/cleaned_data.csv\", index=False)\n",
    "data.to_csv(\"data/cleaned_first_round.csv\", index=False)"
   ]
  },
  {
   "cell_type": "code",
   "execution_count": null,
   "id": "01559eda",
   "metadata": {},
   "outputs": [],
   "source": []
  },
  {
   "cell_type": "code",
   "execution_count": null,
   "id": "6fd02b9c",
   "metadata": {},
   "outputs": [],
   "source": []
  },
  {
   "cell_type": "code",
   "execution_count": null,
   "id": "ae4e928c",
   "metadata": {},
   "outputs": [],
   "source": []
  }
 ],
 "metadata": {
  "kernelspec": {
   "display_name": "Python 3",
   "language": "python",
   "name": "python3"
  },
  "language_info": {
   "codemirror_mode": {
    "name": "ipython",
    "version": 3
   },
   "file_extension": ".py",
   "mimetype": "text/x-python",
   "name": "python",
   "nbconvert_exporter": "python",
   "pygments_lexer": "ipython3",
   "version": "3.8.10"
  }
 },
 "nbformat": 4,
 "nbformat_minor": 5
}
