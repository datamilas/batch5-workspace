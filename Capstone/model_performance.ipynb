{
 "cells": [
  {
   "cell_type": "code",
   "execution_count": 2,
   "metadata": {},
   "outputs": [],
   "source": [
    "import pandas as pd\n",
    "import requests\n",
    "import json\n",
    "import numpy as np\n",
    "import matplotlib.pyplot as plt\n",
    "from sklearn.metrics import precision_score, recall_score, f1_score, precision_recall_curve, roc_auc_score\n",
    "\n",
    "\n",
    "\n"
   ]
  },
  {
   "cell_type": "code",
   "execution_count": 3,
   "metadata": {},
   "outputs": [],
   "source": [
    "data = pd.read_csv(\"data/first_round_raw.csv\")"
   ]
  },
  {
   "cell_type": "code",
   "execution_count": 4,
   "metadata": {},
   "outputs": [],
   "source": [
    "\n",
    "def get_metrics(y_test, y_pred):\n",
    "    predicted_for_discharge = list(np.where(y_pred == False)[0])\n",
    "    wrongful_discharge = y_test.reset_index(drop=True)[predicted_for_discharge].sum()/len(predicted_for_discharge)\n",
    "    print(f\"WRONGFUL DISCHARGE RATE: {wrongful_discharge}\")\n",
    "\n",
    "    print(f\"F1_SCORE: {f1_score(y_test, y_pred)}\")\n",
    "    print(f\"RECALL: {recall_score(y_test, y_pred)}\")\n",
    "    print(f\"PRECISION: {precision_score(y_test, y_pred)}\")\n",
    "\n",
    "    \n",
    "\n",
    "    try:\n",
    "        print(f\"ROC AUC: {roc_auc_score(y_test, y_pred)}\")\n",
    "    except: \"ROC AUC curve could not be calculated\""
   ]
  },
  {
   "cell_type": "code",
   "execution_count": 5,
   "metadata": {},
   "outputs": [
    {
     "name": "stdout",
     "output_type": "stream",
     "text": [
      "WRONGFUL DISCHARGE RATE: 0.07302752293577981\n",
      "F1_SCORE: 0.26197604790419166\n",
      "RECALL: 0.6375227686703097\n",
      "PRECISION: 0.16486104569006124\n",
      "ROC AUC: 0.6125506376498793\n"
     ]
    }
   ],
   "source": [
    "get_metrics(data.dropna().true_class, data.dropna().proba>0.5)"
   ]
  },
  {
   "cell_type": "code",
   "execution_count": 6,
   "metadata": {},
   "outputs": [
    {
     "data": {
      "text/plain": [
       "0.11324257425742575"
      ]
     },
     "execution_count": 6,
     "metadata": {},
     "output_type": "execute_result"
    }
   ],
   "source": [
    "data.dropna().true_class.sum()/len(data.dropna())"
   ]
  },
  {
   "cell_type": "code",
   "execution_count": 7,
   "metadata": {},
   "outputs": [],
   "source": [
    "valid_columns = [\n",
    "        \"admission_id\",\n",
    "        \"patient_id\",\n",
    "        \"race\",\n",
    "        \"gender\",\n",
    "        \"age\",\n",
    "        \"weight\",\n",
    "        \"admission_type_code\",\n",
    "        \"discharge_disposition_code\",\n",
    "        \"admission_source_code\",\n",
    "        \"time_in_hospital\",\n",
    "        \"payer_code\",\n",
    "        \"medical_specialty\",\n",
    "        \"has_prosthesis\",\n",
    "        \"complete_vaccination_status\",\n",
    "        \"num_lab_procedures\",\n",
    "        \"num_procedures\",\n",
    "        \"num_medications\",\n",
    "        \"number_outpatient\",\n",
    "        \"number_emergency\",\n",
    "        \"number_inpatient\",\n",
    "        \"diag_1\",\n",
    "        \"diag_2\",\n",
    "        \"diag_3\",\n",
    "        \"number_diagnoses\",\n",
    "        \"blood_type\",\n",
    "        \"hemoglobin_level\",\n",
    "        \"blood_transfusion\",\n",
    "        \"max_glu_serum\",\n",
    "        \"A1Cresult\",\n",
    "        \"diuretics\",\n",
    "        \"insulin\",\n",
    "        \"change\",\n",
    "        \"diabetesMed\",\n",
    "        \"readmitted_proba\",\n",
    "        \"true_class\"\n",
    "]"
   ]
  },
  {
   "cell_type": "code",
   "execution_count": 8,
   "metadata": {},
   "outputs": [],
   "source": [
    "rows = []\n",
    "for row, proba, true_class in zip(data.observation, data.proba, data.true_class):\n",
    "    row = json.loads(row)\n",
    "    row[\"readmitted_proba\"] = proba\n",
    "    row[\"true_class\"] = true_class\n",
    "    rows.append([row[column] for column in valid_columns])\n"
   ]
  },
  {
   "cell_type": "code",
   "execution_count": 9,
   "metadata": {},
   "outputs": [],
   "source": [
    "df = pd.DataFrame(rows, columns = valid_columns)"
   ]
  },
  {
   "cell_type": "code",
   "execution_count": 10,
   "metadata": {},
   "outputs": [],
   "source": [
    "df[\"has_prosthesis\"] = df[\"has_prosthesis\"].astype(bool)\n",
    "df[\"blood_transfusion\"] = df[\"blood_transfusion\"].astype(bool)\n",
    "\n",
    "df[\"readmitted\"] = df[\"true_class\"].replace([1, 0], [\"Yes\", \"No\"])\n",
    "df[\"readmitted\"].unique()\n",
    "\n",
    "df.to_csv(\"data/first_round.csv\", index=False)"
   ]
  },
  {
   "cell_type": "code",
   "execution_count": 11,
   "metadata": {},
   "outputs": [
    {
     "name": "stdout",
     "output_type": "stream",
     "text": [
      "[0.50144964]\n",
      "[0.16828389]\n",
      "[0.62966805]\n",
      "[0.2655874]\n"
     ]
    },
    {
     "data": {
      "image/png": "[encoded data removed]",
      "text/plain": [
       "<Figure size 360x360 with 3 Axes>"
      ]
     },
     "metadata": {
      "needs_background": "light"
     },
     "output_type": "display_data"
    }
   ],
   "source": [
    "thresholds_old = pd.read_csv(\"data/rfc_threshold_plot.csv\")\n",
    "\n",
    "precision, recall, thresholds = precision_recall_curve(df.dropna().true_class, df.dropna().readmitted_proba)\n",
    "\n",
    "precision = precision[:-1]\n",
    "recall = recall[:-1]\n",
    "f1_score_result = 2*precision*recall/(precision+recall)\n",
    "\n",
    "\n",
    "fig = plt.figure(figsize=(5, 5))\n",
    "\n",
    "ax1 = plt.subplot(311)\n",
    "ax2 = plt.subplot(312)\n",
    "ax3 = plt.subplot(313)\n",
    "ax1.hlines(y=0.5,xmin=0.3, xmax=0.7, colors='green')\n",
    "ax1.plot(thresholds,precision, label=\"new dataset\")\n",
    "ax1.plot(thresholds_old.threshold,thresholds_old.precision, label = \"old dataset\")\n",
    "ax2.plot(thresholds,recall)\n",
    "ax2.plot(thresholds_old.threshold,thresholds_old.recall)\n",
    "ax3.plot(thresholds,f1_score_result)\n",
    "ax3.plot(thresholds_old.threshold,thresholds_old[\"f1-score\"])\n",
    "\n",
    "ax1.get_shared_x_axes().join(ax1, ax2, ax3)\n",
    "ax1.set_xticklabels([])\n",
    "plt.xlabel('Threshold', size=12)\n",
    "ax1.set_title('Precision', size=12)\n",
    "ax2.set_title('Recall', size=12)\n",
    "ax3.set_title('F1-score', size=12)\n",
    "ax1.tick_params(axis='both', which='major', labelsize=12)\n",
    "ax2.tick_params(axis='both', which='major', labelsize=12)\n",
    "ax3.tick_params(axis='both', which='major', labelsize=12)\n",
    "\n",
    "ax1.set_xlim(0.3, 0.7)\n",
    "plt.subplots_adjust(hspace=0.5)\n",
    "fig.text(0.06, 0.5, 'Score', ha='center', va='center', rotation='vertical', size=15)\n",
    "\n",
    "\n",
    "print(thresholds[np.where(f1_score_result==max(f1_score_result))])\n",
    "print(precision[np.where(f1_score_result==max(f1_score_result))])\n",
    "print(recall[np.where(f1_score_result==max(f1_score_result))])\n",
    "print(f1_score_result[np.where(f1_score_result==max(f1_score_result))])\n",
    "\n",
    "ax1.legend(loc='center left', bbox_to_anchor=(1, 0.5), fontsize=12)\n",
    "\n",
    "\n",
    "plt.show()\n",
    "#fig.savefig(f'new_data_threshold.png', dpi=300, transparent=True, bbox_inches='tight')\n",
    "\n"
   ]
  },
  {
   "cell_type": "code",
   "execution_count": 12,
   "metadata": {},
   "outputs": [
    {
     "name": "stdout",
     "output_type": "stream",
     "text": [
      "time_in_hospital\n",
      "14.0\n",
      "1.0\n",
      "XXXXXXX\n",
      "num_lab_procedures\n",
      "111.0\n",
      "1.0\n",
      "XXXXXXX\n",
      "num_procedures\n",
      "6.0\n",
      "0.0\n",
      "XXXXXXX\n",
      "num_medications\n",
      "79.0\n",
      "1.0\n",
      "XXXXXXX\n",
      "number_outpatient\n",
      "21.0\n",
      "0.0\n",
      "XXXXXXX\n",
      "number_emergency\n",
      "63.0\n",
      "0.0\n",
      "XXXXXXX\n",
      "number_inpatient\n",
      "16.0\n",
      "0.0\n",
      "XXXXXXX\n",
      "number_diagnoses\n",
      "16.0\n",
      "1.0\n",
      "XXXXXXX\n",
      "hemoglobin_level\n",
      "18.0\n",
      "10.9\n",
      "XXXXXXX\n"
     ]
    }
   ],
   "source": [
    "for column in ['time_in_hospital', 'num_lab_procedures', 'num_procedures', 'num_medications',\n",
    "       'number_outpatient', 'number_emergency', 'number_inpatient', 'number_diagnoses', 'hemoglobin_level']:\n",
    "       print(column)\n",
    "       print(max(df[column]))\n",
    "       print(min(df[column]))\n",
    "       print(\"XXXXXXX\")"
   ]
  },
  {
   "cell_type": "code",
   "execution_count": 13,
   "metadata": {},
   "outputs": [
    {
     "data": {
      "text/plain": [
       "0.8860354785478548"
      ]
     },
     "execution_count": 13,
     "metadata": {},
     "output_type": "execute_result"
    }
   ],
   "source": [
    "len(df.drop([\"weight\", \"payer_code\", \"medical_specialty\"], axis=1).dropna())/len(df)"
   ]
  },
  {
   "cell_type": "code",
   "execution_count": 22,
   "metadata": {},
   "outputs": [
    {
     "data": {
      "text/plain": [
       "9696"
      ]
     },
     "execution_count": 22,
     "metadata": {},
     "output_type": "execute_result"
    }
   ],
   "source": [
    "len(df)"
   ]
  },
  {
   "cell_type": "code",
   "execution_count": 17,
   "metadata": {},
   "outputs": [],
   "source": [
    "new_data = pd.read_csv(\"data/first_round_to_model\")\n"
   ]
  },
  {
   "cell_type": "code",
   "execution_count": 21,
   "metadata": {},
   "outputs": [
    {
     "data": {
      "text/plain": [
       "4"
      ]
     },
     "execution_count": 21,
     "metadata": {},
     "output_type": "execute_result"
    }
   ],
   "source": [
    "max(new_data.isnull().sum(axis=1))"
   ]
  }
 ],
 "metadata": {
  "interpreter": {
   "hash": "105b385371de027687b7b6ee2a9870daf2e0ed9752ad5f6ba523ea4490bef3d5"
  },
  "kernelspec": {
   "display_name": "Python 3.8.10 ('capstone')",
   "language": "python",
   "name": "python3"
  },
  "language_info": {
   "codemirror_mode": {
    "name": "ipython",
    "version": 3
   },
   "file_extension": ".py",
   "mimetype": "text/x-python",
   "name": "python",
   "nbconvert_exporter": "python",
   "pygments_lexer": "ipython3",
   "version": "3.8.10"
  },
  "orig_nbformat": 4
 },
 "nbformat": 4,
 "nbformat_minor": 2
}
