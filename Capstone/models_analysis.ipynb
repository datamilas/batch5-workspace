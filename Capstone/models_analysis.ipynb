{
 "cells": [
  {
   "cell_type": "code",
   "execution_count": 2,
   "metadata": {},
   "outputs": [],
   "source": [
    "import pandas as pd\n",
    "import numpy as np\n",
    "import json\n",
    "import pickle\n",
    "import joblib\n",
    "import matplotlib.pyplot as plt\n",
    "import matplotlib as mpl\n",
    "import dataframe_image as dfi\n",
    "\n",
    "from sklearn.metrics import precision_score, recall_score, f1_score, precision_recall_curve, roc_auc_score"
   ]
  },
  {
   "cell_type": "code",
   "execution_count": 3,
   "metadata": {},
   "outputs": [],
   "source": [
    "bars_color=\"gray\""
   ]
  },
  {
   "cell_type": "code",
   "execution_count": 4,
   "metadata": {},
   "outputs": [],
   "source": [
    "\n",
    "def plot_figure(fig_width=2, fig_height=2):\n",
    "    #define apeearance of figures\n",
    "\n",
    "    COLOR = 'black'\n",
    "\n",
    "\n",
    "    # Edit the font, font size, color and axes width\n",
    "\n",
    "    plt.rcParams['font.size'] = 15\n",
    "    plt.rcParams['axes.linewidth'] = 0.5\n",
    "\n",
    "    tick_size=3\n",
    "    mpl.rcParams['font.family'] = 'Arial'\n",
    "    mpl.rcParams['text.color'] = COLOR\n",
    "    mpl.rcParams['axes.labelcolor'] = COLOR\n",
    "    mpl.rcParams['axes.edgecolor'] = COLOR\n",
    "    mpl.rcParams['xtick.color'] = COLOR\n",
    "    mpl.rcParams['ytick.color'] = COLOR\n",
    "\n",
    "\n",
    "    # Create figure object and store it in a variable called 'fig'\n",
    "    fig = plt.figure(figsize=(fig_width, fig_height))\n",
    "\n",
    "    # Add axes object to the figure that takes up entire figure\n",
    "    ax = fig.add_axes([0, 0, 1, 1])\n",
    "\n",
    "\n",
    "    # Edit the major and minor ticks of the x and y axes\n",
    "    ax.xaxis.set_tick_params(which='major', size=tick_size, width=plt.rcParams['axes.linewidth'], direction='in', top='on')\n",
    "    ax.xaxis.set_tick_params(which='minor', size=tick_size, width=plt.rcParams['axes.linewidth'], direction='in', top='on')\n",
    "    ax.yaxis.set_tick_params(which='major', size=tick_size, width=plt.rcParams['axes.linewidth'], direction='in', right='on')\n",
    "    ax.yaxis.set_tick_params(which='minor', size=tick_size, width=plt.rcParams['axes.linewidth'], direction='in', right='on')\n",
    "\n",
    "    return fig, ax\n",
    "\n",
    "\n",
    "\n",
    "\n",
    "\n",
    "\n",
    "def get_metrics(y_test, y_pred):\n",
    "    predicted_for_discharge = list(np.where(y_pred == False)[0])\n",
    "    wrongful_discharge = y_test.reset_index(drop=True)[predicted_for_discharge].sum()/len(predicted_for_discharge)\n",
    "    print(f\"WRONGFUL DISCHARGE RATE: {wrongful_discharge}\")\n",
    "\n",
    "    print(f\"F1_SCORE: {f1_score(y_test, y_pred)}\")\n",
    "    print(f\"RECALL: {recall_score(y_test, y_pred)}\")\n",
    "    print(f\"PRECISION: {precision_score(y_test, y_pred)}\")\n",
    "\n",
    "    \n",
    "\n",
    "    try:\n",
    "        print(f\"ROC AUC: {roc_auc_score(y_test, y_pred)}\")\n",
    "    except: \"ROC AUC curve could not be calculated\"\n",
    "\n",
    "\n",
    "\n",
    "\n",
    "def check_for_bias(df_test, column_name, preds_proba_column, threshold=0.5, min_size=0):\n",
    "    df = df_test.copy().dropna()\n",
    "\n",
    "    sub_groups = []\n",
    "    wrongful_discharges = []\n",
    "    lengths = []\n",
    "\n",
    "    for sub_group in df[column_name].unique():\n",
    "        df_subgroup = df[df[column_name] == sub_group]\n",
    "        y_test = df_subgroup[\"readmitted\"]\n",
    "            #y_pred_test = pipeline.predict(X_test)\n",
    "        if len(y_test)>=min_size:\n",
    "\n",
    "            best_preds_test = df_subgroup[preds_proba_column]>threshold\n",
    "\n",
    "                \n",
    "            predicted_for_discharge = list(np.where(best_preds_test == False)[0])\n",
    "            wrongful_discharge = y_test.reset_index(drop=True)[predicted_for_discharge].sum()/len(predicted_for_discharge)\n",
    "\n",
    "            sub_groups.append(sub_group)\n",
    "            wrongful_discharges.append(wrongful_discharge)\n",
    "            lengths.append(len(df_subgroup))\n",
    "\n",
    "    df = pd.DataFrame([sub_groups, wrongful_discharges, lengths]).transpose()\n",
    "    df.columns =[\"sub_group\", \"readmittion_rate\", \"size_of_test_data\"]\n",
    "    #df.hist\n",
    "    return df\n",
    "\n",
    "            \n",
    "\n"
   ]
  },
  {
   "cell_type": "code",
   "execution_count": 5,
   "metadata": {},
   "outputs": [],
   "source": [
    "with open('columns.json') as fh:\n",
    "    columns = json.load(fh)\n",
    "\n",
    "\n",
    "with open('dtypes.pickle', 'rb') as fh:\n",
    "    dtypes = pickle.load(fh)"
   ]
  },
  {
   "cell_type": "code",
   "execution_count": 6,
   "metadata": {},
   "outputs": [],
   "source": [
    "df_test = pd.read_csv(\"test_set.csv\")\n"
   ]
  },
  {
   "cell_type": "code",
   "execution_count": null,
   "metadata": {},
   "outputs": [],
   "source": []
  },
  {
   "cell_type": "code",
   "execution_count": 7,
   "metadata": {},
   "outputs": [
    {
     "name": "stdout",
     "output_type": "stream",
     "text": [
      "{'C': 0.01, 'penalty': 'l2'}\n",
      "{'max_depth': 5}\n",
      "{'max_depth': 5, 'n_estimators': 500}\n",
      "{'max_depth': 3, 'n_estimators': 100}\n",
      "{'C': 1, 'kernel': 'rbf'}\n"
     ]
    }
   ],
   "source": [
    "for algorithm in [\"LogisticRegression\", \"DecisionTreeClassifier\", \"RandomForestClassifier\", \"GradientBoostingClassifier\", \"SVC\"]:\n",
    "    pipeline = joblib.load(\"pipelines/pipeline_\"+algorithm+\".pickle\")\n",
    "    if algorithm==\"SVC\":\n",
    "        df_test[\"pred_proba_\"+algorithm] = pipeline.predict(df_test[columns])\n",
    "        df_test[\"pred_proba_\"+algorithm] = df_test[\"pred_proba_\"+algorithm].replace([True, False], [1, 0])\n",
    "    else:\n",
    "        df_test[\"pred_proba_\"+algorithm] = pipeline.predict_proba(df_test[columns])[:, 1]\n",
    "    \n",
    "    print(pipeline.named_steps['gridsearchcv'].best_params_)\n",
    "\n"
   ]
  },
  {
   "cell_type": "code",
   "execution_count": 25,
   "metadata": {},
   "outputs": [],
   "source": [
    "data = df_test.copy()\n",
    "algorithm = \"RandomForestClassifier\"\n",
    "for group in [\"age\", \"gender\", \"race\", \"isInsured\", \"medical_specialty\"]:\n",
    "    R_df = check_for_bias(df_test, group,  \"pred_proba_\"+algorithm, 0.5, min_size=49)\n",
    "    R_df[\"Yes\"] = (R_df.readmittion_rate*R_df.size_of_test_data).astype(int)\n",
    "    R_df[\"No\"] = (R_df.size_of_test_data-R_df.Yes)\n",
    "    R_df[group] = R_df[\"sub_group\"]\n",
    "    R_df[[group, \"Yes\", \"No\"]].to_csv(f\"{algorithm}_{group}_df.csv\", index=False)\n",
    "    "
   ]
  },
  {
   "cell_type": "code",
   "execution_count": 23,
   "metadata": {},
   "outputs": [],
   "source": []
  },
  {
   "cell_type": "code",
   "execution_count": 24,
   "metadata": {},
   "outputs": [
    {
     "data": {
      "text/html": [
       "<div>\n",
       "<style scoped>\n",
       "    .dataframe tbody tr th:only-of-type {\n",
       "        vertical-align: middle;\n",
       "    }\n",
       "\n",
       "    .dataframe tbody tr th {\n",
       "        vertical-align: top;\n",
       "    }\n",
       "\n",
       "    .dataframe thead th {\n",
       "        text-align: right;\n",
       "    }\n",
       "</style>\n",
       "<table border=\"1\" class=\"dataframe\">\n",
       "  <thead>\n",
       "    <tr style=\"text-align: right;\">\n",
       "      <th></th>\n",
       "      <th>medical_specialty</th>\n",
       "      <th>Yes</th>\n",
       "      <th>No</th>\n",
       "    </tr>\n",
       "  </thead>\n",
       "  <tbody>\n",
       "    <tr>\n",
       "      <th>0</th>\n",
       "      <td>Family/GeneralPractice</td>\n",
       "      <td>30</td>\n",
       "      <td>562</td>\n",
       "    </tr>\n",
       "    <tr>\n",
       "      <th>1</th>\n",
       "      <td>Emergency/Trauma</td>\n",
       "      <td>114</td>\n",
       "      <td>1299</td>\n",
       "    </tr>\n",
       "    <tr>\n",
       "      <th>2</th>\n",
       "      <td>Surgery-General</td>\n",
       "      <td>23</td>\n",
       "      <td>321</td>\n",
       "    </tr>\n",
       "    <tr>\n",
       "      <th>3</th>\n",
       "      <td>Radiologist</td>\n",
       "      <td>19</td>\n",
       "      <td>203</td>\n",
       "    </tr>\n",
       "    <tr>\n",
       "      <th>4</th>\n",
       "      <td>InternalMedicine</td>\n",
       "      <td>64</td>\n",
       "      <td>1108</td>\n",
       "    </tr>\n",
       "    <tr>\n",
       "      <th>5</th>\n",
       "      <td>Surgery-Vascular</td>\n",
       "      <td>5</td>\n",
       "      <td>71</td>\n",
       "    </tr>\n",
       "    <tr>\n",
       "      <th>6</th>\n",
       "      <td>Orthopedics</td>\n",
       "      <td>12</td>\n",
       "      <td>181</td>\n",
       "    </tr>\n",
       "    <tr>\n",
       "      <th>7</th>\n",
       "      <td>Urology</td>\n",
       "      <td>4</td>\n",
       "      <td>47</td>\n",
       "    </tr>\n",
       "    <tr>\n",
       "      <th>8</th>\n",
       "      <td>Cardiology</td>\n",
       "      <td>24</td>\n",
       "      <td>455</td>\n",
       "    </tr>\n",
       "    <tr>\n",
       "      <th>9</th>\n",
       "      <td>Surgery-Cardiovascular/Thoracic</td>\n",
       "      <td>8</td>\n",
       "      <td>61</td>\n",
       "    </tr>\n",
       "    <tr>\n",
       "      <th>10</th>\n",
       "      <td>Pulmonology</td>\n",
       "      <td>5</td>\n",
       "      <td>58</td>\n",
       "    </tr>\n",
       "    <tr>\n",
       "      <th>11</th>\n",
       "      <td>Nephrology</td>\n",
       "      <td>12</td>\n",
       "      <td>156</td>\n",
       "    </tr>\n",
       "    <tr>\n",
       "      <th>12</th>\n",
       "      <td>Gastroenterology</td>\n",
       "      <td>8</td>\n",
       "      <td>66</td>\n",
       "    </tr>\n",
       "    <tr>\n",
       "      <th>13</th>\n",
       "      <td>Psychiatry</td>\n",
       "      <td>1</td>\n",
       "      <td>54</td>\n",
       "    </tr>\n",
       "    <tr>\n",
       "      <th>14</th>\n",
       "      <td>ObstetricsandGynecology</td>\n",
       "      <td>2</td>\n",
       "      <td>50</td>\n",
       "    </tr>\n",
       "  </tbody>\n",
       "</table>\n",
       "</div>"
      ],
      "text/plain": [
       "                  medical_specialty  Yes    No\n",
       "0            Family/GeneralPractice   30   562\n",
       "1                  Emergency/Trauma  114  1299\n",
       "2                   Surgery-General   23   321\n",
       "3                       Radiologist   19   203\n",
       "4                  InternalMedicine   64  1108\n",
       "5                  Surgery-Vascular    5    71\n",
       "6                       Orthopedics   12   181\n",
       "7                           Urology    4    47\n",
       "8                        Cardiology   24   455\n",
       "9   Surgery-Cardiovascular/Thoracic    8    61\n",
       "10                      Pulmonology    5    58\n",
       "11                       Nephrology   12   156\n",
       "12                 Gastroenterology    8    66\n",
       "13                       Psychiatry    1    54\n",
       "14          ObstetricsandGynecology    2    50"
      ]
     },
     "execution_count": 24,
     "metadata": {},
     "output_type": "execute_result"
    }
   ],
   "source": []
  },
  {
   "cell_type": "code",
   "execution_count": null,
   "metadata": {},
   "outputs": [],
   "source": [
    "\n",
    "algorithms = [\"LogisticRegression\", \"DecisionTreeClassifier\", \"RandomForestClassifier\", \"GradientBoostingClassifier\", \"SVC\"]\n",
    "for group in [\"race\", \"age\", \"gender\", \"isInsured\", \"medical_specialty\", \"admission_source_code\"]:\n",
    "\n",
    "    best_subgroups = []\n",
    "    worst_subgroups = []\n",
    "    max_rates = []\n",
    "    min_rates =[]\n",
    "\n",
    "    for algorithm in algorithms:\n",
    "        \n",
    "\n",
    "        \n",
    "        data_to_plot = check_for_bias(df_test, group,  \"pred_proba_\"+algorithm, 0.5, min_size=49)\n",
    "        data_to_plot = data_to_plot.sort_values(by=\"sub_group\")\n",
    "        data_to_plot.readmittion_rate = data_to_plot.readmittion_rate*100\n",
    "        fig, ax = plot_figure(5)\n",
    "\n",
    "        sep = np.sqrt(list(data_to_plot[\"readmittion_rate\"].values*(100- data_to_plot[\"readmittion_rate\"].values)/(data_to_plot[\"size_of_test_data\"].values)))\n",
    "        ax.bar(data_to_plot[\"sub_group\"], data_to_plot[\"readmittion_rate\"].values, yerr = sep, color = bars_color)\n",
    "        plt.xticks(rotation=90)\n",
    "        plt.title(algorithm)\n",
    "\n",
    "        ax.set_ylabel(\"% of readmissions\")\n",
    "        ax.set_xlabel(group)\n",
    "        ax.set_ylim([0, 30])\n",
    "\n",
    "        max_rate = max(data_to_plot.readmittion_rate)\n",
    "        min_rate = min(data_to_plot.readmittion_rate)\n",
    "        max_rate_subgroup = data_to_plot.sub_group.iloc[np.where(data_to_plot.readmittion_rate == max_rate)].values[0]\n",
    "        min_rate_subgroup = data_to_plot.sub_group.iloc[np.where(data_to_plot.readmittion_rate == min_rate)].values[0]\n",
    "\n",
    "        print(algorithm)\n",
    "        print(max_rate_subgroup, max_rate)\n",
    "        print(min_rate_subgroup, min_rate)\n",
    "        print(max_rate-min_rate)\n",
    "        print(\"#######\")\n",
    "\n",
    "        best_subgroups.append(min_rate_subgroup)\n",
    "        worst_subgroups.append(max_rate_subgroup)\n",
    "        max_rates.append(max_rate)\n",
    "        min_rates.append(min_rate)\n",
    "\n",
    "    df = pd.DataFrame([algorithms,worst_subgroups, max_rates,  best_subgroups, min_rates, [mx-mn for mx, mn in zip(max_rates, min_rates)]])\n",
    "    df = df.transpose()\n",
    "    df.columns = [\"Classifier\", \"Group with highest rate\", \"Highest rate\", \"Group with lowest rate\", \"Lowest rate\", \"Difference\"]\n",
    "    df = df.set_index(\"Classifier\", drop = True)\n",
    "    df_styled = df.style.background_gradient()\n",
    "    dfi.export(df_styled, group+\"_table.png\")\n"
   ]
  },
  {
   "cell_type": "code",
   "execution_count": 44,
   "metadata": {},
   "outputs": [
    {
     "name": "stdout",
     "output_type": "stream",
     "text": [
      "LogisticRegression\n",
      "Other 12.068965517241379\n",
      "Hispanic 0.0\n",
      "12.068965517241379\n",
      "#######\n",
      "LogisticRegression\n",
      "[90-100) 9.230769230769232\n",
      "[30-40) 3.816793893129771\n",
      "5.41397533763946\n",
      "#######\n",
      "LogisticRegression\n",
      "Male 7.2565245066836415\n",
      "Female 6.904109589041097\n",
      "0.3524149176425446\n",
      "#######\n",
      "LogisticRegression\n",
      "True 7.302231237322515\n",
      "False 5.47945205479452\n",
      "1.822779182527995\n",
      "#######\n",
      "LogisticRegression\n",
      "Pulmonology 12.195121951219512\n",
      "Psychiatry 2.380952380952381\n",
      "9.814169570267131\n",
      "#######\n"
     ]
    },
    {
     "name": "stderr",
     "output_type": "stream",
     "text": [
      "[0205/204159.670474:ERROR:gpu_init.cc(441)] Passthrough is not supported, GL is swiftshader\n",
      "[0205/204200.288083:INFO:headless_shell.cc(648)] Written to file /tmp/tmpfj7grv49/temp.png.\n"
     ]
    },
    {
     "name": "stdout",
     "output_type": "stream",
     "text": [
      "DecisionTreeClassifier\n",
      "Other 8.88888888888889\n",
      "Hispanic 0.0\n",
      "8.88888888888889\n",
      "#######\n",
      "DecisionTreeClassifier\n",
      "[60-70) 8.345323741007196\n",
      "[30-40) 2.083333333333333\n",
      "6.261990407673863\n",
      "#######\n",
      "DecisionTreeClassifier\n",
      "Female 6.642857142857143\n",
      "Male 6.3028439661798625\n",
      "0.3400131766772807\n",
      "#######\n",
      "DecisionTreeClassifier\n",
      "True 6.567796610169492\n",
      "False 5.865102639296188\n",
      "0.7026939708733044\n",
      "#######\n",
      "DecisionTreeClassifier\n",
      "Gastroenterology 15.0\n",
      "Psychiatry 4.166666666666666\n",
      "10.833333333333334\n",
      "#######\n"
     ]
    },
    {
     "name": "stderr",
     "output_type": "stream",
     "text": [
      "[0205/204201.813970:ERROR:gpu_init.cc(441)] Passthrough is not supported, GL is swiftshader\n",
      "[0205/204202.350359:INFO:headless_shell.cc(648)] Written to file /tmp/tmp3p_nir_g/temp.png.\n"
     ]
    },
    {
     "name": "stdout",
     "output_type": "stream",
     "text": [
      "RandomForestClassifier\n",
      "Other 9.803921568627452\n",
      "Hispanic 1.5873015873015872\n",
      "8.216619981325865\n",
      "#######\n",
      "RandomForestClassifier\n",
      "[60-70) 8.047493403693931\n",
      "[30-40) 2.6548672566371683\n",
      "5.392626147056763\n",
      "#######\n",
      "RandomForestClassifier\n",
      "Male 6.844626967830253\n",
      "Female 6.282722513089005\n",
      "0.5619044547412484\n",
      "#######\n",
      "RandomForestClassifier\n",
      "True 6.625813864419762\n",
      "False 6.084656084656085\n",
      "0.5411577797636777\n",
      "#######\n",
      "RandomForestClassifier\n",
      "Surgery-Cardiovascular/Thoracic 12.5\n",
      "Psychiatry 2.564102564102564\n",
      "9.935897435897436\n",
      "#######\n"
     ]
    },
    {
     "name": "stderr",
     "output_type": "stream",
     "text": [
      "[0205/204204.284283:ERROR:gpu_init.cc(441)] Passthrough is not supported, GL is swiftshader\n",
      "[0205/204204.888672:INFO:headless_shell.cc(648)] Written to file /tmp/tmpf0cjdov8/temp.png.\n"
     ]
    },
    {
     "name": "stdout",
     "output_type": "stream",
     "text": [
      "GradientBoostingClassifier\n",
      "Other 10.909090909090908\n",
      "Hispanic 0.0\n",
      "10.909090909090908\n",
      "#######\n",
      "GradientBoostingClassifier\n",
      "[60-70) 8.418367346938775\n",
      "[30-40) 2.7027027027027026\n",
      "5.715664644236072\n",
      "#######\n",
      "GradientBoostingClassifier\n",
      "Female 6.587537091988131\n",
      "Male 6.583278472679395\n",
      "0.004258619308735945\n",
      "#######\n",
      "GradientBoostingClassifier\n",
      "True 6.640485540878258\n",
      "False 6.20347394540943\n",
      "0.43701159546882806\n",
      "#######\n",
      "GradientBoostingClassifier\n",
      "Nephrology 11.956521739130435\n",
      "Psychiatry 2.3255813953488373\n",
      "9.630940343781598\n",
      "#######\n"
     ]
    },
    {
     "name": "stderr",
     "output_type": "stream",
     "text": [
      "[0205/204206.644821:ERROR:gpu_init.cc(441)] Passthrough is not supported, GL is swiftshader\n",
      "[0205/204207.231219:INFO:headless_shell.cc(648)] Written to file /tmp/tmpyl0weguj/temp.png.\n"
     ]
    },
    {
     "name": "stdout",
     "output_type": "stream",
     "text": [
      "SVC\n",
      "African American 9.090909090909092\n",
      "Hispanic 0.0\n",
      "9.090909090909092\n",
      "#######\n",
      "SVC\n",
      "[90-100) 8.620689655172415\n",
      "[30-40) 3.225806451612903\n",
      "5.394883203559512\n",
      "#######\n",
      "SVC\n",
      "Male 7.156798959011061\n",
      "Female 6.402793946449361\n",
      "0.7540050125617004\n",
      "#######\n",
      "SVC\n",
      "True 6.873457878040183\n",
      "False 5.980861244019139\n",
      "0.8925966340210438\n",
      "#######\n",
      "SVC\n",
      "Pulmonology 13.157894736842104\n",
      "Psychiatry 2.5\n",
      "10.657894736842104\n",
      "#######\n"
     ]
    },
    {
     "name": "stderr",
     "output_type": "stream",
     "text": [
      "[0205/204209.141451:ERROR:gpu_init.cc(441)] Passthrough is not supported, GL is swiftshader\n",
      "[0205/204209.693174:INFO:headless_shell.cc(648)] Written to file /tmp/tmp1gvy13dg/temp.png.\n"
     ]
    }
   ],
   "source": [
    "\n",
    "algorithms = [\"LogisticRegression\", \"DecisionTreeClassifier\", \"RandomForestClassifier\", \"GradientBoostingClassifier\", \"SVC\"]\n",
    "features = [\"race\", \"age\", \"gender\", \"isInsured\", \"medical_specialty\"]\n",
    "for algorithm in algorithms:\n",
    "\n",
    "    best_subgroups = []\n",
    "    worst_subgroups = []\n",
    "    max_rates = []\n",
    "    min_rates =[]\n",
    "\n",
    "    for group in features:\n",
    "        \n",
    "        data_to_plot = check_for_bias(df_test, group,  \"pred_proba_\"+algorithm, 0.5, min_size=49)\n",
    "        data_to_plot = data_to_plot.sort_values(by=\"sub_group\")\n",
    "        data_to_plot.readmittion_rate = data_to_plot.readmittion_rate*100\n",
    "\n",
    "        max_rate = max(data_to_plot.readmittion_rate)\n",
    "        min_rate = min(data_to_plot.readmittion_rate)\n",
    "        max_rate_subgroup = data_to_plot.sub_group.iloc[np.where(data_to_plot.readmittion_rate == max_rate)].values[0]\n",
    "        min_rate_subgroup = data_to_plot.sub_group.iloc[np.where(data_to_plot.readmittion_rate == min_rate)].values[0]\n",
    "\n",
    "        print(algorithm)\n",
    "        print(max_rate_subgroup, max_rate)\n",
    "        print(min_rate_subgroup, min_rate)\n",
    "        print(max_rate-min_rate)\n",
    "        print(\"#######\")\n",
    "\n",
    "        best_subgroups.append(min_rate_subgroup)\n",
    "        worst_subgroups.append(max_rate_subgroup)\n",
    "        max_rates.append(max_rate)\n",
    "        min_rates.append(min_rate)\n",
    "\n",
    "    df = pd.DataFrame([features,worst_subgroups, max_rates,  best_subgroups, min_rates, [mx-mn for mx, mn in zip(max_rates, min_rates)]])\n",
    "    df = df.transpose()\n",
    "    df.columns = [\"Feature\", \"Group with highest rate\", \"Highest rate\", \"Group with lowest rate\", \"Lowest rate\", \"Difference\"]\n",
    "    df = df.set_index(\"Feature\", drop = True)\n",
    "    df_styled = df.style.background_gradient()\n",
    "    dfi.export(df_styled, algorithm+\"_table.png\")\n"
   ]
  },
  {
   "cell_type": "code",
   "execution_count": 1,
   "metadata": {},
   "outputs": [
    {
     "ename": "NameError",
     "evalue": "name 'df_styled' is not defined",
     "output_type": "error",
     "traceback": [
      "\u001b[0;31m---------------------------------------------------------------------------\u001b[0m",
      "\u001b[0;31mNameError\u001b[0m                                 Traceback (most recent call last)",
      "\u001b[0;32m/tmp/ipykernel_76345/153858266.py\u001b[0m in \u001b[0;36m<module>\u001b[0;34m\u001b[0m\n\u001b[0;32m----> 1\u001b[0;31m \u001b[0mdf_styled\u001b[0m\u001b[0;34m\u001b[0m\u001b[0;34m\u001b[0m\u001b[0m\n\u001b[0m",
      "\u001b[0;31mNameError\u001b[0m: name 'df_styled' is not defined"
     ]
    }
   ],
   "source": [
    "df_styled"
   ]
  },
  {
   "cell_type": "code",
   "execution_count": 40,
   "metadata": {},
   "outputs": [
    {
     "data": {
      "text/html": [
       "<div>\n",
       "<style scoped>\n",
       "    .dataframe tbody tr th:only-of-type {\n",
       "        vertical-align: middle;\n",
       "    }\n",
       "\n",
       "    .dataframe tbody tr th {\n",
       "        vertical-align: top;\n",
       "    }\n",
       "\n",
       "    .dataframe thead th {\n",
       "        text-align: right;\n",
       "    }\n",
       "</style>\n",
       "<table border=\"1\" class=\"dataframe\">\n",
       "  <thead>\n",
       "    <tr style=\"text-align: right;\">\n",
       "      <th></th>\n",
       "      <th>Group with highest rate</th>\n",
       "      <th>Highest rate</th>\n",
       "      <th>Group with lowest rate</th>\n",
       "      <th>Lowest rate</th>\n",
       "      <th>Difference</th>\n",
       "    </tr>\n",
       "    <tr>\n",
       "      <th>Classifier</th>\n",
       "      <th></th>\n",
       "      <th></th>\n",
       "      <th></th>\n",
       "      <th></th>\n",
       "      <th></th>\n",
       "    </tr>\n",
       "  </thead>\n",
       "  <tbody>\n",
       "    <tr>\n",
       "      <th>LogisticRegression</th>\n",
       "      <td>African American</td>\n",
       "      <td>9.090909</td>\n",
       "      <td>Hispanic</td>\n",
       "      <td>0.0</td>\n",
       "      <td>9.090909</td>\n",
       "    </tr>\n",
       "    <tr>\n",
       "      <th>DecisionTreeClassifier</th>\n",
       "      <td>[90-100)</td>\n",
       "      <td>8.62069</td>\n",
       "      <td>[30-40)</td>\n",
       "      <td>3.225806</td>\n",
       "      <td>5.394883</td>\n",
       "    </tr>\n",
       "    <tr>\n",
       "      <th>RandomForestClassifier</th>\n",
       "      <td>Male</td>\n",
       "      <td>7.156799</td>\n",
       "      <td>Female</td>\n",
       "      <td>6.402794</td>\n",
       "      <td>0.754005</td>\n",
       "    </tr>\n",
       "    <tr>\n",
       "      <th>GradientBoostingClassifier</th>\n",
       "      <td>True</td>\n",
       "      <td>6.873458</td>\n",
       "      <td>False</td>\n",
       "      <td>5.980861</td>\n",
       "      <td>0.892597</td>\n",
       "    </tr>\n",
       "    <tr>\n",
       "      <th>SVC</th>\n",
       "      <td>Pulmonology</td>\n",
       "      <td>13.157895</td>\n",
       "      <td>Psychiatry</td>\n",
       "      <td>2.5</td>\n",
       "      <td>10.657895</td>\n",
       "    </tr>\n",
       "    <tr>\n",
       "      <th>NaN</th>\n",
       "      <td>5.0</td>\n",
       "      <td>10.0</td>\n",
       "      <td>1.0</td>\n",
       "      <td>6.373938</td>\n",
       "      <td>3.626062</td>\n",
       "    </tr>\n",
       "  </tbody>\n",
       "</table>\n",
       "</div>"
      ],
      "text/plain": [
       "                           Group with highest rate Highest rate  \\\n",
       "Classifier                                                        \n",
       "LogisticRegression                African American     9.090909   \n",
       "DecisionTreeClassifier                    [90-100)      8.62069   \n",
       "RandomForestClassifier                        Male     7.156799   \n",
       "GradientBoostingClassifier                    True     6.873458   \n",
       "SVC                                    Pulmonology    13.157895   \n",
       "NaN                                            5.0         10.0   \n",
       "\n",
       "                           Group with lowest rate Lowest rate Difference  \n",
       "Classifier                                                                \n",
       "LogisticRegression                       Hispanic         0.0   9.090909  \n",
       "DecisionTreeClassifier                    [30-40)    3.225806   5.394883  \n",
       "RandomForestClassifier                     Female    6.402794   0.754005  \n",
       "GradientBoostingClassifier                  False    5.980861   0.892597  \n",
       "SVC                                    Psychiatry         2.5  10.657895  \n",
       "NaN                                           1.0    6.373938   3.626062  "
      ]
     },
     "execution_count": 40,
     "metadata": {},
     "output_type": "execute_result"
    }
   ],
   "source": [
    "df"
   ]
  },
  {
   "cell_type": "code",
   "execution_count": 38,
   "metadata": {},
   "outputs": [
    {
     "name": "stdout",
     "output_type": "stream",
     "text": [
      "[0.52352589]\n",
      "[0.19179856]\n",
      "[0.49206349]\n"
     ]
    },
    {
     "data": {
      "image/png": "[encoded data removed]",
      "text/plain": [
       "<Figure size 360x360 with 3 Axes>"
      ]
     },
     "metadata": {
      "needs_background": "light"
     },
     "output_type": "display_data"
    },
    {
     "name": "stdout",
     "output_type": "stream",
     "text": [
      "[0.55555556]\n",
      "[0.18753727]\n",
      "[0.464378]\n"
     ]
    },
    {
     "data": {
      "image/png": "[encoded data removed]",
      "text/plain": [
       "<Figure size 360x360 with 3 Axes>"
      ]
     },
     "metadata": {
      "needs_background": "light"
     },
     "output_type": "display_data"
    },
    {
     "name": "stdout",
     "output_type": "stream",
     "text": [
      "[0.52526524]\n",
      "[0.19338648]\n",
      "[0.48357327]\n"
     ]
    },
    {
     "data": {
      "image/png": "[encoded data removed]",
      "text/plain": [
       "<Figure size 360x360 with 3 Axes>"
      ]
     },
     "metadata": {
      "needs_background": "light"
     },
     "output_type": "display_data"
    },
    {
     "name": "stdout",
     "output_type": "stream",
     "text": [
      "[0.52022898]\n",
      "[0.18740592]\n",
      "[0.55149502]\n"
     ]
    },
    {
     "data": {
      "image/png": "[encoded data removed]",
      "text/plain": [
       "<Figure size 360x360 with 3 Axes>"
      ]
     },
     "metadata": {
      "needs_background": "light"
     },
     "output_type": "display_data"
    }
   ],
   "source": [
    "for algorithm in [\"LogisticRegression\", \"DecisionTreeClassifier\", \"RandomForestClassifier\", \"GradientBoostingClassifier\"]: #, \"SVC\"]:\n",
    "\n",
    "    precision, recall, thresholds = precision_recall_curve(df_test.readmitted, df_test[\"pred_proba_\"+algorithm])\n",
    "\n",
    "    precision = precision[:-1]\n",
    "    recall = recall[:-1]\n",
    "    f1_score_result = 2*precision*recall/(precision+recall)\n",
    "\n",
    "\n",
    "\n",
    "    fig, ax = plot_figure(fig_width=5, fig_height=5)\n",
    "    ax1 = plt.subplot(311)\n",
    "    ax2 = plt.subplot(312)\n",
    "    ax3 = plt.subplot(313)\n",
    "\n",
    "    ax1.hlines(y=0.5,xmin=0, xmax=1, colors='red')\n",
    "    ax1.plot(thresholds,precision)\n",
    "    ax2.plot(thresholds,recall)\n",
    "    ax3.plot(thresholds,f1_score_result)\n",
    "\n",
    "    ax1.get_shared_x_axes().join(ax1, ax2, ax3)\n",
    "    ax1.set_xticklabels([])\n",
    "    plt.xlabel('Threshold', size=1)\n",
    "    ax1.set_title('Precision', size=12)\n",
    "    ax2.set_title('Recall', size=12)\n",
    "    ax3.set_title('F1-score', size=12)\n",
    "    ax1.tick_params(axis='both', which='major', labelsize=12)\n",
    "    ax2.tick_params(axis='both', which='major', labelsize=12)\n",
    "    ax3.tick_params(axis='both', which='major', labelsize=12)\n",
    "\n",
    "    plt.subplots_adjust(hspace=0.5)\n",
    "    fig.text(0.06, 0.5, 'Score', ha='center', va='center', rotation='vertical', size=15)\n",
    "\n",
    "\n",
    "    print(thresholds[np.where(f1_score_result==max(f1_score_result))])\n",
    "    print(precision[np.where(f1_score_result==max(f1_score_result))])\n",
    "    print(recall[np.where(f1_score_result==max(f1_score_result))])\n",
    "\n",
    "\n",
    "\n",
    "    plt.show()\n",
    "    fig.savefig(f'{algorithm}_threshold.png', dpi=300, transparent=True, bbox_inches='tight')\n"
   ]
  },
  {
   "cell_type": "code",
   "execution_count": 35,
   "metadata": {},
   "outputs": [
    {
     "name": "stdout",
     "output_type": "stream",
     "text": [
      "                        Feature  Importance\n",
      "16            blood_transfusion    0.003372\n",
      "8            num_lab_procedures    0.006586\n",
      "0                          race    0.010450\n",
      "3    discharge_disposition_code    0.011760\n",
      "9                num_procedures    0.012937\n",
      "5              time_in_hospital    0.019146\n",
      "7   complete_vaccination_status    0.033700\n",
      "23                   age_as_int    0.085894\n",
      "21                       change    0.211942\n",
      "6                has_prosthesis    0.497100\n"
     ]
    },
    {
     "data": {
      "image/png": "[encoded data removed]",
      "text/plain": [
       "<Figure size 720x360 with 1 Axes>"
      ]
     },
     "metadata": {
      "needs_background": "light"
     },
     "output_type": "display_data"
    },
    {
     "name": "stdout",
     "output_type": "stream",
     "text": [
      "                        Feature  Importance\n",
      "26            diag_3_simplified    0.021266\n",
      "1                        gender    0.027391\n",
      "9                num_procedures    0.032274\n",
      "7   complete_vaccination_status    0.040896\n",
      "0                          race    0.041557\n",
      "3    discharge_disposition_code    0.048436\n",
      "23                   age_as_int    0.071548\n",
      "5              time_in_hospital    0.079643\n",
      "21                       change    0.116407\n",
      "6                has_prosthesis    0.231976\n"
     ]
    },
    {
     "data": {
      "image/png": "[encoded data removed]",
      "text/plain": [
       "<Figure size 720x360 with 1 Axes>"
      ]
     },
     "metadata": {
      "needs_background": "light"
     },
     "output_type": "display_data"
    },
    {
     "name": "stdout",
     "output_type": "stream",
     "text": [
      "                        Feature  Importance\n",
      "22                  diabetesMed    0.011998\n",
      "1                        gender    0.025756\n",
      "9                num_procedures    0.026333\n",
      "7   complete_vaccination_status    0.029127\n",
      "5              time_in_hospital    0.030957\n",
      "8            num_lab_procedures    0.033896\n",
      "23                   age_as_int    0.034622\n",
      "3    discharge_disposition_code    0.047529\n",
      "21                       change    0.121586\n",
      "6                has_prosthesis    0.360875\n"
     ]
    },
    {
     "data": {
      "image/png": "[encoded data removed]",
      "text/plain": [
       "<Figure size 720x360 with 1 Axes>"
      ]
     },
     "metadata": {
      "needs_background": "light"
     },
     "output_type": "display_data"
    },
    {
     "ename": "AttributeError",
     "evalue": "'SVC' object has no attribute 'feature_importances_'",
     "output_type": "error",
     "traceback": [
      "\u001b[0;31m---------------------------------------------------------------------------\u001b[0m",
      "\u001b[0;31mAttributeError\u001b[0m                            Traceback (most recent call last)",
      "\u001b[0;32m/tmp/ipykernel_4321/2824358279.py\u001b[0m in \u001b[0;36m<module>\u001b[0;34m\u001b[0m\n\u001b[1;32m      5\u001b[0m \u001b[0;34m\u001b[0m\u001b[0m\n\u001b[1;32m      6\u001b[0m     \u001b[0mfeature_names\u001b[0m \u001b[0;34m=\u001b[0m \u001b[0mcolumns\u001b[0m\u001b[0;34m\u001b[0m\u001b[0;34m\u001b[0m\u001b[0m\n\u001b[0;32m----> 7\u001b[0;31m     \u001b[0mfeature_importance\u001b[0m \u001b[0;34m=\u001b[0m \u001b[0mpipeline\u001b[0m\u001b[0;34m.\u001b[0m\u001b[0mnamed_steps\u001b[0m\u001b[0;34m[\u001b[0m\u001b[0;34m'gridsearchcv'\u001b[0m\u001b[0;34m]\u001b[0m\u001b[0;34m.\u001b[0m\u001b[0mbest_estimator_\u001b[0m\u001b[0;34m.\u001b[0m\u001b[0mfeature_importances_\u001b[0m\u001b[0;34m\u001b[0m\u001b[0;34m\u001b[0m\u001b[0m\n\u001b[0m\u001b[1;32m      8\u001b[0m     \u001b[0mmost_imp_features\u001b[0m \u001b[0;34m=\u001b[0m \u001b[0mpd\u001b[0m\u001b[0;34m.\u001b[0m\u001b[0mDataFrame\u001b[0m\u001b[0;34m(\u001b[0m\u001b[0;34m[\u001b[0m\u001b[0mf\u001b[0m \u001b[0;32mfor\u001b[0m \u001b[0mf\u001b[0m \u001b[0;32min\u001b[0m \u001b[0mzip\u001b[0m\u001b[0;34m(\u001b[0m\u001b[0mfeature_names\u001b[0m\u001b[0;34m,\u001b[0m\u001b[0mfeature_importance\u001b[0m\u001b[0;34m)\u001b[0m\u001b[0;34m]\u001b[0m\u001b[0;34m,\u001b[0m \u001b[0mcolumns\u001b[0m\u001b[0;34m=\u001b[0m\u001b[0;34m[\u001b[0m\u001b[0;34m\"Feature\"\u001b[0m\u001b[0;34m,\u001b[0m \u001b[0;34m\"Importance\"\u001b[0m\u001b[0;34m]\u001b[0m\u001b[0;34m)\u001b[0m\u001b[0;34m.\u001b[0m\u001b[0mnlargest\u001b[0m\u001b[0;34m(\u001b[0m\u001b[0;36m10\u001b[0m\u001b[0;34m,\u001b[0m \u001b[0;34m\"Importance\"\u001b[0m\u001b[0;34m)\u001b[0m\u001b[0;34m\u001b[0m\u001b[0;34m\u001b[0m\u001b[0m\n\u001b[1;32m      9\u001b[0m     \u001b[0mmost_imp_features\u001b[0m\u001b[0;34m.\u001b[0m\u001b[0msort_values\u001b[0m\u001b[0;34m(\u001b[0m\u001b[0mby\u001b[0m\u001b[0;34m=\u001b[0m\u001b[0;34m\"Importance\"\u001b[0m\u001b[0;34m,\u001b[0m \u001b[0minplace\u001b[0m\u001b[0;34m=\u001b[0m\u001b[0;32mTrue\u001b[0m\u001b[0;34m)\u001b[0m\u001b[0;34m\u001b[0m\u001b[0;34m\u001b[0m\u001b[0m\n",
      "\u001b[0;31mAttributeError\u001b[0m: 'SVC' object has no attribute 'feature_importances_'"
     ]
    }
   ],
   "source": [
    "for algorithm in [\"DecisionTreeClassifier\", \"RandomForestClassifier\", \"GradientBoostingClassifier\", \"SVC\"]:\n",
    "\n",
    "    # Create list of top most features based on importance\n",
    "    pipeline = joblib.load(f\"pipelines/pipeline_{algorithm}.pickle\")\n",
    "\n",
    "    feature_names = columns\n",
    "    feature_importance = pipeline.named_steps['gridsearchcv'].best_estimator_.feature_importances_\n",
    "    most_imp_features = pd.DataFrame([f for f in zip(feature_names,feature_importance)], columns=[\"Feature\", \"Importance\"]).nlargest(10, \"Importance\")\n",
    "    most_imp_features.sort_values(by=\"Importance\", inplace=True)\n",
    "    print(most_imp_features)\n",
    "\n",
    "    fig, ax = plot_figure(fig_width=10, fig_height=5)\n",
    "\n",
    "    #plt.figure(figsize=(10,6))\n",
    "    plt.barh(range(len(most_imp_features)), most_imp_features.Importance, align='center', color=bars_color)\n",
    "    plt.yticks(range(len(most_imp_features)), most_imp_features.Feature)\n",
    "    plt.xlabel('Importance')\n",
    "    plt.show()\n",
    "    fig.savefig(f'{algorithm}_feature_importance.png', dpi=300, transparent=True, bbox_inches='tight')\n"
   ]
  },
  {
   "cell_type": "code",
   "execution_count": 20,
   "metadata": {},
   "outputs": [
    {
     "ename": "KeyError",
     "evalue": "'classifier'",
     "output_type": "error",
     "traceback": [
      "\u001b[0;31m---------------------------------------------------------------------------\u001b[0m",
      "\u001b[0;31mKeyError\u001b[0m                                  Traceback (most recent call last)",
      "\u001b[0;32m/tmp/ipykernel_4321/1751758130.py\u001b[0m in \u001b[0;36m<module>\u001b[0;34m\u001b[0m\n\u001b[0;32m----> 1\u001b[0;31m \u001b[0mcoefs\u001b[0m \u001b[0;34m=\u001b[0m \u001b[0mpipeline\u001b[0m\u001b[0;34m.\u001b[0m\u001b[0mnamed_steps\u001b[0m\u001b[0;34m[\u001b[0m\u001b[0;34m\"classifier\"\u001b[0m\u001b[0;34m]\u001b[0m\u001b[0;34m.\u001b[0m\u001b[0mcoef_\u001b[0m\u001b[0;34m.\u001b[0m\u001b[0mflatten\u001b[0m\u001b[0;34m(\u001b[0m\u001b[0;34m)\u001b[0m\u001b[0;34m\u001b[0m\u001b[0;34m\u001b[0m\u001b[0m\n\u001b[0m",
      "\u001b[0;31mKeyError\u001b[0m: 'classifier'"
     ]
    }
   ],
   "source": [
    "coefs = pipeline.named_steps[\"classifier\"].coef_.flatten()"
   ]
  },
  {
   "cell_type": "code",
   "execution_count": 27,
   "metadata": {},
   "outputs": [
    {
     "data": {
      "text/plain": [
       "array([4.15566560e-02, 2.73907457e-02, 1.02571477e-02, 4.84355843e-02,\n",
       "       2.05611900e-02, 7.96429011e-02, 2.31975676e-01, 4.08956641e-02,\n",
       "       1.80114413e-02, 3.22744685e-02, 2.47696549e-03, 7.28161918e-04,\n",
       "       2.14490522e-03, 2.34791240e-03, 7.56499004e-04, 1.50038941e-03,\n",
       "       1.68253230e-03, 2.78555626e-03, 2.41316015e-03, 4.45771250e-03,\n",
       "       3.22869158e-04, 1.16407464e-01, 3.89093033e-03, 7.15478101e-02,\n",
       "       3.20244707e-04, 2.16713412e-03, 2.12659399e-02, 7.24964259e-04,\n",
       "       1.18289507e-02, 6.56789981e-03, 7.96599548e-04, 3.71963322e-03,\n",
       "       3.25332866e-03, 7.26087049e-04, 2.47630807e-04, 2.75167923e-03,\n",
       "       1.14511772e-03, 1.12142522e-03, 3.76778714e-03, 2.26805193e-04,\n",
       "       8.49590111e-04, 6.62955730e-04, 2.01201209e-03, 1.89975917e-03,\n",
       "       3.36686375e-04, 1.72550466e-03, 2.26963290e-03, 1.11178972e-03,\n",
       "       1.07839921e-03, 8.18034847e-05, 1.56297119e-03, 2.43727773e-03,\n",
       "       7.46837742e-03, 6.91654985e-03, 1.76774736e-03, 1.33031170e-03,\n",
       "       8.08458771e-03, 8.65854545e-03, 3.19573108e-03, 2.23133093e-03,\n",
       "       4.08544128e-03, 3.90773743e-03, 6.62466557e-03, 9.69922219e-04,\n",
       "       1.28685328e-04, 1.15831804e-03, 2.55224529e-03, 2.12895088e-03,\n",
       "       1.38128647e-03, 3.10100399e-03, 1.11642003e-03, 1.50205744e-03,\n",
       "       1.46136141e-03, 3.43903879e-03, 2.08180820e-03, 2.64741894e-03,\n",
       "       1.60422555e-03, 1.76634865e-03, 8.40852623e-03, 1.80976588e-03,\n",
       "       6.71972193e-04, 1.47061616e-04, 2.44108963e-03, 1.55118666e-03,\n",
       "       2.28866679e-03, 2.87204769e-03, 1.51713249e-03, 1.49686381e-03,\n",
       "       2.27762618e-03, 3.36776233e-03, 1.74406954e-03, 1.63938882e-03,\n",
       "       1.54709164e-03, 1.45594672e-03, 7.69829783e-03, 1.60687315e-03,\n",
       "       1.79284008e-03, 9.26252831e-04, 2.05995795e-04, 1.05725510e-03,\n",
       "       2.55092881e-03, 1.68623511e-03, 3.80025085e-03, 1.49483806e-03,\n",
       "       8.70152937e-04, 1.82692075e-03, 2.62619200e-03, 3.42230515e-03,\n",
       "       1.81387917e-03, 1.12156870e-03, 1.91523924e-03, 3.46402621e-03,\n",
       "       2.44968028e-03])"
      ]
     },
     "execution_count": 27,
     "metadata": {},
     "output_type": "execute_result"
    }
   ],
   "source": []
  },
  {
   "cell_type": "code",
   "execution_count": 25,
   "metadata": {},
   "outputs": [
    {
     "data": {
      "text/plain": [
       "['__abstractmethods__',\n",
       " '__class__',\n",
       " '__delattr__',\n",
       " '__dict__',\n",
       " '__dir__',\n",
       " '__doc__',\n",
       " '__eq__',\n",
       " '__format__',\n",
       " '__ge__',\n",
       " '__getattribute__',\n",
       " '__getstate__',\n",
       " '__gt__',\n",
       " '__hash__',\n",
       " '__init__',\n",
       " '__init_subclass__',\n",
       " '__le__',\n",
       " '__lt__',\n",
       " '__module__',\n",
       " '__ne__',\n",
       " '__new__',\n",
       " '__reduce__',\n",
       " '__reduce_ex__',\n",
       " '__repr__',\n",
       " '__setattr__',\n",
       " '__setstate__',\n",
       " '__sizeof__',\n",
       " '__str__',\n",
       " '__subclasshook__',\n",
       " '__weakref__',\n",
       " '_abc_impl',\n",
       " '_check_feature_names',\n",
       " '_check_n_features',\n",
       " '_check_refit_for_multimetric',\n",
       " '_estimator_type',\n",
       " '_format_results',\n",
       " '_get_param_names',\n",
       " '_get_tags',\n",
       " '_more_tags',\n",
       " '_pairwise',\n",
       " '_repr_html_',\n",
       " '_repr_html_inner',\n",
       " '_repr_mimebundle_',\n",
       " '_required_parameters',\n",
       " '_run_search',\n",
       " '_select_best_index',\n",
       " '_validate_data',\n",
       " 'best_estimator_',\n",
       " 'best_index_',\n",
       " 'best_params_',\n",
       " 'best_score_',\n",
       " 'classes_',\n",
       " 'cv',\n",
       " 'cv_results_',\n",
       " 'decision_function',\n",
       " 'error_score',\n",
       " 'estimator',\n",
       " 'fit',\n",
       " 'get_params',\n",
       " 'inverse_transform',\n",
       " 'multimetric_',\n",
       " 'n_features_in_',\n",
       " 'n_jobs',\n",
       " 'n_splits_',\n",
       " 'param_grid',\n",
       " 'pre_dispatch',\n",
       " 'predict',\n",
       " 'predict_log_proba',\n",
       " 'predict_proba',\n",
       " 'refit',\n",
       " 'refit_time_',\n",
       " 'return_train_score',\n",
       " 'score',\n",
       " 'score_samples',\n",
       " 'scorer_',\n",
       " 'scoring',\n",
       " 'set_params',\n",
       " 'transform',\n",
       " 'verbose']"
      ]
     },
     "execution_count": 25,
     "metadata": {},
     "output_type": "execute_result"
    }
   ],
   "source": [
    "dir(pipeline.named_steps['gridsearchcv'])"
   ]
  },
  {
   "cell_type": "code",
   "execution_count": 52,
   "metadata": {},
   "outputs": [
    {
     "data": {
      "text/plain": [
       "array([0.52526524])"
      ]
     },
     "execution_count": 52,
     "metadata": {},
     "output_type": "execute_result"
    }
   ],
   "source": [
    "thresholds[np.where(f1_score_result==max(f1_score_result))]"
   ]
  },
  {
   "cell_type": "code",
   "execution_count": 55,
   "metadata": {},
   "outputs": [
    {
     "data": {
      "text/plain": [
       "array([0.19338648])"
      ]
     },
     "execution_count": 55,
     "metadata": {},
     "output_type": "execute_result"
    }
   ],
   "source": [
    "precision[np.where(f1_score_result==max(f1_score_result))]"
   ]
  },
  {
   "cell_type": "code",
   "execution_count": null,
   "metadata": {},
   "outputs": [
    {
     "data": {
      "text/html": [
       "<div>\n",
       "<style scoped>\n",
       "    .dataframe tbody tr th:only-of-type {\n",
       "        vertical-align: middle;\n",
       "    }\n",
       "\n",
       "    .dataframe tbody tr th {\n",
       "        vertical-align: top;\n",
       "    }\n",
       "\n",
       "    .dataframe thead th {\n",
       "        text-align: right;\n",
       "    }\n",
       "</style>\n",
       "<table border=\"1\" class=\"dataframe\">\n",
       "  <thead>\n",
       "    <tr style=\"text-align: right;\">\n",
       "      <th></th>\n",
       "      <th>sub_group</th>\n",
       "      <th>readmittion_rate</th>\n",
       "      <th>size_of_test_data</th>\n",
       "    </tr>\n",
       "  </thead>\n",
       "  <tbody>\n",
       "    <tr>\n",
       "      <th>0</th>\n",
       "      <td>Family/GeneralPractice</td>\n",
       "      <td>0.049661</td>\n",
       "      <td>772</td>\n",
       "    </tr>\n",
       "    <tr>\n",
       "      <th>1</th>\n",
       "      <td>Emergency/Trauma</td>\n",
       "      <td>0.062</td>\n",
       "      <td>1914</td>\n",
       "    </tr>\n",
       "    <tr>\n",
       "      <th>2</th>\n",
       "      <td>Surgery-General</td>\n",
       "      <td>0.051282</td>\n",
       "      <td>466</td>\n",
       "    </tr>\n",
       "    <tr>\n",
       "      <th>3</th>\n",
       "      <td>Radiologist</td>\n",
       "      <td>0.087156</td>\n",
       "      <td>297</td>\n",
       "    </tr>\n",
       "    <tr>\n",
       "      <th>4</th>\n",
       "      <td>Orthopedics-Reconstructive</td>\n",
       "      <td>0.03125</td>\n",
       "      <td>57</td>\n",
       "    </tr>\n",
       "    <tr>\n",
       "      <th>5</th>\n",
       "      <td>InternalMedicine</td>\n",
       "      <td>0.061742</td>\n",
       "      <td>1571</td>\n",
       "    </tr>\n",
       "    <tr>\n",
       "      <th>6</th>\n",
       "      <td>Surgery-Vascular</td>\n",
       "      <td>0.019231</td>\n",
       "      <td>98</td>\n",
       "    </tr>\n",
       "    <tr>\n",
       "      <th>7</th>\n",
       "      <td>Orthopedics</td>\n",
       "      <td>0.055118</td>\n",
       "      <td>247</td>\n",
       "    </tr>\n",
       "    <tr>\n",
       "      <th>8</th>\n",
       "      <td>Urology</td>\n",
       "      <td>0.039216</td>\n",
       "      <td>66</td>\n",
       "    </tr>\n",
       "    <tr>\n",
       "      <th>9</th>\n",
       "      <td>Cardiology</td>\n",
       "      <td>0.070796</td>\n",
       "      <td>632</td>\n",
       "    </tr>\n",
       "    <tr>\n",
       "      <th>10</th>\n",
       "      <td>Surgery-Cardiovascular/Thoracic</td>\n",
       "      <td>0.046875</td>\n",
       "      <td>91</td>\n",
       "    </tr>\n",
       "    <tr>\n",
       "      <th>11</th>\n",
       "      <td>Pulmonology</td>\n",
       "      <td>0.106383</td>\n",
       "      <td>84</td>\n",
       "    </tr>\n",
       "    <tr>\n",
       "      <th>12</th>\n",
       "      <td>Nephrology</td>\n",
       "      <td>0.097561</td>\n",
       "      <td>248</td>\n",
       "    </tr>\n",
       "    <tr>\n",
       "      <th>13</th>\n",
       "      <td>Gastroenterology</td>\n",
       "      <td>0.12963</td>\n",
       "      <td>87</td>\n",
       "    </tr>\n",
       "    <tr>\n",
       "      <th>14</th>\n",
       "      <td>Neurology</td>\n",
       "      <td>0.08</td>\n",
       "      <td>33</td>\n",
       "    </tr>\n",
       "    <tr>\n",
       "      <th>15</th>\n",
       "      <td>Psychiatry</td>\n",
       "      <td>0.052632</td>\n",
       "      <td>60</td>\n",
       "    </tr>\n",
       "    <tr>\n",
       "      <th>16</th>\n",
       "      <td>Oncology</td>\n",
       "      <td>0.111111</td>\n",
       "      <td>47</td>\n",
       "    </tr>\n",
       "    <tr>\n",
       "      <th>17</th>\n",
       "      <td>ObstetricsandGynecology</td>\n",
       "      <td>0.058824</td>\n",
       "      <td>76</td>\n",
       "    </tr>\n",
       "    <tr>\n",
       "      <th>18</th>\n",
       "      <td>Surgery-Neuro</td>\n",
       "      <td>0.0</td>\n",
       "      <td>47</td>\n",
       "    </tr>\n",
       "  </tbody>\n",
       "</table>\n",
       "</div>"
      ],
      "text/plain": [
       "                          sub_group readmittion_rate size_of_test_data\n",
       "0            Family/GeneralPractice         0.049661               772\n",
       "1                  Emergency/Trauma            0.062              1914\n",
       "2                   Surgery-General         0.051282               466\n",
       "3                       Radiologist         0.087156               297\n",
       "4        Orthopedics-Reconstructive          0.03125                57\n",
       "5                  InternalMedicine         0.061742              1571\n",
       "6                  Surgery-Vascular         0.019231                98\n",
       "7                       Orthopedics         0.055118               247\n",
       "8                           Urology         0.039216                66\n",
       "9                        Cardiology         0.070796               632\n",
       "10  Surgery-Cardiovascular/Thoracic         0.046875                91\n",
       "11                      Pulmonology         0.106383                84\n",
       "12                       Nephrology         0.097561               248\n",
       "13                 Gastroenterology          0.12963                87\n",
       "14                        Neurology             0.08                33\n",
       "15                       Psychiatry         0.052632                60\n",
       "16                         Oncology         0.111111                47\n",
       "17          ObstetricsandGynecology         0.058824                76\n",
       "18                    Surgery-Neuro              0.0                47"
      ]
     },
     "execution_count": 47,
     "metadata": {},
     "output_type": "execute_result"
    }
   ],
   "source": []
  },
  {
   "cell_type": "code",
   "execution_count": null,
   "metadata": {},
   "outputs": [],
   "source": [
    "data_to_plot = check_for_bias(df_test_merge, \"medical_specialty\", joblib.load(\"pipeline_SVC.pickle\"), 0.5)\n",
    "data_to_plot.readmittion_rate = data_to_plot.readmittion_rate*100\n",
    "\n",
    "\n"
   ]
  },
  {
   "cell_type": "code",
   "execution_count": null,
   "metadata": {},
   "outputs": [
    {
     "data": {
      "text/plain": [
       "(0.0, 30.0)"
      ]
     },
     "execution_count": 72,
     "metadata": {},
     "output_type": "execute_result"
    },
    {
     "data": {
      "image/png": "[encoded data removed]",
      "text/plain": [
       "<Figure size 360x144 with 1 Axes>"
      ]
     },
     "metadata": {
      "needs_background": "light"
     },
     "output_type": "display_data"
    }
   ],
   "source": [
    "fig, ax = plot_figure(5)\n",
    "\n",
    "sep = np.sqrt(list(data_to_plot[\"readmittion_rate\"].values*(100- data_to_plot[\"readmittion_rate\"].values)/(data_to_plot[\"size_of_test_data\"].values)))\n",
    "ax.bar(data_to_plot[\"sub_group\"], data_to_plot[\"readmittion_rate\"].values, yerr = sep, color = bars_color)\n",
    "plt.xticks(rotation=90)\n",
    "\n",
    "\n",
    "ax.set_ylabel(\"% of readmittions\")\n",
    "ax.set_xlabel(\"Medical specialty\")\n",
    "ax.set_ylim([0, 30])"
   ]
  },
  {
   "cell_type": "code",
   "execution_count": null,
   "metadata": {},
   "outputs": [
    {
     "data": {
      "text/plain": [
       "array([0.006429629145399162, 0.0032372810867293627, 0.010999088582449428,\n",
       "       0.029319865886653196, 0.05480742872807018, 0.0039276821044816205,\n",
       "       0.019619460210119552, 0.022302724767392854, 0.059394405415166655,\n",
       "       0.011194040947666965, 0.05148684323489011, 0.12651167302593289,\n",
       "       0.039300723455700334, 0.14880642669063274, 0.08767313019390581,\n",
       "       0.07735385175742122], dtype=object)"
      ]
     },
     "execution_count": 62,
     "metadata": {},
     "output_type": "execute_result"
    }
   ],
   "source": [
    "data_to_plot[\"readmittion_rate\"].values*(100- data_to_plot[\"readmittion_rate\"].values)/data_to_plot[\"size_of_test_data\"].values"
   ]
  },
  {
   "cell_type": "code",
   "execution_count": null,
   "metadata": {},
   "outputs": [],
   "source": [
    "# Save for deployment\n",
    "with open(f'columns.json', 'w') as fh:\n",
    "    json.dump(X_train_baseline.columns.tolist(), fh)\n",
    "    \n",
    "with open(f'dtypes.pickle', 'wb') as fh:\n",
    "    pickle.dump(X_train_baseline.dtypes, fh)\n",
    "    \n",
    "joblib.dump(final_pipeline, f'pipeline_logisticRegression.pickle')"
   ]
  }
 ],
 "metadata": {
  "interpreter": {
   "hash": "105b385371de027687b7b6ee2a9870daf2e0ed9752ad5f6ba523ea4490bef3d5"
  },
  "kernelspec": {
   "display_name": "Python 3.8.10 64-bit ('capstone': virtualenv)",
   "language": "python",
   "name": "python3"
  },
  "language_info": {
   "codemirror_mode": {
    "name": "ipython",
    "version": 3
   },
   "file_extension": ".py",
   "mimetype": "text/x-python",
   "name": "python",
   "nbconvert_exporter": "python",
   "pygments_lexer": "ipython3",
   "version": "3.8.10"
  },
  "orig_nbformat": 4
 },
 "nbformat": 4,
 "nbformat_minor": 2
}
