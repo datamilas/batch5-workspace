{
 "cells": [
  {
   "cell_type": "code",
   "execution_count": 440,
   "metadata": {},
   "outputs": [],
   "source": [
    "import pandas as pd\n",
    "import numpy as np\n",
    "import matplotlib.pyplot as plt\n",
    "\n",
    "import json\n",
    "import joblib\n",
    "import pickle\n",
    "\n",
    "from sklearn.model_selection import train_test_split\n",
    "from sklearn.pipeline import make_pipeline, Pipeline\n",
    "from sklearn.impute import SimpleImputer\n",
    "from sklearn.preprocessing import StandardScaler, OneHotEncoder\n",
    "from sklearn.compose import ColumnTransformer\n",
    "from sklearn.ensemble import RandomForestClassifier\n",
    "from sklearn.linear_model import LogisticRegression\n",
    "from sklearn.tree import DecisionTreeClassifier\n",
    "from sklearn.ensemble import GradientBoostingClassifier\n",
    "from sklearn.neighbors import KNeighborsClassifier\n",
    "\n",
    "\n",
    "from sklearn.metrics import precision_score, recall_score, f1_score, precision_recall_curve, roc_auc_score"
   ]
  },
  {
   "cell_type": "code",
   "execution_count": null,
   "metadata": {},
   "outputs": [],
   "source": []
  },
  {
   "cell_type": "code",
   "execution_count": null,
   "metadata": {},
   "outputs": [],
   "source": []
  },
  {
   "cell_type": "code",
   "execution_count": 441,
   "metadata": {},
   "outputs": [],
   "source": [
    "\n",
    "\n",
    "def get_metrics(y_test, y_pred):\n",
    "    print(f\"F1_SCORE: {f1_score(y_test, y_pred)}\")\n",
    "    print(f\"RECALL: {recall_score(y_test, y_pred)}\")\n",
    "    print(f\"PRECISION: {precision_score(y_test, y_pred)}\")\n",
    "    print(f\"ROC AUC: {roc_auc_score(y_test, y_pred)}\")\n"
   ]
  },
  {
   "cell_type": "code",
   "execution_count": 442,
   "metadata": {},
   "outputs": [
    {
     "data": {
      "text/html": [
       "<div>\n",
       "<style scoped>\n",
       "    .dataframe tbody tr th:only-of-type {\n",
       "        vertical-align: middle;\n",
       "    }\n",
       "\n",
       "    .dataframe tbody tr th {\n",
       "        vertical-align: top;\n",
       "    }\n",
       "\n",
       "    .dataframe thead th {\n",
       "        text-align: right;\n",
       "    }\n",
       "</style>\n",
       "<table border=\"1\" class=\"dataframe\">\n",
       "  <thead>\n",
       "    <tr style=\"text-align: right;\">\n",
       "      <th></th>\n",
       "      <th>Unnamed: 0</th>\n",
       "      <th>admission_id</th>\n",
       "      <th>patient_id</th>\n",
       "      <th>race</th>\n",
       "      <th>gender</th>\n",
       "      <th>age</th>\n",
       "      <th>weight</th>\n",
       "      <th>admission_type_code</th>\n",
       "      <th>discharge_disposition_code</th>\n",
       "      <th>admission_source_code</th>\n",
       "      <th>...</th>\n",
       "      <th>change</th>\n",
       "      <th>diabetesMed</th>\n",
       "      <th>readmitted</th>\n",
       "      <th>age_as_int</th>\n",
       "      <th>discharge_disposition_simplified</th>\n",
       "      <th>admission_source_simplified</th>\n",
       "      <th>medical_specialty_simplified</th>\n",
       "      <th>diag_1_simplified</th>\n",
       "      <th>diag_2_simplified</th>\n",
       "      <th>diag_3_simplified</th>\n",
       "    </tr>\n",
       "  </thead>\n",
       "  <tbody>\n",
       "    <tr>\n",
       "      <th>0</th>\n",
       "      <td>0</td>\n",
       "      <td>0</td>\n",
       "      <td>199042938</td>\n",
       "      <td>Caucasian</td>\n",
       "      <td>Male</td>\n",
       "      <td>[50-60)</td>\n",
       "      <td>NaN</td>\n",
       "      <td>3.0</td>\n",
       "      <td>1.0</td>\n",
       "      <td>1.0</td>\n",
       "      <td>...</td>\n",
       "      <td>No</td>\n",
       "      <td>Yes</td>\n",
       "      <td>False</td>\n",
       "      <td>50.0</td>\n",
       "      <td>Discharged to home</td>\n",
       "      <td>Physician Referral</td>\n",
       "      <td>Other</td>\n",
       "      <td>diseases of the musculoskeletal system and con...</td>\n",
       "      <td>endocrine, nutritional and metabolic diseases,...</td>\n",
       "      <td>diseases of the nervous system and sense organs</td>\n",
       "    </tr>\n",
       "    <tr>\n",
       "      <th>1</th>\n",
       "      <td>1</td>\n",
       "      <td>1</td>\n",
       "      <td>91962954</td>\n",
       "      <td>Caucasian</td>\n",
       "      <td>Male</td>\n",
       "      <td>[80-90)</td>\n",
       "      <td>NaN</td>\n",
       "      <td>2.0</td>\n",
       "      <td>1.0</td>\n",
       "      <td>7.0</td>\n",
       "      <td>...</td>\n",
       "      <td>No</td>\n",
       "      <td>No</td>\n",
       "      <td>True</td>\n",
       "      <td>80.0</td>\n",
       "      <td>Discharged to home</td>\n",
       "      <td>Emergency Room</td>\n",
       "      <td>Emergency/Trauma</td>\n",
       "      <td>endocrine, nutritional and metabolic diseases,...</td>\n",
       "      <td>diseases of the respiratory system</td>\n",
       "      <td>neoplasms</td>\n",
       "    </tr>\n",
       "    <tr>\n",
       "      <th>2</th>\n",
       "      <td>2</td>\n",
       "      <td>2</td>\n",
       "      <td>109707084</td>\n",
       "      <td>Caucasian</td>\n",
       "      <td>Female</td>\n",
       "      <td>[60-70)</td>\n",
       "      <td>NaN</td>\n",
       "      <td>1.0</td>\n",
       "      <td>1.0</td>\n",
       "      <td>7.0</td>\n",
       "      <td>...</td>\n",
       "      <td>Ch</td>\n",
       "      <td>Yes</td>\n",
       "      <td>False</td>\n",
       "      <td>60.0</td>\n",
       "      <td>Discharged to home</td>\n",
       "      <td>Emergency Room</td>\n",
       "      <td>Other</td>\n",
       "      <td>diseases of the circulatory system</td>\n",
       "      <td>diseases of the respiratory system</td>\n",
       "      <td>endocrine, nutritional and metabolic diseases,...</td>\n",
       "    </tr>\n",
       "    <tr>\n",
       "      <th>3</th>\n",
       "      <td>3</td>\n",
       "      <td>3</td>\n",
       "      <td>157495374</td>\n",
       "      <td>African American</td>\n",
       "      <td>Female</td>\n",
       "      <td>[70-80)</td>\n",
       "      <td>NaN</td>\n",
       "      <td>NaN</td>\n",
       "      <td>1.0</td>\n",
       "      <td>NaN</td>\n",
       "      <td>...</td>\n",
       "      <td>No</td>\n",
       "      <td>Yes</td>\n",
       "      <td>False</td>\n",
       "      <td>70.0</td>\n",
       "      <td>Discharged to home</td>\n",
       "      <td>Other</td>\n",
       "      <td>Other</td>\n",
       "      <td>diseases of the digestive system</td>\n",
       "      <td>diseases of the genitourinary system</td>\n",
       "      <td>endocrine, nutritional and metabolic diseases,...</td>\n",
       "    </tr>\n",
       "    <tr>\n",
       "      <th>4</th>\n",
       "      <td>4</td>\n",
       "      <td>4</td>\n",
       "      <td>82692360</td>\n",
       "      <td>Caucasian</td>\n",
       "      <td>Female</td>\n",
       "      <td>NaN</td>\n",
       "      <td>NaN</td>\n",
       "      <td>1.0</td>\n",
       "      <td>22.0</td>\n",
       "      <td>7.0</td>\n",
       "      <td>...</td>\n",
       "      <td>No</td>\n",
       "      <td>No</td>\n",
       "      <td>False</td>\n",
       "      <td>NaN</td>\n",
       "      <td>Other</td>\n",
       "      <td>Emergency Room</td>\n",
       "      <td>Other</td>\n",
       "      <td>diseases of the digestive system</td>\n",
       "      <td>diseases of the digestive system</td>\n",
       "      <td>diseases of the digestive system</td>\n",
       "    </tr>\n",
       "  </tbody>\n",
       "</table>\n",
       "<p>5 rows × 42 columns</p>\n",
       "</div>"
      ],
      "text/plain": [
       "   Unnamed: 0  admission_id  patient_id              race  gender      age  \\\n",
       "0           0             0   199042938         Caucasian    Male  [50-60)   \n",
       "1           1             1    91962954         Caucasian    Male  [80-90)   \n",
       "2           2             2   109707084         Caucasian  Female  [60-70)   \n",
       "3           3             3   157495374  African American  Female  [70-80)   \n",
       "4           4             4    82692360         Caucasian  Female      NaN   \n",
       "\n",
       "  weight  admission_type_code  discharge_disposition_code  \\\n",
       "0    NaN                  3.0                         1.0   \n",
       "1    NaN                  2.0                         1.0   \n",
       "2    NaN                  1.0                         1.0   \n",
       "3    NaN                  NaN                         1.0   \n",
       "4    NaN                  1.0                        22.0   \n",
       "\n",
       "   admission_source_code  ...  change diabetesMed readmitted  age_as_int  \\\n",
       "0                    1.0  ...      No         Yes      False        50.0   \n",
       "1                    7.0  ...      No          No       True        80.0   \n",
       "2                    7.0  ...      Ch         Yes      False        60.0   \n",
       "3                    NaN  ...      No         Yes      False        70.0   \n",
       "4                    7.0  ...      No          No      False         NaN   \n",
       "\n",
       "  discharge_disposition_simplified  admission_source_simplified  \\\n",
       "0               Discharged to home           Physician Referral   \n",
       "1               Discharged to home               Emergency Room   \n",
       "2               Discharged to home               Emergency Room   \n",
       "3               Discharged to home                        Other   \n",
       "4                            Other               Emergency Room   \n",
       "\n",
       "   medical_specialty_simplified  \\\n",
       "0                         Other   \n",
       "1              Emergency/Trauma   \n",
       "2                         Other   \n",
       "3                         Other   \n",
       "4                         Other   \n",
       "\n",
       "                                   diag_1_simplified  \\\n",
       "0  diseases of the musculoskeletal system and con...   \n",
       "1  endocrine, nutritional and metabolic diseases,...   \n",
       "2                 diseases of the circulatory system   \n",
       "3                   diseases of the digestive system   \n",
       "4                   diseases of the digestive system   \n",
       "\n",
       "                                   diag_2_simplified  \\\n",
       "0  endocrine, nutritional and metabolic diseases,...   \n",
       "1                 diseases of the respiratory system   \n",
       "2                 diseases of the respiratory system   \n",
       "3               diseases of the genitourinary system   \n",
       "4                   diseases of the digestive system   \n",
       "\n",
       "                                   diag_3_simplified  \n",
       "0    diseases of the nervous system and sense organs  \n",
       "1                                          neoplasms  \n",
       "2  endocrine, nutritional and metabolic diseases,...  \n",
       "3  endocrine, nutritional and metabolic diseases,...  \n",
       "4                   diseases of the digestive system  \n",
       "\n",
       "[5 rows x 42 columns]"
      ]
     },
     "execution_count": 442,
     "metadata": {},
     "output_type": "execute_result"
    }
   ],
   "source": [
    "data = pd.read_csv(\"data/cleaned_data_add_features.csv\")\n",
    "#data = pd.read_csv(\"data/cleaned_data.csv\")\n",
    "\n",
    "#data = pd.read_csv(\"data/train_data.csv\")\n",
    "#data.readmitted = data.readmitted.replace([\"Yes\", \"No\"], [True, False])\n",
    "#data[categorical_features] =  data[categorical_features].astype(str)\n",
    "#data = data[~data[\"discharge_disposition_code\"].isin([\"11.0\", \"13.0\", \"14.0\", \"19.0\", \"20.0\", \"21.0\"])]\n",
    "\n",
    "\n",
    "data.head()"
   ]
  },
  {
   "cell_type": "code",
   "execution_count": 443,
   "metadata": {},
   "outputs": [
    {
     "data": {
      "text/plain": [
       "'\\ndata.age=data.age_as_int\\ndata.discharge_disposition_code = data.discharge_disposition_simplified\\ndata.admission_source_code = data.admission_source_simplified\\ndata.medical_specialty = data.medical_specialty_simplified\\ndata.diag_1 = data.diag_1_simplified\\ndata.diag_2 = data.diag_2_simplified\\ndata.diag_3 = data.diag_3_simplified\\n'"
      ]
     },
     "execution_count": 443,
     "metadata": {},
     "output_type": "execute_result"
    }
   ],
   "source": [
    "\n",
    "\"\"\"\n",
    "data.age=data.age_as_int\n",
    "data.discharge_disposition_code = data.discharge_disposition_simplified\n",
    "data.admission_source_code = data.admission_source_simplified\n",
    "data.medical_specialty = data.medical_specialty_simplified\n",
    "data.diag_1 = data.diag_1_simplified\n",
    "data.diag_2 = data.diag_2_simplified\n",
    "data.diag_3 = data.diag_3_simplified\n",
    "\"\"\"\n",
    "\n",
    "\n"
   ]
  },
  {
   "cell_type": "code",
   "execution_count": 444,
   "metadata": {},
   "outputs": [
    {
     "data": {
      "text/plain": [
       "Index(['age_as_int', 'discharge_disposition_simplified',\n",
       "       'admission_source_simplified', 'medical_specialty_simplified',\n",
       "       'diag_1_simplified', 'diag_2_simplified', 'diag_3_simplified'],\n",
       "      dtype='object')"
      ]
     },
     "execution_count": 444,
     "metadata": {},
     "output_type": "execute_result"
    }
   ],
   "source": [
    "data.columns[-7:]"
   ]
  },
  {
   "cell_type": "code",
   "execution_count": 445,
   "metadata": {},
   "outputs": [
    {
     "name": "stdout",
     "output_type": "stream",
     "text": [
      "F1_SCORE: 0.20052163918482824\n",
      "RECALL: 1.0\n",
      "PRECISION: 0.1114332039502776\n",
      "ROC AUC: 0.5\n"
     ]
    }
   ],
   "source": [
    "#dummy model: predicting everything as true\n",
    "get_metrics(data.readmitted, [True]*len(data))"
   ]
  },
  {
   "cell_type": "code",
   "execution_count": 433,
   "metadata": {},
   "outputs": [],
   "source": [
    "#shuffle target value\n",
    "#data.readmitted = data.readmitted.sample(frac=1).reset_index(drop=True)"
   ]
  },
  {
   "cell_type": "code",
   "execution_count": 196,
   "metadata": {},
   "outputs": [],
   "source": [
    "from imblearn.over_sampling import RandomOverSampler\n",
    "from imblearn.under_sampling import RandomUnderSampler\n"
   ]
  },
  {
   "cell_type": "code",
   "execution_count": 148,
   "metadata": {},
   "outputs": [],
   "source": []
  },
  {
   "cell_type": "code",
   "execution_count": 446,
   "metadata": {},
   "outputs": [
    {
     "data": {
      "text/plain": [
       "Text(0, 0.5, 'Target value counts')"
      ]
     },
     "execution_count": 446,
     "metadata": {},
     "output_type": "execute_result"
    },
    {
     "data": {
      "image/png": "[encoded data removed]",
      "text/plain": [
       "<Figure size 432x288 with 1 Axes>"
      ]
     },
     "metadata": {
      "needs_background": "light"
     },
     "output_type": "display_data"
    }
   ],
   "source": [
    "df_train, df_test = train_test_split(data, test_size=0.3, random_state=42)\n",
    "\n",
    "df_test.readmitted.value_counts().plot(kind=\"bar\")\n",
    "plt.xlabel('Target value')\n",
    "plt.ylabel('Target value counts')\n"
   ]
  },
  {
   "cell_type": "code",
   "execution_count": null,
   "metadata": {},
   "outputs": [],
   "source": []
  },
  {
   "cell_type": "code",
   "execution_count": 518,
   "metadata": {},
   "outputs": [],
   "source": [
    "# Write code to train and serialize a model in the block below\n",
    "#\n",
    "# Outputs expected: `columns.json`, `dtypes.pickle` and `pipeline.pickle`\n",
    "#\n",
    "# Your pipeline should be able to receive a dataframe with the columns we've requested you to use\n",
    "# in the form `pipeline.predict(test_df)`\n",
    "#\n",
    "\n",
    "target = \"readmitted\"\n",
    "\n",
    "\n",
    "all_features = ['race', 'gender',\n",
    "       'admission_type_code', 'discharge_disposition_code',\n",
    "       'admission_source_code', 'time_in_hospital', 'payer_code',\n",
    "       'medical_specialty', 'has_prosthesis', 'complete_vaccination_status',\n",
    "       'num_lab_procedures', 'num_procedures', 'num_medications',\n",
    "       'number_outpatient', 'number_emergency', 'number_inpatient', 'diag_1',\n",
    "       'diag_2', 'diag_3', 'number_diagnoses', 'blood_type',\n",
    "       'hemoglobin_level', 'blood_transfusion', 'max_glu_serum', 'A1Cresult',\n",
    "       'diuretics', 'insulin', 'change', 'diabetesMed', 'age_as_int',\n",
    "       'diag_1_simplified', 'diag_2_simplified', 'diag_3_simplified']\n",
    "\n",
    "numerical_features = [\"time_in_hospital\", \"num_lab_procedures\", \"num_procedures\", 'num_medications',  \"number_outpatient\", \"number_emergency\", \n",
    "        \"number_inpatient\", \"number_diagnoses\", \"hemoglobin_level\", 'age_as_int']\n",
    "\n",
    "categorical_features = ['race', 'gender',\n",
    "       'admission_type_code', 'discharge_disposition_code',\n",
    "       'admission_source_code', 'payer_code',\n",
    "       'medical_specialty', 'has_prosthesis', 'complete_vaccination_status', 'diag_1',\n",
    "       'diag_2', 'diag_3', 'blood_type', 'blood_transfusion', 'max_glu_serum', 'A1Cresult',\n",
    "       'diuretics', 'insulin', 'change', 'diabetesMed',\n",
    "       'diag_1_simplified', 'diag_2_simplified', 'diag_3_simplified']\n",
    "\n",
    "\n",
    "\n",
    "\"\"\"\n",
    "all_features = ['race', 'gender',\n",
    "    'time_in_hospital', 'has_prosthesis', 'complete_vaccination_status',\n",
    "       'num_lab_procedures', 'num_procedures', 'num_medications',\n",
    "       'number_outpatient', 'number_emergency', 'number_inpatient', 'number_diagnoses', 'blood_type',\n",
    "       'hemoglobin_level', 'blood_transfusion', 'max_glu_serum', 'A1Cresult',\n",
    "       'diuretics', 'insulin', 'change', 'diabetesMed', 'age_as_int',\n",
    "       'diag_1_simplified', 'diag_2_simplified', 'diag_3_simplified']\n",
    "\n",
    "numerical_features = [\"time_in_hospital\", \"num_lab_procedures\", \"num_procedures\", 'num_medications', \"number_outpatient\", \"number_emergency\", \n",
    "        \"number_inpatient\", \"number_diagnoses\", \"hemoglobin_level\", 'age_as_int']\n",
    "\n",
    "categorical_features = ['race', 'gender', 'has_prosthesis', 'complete_vaccination_status', 'blood_type', 'blood_transfusion', 'max_glu_serum', 'A1Cresult',\n",
    "       'diuretics', 'insulin', 'change', 'diabetesMed',\n",
    "       'diag_1_simplified', 'diag_2_simplified', 'diag_3_simplified']\n",
    "\"\"\"\n",
    "\n",
    "all_features = [\n",
    "       'diag_1_simplified', 'diag_2_simplified', 'diag_3_simplified']\n",
    "\n",
    "numerical_features = []\n",
    "\n",
    "categorical_features = [\n",
    "       'diag_1_simplified', 'diag_2_simplified', 'diag_3_simplified']\n",
    "\n",
    "\n",
    "\n",
    "numeric_transformer = Pipeline(steps=[\n",
    "    ('imputer', SimpleImputer(strategy='median')),\n",
    "    ('scaler', StandardScaler())])\n",
    "\n",
    "categorical_transformer = Pipeline(steps=[\n",
    "    ('imputer', SimpleImputer(strategy='constant', fill_value='nan')),\n",
    "    ('onehot', OneHotEncoder(handle_unknown='ignore'))])\n",
    "\n",
    "preprocessor = ColumnTransformer(\n",
    "    transformers=[\n",
    "        ('num', numeric_transformer, numerical_features),\n",
    "        ('cat', categorical_transformer, categorical_features)])\n",
    "\n",
    "\n",
    "\n",
    "pipeline = make_pipeline(\n",
    "    preprocessor,\n",
    "    LogisticRegression(random_state=42, n_jobs=-1),\n",
    "    #RandomForestClassifier(max_depth=3, min_samples_leaf=.03, random_state=42, n_jobs=-1),\n",
    "    #KNeighborsClassifier()\n",
    "    #DecisionTreeClassifier(class_weight=\"balanced\", max_depth=28, criterion = \"entropy\", min_samples_split=10)\n",
    "    #GradientBoostingClassifier(n_estimators=100, learning_rate=1.0, max_depth=1, random_state=0)\n",
    "\n",
    ")\n",
    "\n",
    "\n",
    "\n",
    "\n",
    "\n",
    "\n",
    "\n",
    "\n"
   ]
  },
  {
   "cell_type": "code",
   "execution_count": 519,
   "metadata": {},
   "outputs": [],
   "source": [
    "X_train = df_train[all_features]\n",
    "X_train[categorical_features] = X_train[categorical_features].astype(str)\n",
    "y_train = df_train[target]\n",
    "\n",
    "# define oversampling strategy\n",
    "oversample = RandomOverSampler(sampling_strategy='minority')\n",
    "# fit and apply the transform\n",
    "X_over, y_over = oversample.fit_resample(X_train, y_train)\n",
    "\n",
    "\n",
    "# define undersampling strategy\n",
    "undersample = RandomUnderSampler(sampling_strategy='majority')\n",
    "# fit and apply the transform\n",
    "X_under, y_under = undersample.fit_resample(X_train, y_train)\n"
   ]
  },
  {
   "cell_type": "code",
   "execution_count": 520,
   "metadata": {},
   "outputs": [
    {
     "data": {
      "text/plain": [
       "Pipeline(steps=[('columntransformer',\n",
       "                 ColumnTransformer(transformers=[('num',\n",
       "                                                  Pipeline(steps=[('imputer',\n",
       "                                                                   SimpleImputer(strategy='median')),\n",
       "                                                                  ('scaler',\n",
       "                                                                   StandardScaler())]),\n",
       "                                                  []),\n",
       "                                                 ('cat',\n",
       "                                                  Pipeline(steps=[('imputer',\n",
       "                                                                   SimpleImputer(fill_value='nan',\n",
       "                                                                                 strategy='constant')),\n",
       "                                                                  ('onehot',\n",
       "                                                                   OneHotEncoder(handle_unknown='ignore'))]),\n",
       "                                                  ['diag_1_simplified',\n",
       "                                                   'diag_2_simplified',\n",
       "                                                   'diag_3_simplified'])])),\n",
       "                ('logisticregression',\n",
       "                 LogisticRegression(n_jobs=-1, random_state=42))])"
      ]
     },
     "execution_count": 520,
     "metadata": {},
     "output_type": "execute_result"
    }
   ],
   "source": [
    "#pipeline.fit(X_train, y_train)\n",
    "#pipeline.fit(X_over, y_over)\n",
    "pipeline.fit(X_under, y_under)"
   ]
  },
  {
   "cell_type": "code",
   "execution_count": 521,
   "metadata": {},
   "outputs": [],
   "source": [
    "#make predictions\n",
    "X_test = df_test[all_features]\n",
    "X_test[categorical_features] = X_test[categorical_features].astype(str)\n",
    "\n",
    "y_test = df_test[target]\n",
    "\n",
    "y_pred = pipeline.predict(X_test)\n",
    "preds_proba = pipeline.predict_proba(X_test)[:, 1]\n",
    "\n",
    "# To use on other cells\n",
    "X_train_baseline = X_train.copy()\n",
    "X_test_baseline = df_test.copy()\n",
    "y_test_baseline = X_test_baseline[target].copy()\n",
    "y_pred_baseline = y_pred.copy()\n",
    "pipeline_baseline = pipeline"
   ]
  },
  {
   "cell_type": "code",
   "execution_count": null,
   "metadata": {},
   "outputs": [
    {
     "name": "stdout",
     "output_type": "stream",
     "text": [
      "F1_SCORE: 0.5974831296735363\n",
      "RECALL: 0.6004398826979472\n",
      "PRECISION: 0.5945553539019963\n"
     ]
    }
   ],
   "source": [
    "\"\"\"\n",
    "X_test_under, y_test_under = undersample.fit_resample(X_test, y_test)\n",
    "y_pred = pipeline.predict(X_test_under)\n",
    "get_metrics(y_test_under, y_pred)\n",
    "\"\"\"\n"
   ]
  },
  {
   "cell_type": "code",
   "execution_count": 522,
   "metadata": {},
   "outputs": [
    {
     "name": "stdout",
     "output_type": "stream",
     "text": [
      "F1_SCORE: 0.19870563971268046\n",
      "RECALL: 0.5120967741935484\n",
      "PRECISION: 0.1232683314215124\n",
      "ROC AUC: 0.5270660862118185\n"
     ]
    }
   ],
   "source": [
    "get_metrics(y_test, y_pred)"
   ]
  },
  {
   "cell_type": "code",
   "execution_count": 502,
   "metadata": {},
   "outputs": [
    {
     "name": "stdout",
     "output_type": "stream",
     "text": [
      "F1_SCORE: 0.24794816414686827\n",
      "RECALL: 0.5260263929618768\n",
      "PRECISION: 0.1622018763422629\n",
      "ROC AUC: 0.5921982997257761\n"
     ]
    }
   ],
   "source": [
    "get_metrics(y_test, y_pred)\n"
   ]
  },
  {
   "cell_type": "code",
   "execution_count": 497,
   "metadata": {},
   "outputs": [
    {
     "ename": "AttributeError",
     "evalue": "'LogisticRegression' object has no attribute 'feature_importances_'",
     "output_type": "error",
     "traceback": [
      "\u001b[0;31m---------------------------------------------------------------------------\u001b[0m",
      "\u001b[0;31mAttributeError\u001b[0m                            Traceback (most recent call last)",
      "\u001b[0;32m/tmp/ipykernel_40999/3335426111.py\u001b[0m in \u001b[0;36m<module>\u001b[0;34m\u001b[0m\n\u001b[1;32m      1\u001b[0m \u001b[0;31m# Create list of top most features based on importance\u001b[0m\u001b[0;34m\u001b[0m\u001b[0;34m\u001b[0m\u001b[0;34m\u001b[0m\u001b[0m\n\u001b[1;32m      2\u001b[0m \u001b[0mfeature_names\u001b[0m \u001b[0;34m=\u001b[0m \u001b[0mX_train\u001b[0m\u001b[0;34m.\u001b[0m\u001b[0mcolumns\u001b[0m\u001b[0;34m\u001b[0m\u001b[0;34m\u001b[0m\u001b[0m\n\u001b[0;32m----> 3\u001b[0;31m \u001b[0mfeature_imports\u001b[0m \u001b[0;34m=\u001b[0m \u001b[0mpipeline\u001b[0m\u001b[0;34m.\u001b[0m\u001b[0msteps\u001b[0m\u001b[0;34m[\u001b[0m\u001b[0;36m1\u001b[0m\u001b[0;34m]\u001b[0m\u001b[0;34m[\u001b[0m\u001b[0;36m1\u001b[0m\u001b[0;34m]\u001b[0m\u001b[0;34m.\u001b[0m\u001b[0mfeature_importances_\u001b[0m\u001b[0;34m\u001b[0m\u001b[0;34m\u001b[0m\u001b[0m\n\u001b[0m\u001b[1;32m      4\u001b[0m \u001b[0mmost_imp_features\u001b[0m \u001b[0;34m=\u001b[0m \u001b[0mpd\u001b[0m\u001b[0;34m.\u001b[0m\u001b[0mDataFrame\u001b[0m\u001b[0;34m(\u001b[0m\u001b[0;34m[\u001b[0m\u001b[0mf\u001b[0m \u001b[0;32mfor\u001b[0m \u001b[0mf\u001b[0m \u001b[0;32min\u001b[0m \u001b[0mzip\u001b[0m\u001b[0;34m(\u001b[0m\u001b[0mfeature_names\u001b[0m\u001b[0;34m,\u001b[0m\u001b[0mfeature_imports\u001b[0m\u001b[0;34m)\u001b[0m\u001b[0;34m]\u001b[0m\u001b[0;34m,\u001b[0m \u001b[0mcolumns\u001b[0m\u001b[0;34m=\u001b[0m\u001b[0;34m[\u001b[0m\u001b[0;34m\"Feature\"\u001b[0m\u001b[0;34m,\u001b[0m \u001b[0;34m\"Importance\"\u001b[0m\u001b[0;34m]\u001b[0m\u001b[0;34m)\u001b[0m\u001b[0;34m.\u001b[0m\u001b[0mnlargest\u001b[0m\u001b[0;34m(\u001b[0m\u001b[0;36m10\u001b[0m\u001b[0;34m,\u001b[0m \u001b[0;34m\"Importance\"\u001b[0m\u001b[0;34m)\u001b[0m\u001b[0;34m\u001b[0m\u001b[0;34m\u001b[0m\u001b[0m\n\u001b[1;32m      5\u001b[0m \u001b[0mmost_imp_features\u001b[0m\u001b[0;34m.\u001b[0m\u001b[0msort_values\u001b[0m\u001b[0;34m(\u001b[0m\u001b[0mby\u001b[0m\u001b[0;34m=\u001b[0m\u001b[0;34m\"Importance\"\u001b[0m\u001b[0;34m,\u001b[0m \u001b[0minplace\u001b[0m\u001b[0;34m=\u001b[0m\u001b[0;32mTrue\u001b[0m\u001b[0;34m)\u001b[0m\u001b[0;34m\u001b[0m\u001b[0;34m\u001b[0m\u001b[0m\n",
      "\u001b[0;31mAttributeError\u001b[0m: 'LogisticRegression' object has no attribute 'feature_importances_'"
     ]
    }
   ],
   "source": [
    "# Create list of top most features based on importance\n",
    "feature_names = X_train.columns\n",
    "feature_imports = pipeline.steps[1][1].feature_importances_\n",
    "most_imp_features = pd.DataFrame([f for f in zip(feature_names,feature_imports)], columns=[\"Feature\", \"Importance\"]).nlargest(10, \"Importance\")\n",
    "most_imp_features.sort_values(by=\"Importance\", inplace=True)\n",
    "print(most_imp_features)\n",
    "plt.figure(figsize=(10,6))\n",
    "plt.barh(range(len(most_imp_features)), most_imp_features.Importance, align='center', alpha=0.8)\n",
    "plt.yticks(range(len(most_imp_features)), most_imp_features.Feature, fontsize=14)\n",
    "plt.xlabel('Importance')\n",
    "plt.title('Most important features - Decision Tree')\n",
    "plt.show()"
   ]
  },
  {
   "cell_type": "code",
   "execution_count": 414,
   "metadata": {},
   "outputs": [
    {
     "name": "stdout",
     "output_type": "stream",
     "text": [
      "                       Feature  Importance\n",
      "2                          age    0.000000\n",
      "3          admission_type_code    0.000000\n",
      "0                         race    0.002747\n",
      "1                       gender    0.004208\n",
      "17                      diag_1    0.004920\n",
      "22            hemoglobin_level    0.004965\n",
      "6             time_in_hospital    0.014255\n",
      "4   discharge_disposition_code    0.019667\n",
      "33           diag_3_simplified    0.106128\n",
      "5        admission_source_code    0.370177\n"
     ]
    },
    {
     "data": {
      "image/png": "[encoded data removed]",
      "text/plain": [
       "<Figure size 720x432 with 1 Axes>"
      ]
     },
     "metadata": {
      "needs_background": "light"
     },
     "output_type": "display_data"
    }
   ],
   "source": [
    "# Create list of top most features based on importance\n",
    "feature_names = X_train.columns\n",
    "feature_imports = pipeline.steps[1][1].feature_importances_\n",
    "most_imp_features = pd.DataFrame([f for f in zip(feature_names,feature_imports)], columns=[\"Feature\", \"Importance\"]).nlargest(10, \"Importance\")\n",
    "most_imp_features.sort_values(by=\"Importance\", inplace=True)\n",
    "print(most_imp_features)\n",
    "plt.figure(figsize=(10,6))\n",
    "plt.barh(range(len(most_imp_features)), most_imp_features.Importance, align='center', alpha=0.8)\n",
    "plt.yticks(range(len(most_imp_features)), most_imp_features.Feature, fontsize=14)\n",
    "plt.xlabel('Importance')\n",
    "plt.title('Most important features - Decision Tree')\n",
    "plt.show()"
   ]
  },
  {
   "cell_type": "code",
   "execution_count": 87,
   "metadata": {},
   "outputs": [
    {
     "data": {
      "image/png": "[encoded data removed]",
      "text/plain": [
       "<Figure size 432x288 with 3 Axes>"
      ]
     },
     "metadata": {
      "needs_background": "light"
     },
     "output_type": "display_data"
    }
   ],
   "source": [
    "precision, recall, thresholds = precision_recall_curve(y_test, preds_proba)\n",
    "\n",
    "precision = precision[:-1]\n",
    "recall = recall[:-1]\n",
    "f1_score_result = 2*precision*recall/(precision+recall)\n",
    "\n",
    "\n",
    "\n",
    "fig=plt.figure()\n",
    "ax1 = plt.subplot(311)\n",
    "ax2 = plt.subplot(312)\n",
    "ax3 = plt.subplot(313)\n",
    "\n",
    "#ax1.hlines(y=0.5,xmin=0, xmax=1, colors='red')\n",
    "ax1.plot(thresholds,precision)\n",
    "ax2.plot(thresholds,recall)\n",
    "ax3.plot(thresholds,f1_score_result)\n",
    "\n",
    "ax1.get_shared_x_axes().join(ax1, ax2, ax3)\n",
    "ax1.set_xticklabels([])\n",
    "plt.xlabel('Threshold')\n",
    "ax1.set_title('Precision')\n",
    "ax2.set_title('Recall')\n",
    "ax3.set_title('F1-score')\n",
    "\n",
    "plt.show()"
   ]
  },
  {
   "cell_type": "code",
   "execution_count": 92,
   "metadata": {},
   "outputs": [
    {
     "name": "stdout",
     "output_type": "stream",
     "text": [
      "F1_SCORE: 0.24611223799864773\n",
      "RECALL: 0.6004398826979472\n",
      "PRECISION: 0.1547765283945951\n"
     ]
    }
   ],
   "source": [
    "threshold = 0.5\n",
    "best_preds = preds_proba>threshold\n",
    "get_metrics(y_test, best_preds)\n",
    "\n"
   ]
  },
  {
   "cell_type": "code",
   "execution_count": 54,
   "metadata": {},
   "outputs": [
    {
     "data": {
      "text/plain": [
       "['deployment/pipeline.pickle']"
      ]
     },
     "execution_count": 54,
     "metadata": {},
     "output_type": "execute_result"
    }
   ],
   "source": [
    "# Save for deployment\n",
    "with open(f'deployment/columns.json', 'w') as fh:\n",
    "    json.dump(X_train_baseline.columns.tolist(), fh)\n",
    "    \n",
    "with open(f'deployment/dtypes.pickle', 'wb') as fh:\n",
    "    pickle.dump(X_train_baseline.dtypes, fh)\n",
    "    \n",
    "joblib.dump(pipeline_baseline, f'deployment/pipeline.pickle')"
   ]
  }
 ],
 "metadata": {
  "interpreter": {
   "hash": "105b385371de027687b7b6ee2a9870daf2e0ed9752ad5f6ba523ea4490bef3d5"
  },
  "kernelspec": {
   "display_name": "Python 3.8.10 64-bit ('capstone': virtualenv)",
   "language": "python",
   "name": "python3"
  },
  "language_info": {
   "codemirror_mode": {
    "name": "ipython",
    "version": 3
   },
   "file_extension": ".py",
   "mimetype": "text/x-python",
   "name": "python",
   "nbconvert_exporter": "python",
   "pygments_lexer": "ipython3",
   "version": "3.8.10"
  },
  "orig_nbformat": 4
 },
 "nbformat": 4,
 "nbformat_minor": 2
}
