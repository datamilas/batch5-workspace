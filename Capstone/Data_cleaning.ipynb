{
 "cells": [
  {
   "cell_type": "code",
   "execution_count": 193,
   "id": "12b81da6",
   "metadata": {},
   "outputs": [],
   "source": [
    "import pandas as pd\n",
    "import numpy as np\n",
    "import matplotlib.pyplot as plt"
   ]
  },
  {
   "cell_type": "markdown",
   "id": "7e0cf697",
   "metadata": {},
   "source": []
  },
  {
   "cell_type": "code",
   "execution_count": null,
   "id": "9bc1eaab",
   "metadata": {},
   "outputs": [],
   "source": []
  },
  {
   "cell_type": "code",
   "execution_count": 194,
   "id": "28f7ca9a",
   "metadata": {},
   "outputs": [
    {
     "data": {
      "text/html": [
       "<div>\n",
       "<style scoped>\n",
       "    .dataframe tbody tr th:only-of-type {\n",
       "        vertical-align: middle;\n",
       "    }\n",
       "\n",
       "    .dataframe tbody tr th {\n",
       "        vertical-align: top;\n",
       "    }\n",
       "\n",
       "    .dataframe thead th {\n",
       "        text-align: right;\n",
       "    }\n",
       "</style>\n",
       "<table border=\"1\" class=\"dataframe\">\n",
       "  <thead>\n",
       "    <tr style=\"text-align: right;\">\n",
       "      <th></th>\n",
       "      <th>admission_id</th>\n",
       "      <th>patient_id</th>\n",
       "      <th>race</th>\n",
       "      <th>gender</th>\n",
       "      <th>age</th>\n",
       "      <th>weight</th>\n",
       "      <th>admission_type_code</th>\n",
       "      <th>discharge_disposition_code</th>\n",
       "      <th>admission_source_code</th>\n",
       "      <th>time_in_hospital</th>\n",
       "      <th>...</th>\n",
       "      <th>blood_type</th>\n",
       "      <th>hemoglobin_level</th>\n",
       "      <th>blood_transfusion</th>\n",
       "      <th>max_glu_serum</th>\n",
       "      <th>A1Cresult</th>\n",
       "      <th>diuretics</th>\n",
       "      <th>insulin</th>\n",
       "      <th>change</th>\n",
       "      <th>diabetesMed</th>\n",
       "      <th>readmitted</th>\n",
       "    </tr>\n",
       "  </thead>\n",
       "  <tbody>\n",
       "    <tr>\n",
       "      <th>0</th>\n",
       "      <td>0</td>\n",
       "      <td>199042938</td>\n",
       "      <td>Caucasian</td>\n",
       "      <td>Male</td>\n",
       "      <td>[50-60)</td>\n",
       "      <td>?</td>\n",
       "      <td>3.0</td>\n",
       "      <td>1.0</td>\n",
       "      <td>1</td>\n",
       "      <td>1</td>\n",
       "      <td>...</td>\n",
       "      <td>A+</td>\n",
       "      <td>14.5</td>\n",
       "      <td>False</td>\n",
       "      <td>None</td>\n",
       "      <td>None</td>\n",
       "      <td>No</td>\n",
       "      <td>No</td>\n",
       "      <td>No</td>\n",
       "      <td>Yes</td>\n",
       "      <td>No</td>\n",
       "    </tr>\n",
       "    <tr>\n",
       "      <th>1</th>\n",
       "      <td>1</td>\n",
       "      <td>91962954</td>\n",
       "      <td>Caucasian</td>\n",
       "      <td>Male</td>\n",
       "      <td>[80-90)</td>\n",
       "      <td>?</td>\n",
       "      <td>2.0</td>\n",
       "      <td>1.0</td>\n",
       "      <td>7</td>\n",
       "      <td>3</td>\n",
       "      <td>...</td>\n",
       "      <td>B+</td>\n",
       "      <td>15.7</td>\n",
       "      <td>False</td>\n",
       "      <td>None</td>\n",
       "      <td>&gt;7</td>\n",
       "      <td>No</td>\n",
       "      <td>No</td>\n",
       "      <td>No</td>\n",
       "      <td>No</td>\n",
       "      <td>Yes</td>\n",
       "    </tr>\n",
       "    <tr>\n",
       "      <th>2</th>\n",
       "      <td>2</td>\n",
       "      <td>109707084</td>\n",
       "      <td>EURO</td>\n",
       "      <td>Female</td>\n",
       "      <td>[60-70)</td>\n",
       "      <td>?</td>\n",
       "      <td>1.0</td>\n",
       "      <td>1.0</td>\n",
       "      <td>7</td>\n",
       "      <td>5</td>\n",
       "      <td>...</td>\n",
       "      <td>O+</td>\n",
       "      <td>13.0</td>\n",
       "      <td>False</td>\n",
       "      <td>NONE</td>\n",
       "      <td>None</td>\n",
       "      <td>No</td>\n",
       "      <td>Yes</td>\n",
       "      <td>Ch</td>\n",
       "      <td>Yes</td>\n",
       "      <td>No</td>\n",
       "    </tr>\n",
       "    <tr>\n",
       "      <th>3</th>\n",
       "      <td>3</td>\n",
       "      <td>157495374</td>\n",
       "      <td>Black</td>\n",
       "      <td>Female</td>\n",
       "      <td>[70-80)</td>\n",
       "      <td>?</td>\n",
       "      <td>6.0</td>\n",
       "      <td>1.0</td>\n",
       "      <td>17</td>\n",
       "      <td>2</td>\n",
       "      <td>...</td>\n",
       "      <td>AB-</td>\n",
       "      <td>13.5</td>\n",
       "      <td>False</td>\n",
       "      <td>NONE</td>\n",
       "      <td>&gt;8</td>\n",
       "      <td>No</td>\n",
       "      <td>No</td>\n",
       "      <td>No</td>\n",
       "      <td>Yes</td>\n",
       "      <td>No</td>\n",
       "    </tr>\n",
       "    <tr>\n",
       "      <th>4</th>\n",
       "      <td>4</td>\n",
       "      <td>82692360</td>\n",
       "      <td>Caucasian</td>\n",
       "      <td>Female</td>\n",
       "      <td>NaN</td>\n",
       "      <td>?</td>\n",
       "      <td>1.0</td>\n",
       "      <td>22.0</td>\n",
       "      <td>7</td>\n",
       "      <td>12</td>\n",
       "      <td>...</td>\n",
       "      <td>A+</td>\n",
       "      <td>13.0</td>\n",
       "      <td>False</td>\n",
       "      <td>None</td>\n",
       "      <td>None</td>\n",
       "      <td>No</td>\n",
       "      <td>No</td>\n",
       "      <td>No</td>\n",
       "      <td>No</td>\n",
       "      <td>No</td>\n",
       "    </tr>\n",
       "  </tbody>\n",
       "</table>\n",
       "<p>5 rows × 34 columns</p>\n",
       "</div>"
      ],
      "text/plain": [
       "   admission_id  patient_id       race  gender      age weight  \\\n",
       "0             0   199042938  Caucasian    Male  [50-60)      ?   \n",
       "1             1    91962954  Caucasian    Male  [80-90)      ?   \n",
       "2             2   109707084       EURO  Female  [60-70)      ?   \n",
       "3             3   157495374      Black  Female  [70-80)      ?   \n",
       "4             4    82692360  Caucasian  Female      NaN      ?   \n",
       "\n",
       "   admission_type_code  discharge_disposition_code  admission_source_code  \\\n",
       "0                  3.0                         1.0                      1   \n",
       "1                  2.0                         1.0                      7   \n",
       "2                  1.0                         1.0                      7   \n",
       "3                  6.0                         1.0                     17   \n",
       "4                  1.0                        22.0                      7   \n",
       "\n",
       "   time_in_hospital  ... blood_type hemoglobin_level  blood_transfusion  \\\n",
       "0                 1  ...         A+             14.5              False   \n",
       "1                 3  ...         B+             15.7              False   \n",
       "2                 5  ...         O+             13.0              False   \n",
       "3                 2  ...        AB-             13.5              False   \n",
       "4                12  ...         A+             13.0              False   \n",
       "\n",
       "  max_glu_serum  A1Cresult  diuretics  insulin  change  diabetesMed  \\\n",
       "0          None       None         No       No      No          Yes   \n",
       "1          None         >7         No       No      No           No   \n",
       "2          NONE       None         No      Yes      Ch          Yes   \n",
       "3          NONE         >8         No       No      No          Yes   \n",
       "4          None       None         No       No      No           No   \n",
       "\n",
       "   readmitted  \n",
       "0          No  \n",
       "1         Yes  \n",
       "2          No  \n",
       "3          No  \n",
       "4          No  \n",
       "\n",
       "[5 rows x 34 columns]"
      ]
     },
     "execution_count": 194,
     "metadata": {},
     "output_type": "execute_result"
    }
   ],
   "source": [
    "data = pd.read_csv(\"data/train_data.csv\")\n",
    "data.head()"
   ]
  },
  {
   "cell_type": "code",
   "execution_count": 195,
   "id": "c63a6398",
   "metadata": {},
   "outputs": [
    {
     "data": {
      "text/plain": [
       "(81412, 34)"
      ]
     },
     "execution_count": 195,
     "metadata": {},
     "output_type": "execute_result"
    }
   ],
   "source": [
    "data.shape"
   ]
  },
  {
   "cell_type": "code",
   "execution_count": 196,
   "id": "e82761c7",
   "metadata": {},
   "outputs": [
    {
     "data": {
      "text/html": [
       "<div>\n",
       "<style scoped>\n",
       "    .dataframe tbody tr th:only-of-type {\n",
       "        vertical-align: middle;\n",
       "    }\n",
       "\n",
       "    .dataframe tbody tr th {\n",
       "        vertical-align: top;\n",
       "    }\n",
       "\n",
       "    .dataframe thead th {\n",
       "        text-align: right;\n",
       "    }\n",
       "</style>\n",
       "<table border=\"1\" class=\"dataframe\">\n",
       "  <thead>\n",
       "    <tr style=\"text-align: right;\">\n",
       "      <th></th>\n",
       "      <th>Variable name</th>\n",
       "      <th>Description</th>\n",
       "      <th>Codes</th>\n",
       "    </tr>\n",
       "  </thead>\n",
       "  <tbody>\n",
       "    <tr>\n",
       "      <th>0</th>\n",
       "      <td>admission_id</td>\n",
       "      <td>Unique identifier of an encounter</td>\n",
       "      <td>NaN</td>\n",
       "    </tr>\n",
       "    <tr>\n",
       "      <th>1</th>\n",
       "      <td>patient_id</td>\n",
       "      <td>Unique identifier of a patient</td>\n",
       "      <td>NaN</td>\n",
       "    </tr>\n",
       "    <tr>\n",
       "      <th>2</th>\n",
       "      <td>race</td>\n",
       "      <td>Patient race</td>\n",
       "      <td>NaN</td>\n",
       "    </tr>\n",
       "    <tr>\n",
       "      <th>3</th>\n",
       "      <td>gender</td>\n",
       "      <td>Patient gender</td>\n",
       "      <td>NaN</td>\n",
       "    </tr>\n",
       "    <tr>\n",
       "      <th>4</th>\n",
       "      <td>age</td>\n",
       "      <td>Patient age grouped in 10-year intervals</td>\n",
       "      <td>NaN</td>\n",
       "    </tr>\n",
       "    <tr>\n",
       "      <th>5</th>\n",
       "      <td>weight</td>\n",
       "      <td>Patient weight (lb)</td>\n",
       "      <td>NaN</td>\n",
       "    </tr>\n",
       "    <tr>\n",
       "      <th>6</th>\n",
       "      <td>admission_type_code</td>\n",
       "      <td>Admission type identifier</td>\n",
       "      <td>1: Emergency\\r\\n2: Urgent\\r\\n3: Elective\\r\\n4:...</td>\n",
       "    </tr>\n",
       "    <tr>\n",
       "      <th>7</th>\n",
       "      <td>discharge_disposition_code</td>\n",
       "      <td>discharge_disposition_code</td>\n",
       "      <td>1: Discharged to home\\r\\n2: Discharged/transfe...</td>\n",
       "    </tr>\n",
       "    <tr>\n",
       "      <th>8</th>\n",
       "      <td>admission_source_code</td>\n",
       "      <td>Admission source identifier</td>\n",
       "      <td>1: Physician Referral\\n2: Clinic Referral\\n3: ...</td>\n",
       "    </tr>\n",
       "    <tr>\n",
       "      <th>9</th>\n",
       "      <td>time_in_hospital</td>\n",
       "      <td>Number of days between admission and discharge</td>\n",
       "      <td>NaN</td>\n",
       "    </tr>\n",
       "    <tr>\n",
       "      <th>10</th>\n",
       "      <td>payer_code</td>\n",
       "      <td>Payer identifier</td>\n",
       "      <td>NaN</td>\n",
       "    </tr>\n",
       "    <tr>\n",
       "      <th>11</th>\n",
       "      <td>medical_specialty</td>\n",
       "      <td>Physician speciality</td>\n",
       "      <td>NaN</td>\n",
       "    </tr>\n",
       "    <tr>\n",
       "      <th>12</th>\n",
       "      <td>has_prosthesis</td>\n",
       "      <td>Indicates if patient has any prothesis.</td>\n",
       "      <td>NaN</td>\n",
       "    </tr>\n",
       "    <tr>\n",
       "      <th>13</th>\n",
       "      <td>complete_vaccination_status</td>\n",
       "      <td>The patient vaccination status.</td>\n",
       "      <td>NaN</td>\n",
       "    </tr>\n",
       "    <tr>\n",
       "      <th>14</th>\n",
       "      <td>num_lab_procedures</td>\n",
       "      <td>Number of lab tests performed during the encou...</td>\n",
       "      <td>NaN</td>\n",
       "    </tr>\n",
       "    <tr>\n",
       "      <th>15</th>\n",
       "      <td>num_procedures</td>\n",
       "      <td>Number of procedures (other than lab tests) pe...</td>\n",
       "      <td>NaN</td>\n",
       "    </tr>\n",
       "    <tr>\n",
       "      <th>16</th>\n",
       "      <td>num_medications</td>\n",
       "      <td>Number of distinct generic names administered ...</td>\n",
       "      <td>NaN</td>\n",
       "    </tr>\n",
       "    <tr>\n",
       "      <th>17</th>\n",
       "      <td>number_outpatient</td>\n",
       "      <td>Number of outpatient visits of the patient in ...</td>\n",
       "      <td>NaN</td>\n",
       "    </tr>\n",
       "    <tr>\n",
       "      <th>18</th>\n",
       "      <td>number_emergency</td>\n",
       "      <td>Number of emergency visits of the patient in t...</td>\n",
       "      <td>NaN</td>\n",
       "    </tr>\n",
       "    <tr>\n",
       "      <th>19</th>\n",
       "      <td>number_inpatient</td>\n",
       "      <td>Number of inpatient visits of the patient in t...</td>\n",
       "      <td>NaN</td>\n",
       "    </tr>\n",
       "    <tr>\n",
       "      <th>20</th>\n",
       "      <td>diag_1</td>\n",
       "      <td>The primary diagnosis (coded as first three di...</td>\n",
       "      <td>NaN</td>\n",
       "    </tr>\n",
       "    <tr>\n",
       "      <th>21</th>\n",
       "      <td>diag_2</td>\n",
       "      <td>Secondary diagnosis (coded as first three digi...</td>\n",
       "      <td>NaN</td>\n",
       "    </tr>\n",
       "    <tr>\n",
       "      <th>22</th>\n",
       "      <td>diag_3</td>\n",
       "      <td>Additional secondary diagnosis (coded as first...</td>\n",
       "      <td>NaN</td>\n",
       "    </tr>\n",
       "    <tr>\n",
       "      <th>23</th>\n",
       "      <td>number_diagnoses</td>\n",
       "      <td>Number of diagnoses entered to the system</td>\n",
       "      <td>NaN</td>\n",
       "    </tr>\n",
       "    <tr>\n",
       "      <th>24</th>\n",
       "      <td>blood_type</td>\n",
       "      <td>Patient blood type</td>\n",
       "      <td>NaN</td>\n",
       "    </tr>\n",
       "    <tr>\n",
       "      <th>25</th>\n",
       "      <td>hemoglobin_level</td>\n",
       "      <td>Encounter initial patient hemoglobin level (g/dl)</td>\n",
       "      <td>NaN</td>\n",
       "    </tr>\n",
       "    <tr>\n",
       "      <th>26</th>\n",
       "      <td>blood_transfusion</td>\n",
       "      <td>Indicates if pacient required blood transfusio...</td>\n",
       "      <td>Yes: blood transfusion was performed during th...</td>\n",
       "    </tr>\n",
       "    <tr>\n",
       "      <th>27</th>\n",
       "      <td>max_glu_serum</td>\n",
       "      <td>Indicates the range of the glucose serum resul...</td>\n",
       "      <td>&gt;200: result greater than 200 but less than 30...</td>\n",
       "    </tr>\n",
       "    <tr>\n",
       "      <th>28</th>\n",
       "      <td>A1Cresult</td>\n",
       "      <td>Indicates the range of the A1c test result or ...</td>\n",
       "      <td>&gt;8: the result was greater than 8%\\n&gt;7: the re...</td>\n",
       "    </tr>\n",
       "    <tr>\n",
       "      <th>29</th>\n",
       "      <td>diuretics</td>\n",
       "      <td>Indicate whether diuretics were prescribed.</td>\n",
       "      <td>Yes: a diuretic was prescribed during the enco...</td>\n",
       "    </tr>\n",
       "    <tr>\n",
       "      <th>30</th>\n",
       "      <td>insulin</td>\n",
       "      <td>Indicate whether insulin was prescribed.</td>\n",
       "      <td>Yes: insulin was prescribed during the encount...</td>\n",
       "    </tr>\n",
       "    <tr>\n",
       "      <th>31</th>\n",
       "      <td>change</td>\n",
       "      <td>Indicates if there was a change in diabetic me...</td>\n",
       "      <td>Ch: there was a change in diabetic medication\\...</td>\n",
       "    </tr>\n",
       "    <tr>\n",
       "      <th>32</th>\n",
       "      <td>diabetesMed</td>\n",
       "      <td>Indicates if there was any diabetic medication...</td>\n",
       "      <td>Yes: diabetic medication was prescribed during...</td>\n",
       "    </tr>\n",
       "    <tr>\n",
       "      <th>33</th>\n",
       "      <td>readmitted</td>\n",
       "      <td>Patient readmitted within 30 days of discharge.</td>\n",
       "      <td>Yes: if the patient was readmitted\\nNo: no rec...</td>\n",
       "    </tr>\n",
       "  </tbody>\n",
       "</table>\n",
       "</div>"
      ],
      "text/plain": [
       "                  Variable name  \\\n",
       "0                  admission_id   \n",
       "1                    patient_id   \n",
       "2                          race   \n",
       "3                        gender   \n",
       "4                           age   \n",
       "5                        weight   \n",
       "6           admission_type_code   \n",
       "7    discharge_disposition_code   \n",
       "8         admission_source_code   \n",
       "9              time_in_hospital   \n",
       "10                   payer_code   \n",
       "11            medical_specialty   \n",
       "12               has_prosthesis   \n",
       "13  complete_vaccination_status   \n",
       "14           num_lab_procedures   \n",
       "15               num_procedures   \n",
       "16              num_medications   \n",
       "17            number_outpatient   \n",
       "18             number_emergency   \n",
       "19             number_inpatient   \n",
       "20                       diag_1   \n",
       "21                       diag_2   \n",
       "22                       diag_3   \n",
       "23             number_diagnoses   \n",
       "24                   blood_type   \n",
       "25             hemoglobin_level   \n",
       "26            blood_transfusion   \n",
       "27                max_glu_serum   \n",
       "28                    A1Cresult   \n",
       "29                    diuretics   \n",
       "30                      insulin   \n",
       "31                       change   \n",
       "32                  diabetesMed   \n",
       "33                   readmitted   \n",
       "\n",
       "                                          Description  \\\n",
       "0                   Unique identifier of an encounter   \n",
       "1                      Unique identifier of a patient   \n",
       "2                                        Patient race   \n",
       "3                                      Patient gender   \n",
       "4            Patient age grouped in 10-year intervals   \n",
       "5                                 Patient weight (lb)   \n",
       "6                           Admission type identifier   \n",
       "7                          discharge_disposition_code   \n",
       "8                         Admission source identifier   \n",
       "9      Number of days between admission and discharge   \n",
       "10                                   Payer identifier   \n",
       "11                               Physician speciality   \n",
       "12            Indicates if patient has any prothesis.   \n",
       "13                    The patient vaccination status.   \n",
       "14  Number of lab tests performed during the encou...   \n",
       "15  Number of procedures (other than lab tests) pe...   \n",
       "16  Number of distinct generic names administered ...   \n",
       "17  Number of outpatient visits of the patient in ...   \n",
       "18  Number of emergency visits of the patient in t...   \n",
       "19  Number of inpatient visits of the patient in t...   \n",
       "20  The primary diagnosis (coded as first three di...   \n",
       "21  Secondary diagnosis (coded as first three digi...   \n",
       "22  Additional secondary diagnosis (coded as first...   \n",
       "23          Number of diagnoses entered to the system   \n",
       "24                                 Patient blood type   \n",
       "25  Encounter initial patient hemoglobin level (g/dl)   \n",
       "26  Indicates if pacient required blood transfusio...   \n",
       "27  Indicates the range of the glucose serum resul...   \n",
       "28  Indicates the range of the A1c test result or ...   \n",
       "29        Indicate whether diuretics were prescribed.   \n",
       "30           Indicate whether insulin was prescribed.   \n",
       "31  Indicates if there was a change in diabetic me...   \n",
       "32  Indicates if there was any diabetic medication...   \n",
       "33    Patient readmitted within 30 days of discharge.   \n",
       "\n",
       "                                                Codes  \n",
       "0                                                 NaN  \n",
       "1                                                 NaN  \n",
       "2                                                 NaN  \n",
       "3                                                 NaN  \n",
       "4                                                 NaN  \n",
       "5                                                 NaN  \n",
       "6   1: Emergency\\r\\n2: Urgent\\r\\n3: Elective\\r\\n4:...  \n",
       "7   1: Discharged to home\\r\\n2: Discharged/transfe...  \n",
       "8   1: Physician Referral\\n2: Clinic Referral\\n3: ...  \n",
       "9                                                 NaN  \n",
       "10                                                NaN  \n",
       "11                                                NaN  \n",
       "12                                                NaN  \n",
       "13                                                NaN  \n",
       "14                                                NaN  \n",
       "15                                                NaN  \n",
       "16                                                NaN  \n",
       "17                                                NaN  \n",
       "18                                                NaN  \n",
       "19                                                NaN  \n",
       "20                                                NaN  \n",
       "21                                                NaN  \n",
       "22                                                NaN  \n",
       "23                                                NaN  \n",
       "24                                                NaN  \n",
       "25                                                NaN  \n",
       "26  Yes: blood transfusion was performed during th...  \n",
       "27  >200: result greater than 200 but less than 30...  \n",
       "28  >8: the result was greater than 8%\\n>7: the re...  \n",
       "29  Yes: a diuretic was prescribed during the enco...  \n",
       "30  Yes: insulin was prescribed during the encount...  \n",
       "31  Ch: there was a change in diabetic medication\\...  \n",
       "32  Yes: diabetic medication was prescribed during...  \n",
       "33  Yes: if the patient was readmitted\\nNo: no rec...  "
      ]
     },
     "execution_count": 196,
     "metadata": {},
     "output_type": "execute_result"
    }
   ],
   "source": [
    "data_dictionary = pd.read_csv(\"data/Data Dictionary.csv\")\n",
    "data_dictionary"
   ]
  },
  {
   "cell_type": "code",
   "execution_count": null,
   "id": "0c8185e3",
   "metadata": {},
   "outputs": [],
   "source": []
  },
  {
   "cell_type": "markdown",
   "id": "3e71e4ed",
   "metadata": {},
   "source": [
    "## Processind and cleaning data\n",
    "- Check if there are nans\n"
   ]
  },
  {
   "cell_type": "code",
   "execution_count": 197,
   "id": "5a9bea38",
   "metadata": {},
   "outputs": [],
   "source": [
    "def check_for_nans(df):\n",
    "    return(np.sum(df.isnull()))\n",
    "\n",
    "def check_column(df, column_name):\n",
    "    print(f\"Feature: {column_name}\")\n",
    "    print(f\"Unique values: {df[column_name].unique()}\")\n",
    "    print(f\"dtype: {df[column_name].dtypes}\")\n",
    "    print(f\"Num of nan: {df[column_name].isnull().sum()}\")"
   ]
  },
  {
   "cell_type": "code",
   "execution_count": 198,
   "id": "59f374c8",
   "metadata": {},
   "outputs": [
    {
     "data": {
      "text/plain": [
       "admission_id                      0\n",
       "patient_id                        0\n",
       "race                              0\n",
       "gender                            0\n",
       "age                            2336\n",
       "weight                         1560\n",
       "admission_type_code            1162\n",
       "discharge_disposition_code      571\n",
       "admission_source_code             0\n",
       "time_in_hospital                  0\n",
       "payer_code                        0\n",
       "medical_specialty                 0\n",
       "has_prosthesis                    0\n",
       "complete_vaccination_status       0\n",
       "num_lab_procedures             1493\n",
       "num_procedures                    0\n",
       "num_medications                2678\n",
       "number_outpatient                 0\n",
       "number_emergency                  0\n",
       "number_inpatient                  0\n",
       "diag_1                            0\n",
       "diag_2                         1349\n",
       "diag_3                            0\n",
       "number_diagnoses                  0\n",
       "blood_type                        0\n",
       "hemoglobin_level                  0\n",
       "blood_transfusion                 0\n",
       "max_glu_serum                     0\n",
       "A1Cresult                         0\n",
       "diuretics                         0\n",
       "insulin                           0\n",
       "change                            0\n",
       "diabetesMed                       0\n",
       "readmitted                        0\n",
       "dtype: int64"
      ]
     },
     "execution_count": 198,
     "metadata": {},
     "output_type": "execute_result"
    }
   ],
   "source": [
    "check_for_nans(data)"
   ]
  },
  {
   "cell_type": "code",
   "execution_count": 199,
   "id": "cb3c692d",
   "metadata": {},
   "outputs": [
    {
     "data": {
      "text/plain": [
       "admission_id                     int64\n",
       "patient_id                       int64\n",
       "race                            object\n",
       "gender                          object\n",
       "age                             object\n",
       "weight                          object\n",
       "admission_type_code            float64\n",
       "discharge_disposition_code     float64\n",
       "admission_source_code            int64\n",
       "time_in_hospital                 int64\n",
       "payer_code                      object\n",
       "medical_specialty               object\n",
       "has_prosthesis                    bool\n",
       "complete_vaccination_status     object\n",
       "num_lab_procedures             float64\n",
       "num_procedures                   int64\n",
       "num_medications                float64\n",
       "number_outpatient                int64\n",
       "number_emergency                 int64\n",
       "number_inpatient                 int64\n",
       "diag_1                          object\n",
       "diag_2                          object\n",
       "diag_3                          object\n",
       "number_diagnoses                 int64\n",
       "blood_type                      object\n",
       "hemoglobin_level               float64\n",
       "blood_transfusion                 bool\n",
       "max_glu_serum                   object\n",
       "A1Cresult                       object\n",
       "diuretics                       object\n",
       "insulin                         object\n",
       "change                          object\n",
       "diabetesMed                     object\n",
       "readmitted                      object\n",
       "dtype: object"
      ]
     },
     "execution_count": 199,
     "metadata": {},
     "output_type": "execute_result"
    }
   ],
   "source": [
    "data.dtypes"
   ]
  },
  {
   "cell_type": "code",
   "execution_count": 200,
   "id": "84a88438",
   "metadata": {},
   "outputs": [
    {
     "data": {
      "text/plain": [
       "admission_id                   81412\n",
       "patient_id                     60069\n",
       "race                              15\n",
       "gender                             3\n",
       "age                               10\n",
       "weight                            10\n",
       "admission_type_code                8\n",
       "discharge_disposition_code        25\n",
       "admission_source_code             17\n",
       "time_in_hospital                  14\n",
       "payer_code                        18\n",
       "medical_specialty                 71\n",
       "has_prosthesis                     2\n",
       "complete_vaccination_status        3\n",
       "num_lab_procedures               115\n",
       "num_procedures                     7\n",
       "num_medications                   73\n",
       "number_outpatient                 39\n",
       "number_emergency                  29\n",
       "number_inpatient                  21\n",
       "diag_1                           701\n",
       "diag_2                           725\n",
       "diag_3                           761\n",
       "number_diagnoses                  16\n",
       "blood_type                         8\n",
       "hemoglobin_level                  77\n",
       "blood_transfusion                  2\n",
       "max_glu_serum                      6\n",
       "A1Cresult                          4\n",
       "diuretics                          2\n",
       "insulin                            2\n",
       "change                             2\n",
       "diabetesMed                        2\n",
       "readmitted                         2\n",
       "dtype: int64"
      ]
     },
     "execution_count": 200,
     "metadata": {},
     "output_type": "execute_result"
    }
   ],
   "source": [
    "data.nunique()"
   ]
  },
  {
   "cell_type": "code",
   "execution_count": 201,
   "id": "05b9e8c7",
   "metadata": {},
   "outputs": [],
   "source": [
    "data.replace(\"?\", np.nan, inplace=True)"
   ]
  },
  {
   "cell_type": "markdown",
   "id": "f59fd702",
   "metadata": {},
   "source": []
  },
  {
   "cell_type": "code",
   "execution_count": 202,
   "id": "d1fba181",
   "metadata": {},
   "outputs": [
    {
     "name": "stdout",
     "output_type": "stream",
     "text": [
      "Feature: race\n",
      "Unique values: ['Caucasian' 'EURO' 'Black' 'Other' 'WHITE' 'AfricanAmerican' 'White'\n",
      " 'Afro American' 'African American' nan 'European' 'Hispanic'\n",
      " 'AFRICANAMERICAN' 'Asian' 'Latino']\n",
      "dtype: object\n",
      "Num of nan: 1827\n"
     ]
    }
   ],
   "source": [
    "#clean the race data\n",
    "check_column(data, \"race\")"
   ]
  },
  {
   "cell_type": "code",
   "execution_count": 203,
   "id": "c7461e98",
   "metadata": {},
   "outputs": [],
   "source": [
    "data.race = data.race.replace([\"EURO\", \"European\", \"WHITE\", \"White\"], \"Caucasian\")\n",
    "data.race = data.race.replace(\"Latino\", \"Hispanic\")\n",
    "data.race = data.race.replace([\"AfricanAmerican\", \"Afro American\", \"AFRICANAMERICAN\", \"Black\"], \"African American\")\n"
   ]
  },
  {
   "cell_type": "code",
   "execution_count": 204,
   "id": "0989cd51",
   "metadata": {},
   "outputs": [
    {
     "name": "stdout",
     "output_type": "stream",
     "text": [
      "Feature: race\n",
      "Unique values: ['Caucasian' 'African American' 'Other' nan 'Hispanic' 'Asian']\n",
      "dtype: object\n",
      "Num of nan: 1827\n"
     ]
    }
   ],
   "source": [
    "check_column(data, \"race\")"
   ]
  },
  {
   "cell_type": "code",
   "execution_count": 205,
   "id": "10e329e3",
   "metadata": {},
   "outputs": [
    {
     "name": "stdout",
     "output_type": "stream",
     "text": [
      "Feature: gender\n",
      "Unique values: ['Male' 'Female' 'Unknown/Invalid']\n",
      "dtype: object\n",
      "Num of nan: 0\n"
     ]
    }
   ],
   "source": [
    "#clean gender data\n",
    "check_column(data, \"gender\")"
   ]
  },
  {
   "cell_type": "code",
   "execution_count": 206,
   "id": "288989ed",
   "metadata": {},
   "outputs": [
    {
     "name": "stdout",
     "output_type": "stream",
     "text": [
      "Feature: gender\n",
      "Unique values: ['Male' 'Female' nan]\n",
      "dtype: object\n",
      "Num of nan: 2\n"
     ]
    }
   ],
   "source": [
    "#replace Unknow/Invalid value in gender with np.nan\n",
    "data.gender.replace(\"Unknown/Invalid\", np.nan, inplace=True)\n",
    "check_column(data, \"gender\")"
   ]
  },
  {
   "cell_type": "code",
   "execution_count": 207,
   "id": "57a35fbc",
   "metadata": {},
   "outputs": [
    {
     "name": "stdout",
     "output_type": "stream",
     "text": [
      "Feature: age\n",
      "Unique values: ['[50-60)' '[80-90)' '[60-70)' '[70-80)' nan '[40-50)' '[30-40)'\n",
      " '[90-100)' '[20-30)' '[10-20)' '[0-10)']\n",
      "dtype: object\n",
      "Num of nan: 2336\n"
     ]
    }
   ],
   "source": [
    "#clean age data\n",
    "check_column(data, \"age\")"
   ]
  },
  {
   "cell_type": "code",
   "execution_count": 208,
   "id": "e6d1ba78",
   "metadata": {},
   "outputs": [
    {
     "name": "stdout",
     "output_type": "stream",
     "text": [
      "Feature: weight\n",
      "Unique values: [nan '[50-75)' '[75-100)' '[100-125)' '[175-200)' '[125-150)' '[25-50)'\n",
      " '[150-175)' '>200' '[0-25)']\n",
      "dtype: object\n",
      "Num of nan: 78913\n"
     ]
    }
   ],
   "source": [
    "#clean weight data\n",
    "check_column(data, \"weight\")"
   ]
  },
  {
   "cell_type": "code",
   "execution_count": 209,
   "id": "1a0b0d1d",
   "metadata": {},
   "outputs": [
    {
     "name": "stdout",
     "output_type": "stream",
     "text": [
      "Feature: admission_type_code\n",
      "Unique values: [ 3.  2.  1.  6.  5. nan  8.  4.  7.]\n",
      "dtype: float64\n",
      "Num of nan: 1162\n"
     ]
    },
    {
     "data": {
      "text/html": [
       "<div>\n",
       "<style scoped>\n",
       "    .dataframe tbody tr th:only-of-type {\n",
       "        vertical-align: middle;\n",
       "    }\n",
       "\n",
       "    .dataframe tbody tr th {\n",
       "        vertical-align: top;\n",
       "    }\n",
       "\n",
       "    .dataframe thead th {\n",
       "        text-align: right;\n",
       "    }\n",
       "</style>\n",
       "<table border=\"1\" class=\"dataframe\">\n",
       "  <thead>\n",
       "    <tr style=\"text-align: right;\">\n",
       "      <th></th>\n",
       "      <th>code_number</th>\n",
       "      <th>meaning</th>\n",
       "    </tr>\n",
       "  </thead>\n",
       "  <tbody>\n",
       "    <tr>\n",
       "      <th>0</th>\n",
       "      <td>1</td>\n",
       "      <td>Emergency</td>\n",
       "    </tr>\n",
       "    <tr>\n",
       "      <th>1</th>\n",
       "      <td>2</td>\n",
       "      <td>Urgent</td>\n",
       "    </tr>\n",
       "    <tr>\n",
       "      <th>2</th>\n",
       "      <td>3</td>\n",
       "      <td>Elective</td>\n",
       "    </tr>\n",
       "    <tr>\n",
       "      <th>3</th>\n",
       "      <td>4</td>\n",
       "      <td>Newborn</td>\n",
       "    </tr>\n",
       "    <tr>\n",
       "      <th>4</th>\n",
       "      <td>5</td>\n",
       "      <td>Not Available</td>\n",
       "    </tr>\n",
       "    <tr>\n",
       "      <th>5</th>\n",
       "      <td>6</td>\n",
       "      <td>NULL</td>\n",
       "    </tr>\n",
       "    <tr>\n",
       "      <th>6</th>\n",
       "      <td>7</td>\n",
       "      <td>Trauma Center</td>\n",
       "    </tr>\n",
       "    <tr>\n",
       "      <th>7</th>\n",
       "      <td>8</td>\n",
       "      <td>Not Mapped</td>\n",
       "    </tr>\n",
       "  </tbody>\n",
       "</table>\n",
       "</div>"
      ],
      "text/plain": [
       "  code_number        meaning\n",
       "0           1      Emergency\n",
       "1           2         Urgent\n",
       "2           3       Elective\n",
       "3           4        Newborn\n",
       "4           5  Not Available\n",
       "5           6           NULL\n",
       "6           7  Trauma Center\n",
       "7           8     Not Mapped"
      ]
     },
     "execution_count": 209,
     "metadata": {},
     "output_type": "execute_result"
    }
   ],
   "source": [
    "#clean admission_type_code\n",
    "check_column(data, \"admission_type_code\")\n",
    "\n",
    "codes = data_dictionary[data_dictionary[\"Variable name\"]==\"admission_type_code\"].Codes.values[0].split(\"\\r\\n\")\n",
    "admission_type_code_df = pd.DataFrame([code.split(\": \", maxsplit=1) for code in codes], columns=[\"code_number\", \"meaning\"])\n",
    "admission_type_code_df\n",
    "\n",
    "\n"
   ]
  },
  {
   "cell_type": "code",
   "execution_count": 210,
   "id": "42dee664",
   "metadata": {},
   "outputs": [
    {
     "name": "stdout",
     "output_type": "stream",
     "text": [
      "Feature: admission_type_code\n",
      "Unique values: ['3.0' '2.0' '1.0' 'nan' '4.0' '7.0']\n",
      "dtype: object\n",
      "Num of nan: 0\n"
     ]
    }
   ],
   "source": [
    "\n",
    "data.admission_type_code = data.admission_type_code.replace([5., 6., 8.], np.nan)\n",
    "\n",
    "#data.admission_type_code = data.admission_type_code.replace([\"1.0\", \"2.0\", \"3.0\", \"4.0\", \"7.0\"], [\"Emergency\", \"Urgent\", \"Elective\", \"Newborn\", \"Trauma Center\"])\n",
    "data.admission_type_code = data.admission_type_code.astype(str)\n",
    "\n",
    "check_column(data, \"admission_type_code\")\n"
   ]
  },
  {
   "cell_type": "code",
   "execution_count": 211,
   "id": "a02639c3",
   "metadata": {},
   "outputs": [
    {
     "name": "stdout",
     "output_type": "stream",
     "text": [
      "Feature: discharge_disposition_code\n",
      "Unique values: [ 1. 22.  3. 11. 25.  4.  6. 14. nan  2. 23. 18.  5. 13. 15.  7. 16. 24.\n",
      " 28.  8.  9. 27. 17. 10. 19. 12.]\n",
      "dtype: float64\n",
      "Num of nan: 571\n"
     ]
    },
    {
     "data": {
      "text/html": [
       "<div>\n",
       "<style scoped>\n",
       "    .dataframe tbody tr th:only-of-type {\n",
       "        vertical-align: middle;\n",
       "    }\n",
       "\n",
       "    .dataframe tbody tr th {\n",
       "        vertical-align: top;\n",
       "    }\n",
       "\n",
       "    .dataframe thead th {\n",
       "        text-align: right;\n",
       "    }\n",
       "</style>\n",
       "<table border=\"1\" class=\"dataframe\">\n",
       "  <thead>\n",
       "    <tr style=\"text-align: right;\">\n",
       "      <th></th>\n",
       "      <th>code_number</th>\n",
       "      <th>meaning</th>\n",
       "    </tr>\n",
       "  </thead>\n",
       "  <tbody>\n",
       "    <tr>\n",
       "      <th>0</th>\n",
       "      <td>1</td>\n",
       "      <td>Discharged to home</td>\n",
       "    </tr>\n",
       "    <tr>\n",
       "      <th>1</th>\n",
       "      <td>2</td>\n",
       "      <td>Discharged/transferred to another short term h...</td>\n",
       "    </tr>\n",
       "    <tr>\n",
       "      <th>2</th>\n",
       "      <td>3</td>\n",
       "      <td>Discharged/transferred to SNF</td>\n",
       "    </tr>\n",
       "    <tr>\n",
       "      <th>3</th>\n",
       "      <td>4</td>\n",
       "      <td>Discharged/transferred to ICF</td>\n",
       "    </tr>\n",
       "    <tr>\n",
       "      <th>4</th>\n",
       "      <td>5</td>\n",
       "      <td>Discharged/transferred to another type of inpa...</td>\n",
       "    </tr>\n",
       "    <tr>\n",
       "      <th>5</th>\n",
       "      <td>6</td>\n",
       "      <td>Discharged/transferred to home with home healt...</td>\n",
       "    </tr>\n",
       "    <tr>\n",
       "      <th>6</th>\n",
       "      <td>7</td>\n",
       "      <td>Left AMA</td>\n",
       "    </tr>\n",
       "    <tr>\n",
       "      <th>7</th>\n",
       "      <td>8</td>\n",
       "      <td>Discharged/transferred to home under care of H...</td>\n",
       "    </tr>\n",
       "    <tr>\n",
       "      <th>8</th>\n",
       "      <td>9</td>\n",
       "      <td>Admitted as an inpatient to this hospital</td>\n",
       "    </tr>\n",
       "    <tr>\n",
       "      <th>9</th>\n",
       "      <td>10</td>\n",
       "      <td>Neonate discharged to another hospital for neo...</td>\n",
       "    </tr>\n",
       "    <tr>\n",
       "      <th>10</th>\n",
       "      <td>11</td>\n",
       "      <td>Expired</td>\n",
       "    </tr>\n",
       "    <tr>\n",
       "      <th>11</th>\n",
       "      <td>12</td>\n",
       "      <td>Still patient or expected to return for outpat...</td>\n",
       "    </tr>\n",
       "    <tr>\n",
       "      <th>12</th>\n",
       "      <td>13</td>\n",
       "      <td>Hospice / home</td>\n",
       "    </tr>\n",
       "    <tr>\n",
       "      <th>13</th>\n",
       "      <td>14</td>\n",
       "      <td>Hospice / medical facility</td>\n",
       "    </tr>\n",
       "    <tr>\n",
       "      <th>14</th>\n",
       "      <td>15</td>\n",
       "      <td>Discharged/transferred within this institution...</td>\n",
       "    </tr>\n",
       "    <tr>\n",
       "      <th>15</th>\n",
       "      <td>16</td>\n",
       "      <td>Discharged/transferred/referred another instit...</td>\n",
       "    </tr>\n",
       "    <tr>\n",
       "      <th>16</th>\n",
       "      <td>17</td>\n",
       "      <td>Discharged/transferred/referred to this instit...</td>\n",
       "    </tr>\n",
       "    <tr>\n",
       "      <th>17</th>\n",
       "      <td>18</td>\n",
       "      <td>NULL</td>\n",
       "    </tr>\n",
       "    <tr>\n",
       "      <th>18</th>\n",
       "      <td>19</td>\n",
       "      <td>\"Expired at home. Medicaid only:  hospice.\"</td>\n",
       "    </tr>\n",
       "    <tr>\n",
       "      <th>19</th>\n",
       "      <td>20</td>\n",
       "      <td>\"Expired in a medical facility. Medicaid only:...</td>\n",
       "    </tr>\n",
       "    <tr>\n",
       "      <th>20</th>\n",
       "      <td>21</td>\n",
       "      <td>\"Expired:  place unknown. Medicaid only:  hosp...</td>\n",
       "    </tr>\n",
       "    <tr>\n",
       "      <th>21</th>\n",
       "      <td>22</td>\n",
       "      <td>Discharged/transferred to another rehab fac in...</td>\n",
       "    </tr>\n",
       "    <tr>\n",
       "      <th>22</th>\n",
       "      <td>23</td>\n",
       "      <td>Discharged/transferred to a long term care hos...</td>\n",
       "    </tr>\n",
       "    <tr>\n",
       "      <th>23</th>\n",
       "      <td>24</td>\n",
       "      <td>Discharged/transferred to a nursing facility c...</td>\n",
       "    </tr>\n",
       "    <tr>\n",
       "      <th>24</th>\n",
       "      <td>25</td>\n",
       "      <td>Not Mapped</td>\n",
       "    </tr>\n",
       "    <tr>\n",
       "      <th>25</th>\n",
       "      <td>26</td>\n",
       "      <td>Unknown/Invalid</td>\n",
       "    </tr>\n",
       "    <tr>\n",
       "      <th>26</th>\n",
       "      <td>30</td>\n",
       "      <td>Discharged/transferred to another Type of Heal...</td>\n",
       "    </tr>\n",
       "    <tr>\n",
       "      <th>27</th>\n",
       "      <td>27</td>\n",
       "      <td>Discharged/transferred to a federal health car...</td>\n",
       "    </tr>\n",
       "    <tr>\n",
       "      <th>28</th>\n",
       "      <td>28</td>\n",
       "      <td>Discharged/transferred/referred to a psychiatr...</td>\n",
       "    </tr>\n",
       "    <tr>\n",
       "      <th>29</th>\n",
       "      <td>29</td>\n",
       "      <td>Discharged/transferred to a Critical Access Ho...</td>\n",
       "    </tr>\n",
       "  </tbody>\n",
       "</table>\n",
       "</div>"
      ],
      "text/plain": [
       "   code_number                                            meaning\n",
       "0            1                                 Discharged to home\n",
       "1            2  Discharged/transferred to another short term h...\n",
       "2            3                      Discharged/transferred to SNF\n",
       "3            4                      Discharged/transferred to ICF\n",
       "4            5  Discharged/transferred to another type of inpa...\n",
       "5            6  Discharged/transferred to home with home healt...\n",
       "6            7                                           Left AMA\n",
       "7            8  Discharged/transferred to home under care of H...\n",
       "8            9          Admitted as an inpatient to this hospital\n",
       "9           10  Neonate discharged to another hospital for neo...\n",
       "10          11                                            Expired\n",
       "11          12  Still patient or expected to return for outpat...\n",
       "12          13                                     Hospice / home\n",
       "13          14                         Hospice / medical facility\n",
       "14          15  Discharged/transferred within this institution...\n",
       "15          16  Discharged/transferred/referred another instit...\n",
       "16          17  Discharged/transferred/referred to this instit...\n",
       "17          18                                               NULL\n",
       "18          19        \"Expired at home. Medicaid only:  hospice.\"\n",
       "19          20  \"Expired in a medical facility. Medicaid only:...\n",
       "20          21  \"Expired:  place unknown. Medicaid only:  hosp...\n",
       "21          22  Discharged/transferred to another rehab fac in...\n",
       "22          23  Discharged/transferred to a long term care hos...\n",
       "23          24  Discharged/transferred to a nursing facility c...\n",
       "24          25                                         Not Mapped\n",
       "25          26                                    Unknown/Invalid\n",
       "26          30  Discharged/transferred to another Type of Heal...\n",
       "27          27  Discharged/transferred to a federal health car...\n",
       "28          28  Discharged/transferred/referred to a psychiatr...\n",
       "29          29  Discharged/transferred to a Critical Access Ho..."
      ]
     },
     "execution_count": 211,
     "metadata": {},
     "output_type": "execute_result"
    }
   ],
   "source": [
    "## discharge_disposition_code \n",
    "check_column(data, \"discharge_disposition_code\")\n",
    "\n",
    "codes = data_dictionary[data_dictionary[\"Variable name\"]==\"discharge_disposition_code\"].Codes.values[0].split(\"\\r\\n\")\n",
    "discharge_disposition_code_df = pd.DataFrame([code.split(\": \", maxsplit=1) for code in codes], columns=[\"code_number\", \"meaning\"])\n",
    "discharge_disposition_code_df \n"
   ]
  },
  {
   "cell_type": "code",
   "execution_count": 212,
   "id": "9ebd7833",
   "metadata": {},
   "outputs": [
    {
     "name": "stdout",
     "output_type": "stream",
     "text": [
      "Feature: discharge_disposition_code\n",
      "Unique values: ['1.0' '22.0' '3.0' '11.0' 'nan' '4.0' '6.0' '14.0' '2.0' '23.0' '5.0'\n",
      " '13.0' '15.0' '7.0' '16.0' '24.0' '28.0' '8.0' '9.0' '27.0' '17.0' '10.0'\n",
      " '19.0' '12.0']\n",
      "dtype: object\n",
      "Num of nan: 0\n"
     ]
    }
   ],
   "source": [
    "data.discharge_disposition_code = data.discharge_disposition_code.replace([18., 25., 26.], np.nan)\n",
    "data.discharge_disposition_code = data.discharge_disposition_code.astype(str)\n",
    "\n",
    "check_column(data, \"discharge_disposition_code\")\n"
   ]
  },
  {
   "cell_type": "code",
   "execution_count": 213,
   "id": "7bf0c417",
   "metadata": {},
   "outputs": [
    {
     "name": "stdout",
     "output_type": "stream",
     "text": [
      "Feature: admission_source_code\n",
      "Unique values: [ 1  7 17  2  4  6  9  5  3 20 13 22 14  8 10 11 25]\n",
      "dtype: int64\n",
      "Num of nan: 0\n"
     ]
    },
    {
     "data": {
      "text/html": [
       "<div>\n",
       "<style scoped>\n",
       "    .dataframe tbody tr th:only-of-type {\n",
       "        vertical-align: middle;\n",
       "    }\n",
       "\n",
       "    .dataframe tbody tr th {\n",
       "        vertical-align: top;\n",
       "    }\n",
       "\n",
       "    .dataframe thead th {\n",
       "        text-align: right;\n",
       "    }\n",
       "</style>\n",
       "<table border=\"1\" class=\"dataframe\">\n",
       "  <thead>\n",
       "    <tr style=\"text-align: right;\">\n",
       "      <th></th>\n",
       "      <th>code_number</th>\n",
       "      <th>meaning</th>\n",
       "    </tr>\n",
       "  </thead>\n",
       "  <tbody>\n",
       "    <tr>\n",
       "      <th>0</th>\n",
       "      <td>1</td>\n",
       "      <td>Physician Referral</td>\n",
       "    </tr>\n",
       "    <tr>\n",
       "      <th>1</th>\n",
       "      <td>2</td>\n",
       "      <td>Clinic Referral</td>\n",
       "    </tr>\n",
       "    <tr>\n",
       "      <th>2</th>\n",
       "      <td>3</td>\n",
       "      <td>HMO Referral</td>\n",
       "    </tr>\n",
       "    <tr>\n",
       "      <th>3</th>\n",
       "      <td>4</td>\n",
       "      <td>Transfer from a hospital</td>\n",
       "    </tr>\n",
       "    <tr>\n",
       "      <th>4</th>\n",
       "      <td>5</td>\n",
       "      <td>Transfer from a Skilled Nursing Facility (SNF)</td>\n",
       "    </tr>\n",
       "    <tr>\n",
       "      <th>5</th>\n",
       "      <td>6</td>\n",
       "      <td>Transfer from another health care facility</td>\n",
       "    </tr>\n",
       "    <tr>\n",
       "      <th>6</th>\n",
       "      <td>7</td>\n",
       "      <td>Emergency Room</td>\n",
       "    </tr>\n",
       "    <tr>\n",
       "      <th>7</th>\n",
       "      <td>8</td>\n",
       "      <td>Court/Law Enforcement</td>\n",
       "    </tr>\n",
       "    <tr>\n",
       "      <th>8</th>\n",
       "      <td>9</td>\n",
       "      <td>Not Available</td>\n",
       "    </tr>\n",
       "    <tr>\n",
       "      <th>9</th>\n",
       "      <td>10</td>\n",
       "      <td>Transfer from critial access hospital</td>\n",
       "    </tr>\n",
       "    <tr>\n",
       "      <th>10</th>\n",
       "      <td>11</td>\n",
       "      <td>Normal Delivery</td>\n",
       "    </tr>\n",
       "    <tr>\n",
       "      <th>11</th>\n",
       "      <td>12</td>\n",
       "      <td>Premature Delivery</td>\n",
       "    </tr>\n",
       "    <tr>\n",
       "      <th>12</th>\n",
       "      <td>13</td>\n",
       "      <td>Sick Baby</td>\n",
       "    </tr>\n",
       "    <tr>\n",
       "      <th>13</th>\n",
       "      <td>14</td>\n",
       "      <td>Extramural Birth</td>\n",
       "    </tr>\n",
       "    <tr>\n",
       "      <th>14</th>\n",
       "      <td>15</td>\n",
       "      <td>Not Available</td>\n",
       "    </tr>\n",
       "    <tr>\n",
       "      <th>15</th>\n",
       "      <td>17</td>\n",
       "      <td>NULL</td>\n",
       "    </tr>\n",
       "    <tr>\n",
       "      <th>16</th>\n",
       "      <td>18</td>\n",
       "      <td>Transfer From Another Home Health Agency</td>\n",
       "    </tr>\n",
       "    <tr>\n",
       "      <th>17</th>\n",
       "      <td>19</td>\n",
       "      <td>Readmission to Same Home Health Agency</td>\n",
       "    </tr>\n",
       "    <tr>\n",
       "      <th>18</th>\n",
       "      <td>20</td>\n",
       "      <td>Not Mapped</td>\n",
       "    </tr>\n",
       "    <tr>\n",
       "      <th>19</th>\n",
       "      <td>21</td>\n",
       "      <td>Unknown/Invalid</td>\n",
       "    </tr>\n",
       "    <tr>\n",
       "      <th>20</th>\n",
       "      <td>22</td>\n",
       "      <td>Transfer from hospital inpt/same fac reslt in ...</td>\n",
       "    </tr>\n",
       "    <tr>\n",
       "      <th>21</th>\n",
       "      <td>23</td>\n",
       "      <td>Born inside this hospital</td>\n",
       "    </tr>\n",
       "    <tr>\n",
       "      <th>22</th>\n",
       "      <td>24</td>\n",
       "      <td>Born outside this hospital</td>\n",
       "    </tr>\n",
       "    <tr>\n",
       "      <th>23</th>\n",
       "      <td>25</td>\n",
       "      <td>Transfer from Ambulatory Surgery Center</td>\n",
       "    </tr>\n",
       "    <tr>\n",
       "      <th>24</th>\n",
       "      <td>26</td>\n",
       "      <td>Transfer from Hospice</td>\n",
       "    </tr>\n",
       "  </tbody>\n",
       "</table>\n",
       "</div>"
      ],
      "text/plain": [
       "   code_number                                            meaning\n",
       "0            1                                 Physician Referral\n",
       "1            2                                    Clinic Referral\n",
       "2            3                                       HMO Referral\n",
       "3            4                           Transfer from a hospital\n",
       "4            5     Transfer from a Skilled Nursing Facility (SNF)\n",
       "5            6         Transfer from another health care facility\n",
       "6            7                                     Emergency Room\n",
       "7            8                              Court/Law Enforcement\n",
       "8            9                                      Not Available\n",
       "9           10              Transfer from critial access hospital\n",
       "10          11                                    Normal Delivery\n",
       "11          12                                 Premature Delivery\n",
       "12          13                                          Sick Baby\n",
       "13          14                                   Extramural Birth\n",
       "14          15                                      Not Available\n",
       "15          17                                               NULL\n",
       "16          18           Transfer From Another Home Health Agency\n",
       "17          19             Readmission to Same Home Health Agency\n",
       "18          20                                         Not Mapped\n",
       "19          21                                    Unknown/Invalid\n",
       "20          22  Transfer from hospital inpt/same fac reslt in ...\n",
       "21          23                          Born inside this hospital\n",
       "22          24                         Born outside this hospital\n",
       "23          25            Transfer from Ambulatory Surgery Center\n",
       "24          26                              Transfer from Hospice"
      ]
     },
     "execution_count": 213,
     "metadata": {},
     "output_type": "execute_result"
    }
   ],
   "source": [
    "#admission_source_code\n",
    "check_column(data, \"admission_source_code\")\n",
    "codes = data_dictionary[data_dictionary[\"Variable name\"]==\"admission_source_code\"].Codes.values[0].split(\"\\n\")\n",
    "admission_source_code_df = pd.DataFrame([code.split(\": \", maxsplit=1) for code in codes], columns=[\"code_number\", \"meaning\"])\n",
    "admission_source_code_df\n"
   ]
  },
  {
   "cell_type": "code",
   "execution_count": 214,
   "id": "9a38b7b9",
   "metadata": {},
   "outputs": [
    {
     "name": "stdout",
     "output_type": "stream",
     "text": [
      "Feature: admission_source_code\n",
      "Unique values: [ 1  7 17  2  4  6  9  5  3 20 13 22 14  8 10 11 25]\n",
      "dtype: int64\n",
      "Num of nan: 0\n",
      "Feature: admission_source_code\n",
      "Unique values: ['1.0' '7.0' 'nan' '2.0' '4.0' '6.0' '5.0' '3.0' '13.0' '22.0' '14.0'\n",
      " '8.0' '10.0' '11.0' '25.0']\n",
      "dtype: object\n",
      "Num of nan: 0\n"
     ]
    }
   ],
   "source": [
    "check_column(data, \"admission_source_code\")\n",
    "\n",
    "data.admission_source_code = data.admission_source_code.replace([9, 15, 17, 20, 21], np.nan)\n",
    "data.admission_source_code = data.admission_source_code.astype(str)\n",
    "\n",
    "check_column(data, \"admission_source_code\")"
   ]
  },
  {
   "cell_type": "code",
   "execution_count": 215,
   "id": "79d1de57",
   "metadata": {},
   "outputs": [
    {
     "name": "stdout",
     "output_type": "stream",
     "text": [
      "Feature: time_in_hospital\n",
      "Unique values: [ 1  3  5  2 12  4  6 11  7 10  8  9 14 13]\n",
      "dtype: int64\n",
      "Num of nan: 0\n"
     ]
    }
   ],
   "source": [
    "#time in hospital\n",
    "check_column(data, \"time_in_hospital\")"
   ]
  },
  {
   "cell_type": "code",
   "execution_count": 216,
   "id": "1b6b8a61",
   "metadata": {},
   "outputs": [
    {
     "name": "stdout",
     "output_type": "stream",
     "text": [
      "Feature: payer_code\n",
      "Unique values: [nan 'MC' 'MD' 'HM' 'BC' 'PO' 'SP' 'OG' 'CP' 'CM' 'DM' 'UN' 'SI' 'CH' 'OT'\n",
      " 'WC' 'MP' 'FR']\n",
      "dtype: object\n",
      "Num of nan: 32278\n"
     ]
    }
   ],
   "source": [
    "#payer code\n",
    "check_column(data, \"payer_code\")\n"
   ]
  },
  {
   "cell_type": "code",
   "execution_count": 217,
   "id": "7bdd3b74",
   "metadata": {},
   "outputs": [
    {
     "name": "stdout",
     "output_type": "stream",
     "text": [
      "Feature: medical_specialty\n",
      "Unique values: [nan 'Emergency/Trauma' 'InternalMedicine' 'Family/GeneralPractice'\n",
      " 'Radiologist' 'Orthopedics' 'Cardiology'\n",
      " 'PhysicalMedicineandRehabilitation' 'Orthopedics-Reconstructive'\n",
      " 'Psychiatry' 'Surgery-Thoracic' 'Surgery-Vascular' 'Hematology/Oncology'\n",
      " 'Osteopath' 'ObstetricsandGynecology' 'Pediatrics' 'Nephrology'\n",
      " 'Otolaryngology' 'Urology' 'Surgery-General' 'Anesthesiology-Pediatric'\n",
      " 'Surgery-Cardiovascular/Thoracic' 'Gastroenterology' 'Pulmonology'\n",
      " 'Oncology' 'Podiatry' 'Surgery-Neuro' 'Pediatrics-Endocrinology'\n",
      " 'Neurology' 'Obstetrics' 'Endocrinology' 'PhysicianNotFound'\n",
      " 'Hospitalist' 'Pathology' 'Surgery-Pediatric' 'Radiology'\n",
      " 'Surgery-Plastic' 'Pediatrics-CriticalCare' 'Psychology'\n",
      " 'Psychiatry-Child/Adolescent' 'Ophthalmology' 'Surgery-Cardiovascular'\n",
      " 'Pediatrics-Pulmonology' 'DCPTEAM' 'Obsterics&Gynecology-GynecologicOnco'\n",
      " 'Surgeon' 'Pediatrics-EmergencyMedicine' 'Hematology'\n",
      " 'AllergyandImmunology' 'SurgicalSpecialty' 'OutreachServices'\n",
      " 'Rheumatology' 'Dentistry' 'Gynecology' 'InfectiousDiseases'\n",
      " 'Anesthesiology' 'Surgery-Colon&Rectal' 'Pediatrics-Neurology'\n",
      " 'Perinatology' 'Neurophysiology' 'Psychiatry-Addictive' 'Dermatology'\n",
      " 'Proctology' 'Cardiology-Pediatric' 'Speech' 'Resident'\n",
      " 'Endocrinology-Metabolism' 'Surgery-Maxillofacial'\n",
      " 'Pediatrics-AllergyandImmunology' 'Pediatrics-Hematology-Oncology'\n",
      " 'SportsMedicine']\n",
      "dtype: object\n",
      "Num of nan: 40020\n"
     ]
    }
   ],
   "source": [
    "check_column(data, \"medical_specialty\")\n"
   ]
  },
  {
   "cell_type": "code",
   "execution_count": 218,
   "id": "9679919b",
   "metadata": {},
   "outputs": [
    {
     "name": "stdout",
     "output_type": "stream",
     "text": [
      "Feature: medical_specialty\n",
      "Unique values: [nan 'Emergency/Trauma' 'InternalMedicine' 'Family/GeneralPractice'\n",
      " 'Radiologist' 'Orthopedics' 'Cardiology'\n",
      " 'PhysicalMedicineandRehabilitation' 'Orthopedics-Reconstructive'\n",
      " 'Psychiatry' 'Surgery-Thoracic' 'Surgery-Vascular' 'Hematology/Oncology'\n",
      " 'Osteopath' 'ObstetricsandGynecology' 'Pediatrics' 'Nephrology'\n",
      " 'Otolaryngology' 'Urology' 'Surgery-General' 'Anesthesiology-Pediatric'\n",
      " 'Surgery-Cardiovascular/Thoracic' 'Gastroenterology' 'Pulmonology'\n",
      " 'Oncology' 'Podiatry' 'Surgery-Neuro' 'Pediatrics-Endocrinology'\n",
      " 'Neurology' 'Obstetrics' 'Endocrinology' 'Hospitalist' 'Pathology'\n",
      " 'Surgery-Pediatric' 'Radiology' 'Surgery-Plastic'\n",
      " 'Pediatrics-CriticalCare' 'Psychology' 'Psychiatry-Child/Adolescent'\n",
      " 'Ophthalmology' 'Surgery-Cardiovascular' 'Pediatrics-Pulmonology'\n",
      " 'DCPTEAM' 'Obsterics&Gynecology-GynecologicOnco' 'Surgeon'\n",
      " 'Pediatrics-EmergencyMedicine' 'Hematology' 'AllergyandImmunology'\n",
      " 'SurgicalSpecialty' 'OutreachServices' 'Rheumatology' 'Dentistry'\n",
      " 'Gynecology' 'InfectiousDiseases' 'Anesthesiology' 'Surgery-Colon&Rectal'\n",
      " 'Pediatrics-Neurology' 'Perinatology' 'Neurophysiology'\n",
      " 'Psychiatry-Addictive' 'Dermatology' 'Proctology' 'Cardiology-Pediatric'\n",
      " 'Speech' 'Resident' 'Endocrinology-Metabolism' 'Surgery-Maxillofacial'\n",
      " 'Pediatrics-AllergyandImmunology' 'Pediatrics-Hematology-Oncology'\n",
      " 'SportsMedicine']\n",
      "dtype: object\n",
      "Num of nan: 40030\n"
     ]
    }
   ],
   "source": [
    "\n",
    "data.medical_specialty = data.medical_specialty.replace('PhysicianNotFound', np.nan)\n",
    "\n",
    "check_column(data, \"medical_specialty\")\n"
   ]
  },
  {
   "cell_type": "code",
   "execution_count": 219,
   "id": "a777ba9b",
   "metadata": {},
   "outputs": [
    {
     "name": "stdout",
     "output_type": "stream",
     "text": [
      "Feature: has_prosthesis\n",
      "Unique values: [False  True]\n",
      "dtype: bool\n",
      "Num of nan: 0\n"
     ]
    }
   ],
   "source": [
    "#has_prosthesis\n",
    "check_column(data, \"has_prosthesis\")"
   ]
  },
  {
   "cell_type": "code",
   "execution_count": 220,
   "id": "748560d9",
   "metadata": {},
   "outputs": [
    {
     "name": "stdout",
     "output_type": "stream",
     "text": [
      "Feature: complete_vaccination_status\n",
      "Unique values: ['Complete' 'Incomplete' 'None']\n",
      "dtype: object\n",
      "Num of nan: 0\n"
     ]
    }
   ],
   "source": [
    "#complete_vaccination_status\n",
    "check_column(data, \"complete_vaccination_status\")"
   ]
  },
  {
   "cell_type": "code",
   "execution_count": 221,
   "id": "9e128d21",
   "metadata": {},
   "outputs": [
    {
     "name": "stdout",
     "output_type": "stream",
     "text": [
      "Feature: num_lab_procedures\n",
      "Unique values: [ 24.  50.  43.  58.  56.  14.  62.  18.  36.   5.  59.  38.  34.  48.\n",
      "  25.  29.  51.  39.   3.  49.  68.  52.  66.  19.  79.  63.  57.  27.\n",
      "  77.  53.  44.  41.  46.  80.   1.  nan  54.  47.  42.  23.  61.  71.\n",
      "  73.  72.  28.  81.  69.  17.  16.  45.  64.  70.  22.  11.  65.  13.\n",
      "  35.   2.  60.  37.  88.  15.  20.   7.  21.  55.  32.   9.  75.  40.\n",
      "  26.  93.  12.  67. 101.  10.  96.  31.  92.  76.  33.   4.  74.   8.\n",
      "  94.  30.  86.  90.  91.  98.  83.  84.   6.  85.  78.  87.  89. 100.\n",
      "  82. 106.  97.  95. 114. 102.  99. 105. 109. 111. 104. 132. 108. 103.\n",
      " 118. 113. 126. 121.]\n",
      "dtype: float64\n",
      "Num of nan: 1493\n"
     ]
    }
   ],
   "source": [
    "#num_lab_procedures\n",
    "check_column(data, \"num_lab_procedures\")"
   ]
  },
  {
   "cell_type": "code",
   "execution_count": 222,
   "id": "daac135f",
   "metadata": {},
   "outputs": [
    {
     "name": "stdout",
     "output_type": "stream",
     "text": [
      "Feature: num_procedures\n",
      "Unique values: [3 0 6 5 1 4 2]\n",
      "dtype: int64\n",
      "Num of nan: 0\n"
     ]
    }
   ],
   "source": [
    "#num_procedures\n",
    "check_column(data, \"num_procedures\")"
   ]
  },
  {
   "cell_type": "code",
   "execution_count": 223,
   "id": "afb55286",
   "metadata": {},
   "outputs": [
    {
     "name": "stdout",
     "output_type": "stream",
     "text": [
      "Feature: num_medications\n",
      "Unique values: [ 9.  8. 28. 16. 13. 21. 25. 17. 23. 11. 35.  3. 19. 14. 30. 24. nan 15.\n",
      "  6. 43. 10.  7. 33. 20. 12. 18. 31. 22.  2. 27.  5. 26.  1. 29. 32. 39.\n",
      " 40. 41. 42. 36.  4. 44. 34. 56. 48. 66. 38. 53. 45. 37. 47. 59. 51. 74.\n",
      " 52. 49. 60. 58. 62. 46. 57. 63. 50. 54. 69. 55. 64. 67. 65. 68. 61. 81.\n",
      " 70. 75.]\n",
      "dtype: float64\n",
      "Num of nan: 2678\n"
     ]
    }
   ],
   "source": [
    "#num_medications\n",
    "check_column(data, \"num_medications\")"
   ]
  },
  {
   "cell_type": "code",
   "execution_count": 224,
   "id": "8854df94",
   "metadata": {},
   "outputs": [
    {
     "name": "stdout",
     "output_type": "stream",
     "text": [
      "Feature: number_outpatient\n",
      "Unique values: [ 0  1  3  4  2 10  5  7  6  8 16  9 14 12 13 15 11 22 29 24 27 18 38 37\n",
      " 20 33 17 34 26 36 19 21 39 25 42 23 40 35 28]\n",
      "dtype: int64\n",
      "Num of nan: 0\n"
     ]
    }
   ],
   "source": [
    "#number_outpatient\n",
    "check_column(data, \"number_outpatient\")"
   ]
  },
  {
   "cell_type": "code",
   "execution_count": 225,
   "id": "5dbe2c97",
   "metadata": {},
   "outputs": [
    {
     "name": "stdout",
     "output_type": "stream",
     "text": [
      "Feature: number_emergency\n",
      "Unique values: [ 0  1  3  6  4  2  5 10 12 13  7 46  8  9 11 22 19 21 25 42 24 18 20 29\n",
      " 16 28 14 15 64]\n",
      "dtype: int64\n",
      "Num of nan: 0\n"
     ]
    }
   ],
   "source": [
    "#number_emergency\n",
    "check_column(data, \"number_emergency\")"
   ]
  },
  {
   "cell_type": "code",
   "execution_count": 226,
   "id": "2f1e7f55",
   "metadata": {},
   "outputs": [
    {
     "name": "stdout",
     "output_type": "stream",
     "text": [
      "Feature: number_inpatient\n",
      "Unique values: [ 0  1  2  3  9  4  5 15  6  7  8 16 12 10 14 11 19 13 18 21 17]\n",
      "dtype: int64\n",
      "Num of nan: 0\n"
     ]
    }
   ],
   "source": [
    "#number_inpatient\n",
    "check_column(data, \"number_inpatient\")"
   ]
  },
  {
   "cell_type": "code",
   "execution_count": 227,
   "id": "04cd74c6",
   "metadata": {},
   "outputs": [
    {
     "name": "stdout",
     "output_type": "stream",
     "text": [
      "Feature: diag_1\n",
      "Unique values: ['721' '276' '414' '577' '531' '578' '482' 'V57' '250.8' '433' '428' '996'\n",
      " '518' '287' '250.83' '653' '786' '413' '733' '427' '198' '53' '584' '575'\n",
      " '274' '824' '250.02' '599' '250.6' '401' '852' '491' '780' '486' '403'\n",
      " '728' '440' '574' '789' '682' '532' '250.2' '434' '466' '296' '995' '557'\n",
      " '715' '823' '590' '426' '410' '431' '250.12' '997' '189' '404' '487'\n",
      " '458' '783' '535' '435' '618' '822' '641' '402' '681' '38' '799' '295'\n",
      " '292' '850' '197' '493' '453' '250.11' '250' '241' '558' '820' '411'\n",
      " '437' '813' '250.7' '724' '157' '722' '185' '567' '507' '226' '998' '151'\n",
      " '188' '278' '235' '415' '441' '560' '182' '576' '153' '659' '250.13'\n",
      " '790' '795' '377' '600' '625' '8' '444' '781' '244' '218' '821' '515'\n",
      " '516' '707' '572' '562' '965' '648' '294' '233' '785' '355' '285'\n",
      " '250.82' '555' '924' 'V58' '581' '255' 'V71' '110' 'V55' '540' '162'\n",
      " '424' '54' '552' '644' '496' '530' 'V54' '796' '602' '31' '288' '398'\n",
      " '348' '608' '787' '250.81' '564' '279' '275' '331' '537' '569' '596'\n",
      " '432' '738' '922' '220' '303' '805' '871' '645' '526' '592' '300' '323'\n",
      " '250.03' '289' '511' '730' '654' '280' '250.4' '784' '825' '860' '807'\n",
      " '291' '553' '475' '808' '250.9' '459' '838' '626' '962' '660' '861' '277'\n",
      " '680' '429' '250.22' '443' '536' '310' 'V53' '528' '191' '230' '455'\n",
      " '723' '816' '867' '436' '284' '490' '253' '999' '423' '286' '112' '812'\n",
      " '438' '251' '203' '250.41' '593' '79' '935' '307' '386' '290' '522' '992'\n",
      " '835' '357' '658' '456' '368' '211' '202' '447' '714' '425' '729' '298'\n",
      " '873' '345' '250.1' '282' '983' '481' '782' '174' '725' '304' '571' '512'\n",
      " '311' '704' '556' '172' '642' '966' '719' '346' '483' '9' '601' '193'\n",
      " '442' '183' '595' '921' '710' '566' '646' '242' '451' '586' '155' '990'\n",
      " '446' '333' '227' '146' '201' '934' '380' '494' '430' '647' '340' '585'\n",
      " '293' '394' '485' '969' '196' '854' '917' '175' '135' '958' '225' '727'\n",
      " '550' '716' '510' '163' '421' '416' '312' '513' '473' '794' '533' '396'\n",
      " '341' '283' '150' '376' '492' '250.53' '598' '840' '967' '736' '210'\n",
      " '297' '616' '847' '972' '737' '977' '205' '726' '621' '338' '88' '870'\n",
      " '250.21' '342' '250.92' '184' '573' '534' '194' '154' '250.23' '237'\n",
      " '711' '661' '70' '250.42' '746' '5' '751' '250.93' '47' '250.01' '881'\n",
      " '747' '141' '890' '464' '327' '664' '383' '420' '685' '325' '463' '683'\n",
      " '272' '793' '143' '349' '465' '942' '462' '620' '551' '851' '199' '42'\n",
      " 'V56' 'V63' '238' '568' '611' '968' '382' '250.3' '971' '152' '480' '378'\n",
      " '457' '514' '66' '324' '478' '588' '204' '868' '332' '959' '708' '308'\n",
      " '239' '756' '665' '527' '655' '891' '706' '250.31' '461' '78' '970' '614'\n",
      " '358' '250.43' '674' '623' '788' '388' '848' '885' '215' '171' '801'\n",
      " '335' '187' '519' '652' '306' '309' '802' '271' '261' '337' '305' '964'\n",
      " '826' '886' '604' '565' '350' '369' '173' '627' '541' '445' '619' '735'\n",
      " '622' '844' '693' '803' '365' '252' '353' '11' '351' '52' '250.33' '643'\n",
      " '656' '495' '320' '914' '831' '955' '800' '945' '928' '281' '617' '853'\n",
      " '359' '745' '246' '920' '987' '263' '933' '200' '228' '696' '911' '973'\n",
      " 'V07' '882' '117' '916' '836' '156' '695' '356' '657' '883' '3' '603'\n",
      " '846' '864' '179' '832' 'V26' '273' '208' '379' nan '521' '250.32' '718'\n",
      " '720' '23' '192' '454' '591' '149' '374' '897' '792' '594' '195' '936'\n",
      " '94' '582' '815' '686' '845' '810' '991' '158' '529' '694' '791' '865'\n",
      " '214' '422' '892' '957' '216' '397' '180' '164' '952' '362' '7' '610'\n",
      " '843' '142' '878' '266' '58' '580' '133' '524' '759' '506' '35' '893'\n",
      " '375' '395' '41' '48' '360' '212' '250.91' '663' 'V51' '452' '607' '542'\n",
      " '615' '354' 'V45' '570' '579' '980' '913' '370' '207' '717' '963' '880'\n",
      " 'E909' '698' '692' '989' '405' '501' '753' '262' 'V43' '82' '363' '814'\n",
      " 'V70' '223' '10' '229' '161' '361' '250.5' '301' '583' '336' '941' '39'\n",
      " '975' '344' '709' '671' '863' '136' '817' 'V25' 'V60' '219' '919' '633'\n",
      " '842' '879' '470' '732' '508' '923' '669' '160' '217' '34' '170' '381'\n",
      " '632' '27' '827' '797' '862' '700' '250.51' '250.52' '994' '705' '412'\n",
      " '389' '352' '322' '866' '944' '634' '986' '417' '236' '245' '904' '837'\n",
      " '448' '734' '690' '834' '474' '148' '347' '240' '833' '115' '471' '366'\n",
      " 'V67' '806' '334' '906' '988' '97' '523' '915' '131' '57' '640' '36'\n",
      " '637' '145' '49' '703' '372' '75' '384' '373' '649' '84' '500' 'V66'\n",
      " '147' '875' '731' '982' '974' '804' '299' '318']\n",
      "dtype: object\n",
      "Num of nan: 16\n"
     ]
    }
   ],
   "source": [
    "#diag_1\n",
    "check_column(data, \"diag_1\")"
   ]
  },
  {
   "cell_type": "code",
   "execution_count": 228,
   "id": "9c9eb869",
   "metadata": {},
   "outputs": [
    {
     "name": "stdout",
     "output_type": "stream",
     "text": [
      "Feature: diag_2\n",
      "Unique values: ['250.6' '507' '490' '585' '532' '280' '428' '438' '682' '362' '427' '38'\n",
      " '496' '250' '593' '648' '584' '250.82' '805' '276' '410' '486' '434'\n",
      " '997' '581' '285' '780' '403' '707' '414' nan '518' '424' '425' 'V10'\n",
      " '789' '250.01' '250.02' '288' '250.5' '401' '493' '820' '333' '41' '112'\n",
      " '304' '492' '411' '348' '402' '781' '197' 'V58' '250.03' '94' '576' '530'\n",
      " '536' '491' '565' '599' '250.92' '250.81' '437' '788' '202' '998' '290'\n",
      " '578' '250.41' '150' '758' 'V85' '466' '340' '287' '786' '162' '569'\n",
      " '799' '174' '453' '722' 'V45' '250.52' '996' '272' '516' '331' '577'\n",
      " '426' '574' '654' '295' '785' '70' '435' '790' '413' '558' '728' '591'\n",
      " '185' '571' '215' '198' '296' '443' '394' '263' '250.11' '415' '617'\n",
      " '861' '294' '204' '357' '729' '465' '171' '440' '250.4' '515' '436'\n",
      " '250.7' '8' '278' '511' 'V43' '730' '562' '710' '731' '305' '601' '300'\n",
      " '382' '250.51' '283' '642' '681' '404' '596' '289' '999' '733' '567'\n",
      " '255' '724' '560' 'V15' '444' '808' 'E849' '600' '784' '782' '349' 'E939'\n",
      " '242' '293' '913' '721' 'V42' '250.53' 'V12' '303' '203' '250.93' '482'\n",
      " 'V64' '481' 'E885' '625' 'E932' '458' '590' '823' '299' '200' '595' '196'\n",
      " '568' '455' '842' '433' '446' '736' 'V49' '718' '592' '459' 'E829' '853'\n",
      " '155' '750' '275' 'E879' '277' '575' 'V70' '396' '189' '694' '250.13'\n",
      " 'E878' '154' 'V62' 'E888' '646' '535' '153' '787' '282' 'V23' '286' '909'\n",
      " '244' '261' '523' '556' '995' 'E935' '821' '342' '250.83' '741' '873'\n",
      " '564' 'V17' '860' '250.8' '327' '386' '429' '865' '241' '398' '920' '714'\n",
      " '281' '317' '117' '416' '933' '500' '397' '756' '421' 'V54' '513' 'E928'\n",
      " '626' '284' '794' '452' '79' 'E880' '356' '506' '711' '727' '218' '456'\n",
      " '332' '557' '611' '552' 'E947' '250.42' '644' 'E950' 'E916' '572' '850'\n",
      " '620' '715' '309' '42' '934' '135' '291' '517' '292' '723' '531' 'V65'\n",
      " '719' '412' '747' 'V63' '191' '211' '586' '233' '250.12' '157' '807'\n",
      " '344' '473' '441' '354' '442' '188' '368' '274' '451' '614' '462' '972'\n",
      " '311' '336' 'E917' '519' '262' '337' '759' '483' '845' '322' '746' '260'\n",
      " '324' '251' 'E942' '792' '253' '680' '250.23' '78' '472' '619' '312'\n",
      " '980' '826' '494' 'V02' '369' '910' 'E936' '258' '573' '338' '812' '512'\n",
      " '852' '420' '478' '250.22' '958' '239' '691' '252' '138' '151' '607'\n",
      " '301' '867' '238' '40' 'E944' '376' '905' '447' '894' '250.91' '34' '822'\n",
      " '652' 'E858' '716' '663' '566' '696' '345' '53' '701' '320' '183' '514'\n",
      " 'V46' '824' '553' 'V55' '738' 'V72' '110' '684' '240' 'E931' '343' '373'\n",
      " '346' '273' '217' '508' '813' '487' '205' '893' '882' 'V18' '693' '214'\n",
      " '816' '510' '358' '484' '335' '608' '851' '892' '123' '621' '279' '840'\n",
      " 'E853' '618' '627' '709' '136' '726' '250.43' '480' '847' '603' '706'\n",
      " '695' '945' '919' '431' '802' '537' '883' '801' '881' '201' '389' '969'\n",
      " '528' '319' '454' '866' '314' 'E884' '208' '250.1' '227' '753' '579'\n",
      " 'V44' 'E812' '616' '570' '921' '430' '862' '800' '884' '879' '924' '298'\n",
      " '256' '423' '745' 'V16' 'E915' '602' '250.9' '377' '524' '533' '923'\n",
      " '395' '359' '432' 'V66' 'E819' '250.3' '485' 'E927' '180' '641' '156'\n",
      " '54' '88' '246' '378' '952' '555' '7' '783' '868' '737' 'V09' '649'\n",
      " 'E933' '836' '152' '698' '623' '916' '959' '967' '717' '141' '173' '379'\n",
      " '594' '131' '9' '307' '365' '460' '837' 'E906' '463' '975' '225' '583'\n",
      " '323' 'E814' '366' '604' '250.2' '115' '380' 'V14' '495' '527' 'E870'\n",
      " '310' '796' '543' '457' '647' 'E881' '645' '704' '550' '31' 'E882' '588'\n",
      " '250.32' '422' '864' '825' '193' '911' '501' '172' '659' '308' '656'\n",
      " '692' '713' '815' '114' '922' 'V08' '374' '199' 'E941' '540' '674' '542'\n",
      " '341' '96' 'V61' '35' '11' '163' '259' 'E934' '266' '521' '891' 'V11'\n",
      " '814' '351' '872' '372' '869' '833' '832' '791' '965' '522' 'E924' 'V57'\n",
      " '232' '179' '725' '461' '634' '245' '352' '220' '405' '942' 'E821' '475'\n",
      " 'V69' 'E883' '686' 'E937' '863' '192' '75' '793' '27' '870' '360' '871'\n",
      " '250.33' '810' 'V03' '843' '383' '520' 'V86' 'E930' '948' '388' '742'\n",
      " '195' 'V53' '316' '534' 'E817' '448' '381' 'E813' '474' '269' '350' '795'\n",
      " '685' '297' '355' '991' '907' 'E816' '844' '712' '665' '974' '610' '990'\n",
      " '140' '268' 'E887' '318' '994' '250.21' 'E945' 'E905' '661' '989' '5'\n",
      " '944' '703' '918' '464' '705' 'E980' '302' '353' '831' '598' '226' '754'\n",
      " '66' '962' '658' '186' '664' '977' '228' 'V13' '683' '306' 'V60' '235'\n",
      " '130' '908' '806' '250.31' '734' '906' 'E818' 'E854' '751' '987' 'E918'\n",
      " '111' 'E850' '702' 'E826' 'E968' '364' '968' '477' '622' '325' '52'\n",
      " 'E919' '223' '145' '347' '880' '270' '947' '46' '182' 'E890' '953' '470'\n",
      " '915' '164' '755' 'E929' '797' '992']\n",
      "dtype: object\n",
      "Num of nan: 1620\n"
     ]
    }
   ],
   "source": [
    "#diag_2\n",
    "check_column(data, \"diag_2\")"
   ]
  },
  {
   "cell_type": "code",
   "execution_count": 229,
   "id": "96d9419f",
   "metadata": {},
   "outputs": [
    {
     "name": "stdout",
     "output_type": "stream",
     "text": [
      "Feature: diag_3\n",
      "Unique values: ['357' '150' '250' '562' '276' '599' '496' '401' '403' '250.01' '428'\n",
      " '427' '997' '404' '799' '518' '805' '112' '413' '204' '780' '250.4' '425'\n",
      " 'E885' '491' 'V43' 'V45' '414' '707' '682' '560' '585' '424' '294' '787'\n",
      " '41' '574' 'V42' '287' '724' '453' '486' '729' '301' '725' 'E947'\n",
      " '250.02' '530' '591' '493' '332' '250.03' '716' '278' '198' 'E880'\n",
      " '250.81' '70' nan '788' '285' '535' '458' '438' '440' '532' '492' '397'\n",
      " '794' '648' '250.41' '730' '368' '998' '577' '433' 'E935' '781' '356'\n",
      " '920' '272' 'V15' '593' '584' '197' '564' 'V10' '459' '731' '244' '510'\n",
      " '527' '785' '737' '721' '569' '250.6' '185' 'V58' '343' '578' '189' '490'\n",
      " '300' '288' '410' '211' '295' '426' '280' '263' '311' '250.8' '789' '702'\n",
      " '162' '411' '690' '592' '710' '558' '646' '312' '924' '305' '412' '415'\n",
      " '616' '255' '250.5' 'V08' '250.7' '536' '275' '583' '436' '586' '342'\n",
      " '511' '571' '553' '291' '483' 'V46' '179' 'V27' '250.42' '784' '261'\n",
      " 'E934' '348' '327' '680' '396' '472' '202' '203' '386' '824' '715'\n",
      " '250.51' '595' '253' '338' 'V12' '681' 'E879' '807' '304' '286' '296'\n",
      " '995' '719' '135' 'V85' '223' '455' '836' '786' '250.12' '434' '728'\n",
      " '733' '581' '482' '340' '38' '218' '309' '701' '783' '250.1' '349' '402'\n",
      " '429' 'E942' 'E888' '437' '996' '284' '600' '132' '94' '250.92' '714'\n",
      " '250.83' '473' '274' '531' '443' '712' '233' '451' '647' '290' '601'\n",
      " '346' '196' '435' '416' '782' '250.52' '515' 'E881' 'E849' '706' '723'\n",
      " '752' '791' '362' '183' '337' 'V49' '242' '625' '8' '659' '250.43' '624'\n",
      " '866' '597' '372' '862' 'E878' '478' '462' '281' '466' '519' '537' '494'\n",
      " '906' '398' '588' '447' 'V54' '441' '611' 'E884' '245' '347' '568' '448'\n",
      " '153' '331' '745' '507' '860' 'V53' '442' '163' '303' '910' '890' '188'\n",
      " '388' 'E932' '252' '790' '293' 'V64' '867' '573' 'V09' '907' '873' '383'\n",
      " '423' '341' '812' '722' '138' '852' '465' '117' '199' '521' '552' '686'\n",
      " '576' '512' 'E936' '726' 'E853' '157' '208' 'E933' '292' '266' '389'\n",
      " '446' '614' '575' '590' '452' '344' '53' '959' 'V63' '711' 'V14' '420'\n",
      " '481' '543' '813' '318' '621' '456' 'V65' '555' '713' '345' '250.82'\n",
      " '696' '582' '457' 'E950' 'E916' '572' '235' '649' '915' '246' '228' '916'\n",
      " '279' '533' '736' '141' '727' '644' '250.53' '567' '380' '205' '808'\n",
      " 'E939' '323' '79' '170' '814' '365.44' '556' '953' '905' '870' '663'\n",
      " '596' 'E930' '626' '273' '598' '333' '514' 'E937' 'V70' '461' '394' '517'\n",
      " '444' 'V60' '709' '369' '174' '664' 'E855' '738' '307' 'V16' '241' '820'\n",
      " '693' '795' '753' '698' '282' 'E819' '705' '298' 'V62' '792' '358' 'V72'\n",
      " '239' '694' '47' 'E816' '238' '834' '136' '42' '751' '642' '620' '845'\n",
      " '854' '958' '704' '250.13' 'V55' 'V18' '623' '840' '154' '250.91' '928'\n",
      " '756' '359' '610' 'E931' '250.93' '430' '319' '882' 'V44' '289' '500'\n",
      " 'E955' '351' '265' '962' '627' '516' '656' '262' '892' 'V66' '454' '658'\n",
      " '570' '883' 'E929' '334' '594' 'V07' 'E887' 'E906' '580' '618' '355'\n",
      " '821' '991' '605' 'V03' '110' '861' 'E904' '310' '734' '796' '250.9'\n",
      " '922' '948' '201' '353' '692' '250.11' '999' '365' '802' '277' 'V61'\n",
      " '801' '501' '923' 'E928' '971' '151' '945' 'E956' '816' '619' 'V13' '579'\n",
      " '256' '604' '718' '810' '617' '260' 'E919' '557' '131' '864' '528' '377'\n",
      " 'V17' '851' '379' '989' '251' '508' 'E917' '250.2' '909' 'E944' '7' '495'\n",
      " '759' '966' '216' '477' '195' '741' '9' '534' '354' '881' '523' '250.22'\n",
      " '54' '182' 'E980' '382' '522' '823' 'E812' '378' '850' '746' 'E850' '969'\n",
      " '844' '825' '376' '848' '283' 'V06' '421' '227' '912' '487' '608' '665'\n",
      " 'E965' '366' '88' '259' '171' 'E883' 'E912' '643' '360' 'E941' '299'\n",
      " '314' '913' '480' '674' '297' 'E927' 'V23' '708' 'E813' '742' '842' '432'\n",
      " 'E858' '317' '735' 'E870' '405' 'V57' '811' '146' '697' '225' '654' '800'\n",
      " '11' '250.3' '335' '186' '315' 'E818' '172' '607' '250.21' 'E905' '361'\n",
      " 'E817' 'V11' '921' '191' '967' 'V86' 'E938' '180' '652' '793' 'E946'\n",
      " '217' '78' '622' '831' '373' '655' '918' '660' '540' '57' '17' '14' 'V22'\n",
      " '695' '853' '919' '158' '566' '391' '214' '240' '868' '747' '173' 'E865'\n",
      " '525' '815' 'E943' '943' '758' '220' '164' '35' '155' '193' '336' '529'\n",
      " '34' '837' '917' 'V02' '5' '934' '470' 'E826' '972' '485' '484' '250.23'\n",
      " '965' 'E894' 'E915' 'E966' '703' '271' '460' '66' '313' '908' '475' '431'\n",
      " '603' '258' '270' '893' 'E901' '417' '653' '847' '350' 'V25' 'E828' '865'\n",
      " '670' 'E892' '385' '838' '685' 'E920' '506' '891' '911' '175' '826' '684'\n",
      " '111' '930' 'E876' '445' '250.31' '139' '200' '75' '387' '720' '550'\n",
      " '602' '717' '942' '308' '542' '872' '879' '152' '841' '797' '822' '661'\n",
      " '935' 'E987' '3' '944' '384' '565' '226' '122' '192' 'E882' 'E922' '306'\n",
      " '956' 'V01' 'E924' '27' '464' '933' '374' '268' '992' 'E949' '641' '671'\n",
      " '156' '744' '370' '243' 'E822' '395' '161' '970' 'E861' '381' '215' '750'\n",
      " '884' '463' '876' '524' '871' '755']\n",
      "dtype: object\n",
      "Num of nan: 1133\n"
     ]
    }
   ],
   "source": [
    "#diag_3\n",
    "check_column(data, \"diag_3\")"
   ]
  },
  {
   "cell_type": "code",
   "execution_count": 230,
   "id": "a0e0e9b8",
   "metadata": {},
   "outputs": [
    {
     "name": "stdout",
     "output_type": "stream",
     "text": [
      "Feature: number_diagnoses\n",
      "Unique values: [ 5  9  6  8  4  7  3  2 13  1 16 11 10 12 14 15]\n",
      "dtype: int64\n",
      "Num of nan: 0\n"
     ]
    }
   ],
   "source": [
    "#number_diagnoses\n",
    "check_column(data, \"number_diagnoses\")"
   ]
  },
  {
   "cell_type": "code",
   "execution_count": 231,
   "id": "5f809c00",
   "metadata": {},
   "outputs": [
    {
     "name": "stdout",
     "output_type": "stream",
     "text": [
      "Feature: blood_type\n",
      "Unique values: ['A+' 'B+' 'O+' 'AB-' 'A-' 'O-' 'AB+' 'B-']\n",
      "dtype: object\n",
      "Num of nan: 0\n"
     ]
    }
   ],
   "source": [
    "#blood_type\n",
    "check_column(data, \"blood_type\")"
   ]
  },
  {
   "cell_type": "code",
   "execution_count": 232,
   "id": "31e86533",
   "metadata": {},
   "outputs": [
    {
     "name": "stdout",
     "output_type": "stream",
     "text": [
      "Feature: hemoglobin_level\n",
      "Unique values: [14.5 15.7 13.  13.5 13.1 14.2 12.9 13.9 13.2 14.7 13.4 16.3 14.9 15.1\n",
      " 14.3 14.6 15.3 14.  12.2 13.8 15.2 13.3 15.  14.1 13.7 14.8 13.6 12.1\n",
      " 14.4 16.2 12.8 15.8 15.6 16.4 15.4 15.5 12.6 16.  12.7 15.9 12.5 16.6\n",
      " 16.5 12.4 12.  16.1 17.3 11.9 16.7 16.8 12.3 17.2 11.8 16.9 11.5 17.\n",
      " 11.7 11.6 11.3 10.8 17.1 11.2 17.8 11.4 17.4 17.5 10.9 11.  18.6 17.7\n",
      " 17.6 18.2 10.5 17.9 11.1 18.1 18. ]\n",
      "dtype: float64\n",
      "Num of nan: 0\n"
     ]
    }
   ],
   "source": [
    "#hemoglobin_level\n",
    "check_column(data, \"hemoglobin_level\")"
   ]
  },
  {
   "cell_type": "code",
   "execution_count": 233,
   "id": "a338e880",
   "metadata": {},
   "outputs": [
    {
     "name": "stdout",
     "output_type": "stream",
     "text": [
      "Feature: blood_transfusion\n",
      "Unique values: [False  True]\n",
      "dtype: bool\n",
      "Num of nan: 0\n"
     ]
    }
   ],
   "source": [
    "#blood_transfusion\n",
    "check_column(data, \"blood_transfusion\")"
   ]
  },
  {
   "cell_type": "code",
   "execution_count": 234,
   "id": "1cc3b393",
   "metadata": {},
   "outputs": [
    {
     "name": "stdout",
     "output_type": "stream",
     "text": [
      "Feature: max_glu_serum\n",
      "Unique values: ['None' 'NONE' '>300' 'NORM' '>200' 'Norm']\n",
      "dtype: object\n",
      "Num of nan: 0\n",
      "Feature: max_glu_serum\n",
      "Unique values: ['None' '>300' 'Norm' '>200']\n",
      "dtype: object\n",
      "Num of nan: 0\n"
     ]
    }
   ],
   "source": [
    "#max_glu_serum\n",
    "check_column(data, \"max_glu_serum\")\n",
    "data.max_glu_serum = data.max_glu_serum.replace(\"NONE\", \"None\")\n",
    "data.max_glu_serum = data.max_glu_serum.replace(\"NORM\", \"Norm\")\n",
    "check_column(data, \"max_glu_serum\")\n",
    "\n"
   ]
  },
  {
   "cell_type": "code",
   "execution_count": 235,
   "id": "0201851a",
   "metadata": {},
   "outputs": [
    {
     "name": "stdout",
     "output_type": "stream",
     "text": [
      "Feature: A1Cresult\n",
      "Unique values: ['None' '>7' '>8' 'Norm']\n",
      "dtype: object\n",
      "Num of nan: 0\n"
     ]
    }
   ],
   "source": [
    "#A1Cresult\n",
    "check_column(data, \"A1Cresult\")"
   ]
  },
  {
   "cell_type": "code",
   "execution_count": 236,
   "id": "28f55183",
   "metadata": {},
   "outputs": [
    {
     "name": "stdout",
     "output_type": "stream",
     "text": [
      "Feature: diuretics\n",
      "Unique values: ['No' 'Yes']\n",
      "dtype: object\n",
      "Num of nan: 0\n"
     ]
    }
   ],
   "source": [
    "#diuretics\n",
    "check_column(data, \"diuretics\")"
   ]
  },
  {
   "cell_type": "code",
   "execution_count": 237,
   "id": "0002fad9",
   "metadata": {},
   "outputs": [
    {
     "name": "stdout",
     "output_type": "stream",
     "text": [
      "Feature: insulin\n",
      "Unique values: ['No' 'Yes']\n",
      "dtype: object\n",
      "Num of nan: 0\n"
     ]
    }
   ],
   "source": [
    "#insulin\n",
    "check_column(data, \"insulin\")"
   ]
  },
  {
   "cell_type": "code",
   "execution_count": 238,
   "id": "730f32c1",
   "metadata": {},
   "outputs": [
    {
     "name": "stdout",
     "output_type": "stream",
     "text": [
      "Feature: change\n",
      "Unique values: ['No' 'Ch']\n",
      "dtype: object\n",
      "Num of nan: 0\n"
     ]
    }
   ],
   "source": [
    "#change\n",
    "check_column(data, \"change\")"
   ]
  },
  {
   "cell_type": "code",
   "execution_count": 239,
   "id": "a01cfad1",
   "metadata": {},
   "outputs": [
    {
     "name": "stdout",
     "output_type": "stream",
     "text": [
      "Feature: diabetesMed\n",
      "Unique values: ['Yes' 'No']\n",
      "dtype: object\n",
      "Num of nan: 0\n"
     ]
    }
   ],
   "source": [
    "#diabetesMed\n",
    "check_column(data, \"diabetesMed\")"
   ]
  },
  {
   "cell_type": "code",
   "execution_count": 240,
   "id": "83271888",
   "metadata": {},
   "outputs": [
    {
     "name": "stdout",
     "output_type": "stream",
     "text": [
      "Feature: readmitted\n",
      "Unique values: ['No' 'Yes']\n",
      "dtype: object\n",
      "Num of nan: 0\n"
     ]
    }
   ],
   "source": [
    "#readmitted\n",
    "check_column(data, \"readmitted\")\n",
    "\n",
    "## change target value to boolean\n",
    "#data.readmitted = data.readmitted.replace([\"Yes\", \"No\"], [True, False])\n",
    "#check_column(data, \"readmitted\")\n"
   ]
  },
  {
   "cell_type": "code",
   "execution_count": null,
   "id": "dbe75c13",
   "metadata": {},
   "outputs": [],
   "source": []
  },
  {
   "cell_type": "code",
   "execution_count": null,
   "id": "5cf1c294",
   "metadata": {},
   "outputs": [],
   "source": []
  },
  {
   "cell_type": "code",
   "execution_count": 131,
   "id": "ff079dfa",
   "metadata": {},
   "outputs": [],
   "source": [
    "problematic_patient_ids_blood_type = []\n",
    "repeated_patient_ids = []\n",
    "for patient in data.patient_id.unique():\n",
    "    data_patient = data[data.patient_id==patient]\n",
    "    if data_patient.shape[0]>1:\n",
    "        repeated_patient_ids.append(patient)\n",
    "        if len(data_patient.blood_type.unique())>1:\n",
    "            #print(patient)\n",
    "            problematic_patient_ids_blood_type.append(patient)"
   ]
  },
  {
   "cell_type": "code",
   "execution_count": 138,
   "id": "5c42a61d",
   "metadata": {},
   "outputs": [
    {
     "data": {
      "text/plain": [
       "0.7950502095358583"
      ]
     },
     "execution_count": 138,
     "metadata": {},
     "output_type": "execute_result"
    }
   ],
   "source": [
    "len(problematic_patient_ids_blood_type)/len(repeated_patient_ids)"
   ]
  },
  {
   "cell_type": "code",
   "execution_count": 137,
   "id": "da37efb6",
   "metadata": {},
   "outputs": [
    {
     "data": {
      "text/html": [
       "<div>\n",
       "<style scoped>\n",
       "    .dataframe tbody tr th:only-of-type {\n",
       "        vertical-align: middle;\n",
       "    }\n",
       "\n",
       "    .dataframe tbody tr th {\n",
       "        vertical-align: top;\n",
       "    }\n",
       "\n",
       "    .dataframe thead th {\n",
       "        text-align: right;\n",
       "    }\n",
       "</style>\n",
       "<table border=\"1\" class=\"dataframe\">\n",
       "  <thead>\n",
       "    <tr style=\"text-align: right;\">\n",
       "      <th></th>\n",
       "      <th>admission_id</th>\n",
       "      <th>patient_id</th>\n",
       "      <th>race</th>\n",
       "      <th>gender</th>\n",
       "      <th>age</th>\n",
       "      <th>weight</th>\n",
       "      <th>admission_type_code</th>\n",
       "      <th>discharge_disposition_code</th>\n",
       "      <th>admission_source_code</th>\n",
       "      <th>time_in_hospital</th>\n",
       "      <th>...</th>\n",
       "      <th>blood_type</th>\n",
       "      <th>hemoglobin_level</th>\n",
       "      <th>blood_transfusion</th>\n",
       "      <th>max_glu_serum</th>\n",
       "      <th>A1Cresult</th>\n",
       "      <th>diuretics</th>\n",
       "      <th>insulin</th>\n",
       "      <th>change</th>\n",
       "      <th>diabetesMed</th>\n",
       "      <th>readmitted</th>\n",
       "    </tr>\n",
       "  </thead>\n",
       "  <tbody>\n",
       "    <tr>\n",
       "      <th>3</th>\n",
       "      <td>3</td>\n",
       "      <td>157495374</td>\n",
       "      <td>African American</td>\n",
       "      <td>Female</td>\n",
       "      <td>[70-80)</td>\n",
       "      <td>NaN</td>\n",
       "      <td>nan</td>\n",
       "      <td>1.0</td>\n",
       "      <td>nan</td>\n",
       "      <td>2</td>\n",
       "      <td>...</td>\n",
       "      <td>AB-</td>\n",
       "      <td>13.5</td>\n",
       "      <td>False</td>\n",
       "      <td>None</td>\n",
       "      <td>&gt;8</td>\n",
       "      <td>No</td>\n",
       "      <td>No</td>\n",
       "      <td>No</td>\n",
       "      <td>Yes</td>\n",
       "      <td>No</td>\n",
       "    </tr>\n",
       "    <tr>\n",
       "      <th>14299</th>\n",
       "      <td>14299</td>\n",
       "      <td>157495374</td>\n",
       "      <td>African American</td>\n",
       "      <td>Female</td>\n",
       "      <td>[70-80)</td>\n",
       "      <td>NaN</td>\n",
       "      <td>nan</td>\n",
       "      <td>1.0</td>\n",
       "      <td>nan</td>\n",
       "      <td>5</td>\n",
       "      <td>...</td>\n",
       "      <td>O-</td>\n",
       "      <td>13.4</td>\n",
       "      <td>False</td>\n",
       "      <td>None</td>\n",
       "      <td>None</td>\n",
       "      <td>No</td>\n",
       "      <td>Yes</td>\n",
       "      <td>Ch</td>\n",
       "      <td>Yes</td>\n",
       "      <td>No</td>\n",
       "    </tr>\n",
       "  </tbody>\n",
       "</table>\n",
       "<p>2 rows × 34 columns</p>\n",
       "</div>"
      ],
      "text/plain": [
       "       admission_id  patient_id              race  gender      age weight  \\\n",
       "3                 3   157495374  African American  Female  [70-80)    NaN   \n",
       "14299         14299   157495374  African American  Female  [70-80)    NaN   \n",
       "\n",
       "      admission_type_code discharge_disposition_code admission_source_code  \\\n",
       "3                     nan                        1.0                   nan   \n",
       "14299                 nan                        1.0                   nan   \n",
       "\n",
       "       time_in_hospital  ... blood_type hemoglobin_level  blood_transfusion  \\\n",
       "3                     2  ...        AB-             13.5              False   \n",
       "14299                 5  ...         O-             13.4              False   \n",
       "\n",
       "      max_glu_serum  A1Cresult  diuretics  insulin  change  diabetesMed  \\\n",
       "3              None         >8         No       No      No          Yes   \n",
       "14299          None       None         No      Yes      Ch          Yes   \n",
       "\n",
       "       readmitted  \n",
       "3              No  \n",
       "14299          No  \n",
       "\n",
       "[2 rows x 34 columns]"
      ]
     },
     "execution_count": 137,
     "metadata": {},
     "output_type": "execute_result"
    }
   ],
   "source": [
    "data[data.patient_id == problematic_patient_ids_blood_type[2]]"
   ]
  },
  {
   "cell_type": "code",
   "execution_count": 133,
   "id": "7aaba1cf",
   "metadata": {},
   "outputs": [
    {
     "data": {
      "text/plain": [
       "12647"
      ]
     },
     "execution_count": 133,
     "metadata": {},
     "output_type": "execute_result"
    }
   ],
   "source": [
    "len(repeated_patient_ids)"
   ]
  },
  {
   "cell_type": "code",
   "execution_count": 176,
   "id": "96864ad3",
   "metadata": {},
   "outputs": [],
   "source": [
    "problematic_patient_ids_race = []\n",
    "problematic_patient_ids_gender = []\n",
    "\n",
    "for patient in repeated_patient_ids:\n",
    "    data_patient = data[data.patient_id==patient]\n",
    "    if data_patient.shape[0]>1:\n",
    "        if len(data_patient.race.dropna().unique())>1:\n",
    "            problematic_patient_ids_race.append(patient)\n",
    "        elif len(data_patient.gender.dropna().unique())>1:\n",
    "            problematic_patient_ids_gender.append(patient)"
   ]
  },
  {
   "cell_type": "code",
   "execution_count": 177,
   "id": "61adfd0b",
   "metadata": {},
   "outputs": [
    {
     "data": {
      "text/plain": [
       "94"
      ]
     },
     "execution_count": 177,
     "metadata": {},
     "output_type": "execute_result"
    }
   ],
   "source": [
    "len(problematic_patient_ids_race)"
   ]
  },
  {
   "cell_type": "code",
   "execution_count": 187,
   "id": "ce36e1c5",
   "metadata": {},
   "outputs": [
    {
     "data": {
      "text/plain": [
       "0.007432592709733533"
      ]
     },
     "execution_count": 187,
     "metadata": {},
     "output_type": "execute_result"
    }
   ],
   "source": [
    "len(problematic_patient_ids_race)/len(repeated_patient_ids)"
   ]
  },
  {
   "cell_type": "code",
   "execution_count": 182,
   "id": "cb6a1e49",
   "metadata": {},
   "outputs": [
    {
     "data": {
      "text/html": [
       "<div>\n",
       "<style scoped>\n",
       "    .dataframe tbody tr th:only-of-type {\n",
       "        vertical-align: middle;\n",
       "    }\n",
       "\n",
       "    .dataframe tbody tr th {\n",
       "        vertical-align: top;\n",
       "    }\n",
       "\n",
       "    .dataframe thead th {\n",
       "        text-align: right;\n",
       "    }\n",
       "</style>\n",
       "<table border=\"1\" class=\"dataframe\">\n",
       "  <thead>\n",
       "    <tr style=\"text-align: right;\">\n",
       "      <th></th>\n",
       "      <th>admission_id</th>\n",
       "      <th>patient_id</th>\n",
       "      <th>race</th>\n",
       "      <th>gender</th>\n",
       "      <th>age</th>\n",
       "      <th>weight</th>\n",
       "      <th>admission_type_code</th>\n",
       "      <th>discharge_disposition_code</th>\n",
       "      <th>admission_source_code</th>\n",
       "      <th>time_in_hospital</th>\n",
       "      <th>...</th>\n",
       "      <th>blood_type</th>\n",
       "      <th>hemoglobin_level</th>\n",
       "      <th>blood_transfusion</th>\n",
       "      <th>max_glu_serum</th>\n",
       "      <th>A1Cresult</th>\n",
       "      <th>diuretics</th>\n",
       "      <th>insulin</th>\n",
       "      <th>change</th>\n",
       "      <th>diabetesMed</th>\n",
       "      <th>readmitted</th>\n",
       "    </tr>\n",
       "  </thead>\n",
       "  <tbody>\n",
       "    <tr>\n",
       "      <th>1223</th>\n",
       "      <td>1223</td>\n",
       "      <td>92497608</td>\n",
       "      <td>African American</td>\n",
       "      <td>Female</td>\n",
       "      <td>[30-40)</td>\n",
       "      <td>NaN</td>\n",
       "      <td>1.0</td>\n",
       "      <td>1.0</td>\n",
       "      <td>7.0</td>\n",
       "      <td>3</td>\n",
       "      <td>...</td>\n",
       "      <td>A+</td>\n",
       "      <td>12.9</td>\n",
       "      <td>True</td>\n",
       "      <td>None</td>\n",
       "      <td>None</td>\n",
       "      <td>No</td>\n",
       "      <td>Yes</td>\n",
       "      <td>Ch</td>\n",
       "      <td>Yes</td>\n",
       "      <td>No</td>\n",
       "    </tr>\n",
       "    <tr>\n",
       "      <th>32083</th>\n",
       "      <td>32083</td>\n",
       "      <td>92497608</td>\n",
       "      <td>Asian</td>\n",
       "      <td>Female</td>\n",
       "      <td>[30-40)</td>\n",
       "      <td>NaN</td>\n",
       "      <td>1.0</td>\n",
       "      <td>1.0</td>\n",
       "      <td>7.0</td>\n",
       "      <td>1</td>\n",
       "      <td>...</td>\n",
       "      <td>B+</td>\n",
       "      <td>12.4</td>\n",
       "      <td>False</td>\n",
       "      <td>None</td>\n",
       "      <td>Norm</td>\n",
       "      <td>No</td>\n",
       "      <td>Yes</td>\n",
       "      <td>No</td>\n",
       "      <td>Yes</td>\n",
       "      <td>No</td>\n",
       "    </tr>\n",
       "    <tr>\n",
       "      <th>35525</th>\n",
       "      <td>35525</td>\n",
       "      <td>92497608</td>\n",
       "      <td>African American</td>\n",
       "      <td>Female</td>\n",
       "      <td>[30-40)</td>\n",
       "      <td>NaN</td>\n",
       "      <td>1.0</td>\n",
       "      <td>1.0</td>\n",
       "      <td>7.0</td>\n",
       "      <td>10</td>\n",
       "      <td>...</td>\n",
       "      <td>A+</td>\n",
       "      <td>13.5</td>\n",
       "      <td>False</td>\n",
       "      <td>None</td>\n",
       "      <td>Norm</td>\n",
       "      <td>Yes</td>\n",
       "      <td>Yes</td>\n",
       "      <td>Ch</td>\n",
       "      <td>Yes</td>\n",
       "      <td>Yes</td>\n",
       "    </tr>\n",
       "  </tbody>\n",
       "</table>\n",
       "<p>3 rows × 34 columns</p>\n",
       "</div>"
      ],
      "text/plain": [
       "       admission_id  patient_id              race  gender      age weight  \\\n",
       "1223           1223    92497608  African American  Female  [30-40)    NaN   \n",
       "32083         32083    92497608             Asian  Female  [30-40)    NaN   \n",
       "35525         35525    92497608  African American  Female  [30-40)    NaN   \n",
       "\n",
       "      admission_type_code discharge_disposition_code admission_source_code  \\\n",
       "1223                  1.0                        1.0                   7.0   \n",
       "32083                 1.0                        1.0                   7.0   \n",
       "35525                 1.0                        1.0                   7.0   \n",
       "\n",
       "       time_in_hospital  ... blood_type hemoglobin_level  blood_transfusion  \\\n",
       "1223                  3  ...         A+             12.9               True   \n",
       "32083                 1  ...         B+             12.4              False   \n",
       "35525                10  ...         A+             13.5              False   \n",
       "\n",
       "      max_glu_serum  A1Cresult  diuretics  insulin  change  diabetesMed  \\\n",
       "1223           None       None         No      Yes      Ch          Yes   \n",
       "32083          None       Norm         No      Yes      No          Yes   \n",
       "35525          None       Norm        Yes      Yes      Ch          Yes   \n",
       "\n",
       "       readmitted  \n",
       "1223           No  \n",
       "32083          No  \n",
       "35525         Yes  \n",
       "\n",
       "[3 rows x 34 columns]"
      ]
     },
     "execution_count": 182,
     "metadata": {},
     "output_type": "execute_result"
    }
   ],
   "source": [
    "data[data.patient_id == problematic_patient_ids_race[4]]"
   ]
  },
  {
   "cell_type": "code",
   "execution_count": 188,
   "id": "2fe7d49e",
   "metadata": {},
   "outputs": [
    {
     "data": {
      "text/plain": [
       "0.00015814027041986242"
      ]
     },
     "execution_count": 188,
     "metadata": {},
     "output_type": "execute_result"
    }
   ],
   "source": [
    "len(problematic_patient_ids_gender)/len(repeated_patient_ids)"
   ]
  },
  {
   "cell_type": "code",
   "execution_count": 185,
   "id": "6c8a1641",
   "metadata": {},
   "outputs": [
    {
     "data": {
      "text/html": [
       "<div>\n",
       "<style scoped>\n",
       "    .dataframe tbody tr th:only-of-type {\n",
       "        vertical-align: middle;\n",
       "    }\n",
       "\n",
       "    .dataframe tbody tr th {\n",
       "        vertical-align: top;\n",
       "    }\n",
       "\n",
       "    .dataframe thead th {\n",
       "        text-align: right;\n",
       "    }\n",
       "</style>\n",
       "<table border=\"1\" class=\"dataframe\">\n",
       "  <thead>\n",
       "    <tr style=\"text-align: right;\">\n",
       "      <th></th>\n",
       "      <th>admission_id</th>\n",
       "      <th>patient_id</th>\n",
       "      <th>race</th>\n",
       "      <th>gender</th>\n",
       "      <th>age</th>\n",
       "      <th>weight</th>\n",
       "      <th>admission_type_code</th>\n",
       "      <th>discharge_disposition_code</th>\n",
       "      <th>admission_source_code</th>\n",
       "      <th>time_in_hospital</th>\n",
       "      <th>...</th>\n",
       "      <th>blood_type</th>\n",
       "      <th>hemoglobin_level</th>\n",
       "      <th>blood_transfusion</th>\n",
       "      <th>max_glu_serum</th>\n",
       "      <th>A1Cresult</th>\n",
       "      <th>diuretics</th>\n",
       "      <th>insulin</th>\n",
       "      <th>change</th>\n",
       "      <th>diabetesMed</th>\n",
       "      <th>readmitted</th>\n",
       "    </tr>\n",
       "  </thead>\n",
       "  <tbody>\n",
       "    <tr>\n",
       "      <th>59567</th>\n",
       "      <td>59567</td>\n",
       "      <td>218420892</td>\n",
       "      <td>Caucasian</td>\n",
       "      <td>Female</td>\n",
       "      <td>[50-60)</td>\n",
       "      <td>NaN</td>\n",
       "      <td>3.0</td>\n",
       "      <td>1.0</td>\n",
       "      <td>1.0</td>\n",
       "      <td>2</td>\n",
       "      <td>...</td>\n",
       "      <td>O+</td>\n",
       "      <td>13.0</td>\n",
       "      <td>False</td>\n",
       "      <td>None</td>\n",
       "      <td>None</td>\n",
       "      <td>No</td>\n",
       "      <td>Yes</td>\n",
       "      <td>Ch</td>\n",
       "      <td>Yes</td>\n",
       "      <td>Yes</td>\n",
       "    </tr>\n",
       "    <tr>\n",
       "      <th>68494</th>\n",
       "      <td>68494</td>\n",
       "      <td>218420892</td>\n",
       "      <td>Caucasian</td>\n",
       "      <td>Male</td>\n",
       "      <td>[50-60)</td>\n",
       "      <td>NaN</td>\n",
       "      <td>1.0</td>\n",
       "      <td>6.0</td>\n",
       "      <td>7.0</td>\n",
       "      <td>3</td>\n",
       "      <td>...</td>\n",
       "      <td>A+</td>\n",
       "      <td>15.6</td>\n",
       "      <td>False</td>\n",
       "      <td>None</td>\n",
       "      <td>None</td>\n",
       "      <td>No</td>\n",
       "      <td>Yes</td>\n",
       "      <td>Ch</td>\n",
       "      <td>Yes</td>\n",
       "      <td>No</td>\n",
       "    </tr>\n",
       "  </tbody>\n",
       "</table>\n",
       "<p>2 rows × 34 columns</p>\n",
       "</div>"
      ],
      "text/plain": [
       "       admission_id  patient_id       race  gender      age weight  \\\n",
       "59567         59567   218420892  Caucasian  Female  [50-60)    NaN   \n",
       "68494         68494   218420892  Caucasian    Male  [50-60)    NaN   \n",
       "\n",
       "      admission_type_code discharge_disposition_code admission_source_code  \\\n",
       "59567                 3.0                        1.0                   1.0   \n",
       "68494                 1.0                        6.0                   7.0   \n",
       "\n",
       "       time_in_hospital  ... blood_type hemoglobin_level  blood_transfusion  \\\n",
       "59567                 2  ...         O+             13.0              False   \n",
       "68494                 3  ...         A+             15.6              False   \n",
       "\n",
       "      max_glu_serum  A1Cresult  diuretics  insulin  change  diabetesMed  \\\n",
       "59567          None       None         No      Yes      Ch          Yes   \n",
       "68494          None       None         No      Yes      Ch          Yes   \n",
       "\n",
       "       readmitted  \n",
       "59567         Yes  \n",
       "68494          No  \n",
       "\n",
       "[2 rows x 34 columns]"
      ]
     },
     "execution_count": 185,
     "metadata": {},
     "output_type": "execute_result"
    }
   ],
   "source": [
    "data[data.patient_id == problematic_patient_ids_gender[1]]"
   ]
  },
  {
   "cell_type": "code",
   "execution_count": 250,
   "id": "27d3c911",
   "metadata": {},
   "outputs": [],
   "source": [
    "#remove patients with problematic values for race or gender\n",
    "data = data[~data[\"patient_id\"].isin(problematic_patient_ids_gender)]\n",
    "data = data[~data[\"patient_id\"].isin(problematic_patient_ids_race)]"
   ]
  },
  {
   "cell_type": "code",
   "execution_count": 251,
   "id": "8b4c0286",
   "metadata": {},
   "outputs": [
    {
     "data": {
      "text/plain": [
       "(81115, 34)"
      ]
     },
     "execution_count": 251,
     "metadata": {},
     "output_type": "execute_result"
    }
   ],
   "source": [
    "data.shape"
   ]
  },
  {
   "cell_type": "code",
   "execution_count": 252,
   "id": "fcffa72d",
   "metadata": {},
   "outputs": [],
   "source": [
    "#remove patients that died or were sent to hospice\n",
    "#NOTE: in app.py add line of code that predicts false automatically for these cases\n",
    "data = data[~data[\"discharge_disposition_code\"].isin([\"11.0\", \"13.0\", \"14.0\", \"19.0\", \"20.0\", \"21.0\"])]"
   ]
  },
  {
   "cell_type": "code",
   "execution_count": 253,
   "id": "c19ceac6",
   "metadata": {},
   "outputs": [
    {
     "data": {
      "text/plain": [
       "(79194, 34)"
      ]
     },
     "execution_count": 253,
     "metadata": {},
     "output_type": "execute_result"
    }
   ],
   "source": [
    "data.shape"
   ]
  },
  {
   "cell_type": "code",
   "execution_count": 255,
   "id": "b1e85469",
   "metadata": {},
   "outputs": [],
   "source": [
    "##save cleaned data\n",
    "data.to_csv(\"data/cleaned_data.csv\", index=False)"
   ]
  },
  {
   "cell_type": "code",
   "execution_count": null,
   "id": "01559eda",
   "metadata": {},
   "outputs": [],
   "source": []
  },
  {
   "cell_type": "code",
   "execution_count": null,
   "id": "6fd02b9c",
   "metadata": {},
   "outputs": [],
   "source": []
  },
  {
   "cell_type": "markdown",
   "id": "3c4fadfa",
   "metadata": {},
   "source": [
    "### Feature engineering"
   ]
  },
  {
   "cell_type": "code",
   "execution_count": 751,
   "id": "473530d2",
   "metadata": {},
   "outputs": [
    {
     "name": "stdout",
     "output_type": "stream",
     "text": [
      "Feature: age_as_int\n",
      "Unique values: [50. 80. 60. 70. nan 40. 30. 90. 20. 10.  0.]\n",
      "dtype: float64\n",
      "Num of nan: 2336\n"
     ]
    }
   ],
   "source": [
    "#code age groups as integers\n",
    "data[\"age_as_int\"] = data.age.replace(['[50-60)', '[80-90)', '[60-70)', '[70-80)', '[40-50)', '[30-40)',\n",
    " '[90-100)', '[20-30)', '[10-20)', '[0-10)'], [50, 80, 60, 70, 40, 30, 90, 20, 10, 0])\n",
    "check_column(data, \"age_as_int\")"
   ]
  },
  {
   "cell_type": "code",
   "execution_count": 752,
   "id": "ea7fc562",
   "metadata": {},
   "outputs": [
    {
     "name": "stdout",
     "output_type": "stream",
     "text": [
      "   code_number                                            meaning\n",
      "0            1                                 Discharged to home\n",
      "1            2  Discharged/transferred to another short term h...\n",
      "2            3                      Discharged/transferred to SNF\n",
      "3            4                      Discharged/transferred to ICF\n",
      "4            5  Discharged/transferred to another type of inpa...\n",
      "5            6  Discharged/transferred to home with home healt...\n",
      "6            7                                           Left AMA\n",
      "7            8  Discharged/transferred to home under care of H...\n",
      "8            9          Admitted as an inpatient to this hospital\n",
      "9           10  Neonate discharged to another hospital for neo...\n",
      "10          11                                            Expired\n",
      "11          12  Still patient or expected to return for outpat...\n",
      "12          13                                     Hospice / home\n",
      "13          14                         Hospice / medical facility\n",
      "14          15  Discharged/transferred within this institution...\n",
      "15          16  Discharged/transferred/referred another instit...\n",
      "16          17  Discharged/transferred/referred to this instit...\n",
      "17          18                                               NULL\n",
      "18          19        \"Expired at home. Medicaid only:  hospice.\"\n",
      "19          20  \"Expired in a medical facility. Medicaid only:...\n",
      "20          21  \"Expired:  place unknown. Medicaid only:  hosp...\n",
      "21          22  Discharged/transferred to another rehab fac in...\n",
      "22          23  Discharged/transferred to a long term care hos...\n",
      "23          24  Discharged/transferred to a nursing facility c...\n",
      "24          25                                         Not Mapped\n",
      "25          26                                    Unknown/Invalid\n",
      "26          30  Discharged/transferred to another Type of Heal...\n",
      "27          27  Discharged/transferred to a federal health car...\n",
      "28          28  Discharged/transferred/referred to a psychiatr...\n",
      "29          29  Discharged/transferred to a Critical Access Ho...\n"
     ]
    },
    {
     "data": {
      "text/plain": [
       "1.0     0.587800\n",
       "3.0     0.136307\n",
       "6.0     0.125829\n",
       "2.0     0.020759\n",
       "22.0    0.019407\n",
       "11.0    0.016116\n",
       "5.0     0.011497\n",
       "4.0     0.007984\n",
       "7.0     0.006215\n",
       "23.0    0.003980\n",
       "13.0    0.003857\n",
       "14.0    0.003611\n",
       "28.0    0.001302\n",
       "8.0     0.001044\n",
       "15.0    0.000626\n",
       "24.0    0.000491\n",
       "9.0     0.000221\n",
       "17.0    0.000147\n",
       "16.0    0.000086\n",
       "19.0    0.000061\n",
       "10.0    0.000061\n",
       "27.0    0.000049\n",
       "12.0    0.000025\n",
       "Name: discharge_disposition_code, dtype: float64"
      ]
     },
     "execution_count": 752,
     "metadata": {},
     "output_type": "execute_result"
    }
   ],
   "source": [
    "print(discharge_disposition_code_df)\n",
    "data[\"discharge_disposition_code\"].value_counts()/len(data)\n"
   ]
  },
  {
   "cell_type": "code",
   "execution_count": 753,
   "id": "e23307fb",
   "metadata": {},
   "outputs": [],
   "source": [
    "#keep only common values for discharge disposition, set others as \"Other\"\n",
    "\n",
    "#data[\"discharge_disposition_simplified\"] = data[\"discharge_disposition_code\"].replace([\"1.0\", \"3.0\", \"6.0\"], [\"Discharged to home\", \"Discharged/transferred to SNF\", \"Discharged/transferred to home with home health service\"])\n",
    "#data[\"discharge_disposition_simplified\"] = np.where(data[\"discharge_disposition_simplified\"].isin([\"Discharged to home\", \"Discharged/transferred to SNF\", \"Discharged/transferred to home with home health service\", \"Not Available\"]), data[\"discharge_disposition_simplified\"], 'Other')\n"
   ]
  },
  {
   "cell_type": "code",
   "execution_count": 754,
   "id": "8ac89118",
   "metadata": {},
   "outputs": [
    {
     "name": "stdout",
     "output_type": "stream",
     "text": [
      "Feature: discharge_disposition_simplified\n"
     ]
    },
    {
     "ename": "KeyError",
     "evalue": "'discharge_disposition_simplified'",
     "output_type": "error",
     "traceback": [
      "\u001b[0;31m---------------------------------------------------------------------------\u001b[0m",
      "\u001b[0;31mKeyError\u001b[0m                                  Traceback (most recent call last)",
      "\u001b[0;32m~/.virtualenvs/capstone/lib/python3.8/site-packages/pandas/core/indexes/base.py\u001b[0m in \u001b[0;36mget_loc\u001b[0;34m(self, key, method, tolerance)\u001b[0m\n\u001b[1;32m   3079\u001b[0m             \u001b[0;32mtry\u001b[0m\u001b[0;34m:\u001b[0m\u001b[0;34m\u001b[0m\u001b[0;34m\u001b[0m\u001b[0m\n\u001b[0;32m-> 3080\u001b[0;31m                 \u001b[0;32mreturn\u001b[0m \u001b[0mself\u001b[0m\u001b[0;34m.\u001b[0m\u001b[0m_engine\u001b[0m\u001b[0;34m.\u001b[0m\u001b[0mget_loc\u001b[0m\u001b[0;34m(\u001b[0m\u001b[0mcasted_key\u001b[0m\u001b[0;34m)\u001b[0m\u001b[0;34m\u001b[0m\u001b[0;34m\u001b[0m\u001b[0m\n\u001b[0m\u001b[1;32m   3081\u001b[0m             \u001b[0;32mexcept\u001b[0m \u001b[0mKeyError\u001b[0m \u001b[0;32mas\u001b[0m \u001b[0merr\u001b[0m\u001b[0;34m:\u001b[0m\u001b[0;34m\u001b[0m\u001b[0;34m\u001b[0m\u001b[0m\n",
      "\u001b[0;32mpandas/_libs/index.pyx\u001b[0m in \u001b[0;36mpandas._libs.index.IndexEngine.get_loc\u001b[0;34m()\u001b[0m\n",
      "\u001b[0;32mpandas/_libs/index.pyx\u001b[0m in \u001b[0;36mpandas._libs.index.IndexEngine.get_loc\u001b[0;34m()\u001b[0m\n",
      "\u001b[0;32mpandas/_libs/hashtable_class_helper.pxi\u001b[0m in \u001b[0;36mpandas._libs.hashtable.PyObjectHashTable.get_item\u001b[0;34m()\u001b[0m\n",
      "\u001b[0;32mpandas/_libs/hashtable_class_helper.pxi\u001b[0m in \u001b[0;36mpandas._libs.hashtable.PyObjectHashTable.get_item\u001b[0;34m()\u001b[0m\n",
      "\u001b[0;31mKeyError\u001b[0m: 'discharge_disposition_simplified'",
      "\nThe above exception was the direct cause of the following exception:\n",
      "\u001b[0;31mKeyError\u001b[0m                                  Traceback (most recent call last)",
      "\u001b[0;32m/tmp/ipykernel_27048/2347601258.py\u001b[0m in \u001b[0;36m<module>\u001b[0;34m\u001b[0m\n\u001b[0;32m----> 1\u001b[0;31m \u001b[0mcheck_column\u001b[0m\u001b[0;34m(\u001b[0m\u001b[0mdata\u001b[0m\u001b[0;34m,\u001b[0m \u001b[0;34m\"discharge_disposition_simplified\"\u001b[0m\u001b[0;34m)\u001b[0m\u001b[0;34m\u001b[0m\u001b[0;34m\u001b[0m\u001b[0m\n\u001b[0m",
      "\u001b[0;32m/tmp/ipykernel_27048/3864139260.py\u001b[0m in \u001b[0;36mcheck_column\u001b[0;34m(df, column_name)\u001b[0m\n\u001b[1;32m      4\u001b[0m \u001b[0;32mdef\u001b[0m \u001b[0mcheck_column\u001b[0m\u001b[0;34m(\u001b[0m\u001b[0mdf\u001b[0m\u001b[0;34m,\u001b[0m \u001b[0mcolumn_name\u001b[0m\u001b[0;34m)\u001b[0m\u001b[0;34m:\u001b[0m\u001b[0;34m\u001b[0m\u001b[0;34m\u001b[0m\u001b[0m\n\u001b[1;32m      5\u001b[0m     \u001b[0mprint\u001b[0m\u001b[0;34m(\u001b[0m\u001b[0;34mf\"Feature: {column_name}\"\u001b[0m\u001b[0;34m)\u001b[0m\u001b[0;34m\u001b[0m\u001b[0;34m\u001b[0m\u001b[0m\n\u001b[0;32m----> 6\u001b[0;31m     \u001b[0mprint\u001b[0m\u001b[0;34m(\u001b[0m\u001b[0;34mf\"Unique values: {df[column_name].unique()}\"\u001b[0m\u001b[0;34m)\u001b[0m\u001b[0;34m\u001b[0m\u001b[0;34m\u001b[0m\u001b[0m\n\u001b[0m\u001b[1;32m      7\u001b[0m     \u001b[0mprint\u001b[0m\u001b[0;34m(\u001b[0m\u001b[0;34mf\"dtype: {df[column_name].dtypes}\"\u001b[0m\u001b[0;34m)\u001b[0m\u001b[0;34m\u001b[0m\u001b[0;34m\u001b[0m\u001b[0m\n\u001b[1;32m      8\u001b[0m     \u001b[0mprint\u001b[0m\u001b[0;34m(\u001b[0m\u001b[0;34mf\"Num of nan: {df[column_name].isnull().sum()}\"\u001b[0m\u001b[0;34m)\u001b[0m\u001b[0;34m\u001b[0m\u001b[0;34m\u001b[0m\u001b[0m\n",
      "\u001b[0;32m~/.virtualenvs/capstone/lib/python3.8/site-packages/pandas/core/frame.py\u001b[0m in \u001b[0;36m__getitem__\u001b[0;34m(self, key)\u001b[0m\n\u001b[1;32m   3022\u001b[0m             \u001b[0;32mif\u001b[0m \u001b[0mself\u001b[0m\u001b[0;34m.\u001b[0m\u001b[0mcolumns\u001b[0m\u001b[0;34m.\u001b[0m\u001b[0mnlevels\u001b[0m \u001b[0;34m>\u001b[0m \u001b[0;36m1\u001b[0m\u001b[0;34m:\u001b[0m\u001b[0;34m\u001b[0m\u001b[0;34m\u001b[0m\u001b[0m\n\u001b[1;32m   3023\u001b[0m                 \u001b[0;32mreturn\u001b[0m \u001b[0mself\u001b[0m\u001b[0;34m.\u001b[0m\u001b[0m_getitem_multilevel\u001b[0m\u001b[0;34m(\u001b[0m\u001b[0mkey\u001b[0m\u001b[0;34m)\u001b[0m\u001b[0;34m\u001b[0m\u001b[0;34m\u001b[0m\u001b[0m\n\u001b[0;32m-> 3024\u001b[0;31m             \u001b[0mindexer\u001b[0m \u001b[0;34m=\u001b[0m \u001b[0mself\u001b[0m\u001b[0;34m.\u001b[0m\u001b[0mcolumns\u001b[0m\u001b[0;34m.\u001b[0m\u001b[0mget_loc\u001b[0m\u001b[0;34m(\u001b[0m\u001b[0mkey\u001b[0m\u001b[0;34m)\u001b[0m\u001b[0;34m\u001b[0m\u001b[0;34m\u001b[0m\u001b[0m\n\u001b[0m\u001b[1;32m   3025\u001b[0m             \u001b[0;32mif\u001b[0m \u001b[0mis_integer\u001b[0m\u001b[0;34m(\u001b[0m\u001b[0mindexer\u001b[0m\u001b[0;34m)\u001b[0m\u001b[0;34m:\u001b[0m\u001b[0;34m\u001b[0m\u001b[0;34m\u001b[0m\u001b[0m\n\u001b[1;32m   3026\u001b[0m                 \u001b[0mindexer\u001b[0m \u001b[0;34m=\u001b[0m \u001b[0;34m[\u001b[0m\u001b[0mindexer\u001b[0m\u001b[0;34m]\u001b[0m\u001b[0;34m\u001b[0m\u001b[0;34m\u001b[0m\u001b[0m\n",
      "\u001b[0;32m~/.virtualenvs/capstone/lib/python3.8/site-packages/pandas/core/indexes/base.py\u001b[0m in \u001b[0;36mget_loc\u001b[0;34m(self, key, method, tolerance)\u001b[0m\n\u001b[1;32m   3080\u001b[0m                 \u001b[0;32mreturn\u001b[0m \u001b[0mself\u001b[0m\u001b[0;34m.\u001b[0m\u001b[0m_engine\u001b[0m\u001b[0;34m.\u001b[0m\u001b[0mget_loc\u001b[0m\u001b[0;34m(\u001b[0m\u001b[0mcasted_key\u001b[0m\u001b[0;34m)\u001b[0m\u001b[0;34m\u001b[0m\u001b[0;34m\u001b[0m\u001b[0m\n\u001b[1;32m   3081\u001b[0m             \u001b[0;32mexcept\u001b[0m \u001b[0mKeyError\u001b[0m \u001b[0;32mas\u001b[0m \u001b[0merr\u001b[0m\u001b[0;34m:\u001b[0m\u001b[0;34m\u001b[0m\u001b[0;34m\u001b[0m\u001b[0m\n\u001b[0;32m-> 3082\u001b[0;31m                 \u001b[0;32mraise\u001b[0m \u001b[0mKeyError\u001b[0m\u001b[0;34m(\u001b[0m\u001b[0mkey\u001b[0m\u001b[0;34m)\u001b[0m \u001b[0;32mfrom\u001b[0m \u001b[0merr\u001b[0m\u001b[0;34m\u001b[0m\u001b[0;34m\u001b[0m\u001b[0m\n\u001b[0m\u001b[1;32m   3083\u001b[0m \u001b[0;34m\u001b[0m\u001b[0m\n\u001b[1;32m   3084\u001b[0m         \u001b[0;32mif\u001b[0m \u001b[0mtolerance\u001b[0m \u001b[0;32mis\u001b[0m \u001b[0;32mnot\u001b[0m \u001b[0;32mNone\u001b[0m\u001b[0;34m:\u001b[0m\u001b[0;34m\u001b[0m\u001b[0;34m\u001b[0m\u001b[0m\n",
      "\u001b[0;31mKeyError\u001b[0m: 'discharge_disposition_simplified'"
     ]
    }
   ],
   "source": [
    "#check_column(data, \"discharge_disposition_simplified\")"
   ]
  },
  {
   "cell_type": "code",
   "execution_count": 756,
   "id": "89975172",
   "metadata": {},
   "outputs": [],
   "source": [
    "data[\"discharge_disposition_simplified\"] = data[\"discharge_disposition_code\"].replace([1.0, 3.0, 6.0], [\"Discharged to home\", \"Discharged/transferred to SNF\", \"Discharged/transferred to home with home health service\"])\n",
    "data[\"discharge_disposition_simplified\"] = np.where(data[\"discharge_disposition_simplified\"].isin([\"Discharged to home\", \"Discharged/transferred to SNF\", \"Discharged/transferred to home with home health service\", \"nan\"]), data[\"discharge_disposition_simplified\"], 'Other')"
   ]
  },
  {
   "cell_type": "code",
   "execution_count": 757,
   "id": "69ae026c",
   "metadata": {},
   "outputs": [
    {
     "name": "stdout",
     "output_type": "stream",
     "text": [
      "   code_number                                            meaning\n",
      "0            1                                 Physician Referral\n",
      "1            2                                    Clinic Referral\n",
      "2            3                                       HMO Referral\n",
      "3            4                           Transfer from a hospital\n",
      "4            5     Transfer from a Skilled Nursing Facility (SNF)\n",
      "5            6         Transfer from another health care facility\n",
      "6            7                                     Emergency Room\n",
      "7            8                              Court/Law Enforcement\n",
      "8            9                                      Not Available\n",
      "9           10              Transfer from critial access hospital\n",
      "10          11                                    Normal Delivery\n",
      "11          12                                 Premature Delivery\n",
      "12          13                                          Sick Baby\n",
      "13          14                                   Extramural Birth\n",
      "14          15                                      Not Available\n",
      "15          17                                               NULL\n",
      "16          18           Transfer From Another Home Health Agency\n",
      "17          19             Readmission to Same Home Health Agency\n",
      "18          20                                         Not Mapped\n",
      "19          21                                    Unknown/Invalid\n",
      "20          22  Transfer from hospital inpt/same fac reslt in ...\n",
      "21          23                          Born inside this hospital\n",
      "22          24                         Born outside this hospital\n",
      "23          25            Transfer from Ambulatory Surgery Center\n",
      "24          26                              Transfer from Hospice\n"
     ]
    },
    {
     "data": {
      "text/plain": [
       "7.0     0.564315\n",
       "1.0     0.290915\n",
       "4.0     0.031703\n",
       "6.0     0.022343\n",
       "2.0     0.010785\n",
       "5.0     0.008365\n",
       "3.0     0.001818\n",
       "8.0     0.000184\n",
       "22.0    0.000123\n",
       "10.0    0.000074\n",
       "25.0    0.000025\n",
       "14.0    0.000025\n",
       "11.0    0.000025\n",
       "13.0    0.000012\n",
       "Name: admission_source_code, dtype: float64"
      ]
     },
     "execution_count": 757,
     "metadata": {},
     "output_type": "execute_result"
    }
   ],
   "source": [
    "print(admission_source_code_df)\n",
    "data[\"admission_source_code\"].value_counts()/len(data)\n"
   ]
  },
  {
   "cell_type": "code",
   "execution_count": 758,
   "id": "2985e463",
   "metadata": {},
   "outputs": [],
   "source": [
    "#keep only common values for admission source, set others as \"Other\"\n",
    "\n",
    "data[\"admission_source_simplified\"] = data[\"admission_source_code\"].replace([\"1\", \"7\"], [\"Physician Referral\", \"Emergency Room\"])\n",
    "data[\"admission_source_simplified\"] = np.where(data[\"admission_source_simplified\"].isin([\"Physician Referral\", \"Emergency Room\", \"Not Available\"]), data[\"admission_source_simplified\"], 'Other')"
   ]
  },
  {
   "cell_type": "code",
   "execution_count": 759,
   "id": "53a9118d",
   "metadata": {},
   "outputs": [],
   "source": [
    "#keep only common values for admission source, set others as \"Other\"\n",
    "\n",
    "data[\"admission_source_simplified\"] = data[\"admission_source_code\"].replace([1, 7], [\"Physician Referral\", \"Emergency Room\"])\n",
    "data[\"admission_source_simplified\"] = np.where(data[\"admission_source_simplified\"].isin([\"Physician Referral\", \"Emergency Room\", \"Not Available\"]), data[\"admission_source_simplified\"], 'Other')"
   ]
  },
  {
   "cell_type": "code",
   "execution_count": 760,
   "id": "d5977b23",
   "metadata": {},
   "outputs": [
    {
     "name": "stdout",
     "output_type": "stream",
     "text": [
      "Feature: admission_source_simplified\n",
      "Unique values: ['Physician Referral' 'Emergency Room' 'Other']\n",
      "dtype: object\n",
      "Num of nan: 0\n"
     ]
    }
   ],
   "source": [
    "check_column(data, \"admission_source_simplified\")"
   ]
  },
  {
   "cell_type": "code",
   "execution_count": null,
   "id": "8be3d4aa",
   "metadata": {},
   "outputs": [],
   "source": []
  },
  {
   "cell_type": "code",
   "execution_count": null,
   "id": "d403f051",
   "metadata": {},
   "outputs": [
    {
     "data": {
      "text/plain": [
       "InternalMedicine                     11712\n",
       "Emergency/Trauma                      6021\n",
       "Family/GeneralPractice                5939\n",
       "Cardiology                            4273\n",
       "Surgery-General                       2473\n",
       "Nephrology                            1299\n",
       "Orthopedics                           1100\n",
       "Orthopedics-Reconstructive             981\n",
       "Radiologist                            913\n",
       "Pulmonology                            700\n",
       "Psychiatry                             674\n",
       "Urology                                539\n",
       "ObstetricsandGynecology                531\n",
       "Surgery-Cardiovascular/Thoracic        527\n",
       "Gastroenterology                       465\n",
       "Surgery-Vascular                       438\n",
       "Surgery-Neuro                          373\n",
       "PhysicalMedicineandRehabilitation      298\n",
       "Oncology                               280\n",
       "Pediatrics                             211\n",
       "Neurology                              171\n",
       "Hematology/Oncology                    165\n",
       "Pediatrics-Endocrinology               122\n",
       "Otolaryngology                         104\n",
       "Endocrinology                           94\n",
       "Podiatry                                83\n",
       "Surgery-Thoracic                        79\n",
       "Psychology                              77\n",
       "Pediatrics-CriticalCare                 76\n",
       "Surgery-Cardiovascular                  72\n",
       "Hematology                              65\n",
       "Gynecology                              45\n",
       "Hospitalist                             44\n",
       "Radiology                               42\n",
       "Surgeon                                 36\n",
       "Ophthalmology                           34\n",
       "Surgery-Plastic                         30\n",
       "InfectiousDiseases                      29\n",
       "Osteopath                               29\n",
       "SurgicalSpecialty                       27\n",
       "Name: medical_specialty, dtype: int64"
      ]
     },
     "execution_count": 696,
     "metadata": {},
     "output_type": "execute_result"
    }
   ],
   "source": [
    "(data[\"medical_specialty\"].value_counts())[0:40]\n"
   ]
  },
  {
   "cell_type": "code",
   "execution_count": 761,
   "id": "615b31ef",
   "metadata": {},
   "outputs": [
    {
     "name": "stdout",
     "output_type": "stream",
     "text": [
      "Feature: medical_specialty_simplified\n",
      "Unique values: ['Other' 'Emergency/Trauma' 'InternalMedicine' 'Family/GeneralPractice'\n",
      " 'Cardiology' 'Surgery-General']\n",
      "dtype: object\n",
      "Num of nan: 0\n"
     ]
    }
   ],
   "source": [
    "#keep only common values for medical_specialty, set others as \"Other\"\n",
    "\n",
    "data[\"medical_specialty_simplified\"] = np.where(data[\"medical_specialty\"].isin([\"InternalMedicine\", \"Emergency/Trauma\", \"Family/GeneralPractice\", \"Cardiology\", \"Surgery-General\", \"Unknown\"]), data[\"medical_specialty\"], 'Other')\n",
    "\n",
    "check_column(data, \"medical_specialty_simplified\")                     \n",
    "                 "
   ]
  },
  {
   "cell_type": "code",
   "execution_count": null,
   "id": "d06add71",
   "metadata": {},
   "outputs": [],
   "source": []
  },
  {
   "cell_type": "code",
   "execution_count": null,
   "id": "3fee4cd1",
   "metadata": {},
   "outputs": [
    {
     "data": {
      "text/plain": [
       "428    0.066686\n",
       "414    0.064732\n",
       "786    0.039699\n",
       "410    0.035793\n",
       "486    0.034098\n",
       "         ...   \n",
       "833    0.000012\n",
       "919    0.000012\n",
       "690    0.000012\n",
       "703    0.000012\n",
       "804    0.000012\n",
       "Name: diag_1, Length: 700, dtype: float64"
      ]
     },
     "execution_count": 698,
     "metadata": {},
     "output_type": "execute_result"
    }
   ],
   "source": [
    "(data[\"diag_1\"].value_counts()/len(data))\n"
   ]
  },
  {
   "cell_type": "code",
   "execution_count": null,
   "id": "947151cc",
   "metadata": {},
   "outputs": [],
   "source": [
    "def diagnosis_decoder(code):\n",
    "    if \"V\" in str(code): \n",
    "        return \"External causes of injury and supplemental classification\"\n",
    "    elif \"E\" in str(code):\n",
    "        return \"External causes of injury and supplemental classification\"\n",
    "    else:\n",
    "        try:\n",
    "        \n",
    "            code = int(code)\n",
    "            if code<140: return \"infectious and parasitic diseases\"\n",
    "            if code<240: return \"neoplasms\"\n",
    "            if code<280: return \"endocrine, nutritional and metabolic diseases, and immunity disorders\"\n",
    "            if code<290: return \"diseases of the blood and blood-forming organs\"\n",
    "            if code<320: return \"mental disorders\"\n",
    "            if code<390: return \"diseases of the nervous system and sense organs\"\n",
    "            if code<460: return \"diseases of the circulatory system\"\n",
    "            if code<520: return \"diseases of the respiratory system\"\n",
    "            if code<580: return \"diseases of the digestive system\"\n",
    "            if code<630: return \"diseases of the genitourinary system\"\n",
    "            if code<680: return \"complications of pregnancy, childbirth, and the puerperium\"\n",
    "            if code<710: return \"diseases of the skin and subcutaneous tissue\"\n",
    "            if code<740: return \"diseases of the musculoskeletal system and connective tissue\"\n",
    "            if code<760: return \"congenital anomalies\"\n",
    "            if code<780: return \"certain conditions originating in the perinatal period\"\n",
    "            if code<800: return \"symptoms, signs, and ill-defined conditions\"\n",
    "            if code<1000: return \"injury and poisoning\"\n",
    "        except:\n",
    "            return(np.nan)\n",
    "        \n",
    "\n",
    "\n"
   ]
  },
  {
   "cell_type": "code",
   "execution_count": 762,
   "id": "7ac97677",
   "metadata": {},
   "outputs": [],
   "source": [
    "diag_columns = ['diag_1','diag_2','diag_3']\n",
    "for col in diag_columns:\n",
    "    data[f\"{col}_simplified\"] = data[col].str.replace(r\"\\.(.*)\", \"\")  #remove any numbers that come after .\n",
    "    #df_copy[col].str.replace('E','-')\n",
    "    #df_copy[col] = df_copy[col].str.replace('V','-')\n",
    "    data[f\"{col}_simplified\"] = data.apply(lambda row: diagnosis_decoder(row[f\"{col}_simplified\"]),axis=1)\n",
    "\n",
    "\n"
   ]
  },
  {
   "cell_type": "code",
   "execution_count": 763,
   "id": "047ab16a",
   "metadata": {},
   "outputs": [],
   "source": [
    "##save data with additional features\n",
    "data.to_csv(\"data/cleaned_data_add_features.csv\")"
   ]
  },
  {
   "cell_type": "markdown",
   "id": "18b9d8dd",
   "metadata": {},
   "source": [
    "## Discrimination check"
   ]
  },
  {
   "cell_type": "code",
   "execution_count": 613,
   "id": "bba3d6e7",
   "metadata": {},
   "outputs": [],
   "source": [
    "def plot_readmittion_rates(data, column_name, title, min_size=0):\n",
    "    df = data.copy()\n",
    "    df.dropna(subset = [column_name], inplace=True)\n",
    "    groups = df[column_name].unique()\n",
    "\n",
    "    readmittion_rates = []\n",
    "    groups_to_consider = []\n",
    "    for group in groups:\n",
    "        group_df = df[df[column_name]==group]\n",
    "        if len(group_df) >= min_size:\n",
    "            groups_to_consider.append(group)\n",
    "            readmittion_rates.append(group_df.readmitted.sum()/len(group_df))\n",
    "\n",
    "    plt.figure()\n",
    "    plt.bar(groups_to_consider, readmittion_rates)\n",
    "    #plt.axhline(df.readmitted.sum()/len(df), color = 'r', linestyle = '-')\n",
    "    plt.axhline(np.mean(readmittion_rates), color = 'g', linestyle = '-')\n",
    "    plt.xticks(rotation=90)\n",
    "    plt.title(title)"
   ]
  },
  {
   "cell_type": "code",
   "execution_count": 614,
   "id": "f0469137",
   "metadata": {},
   "outputs": [],
   "source": [
    "def check_for_discrimination(data, column_name, subgroup = False, min_size=10):\n",
    "\n",
    "    df = data.copy()\n",
    "    \n",
    "    if subgroup:\n",
    "        column_values = df[subgroup].unique()\n",
    "        for column_value in column_values:\n",
    "            df_subgroup = df[df[subgroup]==column_value]\n",
    "            df_subgroup.dropna(subset = [subgroup], inplace=True)\n",
    "            plot_readmittion_rates(df_subgroup, column_name, column_value, min_size)\n",
    "\n",
    "    else: \n",
    "        plot_readmittion_rates(df, column_name, f\"{column_name} readmittion rate\", min_size)\n",
    "\n"
   ]
  },
  {
   "cell_type": "code",
   "execution_count": 615,
   "id": "bd1e3027",
   "metadata": {},
   "outputs": [
    {
     "data": {
      "text/plain": [
       "0.1114332039502776"
      ]
     },
     "execution_count": 615,
     "metadata": {},
     "output_type": "execute_result"
    }
   ],
   "source": [
    "data.readmitted.sum()/len(data)"
   ]
  },
  {
   "cell_type": "code",
   "execution_count": 617,
   "id": "5f8227dc",
   "metadata": {},
   "outputs": [
    {
     "data": {
      "image/png": "[encoded data removed]",
      "text/plain": [
       "<Figure size 432x288 with 1 Axes>"
      ]
     },
     "metadata": {
      "needs_background": "light"
     },
     "output_type": "display_data"
    },
    {
     "data": {
      "image/png": "[encoded data removed]",
      "text/plain": [
       "<Figure size 432x288 with 1 Axes>"
      ]
     },
     "metadata": {
      "needs_background": "light"
     },
     "output_type": "display_data"
    },
    {
     "data": {
      "image/png": "[encoded data removed]",
      "text/plain": [
       "<Figure size 432x288 with 1 Axes>"
      ]
     },
     "metadata": {
      "needs_background": "light"
     },
     "output_type": "display_data"
    },
    {
     "data": {
      "image/png": "[encoded data removed]",
      "text/plain": [
       "<Figure size 432x288 with 1 Axes>"
      ]
     },
     "metadata": {
      "needs_background": "light"
     },
     "output_type": "display_data"
    },
    {
     "data": {
      "image/png": "[encoded data removed]",
      "text/plain": [
       "<Figure size 432x288 with 1 Axes>"
      ]
     },
     "metadata": {
      "needs_background": "light"
     },
     "output_type": "display_data"
    },
    {
     "data": {
      "image/png": "[encoded data removed]",
      "text/plain": [
       "<Figure size 432x288 with 1 Axes>"
      ]
     },
     "metadata": {
      "needs_background": "light"
     },
     "output_type": "display_data"
    },
    {
     "data": {
      "image/png": "[encoded data removed]",
      "text/plain": [
       "<Figure size 432x288 with 1 Axes>"
      ]
     },
     "metadata": {
      "needs_background": "light"
     },
     "output_type": "display_data"
    },
    {
     "data": {
      "image/png": "[encoded data removed]",
      "text/plain": [
       "<Figure size 432x288 with 1 Axes>"
      ]
     },
     "metadata": {
      "needs_background": "light"
     },
     "output_type": "display_data"
    }
   ],
   "source": [
    "#check_for_discrimination(data, \"gender\", subgroup = \"medical_specialty\")\n",
    "check_for_discrimination(data, \"medical_specialty_simplified\", min_size=10)\n",
    "check_for_discrimination(data, \"medical_specialty\", min_size=10)\n",
    "\n",
    "check_for_discrimination(data, \"admission_source_simplified\", min_size=10)\n",
    "check_for_discrimination(data, \"payer_code\", min_size=10)\n",
    "\n",
    "check_for_discrimination(data, \"time_in_hospital\", min_size=10)\n",
    "check_for_discrimination(data, \"max_glu_serum\", min_size=10)\n",
    "\n",
    "check_for_discrimination(data, \"discharge_disposition_code\", min_size=0)\n",
    "\n",
    "check_for_discrimination(data, \"diag_1_simplified\", min_size=10)\n",
    "\n",
    "#check_for_discrimination(data, \"race\")#, subgroup = \"medical_specialty\", min_size=10)\n",
    "#check_for_discrimination(data, \"age_as_int\", min_size=10)"
   ]
  },
  {
   "cell_type": "code",
   "execution_count": null,
   "id": "4e6a2be9",
   "metadata": {},
   "outputs": [],
   "source": []
  },
  {
   "cell_type": "code",
   "execution_count": null,
   "id": "e773dc4e",
   "metadata": {},
   "outputs": [],
   "source": []
  },
  {
   "cell_type": "code",
   "execution_count": null,
   "id": "4128b945",
   "metadata": {},
   "outputs": [],
   "source": []
  },
  {
   "cell_type": "code",
   "execution_count": null,
   "id": "ae4e928c",
   "metadata": {},
   "outputs": [],
   "source": []
  }
 ],
 "metadata": {
  "kernelspec": {
   "display_name": "Python 3",
   "language": "python",
   "name": "python3"
  },
  "language_info": {
   "codemirror_mode": {
    "name": "ipython",
    "version": 3
   },
   "file_extension": ".py",
   "mimetype": "text/x-python",
   "name": "python",
   "nbconvert_exporter": "python",
   "pygments_lexer": "ipython3",
   "version": "3.8.10"
  }
 },
 "nbformat": 4,
 "nbformat_minor": 5
}
