{
 "cells": [
  {
   "cell_type": "code",
   "execution_count": 1,
   "id": "dc1bce60",
   "metadata": {},
   "outputs": [],
   "source": [
    "import pandas as pd\n",
    "import numpy as np"
   ]
  },
  {
   "cell_type": "code",
   "execution_count": 2,
   "id": "d2002aa3",
   "metadata": {},
   "outputs": [],
   "source": [
    "df_train = pd.read_parquet('cleaned_train_set.parquet')\n",
    "df_test = pd.read_parquet('cleaned_test_set.parquet')"
   ]
  },
  {
   "cell_type": "code",
   "execution_count": 3,
   "id": "a7a5ee8f",
   "metadata": {},
   "outputs": [],
   "source": [
    "def feature_engineering(df):\n",
    "    _df = df.copy()\n",
    "   \n",
    "    # Sell-buy ratios\n",
    "    _df['price_ratio'] = _df['price_sell']/_df['price_buy']\n",
    "    _df['orders_qty_top20_ratio'] = _df['orders_sell_qty_top20']/_df['orders_buy_qty_top20']\n",
    "    _df['orders_qty_ratio'] = _df['orders_sell_qty']/_df['orders_buy_qty']\n",
    "    _df['trades_ratio'] = _df['trades_size']/_df['trades_number'] # Average size per trade\n",
    "    \n",
    "    # Time features\n",
    "    df_date = pd.to_datetime(_df['unix_timestamp'], unit = 'ms')\n",
    "    _df['hour_of_the_day'] = df_date.dt.hour\n",
    "    _df['minute_of_the_hour'] = df_date.dt.minute\n",
    "\n",
    "    return _df"
   ]
  },
  {
   "cell_type": "code",
   "execution_count": 4,
   "id": "c082ae1f",
   "metadata": {},
   "outputs": [],
   "source": [
    "df_train_fe = feature_engineering(df_train)\n",
    "df_test_fe = feature_engineering(df_test)"
   ]
  },
  {
   "cell_type": "code",
   "execution_count": 10,
   "id": "26ff5f11",
   "metadata": {},
   "outputs": [],
   "source": [
    "df_train_fe.to_parquet('cleaned_train_set_fe.parquet')\n",
    "df_test_fe.to_parquet('cleaned_test_set_fe.parquet')"
   ]
  },
  {
   "cell_type": "code",
   "execution_count": null,
   "id": "57b3eaea",
   "metadata": {},
   "outputs": [],
   "source": []
  }
 ],
 "metadata": {
  "kernelspec": {
   "display_name": "Python 3",
   "language": "python",
   "name": "python3"
  },
  "language_info": {
   "codemirror_mode": {
    "name": "ipython",
    "version": 3
   },
   "file_extension": ".py",
   "mimetype": "text/x-python",
   "name": "python",
   "nbconvert_exporter": "python",
   "pygments_lexer": "ipython3",
   "version": "3.8.10"
  }
 },
 "nbformat": 4,
 "nbformat_minor": 5
}
