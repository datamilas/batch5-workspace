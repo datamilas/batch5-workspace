{
 "cells": [
  {
   "cell_type": "code",
   "execution_count": 1,
   "source": [
    "import pandas as pd\n",
    "import numpy as np\n",
    "import matplotlib.pyplot as plt\n",
    "import seaborn as sns\n",
    "\n",
    "from sklearn.preprocessing import RobustScaler"
   ],
   "outputs": [],
   "metadata": {}
  },
  {
   "cell_type": "code",
   "execution_count": 2,
   "source": [
    "train_df = pd.read_parquet('cleaned_train_set.parquet')\n",
    "test_df = pd.read_parquet('cleaned_test_set.parquet')"
   ],
   "outputs": [],
   "metadata": {}
  },
  {
   "cell_type": "code",
   "execution_count": 3,
   "source": [
    "def normalize(df, column):\n",
    "    robustscaler = RobustScaler()\n",
    "    X = df[[column]]\n",
    "    robustscaler.fit(X)\n",
    "    df[['{0}_normalized'.format(column)]] = robustscaler.transform(X)\n",
    "    df = df.drop(columns=[column])\n",
    "    return df\n",
    "\n",
    "def normalize_columns(df, columns):\n",
    "    _df = df.copy()\n",
    "    for col in columns:\n",
    "        _df = normalize(_df, col)\n",
    "    return _df"
   ],
   "outputs": [],
   "metadata": {}
  },
  {
   "cell_type": "code",
   "execution_count": 10,
   "source": [
    "columns = ['market_volatility', 'trades_number', 'trades_size', 'price_buy', 'price_sell', 'price_global', 'orders_buy_qty', 'orders_sell_qty', 'orders_buy_qty_top20', 'orders_sell_qty_top20', 'anonymous']\n",
    "normalized_train_df = normalize_columns(train_df, columns)\n",
    "normalized_test_df = normalize_columns(test_df, columns)"
   ],
   "outputs": [],
   "metadata": {}
  },
  {
   "cell_type": "code",
   "execution_count": 11,
   "source": [
    "normalized_test_df.shape"
   ],
   "outputs": [
    {
     "output_type": "execute_result",
     "data": {
      "text/plain": [
       "(65730, 14)"
      ]
     },
     "metadata": {},
     "execution_count": 11
    }
   ],
   "metadata": {}
  },
  {
   "cell_type": "code",
   "execution_count": 8,
   "source": [
    "import pyarrow as pa\n",
    "\n",
    "normalized_train_df.to_parquet('cleaned_normalized_train_set.parquet')\n",
    "normalized_test_df.to_parquet('cleaned_normalized_test_set.parquet')"
   ],
   "outputs": [],
   "metadata": {}
  }
 ],
 "metadata": {
  "orig_nbformat": 4,
  "language_info": {
   "name": "python",
   "version": "3.9.6",
   "mimetype": "text/x-python",
   "codemirror_mode": {
    "name": "ipython",
    "version": 3
   },
   "pygments_lexer": "ipython3",
   "nbconvert_exporter": "python",
   "file_extension": ".py"
  },
  "kernelspec": {
   "name": "python3",
   "display_name": "Python 3.9.6 64-bit ('.env': venv)"
  },
  "interpreter": {
   "hash": "349b71a40dad3b7bc543333bc4739ce66704c19d0708d45bff80396532adaaf0"
  }
 },
 "nbformat": 4,
 "nbformat_minor": 2
}