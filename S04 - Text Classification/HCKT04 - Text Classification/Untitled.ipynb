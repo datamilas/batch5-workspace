{
 "cells": [
  {
   "cell_type": "code",
   "execution_count": 1,
   "id": "6ad3563b",
   "metadata": {},
   "outputs": [],
   "source": [
    "# importing needed packages here\n",
    "\n",
    "import os\n",
    "import re\n",
    "import spacy\n",
    "import hashlib\n",
    "import numpy as np\n",
    "import pandas as pd\n",
    "\n",
    "from tqdm import tqdm\n",
    "from collections import Counter\n",
    "from spacy.matcher import Matcher\n",
    "from sklearn.metrics import accuracy_score\n",
    "from nltk.tokenize import WordPunctTokenizer\n",
    "from sklearn.preprocessing import StandardScaler\n",
    "from sklearn.ensemble import RandomForestClassifier\n",
    "from sklearn.pipeline import Pipeline, FeatureUnion\n",
    "from sklearn.model_selection import train_test_split\n",
    "from sklearn.base import BaseEstimator, TransformerMixin\n",
    "from sklearn.feature_extraction.text import TfidfVectorizer\n",
    "\n",
    "\n",
    "def _hash(s):\n",
    "    return hashlib.sha256(\n",
    "        bytes(str(s), encoding='utf8'),\n",
    "    ).hexdigest()\n",
    "\n",
    "cpu_count = int(os.cpu_count()) if os.cpu_count() != None else 4"
   ]
  },
  {
   "cell_type": "code",
   "execution_count": 284,
   "id": "8fbee28f",
   "metadata": {},
   "outputs": [],
   "source": [
    "data = pd.read_csv(\"data/book_review_labelled_data.csv\")"
   ]
  },
  {
   "cell_type": "code",
   "execution_count": 158,
   "id": "2710ca42",
   "metadata": {},
   "outputs": [
    {
     "data": {
      "text/html": [
       "<div>\n",
       "<style scoped>\n",
       "    .dataframe tbody tr th:only-of-type {\n",
       "        vertical-align: middle;\n",
       "    }\n",
       "\n",
       "    .dataframe tbody tr th {\n",
       "        vertical-align: top;\n",
       "    }\n",
       "\n",
       "    .dataframe thead th {\n",
       "        text-align: right;\n",
       "    }\n",
       "</style>\n",
       "<table border=\"1\" class=\"dataframe\">\n",
       "  <thead>\n",
       "    <tr style=\"text-align: right;\">\n",
       "      <th></th>\n",
       "      <th>reviewerID</th>\n",
       "      <th>reviewerName</th>\n",
       "      <th>reviewText</th>\n",
       "      <th>overall</th>\n",
       "      <th>summary</th>\n",
       "      <th>reviewTime</th>\n",
       "      <th>rates_count</th>\n",
       "      <th>helpful_count</th>\n",
       "      <th>rating</th>\n",
       "    </tr>\n",
       "  </thead>\n",
       "  <tbody>\n",
       "    <tr>\n",
       "      <th>0</th>\n",
       "      <td>A3UPFTGAWZ3G2R</td>\n",
       "      <td>David J. Loftus</td>\n",
       "      <td>Jenkins, a history professor and Member of Par...</td>\n",
       "      <td>4</td>\n",
       "      <td>Quite readable, nicely done</td>\n",
       "      <td>12 6, 2001</td>\n",
       "      <td>40</td>\n",
       "      <td>37</td>\n",
       "      <td>4</td>\n",
       "    </tr>\n",
       "    <tr>\n",
       "      <th>1</th>\n",
       "      <td>A1XTKTLNSCRLDS</td>\n",
       "      <td>Ellen Rappaport</td>\n",
       "      <td>Detective Inspector Erlendur Sveinsson is at h...</td>\n",
       "      <td>5</td>\n",
       "      <td>Mesmerizing in depth</td>\n",
       "      <td>02 23, 2014</td>\n",
       "      <td>0</td>\n",
       "      <td>0</td>\n",
       "      <td>5</td>\n",
       "    </tr>\n",
       "    <tr>\n",
       "      <th>2</th>\n",
       "      <td>A1A77B6DQQH436</td>\n",
       "      <td>crescamp \"esc\"</td>\n",
       "      <td>I didn't read this.  I purchased it for a gift...</td>\n",
       "      <td>3</td>\n",
       "      <td>10-minute life lessons for kids</td>\n",
       "      <td>02 12, 2013</td>\n",
       "      <td>3</td>\n",
       "      <td>0</td>\n",
       "      <td>3</td>\n",
       "    </tr>\n",
       "    <tr>\n",
       "      <th>3</th>\n",
       "      <td>AEAF4MRYHJZI</td>\n",
       "      <td>Angelia Menchan \"acvermen.blogspot.com\"</td>\n",
       "      <td>Fierce Angels by Sheri Park reads like a disse...</td>\n",
       "      <td>4</td>\n",
       "      <td>So FIERCE</td>\n",
       "      <td>03 24, 2010</td>\n",
       "      <td>9</td>\n",
       "      <td>9</td>\n",
       "      <td>4</td>\n",
       "    </tr>\n",
       "    <tr>\n",
       "      <th>4</th>\n",
       "      <td>A3B7KU72LGWFER</td>\n",
       "      <td>Grifel \"Tea Time\"</td>\n",
       "      <td>Clearly this author had two goals in mind: 1) ...</td>\n",
       "      <td>1</td>\n",
       "      <td>Drivel!</td>\n",
       "      <td>06 21, 2003</td>\n",
       "      <td>19</td>\n",
       "      <td>13</td>\n",
       "      <td>1</td>\n",
       "    </tr>\n",
       "  </tbody>\n",
       "</table>\n",
       "</div>"
      ],
      "text/plain": [
       "       reviewerID                             reviewerName  \\\n",
       "0  A3UPFTGAWZ3G2R                          David J. Loftus   \n",
       "1  A1XTKTLNSCRLDS                          Ellen Rappaport   \n",
       "2  A1A77B6DQQH436                           crescamp \"esc\"   \n",
       "3    AEAF4MRYHJZI  Angelia Menchan \"acvermen.blogspot.com\"   \n",
       "4  A3B7KU72LGWFER                        Grifel \"Tea Time\"   \n",
       "\n",
       "                                          reviewText  overall  \\\n",
       "0  Jenkins, a history professor and Member of Par...        4   \n",
       "1  Detective Inspector Erlendur Sveinsson is at h...        5   \n",
       "2  I didn't read this.  I purchased it for a gift...        3   \n",
       "3  Fierce Angels by Sheri Park reads like a disse...        4   \n",
       "4  Clearly this author had two goals in mind: 1) ...        1   \n",
       "\n",
       "                           summary   reviewTime  rates_count  helpful_count  \\\n",
       "0      Quite readable, nicely done   12 6, 2001           40             37   \n",
       "1             Mesmerizing in depth  02 23, 2014            0              0   \n",
       "2  10-minute life lessons for kids  02 12, 2013            3              0   \n",
       "3                        So FIERCE  03 24, 2010            9              9   \n",
       "4                          Drivel!  06 21, 2003           19             13   \n",
       "\n",
       "   rating  \n",
       "0       4  \n",
       "1       5  \n",
       "2       3  \n",
       "3       4  \n",
       "4       1  "
      ]
     },
     "execution_count": 158,
     "metadata": {},
     "output_type": "execute_result"
    }
   ],
   "source": [
    "data.head()"
   ]
  },
  {
   "cell_type": "code",
   "execution_count": 275,
   "id": "7d2b1144",
   "metadata": {},
   "outputs": [
    {
     "ename": "AttributeError",
     "evalue": "'DataFrame' object has no attribute 'rates_count'",
     "output_type": "error",
     "traceback": [
      "\u001b[0;31m---------------------------------------------------------------------------\u001b[0m",
      "\u001b[0;31mAttributeError\u001b[0m                            Traceback (most recent call last)",
      "\u001b[0;32m/tmp/ipykernel_14812/1167072050.py\u001b[0m in \u001b[0;36m<module>\u001b[0;34m\u001b[0m\n\u001b[0;32m----> 1\u001b[0;31m \u001b[0mnp\u001b[0m\u001b[0;34m.\u001b[0m\u001b[0msum\u001b[0m\u001b[0;34m(\u001b[0m\u001b[0mdata\u001b[0m\u001b[0;34m.\u001b[0m\u001b[0mrates_count\u001b[0m\u001b[0;34m>\u001b[0m\u001b[0;36m0\u001b[0m\u001b[0;34m)\u001b[0m\u001b[0;34m\u001b[0m\u001b[0;34m\u001b[0m\u001b[0m\n\u001b[0m",
      "\u001b[0;32m~/.virtualenvs/hckt04/lib/python3.8/site-packages/pandas/core/generic.py\u001b[0m in \u001b[0;36m__getattr__\u001b[0;34m(self, name)\u001b[0m\n\u001b[1;32m   5463\u001b[0m             \u001b[0;32mif\u001b[0m \u001b[0mself\u001b[0m\u001b[0;34m.\u001b[0m\u001b[0m_info_axis\u001b[0m\u001b[0;34m.\u001b[0m\u001b[0m_can_hold_identifiers_and_holds_name\u001b[0m\u001b[0;34m(\u001b[0m\u001b[0mname\u001b[0m\u001b[0;34m)\u001b[0m\u001b[0;34m:\u001b[0m\u001b[0;34m\u001b[0m\u001b[0;34m\u001b[0m\u001b[0m\n\u001b[1;32m   5464\u001b[0m                 \u001b[0;32mreturn\u001b[0m \u001b[0mself\u001b[0m\u001b[0;34m[\u001b[0m\u001b[0mname\u001b[0m\u001b[0;34m]\u001b[0m\u001b[0;34m\u001b[0m\u001b[0;34m\u001b[0m\u001b[0m\n\u001b[0;32m-> 5465\u001b[0;31m             \u001b[0;32mreturn\u001b[0m \u001b[0mobject\u001b[0m\u001b[0;34m.\u001b[0m\u001b[0m__getattribute__\u001b[0m\u001b[0;34m(\u001b[0m\u001b[0mself\u001b[0m\u001b[0;34m,\u001b[0m \u001b[0mname\u001b[0m\u001b[0;34m)\u001b[0m\u001b[0;34m\u001b[0m\u001b[0;34m\u001b[0m\u001b[0m\n\u001b[0m\u001b[1;32m   5466\u001b[0m \u001b[0;34m\u001b[0m\u001b[0m\n\u001b[1;32m   5467\u001b[0m     \u001b[0;32mdef\u001b[0m \u001b[0m__setattr__\u001b[0m\u001b[0;34m(\u001b[0m\u001b[0mself\u001b[0m\u001b[0;34m,\u001b[0m \u001b[0mname\u001b[0m\u001b[0;34m:\u001b[0m \u001b[0mstr\u001b[0m\u001b[0;34m,\u001b[0m \u001b[0mvalue\u001b[0m\u001b[0;34m)\u001b[0m \u001b[0;34m->\u001b[0m \u001b[0;32mNone\u001b[0m\u001b[0;34m:\u001b[0m\u001b[0;34m\u001b[0m\u001b[0;34m\u001b[0m\u001b[0m\n",
      "\u001b[0;31mAttributeError\u001b[0m: 'DataFrame' object has no attribute 'rates_count'"
     ]
    }
   ],
   "source": [
    "np.sum(data.rates_count>0)"
   ]
  },
  {
   "cell_type": "code",
   "execution_count": 4,
   "id": "d49d69d3",
   "metadata": {},
   "outputs": [
    {
     "data": {
      "text/plain": [
       "(49992, 9)"
      ]
     },
     "execution_count": 4,
     "metadata": {},
     "output_type": "execute_result"
    }
   ],
   "source": [
    "data.shape"
   ]
  },
  {
   "cell_type": "code",
   "execution_count": 5,
   "id": "80b09a43",
   "metadata": {},
   "outputs": [
    {
     "data": {
      "text/plain": [
       "5431"
      ]
     },
     "execution_count": 5,
     "metadata": {},
     "output_type": "execute_result"
    }
   ],
   "source": [
    "len(data.reviewTime.unique())"
   ]
  },
  {
   "cell_type": "code",
   "execution_count": 6,
   "id": "f43242fe",
   "metadata": {},
   "outputs": [
    {
     "data": {
      "text/plain": [
       "21569"
      ]
     },
     "execution_count": 6,
     "metadata": {},
     "output_type": "execute_result"
    }
   ],
   "source": [
    "np.sum(data.rates_count==0)"
   ]
  },
  {
   "cell_type": "code",
   "execution_count": 7,
   "id": "a9aa0d18",
   "metadata": {},
   "outputs": [
    {
     "data": {
      "text/plain": [
       "0"
      ]
     },
     "execution_count": 7,
     "metadata": {},
     "output_type": "execute_result"
    }
   ],
   "source": [
    "np.sum(data.overall-data.rating)"
   ]
  },
  {
   "cell_type": "code",
   "execution_count": 8,
   "id": "0400813b",
   "metadata": {},
   "outputs": [
    {
     "data": {
      "text/plain": [
       "21569"
      ]
     },
     "execution_count": 8,
     "metadata": {},
     "output_type": "execute_result"
    }
   ],
   "source": [
    "np.sum((data.helpful_count/data.rates_count).isnull())"
   ]
  },
  {
   "cell_type": "code",
   "execution_count": null,
   "id": "3a536703",
   "metadata": {},
   "outputs": [],
   "source": []
  },
  {
   "cell_type": "code",
   "execution_count": 285,
   "id": "29707361",
   "metadata": {},
   "outputs": [],
   "source": [
    "def rates_to_label(row):\n",
    "    if row['rates_count'] == 0:\n",
    "        val=np.nan\n",
    "    elif row['helpful_count']/row['rates_count'] <= 0.5:\n",
    "        val = False\n",
    "    elif row['helpful_count']/row['rates_count'] > 0.5:\n",
    "        val = True\n",
    "    return val"
   ]
  },
  {
   "cell_type": "code",
   "execution_count": 286,
   "id": "4dc5ea65",
   "metadata": {},
   "outputs": [],
   "source": [
    "data['label'] = data.apply(rates_to_label, axis=1)"
   ]
  },
  {
   "cell_type": "code",
   "execution_count": 287,
   "id": "8c653e2a",
   "metadata": {},
   "outputs": [],
   "source": [
    "data.dropna(inplace=True)\n",
    "data.drop([\"reviewerID\", \"rates_count\", \"helpful_count\"], axis=1, inplace=True)"
   ]
  },
  {
   "cell_type": "code",
   "execution_count": 280,
   "id": "6ff12124",
   "metadata": {},
   "outputs": [
    {
     "data": {
      "text/html": [
       "<div>\n",
       "<style scoped>\n",
       "    .dataframe tbody tr th:only-of-type {\n",
       "        vertical-align: middle;\n",
       "    }\n",
       "\n",
       "    .dataframe tbody tr th {\n",
       "        vertical-align: top;\n",
       "    }\n",
       "\n",
       "    .dataframe thead th {\n",
       "        text-align: right;\n",
       "    }\n",
       "</style>\n",
       "<table border=\"1\" class=\"dataframe\">\n",
       "  <thead>\n",
       "    <tr style=\"text-align: right;\">\n",
       "      <th></th>\n",
       "      <th>reviewerName</th>\n",
       "      <th>reviewText</th>\n",
       "      <th>overall</th>\n",
       "      <th>summary</th>\n",
       "      <th>reviewTime</th>\n",
       "      <th>rating</th>\n",
       "      <th>label</th>\n",
       "    </tr>\n",
       "  </thead>\n",
       "  <tbody>\n",
       "    <tr>\n",
       "      <th>0</th>\n",
       "      <td>David J. Loftus</td>\n",
       "      <td>Jenkins, a history professor and Member of Par...</td>\n",
       "      <td>4</td>\n",
       "      <td>Quite readable, nicely done</td>\n",
       "      <td>12 6, 2001</td>\n",
       "      <td>4</td>\n",
       "      <td>True</td>\n",
       "    </tr>\n",
       "    <tr>\n",
       "      <th>2</th>\n",
       "      <td>crescamp \"esc\"</td>\n",
       "      <td>I didn't read this.  I purchased it for a gift...</td>\n",
       "      <td>3</td>\n",
       "      <td>10-minute life lessons for kids</td>\n",
       "      <td>02 12, 2013</td>\n",
       "      <td>3</td>\n",
       "      <td>False</td>\n",
       "    </tr>\n",
       "    <tr>\n",
       "      <th>3</th>\n",
       "      <td>Angelia Menchan \"acvermen.blogspot.com\"</td>\n",
       "      <td>Fierce Angels by Sheri Park reads like a disse...</td>\n",
       "      <td>4</td>\n",
       "      <td>So FIERCE</td>\n",
       "      <td>03 24, 2010</td>\n",
       "      <td>4</td>\n",
       "      <td>True</td>\n",
       "    </tr>\n",
       "    <tr>\n",
       "      <th>4</th>\n",
       "      <td>Grifel \"Tea Time\"</td>\n",
       "      <td>Clearly this author had two goals in mind: 1) ...</td>\n",
       "      <td>1</td>\n",
       "      <td>Drivel!</td>\n",
       "      <td>06 21, 2003</td>\n",
       "      <td>1</td>\n",
       "      <td>True</td>\n",
       "    </tr>\n",
       "    <tr>\n",
       "      <th>5</th>\n",
       "      <td>isala \"Isabel and Lars\"</td>\n",
       "      <td>This is a collection of stories and memories b...</td>\n",
       "      <td>5</td>\n",
       "      <td>Compelling stories by ordinary people</td>\n",
       "      <td>03 19, 2005</td>\n",
       "      <td>5</td>\n",
       "      <td>True</td>\n",
       "    </tr>\n",
       "  </tbody>\n",
       "</table>\n",
       "</div>"
      ],
      "text/plain": [
       "                              reviewerName  \\\n",
       "0                          David J. Loftus   \n",
       "2                           crescamp \"esc\"   \n",
       "3  Angelia Menchan \"acvermen.blogspot.com\"   \n",
       "4                        Grifel \"Tea Time\"   \n",
       "5                  isala \"Isabel and Lars\"   \n",
       "\n",
       "                                          reviewText  overall  \\\n",
       "0  Jenkins, a history professor and Member of Par...        4   \n",
       "2  I didn't read this.  I purchased it for a gift...        3   \n",
       "3  Fierce Angels by Sheri Park reads like a disse...        4   \n",
       "4  Clearly this author had two goals in mind: 1) ...        1   \n",
       "5  This is a collection of stories and memories b...        5   \n",
       "\n",
       "                                 summary   reviewTime  rating  label  \n",
       "0            Quite readable, nicely done   12 6, 2001       4   True  \n",
       "2        10-minute life lessons for kids  02 12, 2013       3  False  \n",
       "3                              So FIERCE  03 24, 2010       4   True  \n",
       "4                                Drivel!  06 21, 2003       1   True  \n",
       "5  Compelling stories by ordinary people  03 19, 2005       5   True  "
      ]
     },
     "execution_count": 280,
     "metadata": {},
     "output_type": "execute_result"
    }
   ],
   "source": [
    "data.head()"
   ]
  },
  {
   "cell_type": "code",
   "execution_count": 288,
   "id": "36607b17",
   "metadata": {},
   "outputs": [
    {
     "name": "stdout",
     "output_type": "stream",
     "text": [
      "Size of dataset: 28423\n",
      "Distribution of classes: {False: 8911, True: 19512}\n"
     ]
    }
   ],
   "source": [
    "#check the data size and distribution of classes:\n",
    "def get_data_stats(X, y):\n",
    "    print(f\"Size of dataset: {len(X)}\")\n",
    "    unique, counts = np.unique(y, return_counts=True)\n",
    "    print(f\"Distribution of classes: {dict(zip(unique, counts))}\")\n",
    "\n",
    "get_data_stats(data, data.label)"
   ]
  },
  {
   "cell_type": "code",
   "execution_count": 289,
   "id": "28551bb2",
   "metadata": {},
   "outputs": [
    {
     "data": {
      "text/plain": [
       "True     0.686486\n",
       "False    0.313514\n",
       "Name: label, dtype: float64"
      ]
     },
     "execution_count": 289,
     "metadata": {},
     "output_type": "execute_result"
    }
   ],
   "source": [
    "data.label.value_counts(normalize=True)"
   ]
  },
  {
   "cell_type": "code",
   "execution_count": 282,
   "id": "ba590b58",
   "metadata": {},
   "outputs": [
    {
     "data": {
      "text/html": [
       "<div>\n",
       "<style scoped>\n",
       "    .dataframe tbody tr th:only-of-type {\n",
       "        vertical-align: middle;\n",
       "    }\n",
       "\n",
       "    .dataframe tbody tr th {\n",
       "        vertical-align: top;\n",
       "    }\n",
       "\n",
       "    .dataframe thead th {\n",
       "        text-align: right;\n",
       "    }\n",
       "</style>\n",
       "<table border=\"1\" class=\"dataframe\">\n",
       "  <thead>\n",
       "    <tr style=\"text-align: right;\">\n",
       "      <th></th>\n",
       "      <th>reviewerName</th>\n",
       "      <th>reviewText</th>\n",
       "      <th>overall</th>\n",
       "      <th>summary</th>\n",
       "      <th>reviewTime</th>\n",
       "      <th>rating</th>\n",
       "      <th>label</th>\n",
       "    </tr>\n",
       "  </thead>\n",
       "  <tbody>\n",
       "    <tr>\n",
       "      <th>0</th>\n",
       "      <td>David J. Loftus</td>\n",
       "      <td>Jenkins, a history professor and Member of Par...</td>\n",
       "      <td>4</td>\n",
       "      <td>Quite readable, nicely done</td>\n",
       "      <td>12 6, 2001</td>\n",
       "      <td>4</td>\n",
       "      <td>True</td>\n",
       "    </tr>\n",
       "    <tr>\n",
       "      <th>2</th>\n",
       "      <td>crescamp \"esc\"</td>\n",
       "      <td>I didn't read this.  I purchased it for a gift...</td>\n",
       "      <td>3</td>\n",
       "      <td>10-minute life lessons for kids</td>\n",
       "      <td>02 12, 2013</td>\n",
       "      <td>3</td>\n",
       "      <td>False</td>\n",
       "    </tr>\n",
       "    <tr>\n",
       "      <th>3</th>\n",
       "      <td>Angelia Menchan \"acvermen.blogspot.com\"</td>\n",
       "      <td>Fierce Angels by Sheri Park reads like a disse...</td>\n",
       "      <td>4</td>\n",
       "      <td>So FIERCE</td>\n",
       "      <td>03 24, 2010</td>\n",
       "      <td>4</td>\n",
       "      <td>True</td>\n",
       "    </tr>\n",
       "    <tr>\n",
       "      <th>4</th>\n",
       "      <td>Grifel \"Tea Time\"</td>\n",
       "      <td>Clearly this author had two goals in mind: 1) ...</td>\n",
       "      <td>1</td>\n",
       "      <td>Drivel!</td>\n",
       "      <td>06 21, 2003</td>\n",
       "      <td>1</td>\n",
       "      <td>True</td>\n",
       "    </tr>\n",
       "    <tr>\n",
       "      <th>5</th>\n",
       "      <td>isala \"Isabel and Lars\"</td>\n",
       "      <td>This is a collection of stories and memories b...</td>\n",
       "      <td>5</td>\n",
       "      <td>Compelling stories by ordinary people</td>\n",
       "      <td>03 19, 2005</td>\n",
       "      <td>5</td>\n",
       "      <td>True</td>\n",
       "    </tr>\n",
       "  </tbody>\n",
       "</table>\n",
       "</div>"
      ],
      "text/plain": [
       "                              reviewerName  \\\n",
       "0                          David J. Loftus   \n",
       "2                           crescamp \"esc\"   \n",
       "3  Angelia Menchan \"acvermen.blogspot.com\"   \n",
       "4                        Grifel \"Tea Time\"   \n",
       "5                  isala \"Isabel and Lars\"   \n",
       "\n",
       "                                          reviewText  overall  \\\n",
       "0  Jenkins, a history professor and Member of Par...        4   \n",
       "2  I didn't read this.  I purchased it for a gift...        3   \n",
       "3  Fierce Angels by Sheri Park reads like a disse...        4   \n",
       "4  Clearly this author had two goals in mind: 1) ...        1   \n",
       "5  This is a collection of stories and memories b...        5   \n",
       "\n",
       "                                 summary   reviewTime  rating  label  \n",
       "0            Quite readable, nicely done   12 6, 2001       4   True  \n",
       "2        10-minute life lessons for kids  02 12, 2013       3  False  \n",
       "3                              So FIERCE  03 24, 2010       4   True  \n",
       "4                                Drivel!  06 21, 2003       1   True  \n",
       "5  Compelling stories by ordinary people  03 19, 2005       5   True  "
      ]
     },
     "execution_count": 282,
     "metadata": {},
     "output_type": "execute_result"
    }
   ],
   "source": [
    "data.head()"
   ]
  },
  {
   "cell_type": "code",
   "execution_count": 290,
   "id": "0df39901",
   "metadata": {},
   "outputs": [],
   "source": [
    "df_baseline = data.drop([\"reviewerName\",\"overall\", \"summary\", \"reviewTime\"], axis=1)"
   ]
  },
  {
   "cell_type": "code",
   "execution_count": 291,
   "id": "cde2ddbf",
   "metadata": {},
   "outputs": [],
   "source": [
    "df_baseline.label = df_baseline.label.astype(str)"
   ]
  },
  {
   "cell_type": "code",
   "execution_count": 292,
   "id": "1bae2292",
   "metadata": {},
   "outputs": [
    {
     "data": {
      "text/html": [
       "<div>\n",
       "<style scoped>\n",
       "    .dataframe tbody tr th:only-of-type {\n",
       "        vertical-align: middle;\n",
       "    }\n",
       "\n",
       "    .dataframe tbody tr th {\n",
       "        vertical-align: top;\n",
       "    }\n",
       "\n",
       "    .dataframe thead th {\n",
       "        text-align: right;\n",
       "    }\n",
       "</style>\n",
       "<table border=\"1\" class=\"dataframe\">\n",
       "  <thead>\n",
       "    <tr style=\"text-align: right;\">\n",
       "      <th></th>\n",
       "      <th>reviewText</th>\n",
       "      <th>rating</th>\n",
       "      <th>label</th>\n",
       "    </tr>\n",
       "  </thead>\n",
       "  <tbody>\n",
       "    <tr>\n",
       "      <th>0</th>\n",
       "      <td>Jenkins, a history professor and Member of Par...</td>\n",
       "      <td>4</td>\n",
       "      <td>True</td>\n",
       "    </tr>\n",
       "    <tr>\n",
       "      <th>2</th>\n",
       "      <td>I didn't read this.  I purchased it for a gift...</td>\n",
       "      <td>3</td>\n",
       "      <td>False</td>\n",
       "    </tr>\n",
       "    <tr>\n",
       "      <th>3</th>\n",
       "      <td>Fierce Angels by Sheri Park reads like a disse...</td>\n",
       "      <td>4</td>\n",
       "      <td>True</td>\n",
       "    </tr>\n",
       "    <tr>\n",
       "      <th>4</th>\n",
       "      <td>Clearly this author had two goals in mind: 1) ...</td>\n",
       "      <td>1</td>\n",
       "      <td>True</td>\n",
       "    </tr>\n",
       "    <tr>\n",
       "      <th>5</th>\n",
       "      <td>This is a collection of stories and memories b...</td>\n",
       "      <td>5</td>\n",
       "      <td>True</td>\n",
       "    </tr>\n",
       "    <tr>\n",
       "      <th>...</th>\n",
       "      <td>...</td>\n",
       "      <td>...</td>\n",
       "      <td>...</td>\n",
       "    </tr>\n",
       "    <tr>\n",
       "      <th>49982</th>\n",
       "      <td>Daniel Klein is the co-author (with Thomas Cat...</td>\n",
       "      <td>4</td>\n",
       "      <td>True</td>\n",
       "    </tr>\n",
       "    <tr>\n",
       "      <th>49983</th>\n",
       "      <td>This Golden Book has been around since 1962.  ...</td>\n",
       "      <td>5</td>\n",
       "      <td>True</td>\n",
       "    </tr>\n",
       "    <tr>\n",
       "      <th>49987</th>\n",
       "      <td>I was initially attracted to this book because...</td>\n",
       "      <td>5</td>\n",
       "      <td>True</td>\n",
       "    </tr>\n",
       "    <tr>\n",
       "      <th>49990</th>\n",
       "      <td>Intriguing mystery and compelling romance. Cha...</td>\n",
       "      <td>5</td>\n",
       "      <td>True</td>\n",
       "    </tr>\n",
       "    <tr>\n",
       "      <th>49991</th>\n",
       "      <td>Oh, the power of words.  This book so powerful...</td>\n",
       "      <td>4</td>\n",
       "      <td>True</td>\n",
       "    </tr>\n",
       "  </tbody>\n",
       "</table>\n",
       "<p>28423 rows × 3 columns</p>\n",
       "</div>"
      ],
      "text/plain": [
       "                                              reviewText  rating  label\n",
       "0      Jenkins, a history professor and Member of Par...       4   True\n",
       "2      I didn't read this.  I purchased it for a gift...       3  False\n",
       "3      Fierce Angels by Sheri Park reads like a disse...       4   True\n",
       "4      Clearly this author had two goals in mind: 1) ...       1   True\n",
       "5      This is a collection of stories and memories b...       5   True\n",
       "...                                                  ...     ...    ...\n",
       "49982  Daniel Klein is the co-author (with Thomas Cat...       4   True\n",
       "49983  This Golden Book has been around since 1962.  ...       5   True\n",
       "49987  I was initially attracted to this book because...       5   True\n",
       "49990  Intriguing mystery and compelling romance. Cha...       5   True\n",
       "49991  Oh, the power of words.  This book so powerful...       4   True\n",
       "\n",
       "[28423 rows x 3 columns]"
      ]
     },
     "execution_count": 292,
     "metadata": {},
     "output_type": "execute_result"
    }
   ],
   "source": [
    "df_baseline"
   ]
  },
  {
   "cell_type": "code",
   "execution_count": 175,
   "id": "40860d0b",
   "metadata": {},
   "outputs": [],
   "source": [
    "class Selector(BaseEstimator, TransformerMixin):\n",
    "    \"\"\"\n",
    "    Transformer to select a column from the dataframe to perform additional transformations on\n",
    "    \"\"\" \n",
    "    def __init__(self, key):\n",
    "        self.key = key\n",
    "        \n",
    "    def fit(self, X, y=None):\n",
    "        return self\n",
    "    \n",
    "\n",
    "class TextSelector(Selector):\n",
    "    \"\"\"\n",
    "    Transformer to select a single column from the data frame to perform additional transformations on\n",
    "    Use on text columns in the data\n",
    "    \"\"\"\n",
    "    def transform(self, X):\n",
    "        return X[self.key]\n",
    "    \n",
    "    \n",
    "class NumberSelector(Selector):\n",
    "    \"\"\"\n",
    "    Transformer to select a single column from the data frame to perform additional transformations on\n",
    "    Use on numeric columns in the data\n",
    "    \"\"\"\n",
    "    def transform(self, X):\n",
    "        return X[[self.key]]\n",
    "    \n",
    "    "
   ]
  },
  {
   "cell_type": "code",
   "execution_count": 310,
   "id": "03408f01",
   "metadata": {},
   "outputs": [],
   "source": [
    "text = Pipeline([\n",
    "                ('selector', TextSelector(\"reviewText\")),\n",
    "                ('tfidf', TfidfVectorizer())\n",
    "            ])\n",
    "\n",
    "rating =  Pipeline([\n",
    "                ('selector', NumberSelector(\"rating\")),\n",
    "                ('standard', StandardScaler())\n",
    "            ])\n",
    "\n",
    "reviewAge =  Pipeline([\n",
    "                ('selector', NumberSelector(\"reviewAge\")),\n",
    "                ('standard', StandardScaler())\n",
    "            ])\n",
    "\n",
    "isPerson =  Pipeline([\n",
    "                ('selector', NumberSelector(\"is_person\")),\n",
    "                ('standard', StandardScaler())\n",
    "            ])"
   ]
  },
  {
   "cell_type": "code",
   "execution_count": 311,
   "id": "ca1c2528",
   "metadata": {},
   "outputs": [],
   "source": [
    "# Feature Union allow us to use multiple distinct features in our classifier\n",
    "feats = FeatureUnion([('text', text), \n",
    "                      ('rating', rating),\n",
    "                     #(\"reviewAge\", reviewAge),\n",
    "                      (\"isPerson\", isPerson),\n",
    "                     \n",
    "                     \n",
    "                     ])"
   ]
  },
  {
   "cell_type": "code",
   "execution_count": 308,
   "id": "c845f9b3",
   "metadata": {},
   "outputs": [
    {
     "data": {
      "text/plain": [
       "0.7115215479331575"
      ]
     },
     "execution_count": 308,
     "metadata": {},
     "output_type": "execute_result"
    }
   ],
   "source": [
    "# Split in train and validation\n",
    "train_data, test_data = train_test_split(df_baseline, test_size=0.2, stratify=df_baseline.label)\n",
    "\n",
    "pipeline = Pipeline([\n",
    "    ('features',feats),\n",
    "    ('classifier', RandomForestClassifier(random_state = 41)),\n",
    "])\n",
    "\n",
    "pipeline.fit(train_data.drop([\"label\"], axis=1), train_data.label)\n",
    "\n",
    "preds = pipeline.predict(test_data.drop([\"label\"], axis=1))\n",
    "np.mean(preds == test_data.label)"
   ]
  },
  {
   "cell_type": "code",
   "execution_count": 294,
   "id": "3928c10d",
   "metadata": {},
   "outputs": [],
   "source": [
    "data_all=pd.read_csv(\"data/book_review_labelled_data.csv\")\n",
    "data_all = data_all[data_all[\"rates_count\"]>0]\n",
    "data_all[\"reviewTime\"] = pd.to_datetime(data_all.reviewTime)"
   ]
  },
  {
   "cell_type": "code",
   "execution_count": null,
   "id": "1afeb174",
   "metadata": {},
   "outputs": [],
   "source": []
  },
  {
   "cell_type": "code",
   "execution_count": 295,
   "id": "e35ef645",
   "metadata": {},
   "outputs": [],
   "source": [
    "df_baseline[\"reviewAge\"] = (datetime.datetime.now()-data_all.reviewTime).astype('timedelta64[D]')"
   ]
  },
  {
   "cell_type": "code",
   "execution_count": 312,
   "id": "27a05556",
   "metadata": {},
   "outputs": [
    {
     "data": {
      "text/plain": [
       "0.7115215479331575"
      ]
     },
     "execution_count": 312,
     "metadata": {},
     "output_type": "execute_result"
    }
   ],
   "source": [
    "# Split in train and validation\n",
    "train_data, test_data = train_test_split(df_baseline, test_size=0.2, stratify=df_baseline.label)\n",
    "\n",
    "pipeline = Pipeline([\n",
    "    ('features',feats),\n",
    "    ('classifier', RandomForestClassifier(random_state = 41)),\n",
    "])\n",
    "\n",
    "pipeline.fit(train_data.drop([\"label\"], axis=1), train_data.label)\n",
    "\n",
    "preds = pipeline.predict(test_data.drop([\"label\"], axis=1))\n",
    "np.mean(preds == test_data.label)"
   ]
  },
  {
   "cell_type": "code",
   "execution_count": null,
   "id": "3690f888",
   "metadata": {},
   "outputs": [],
   "source": []
  },
  {
   "cell_type": "code",
   "execution_count": 313,
   "id": "615453e9",
   "metadata": {},
   "outputs": [
    {
     "data": {
      "text/html": [
       "<div>\n",
       "<style scoped>\n",
       "    .dataframe tbody tr th:only-of-type {\n",
       "        vertical-align: middle;\n",
       "    }\n",
       "\n",
       "    .dataframe tbody tr th {\n",
       "        vertical-align: top;\n",
       "    }\n",
       "\n",
       "    .dataframe thead th {\n",
       "        text-align: right;\n",
       "    }\n",
       "</style>\n",
       "<table border=\"1\" class=\"dataframe\">\n",
       "  <thead>\n",
       "    <tr style=\"text-align: right;\">\n",
       "      <th></th>\n",
       "      <th>reviewText</th>\n",
       "      <th>rating</th>\n",
       "      <th>label</th>\n",
       "      <th>reviewAge</th>\n",
       "      <th>is_person</th>\n",
       "    </tr>\n",
       "  </thead>\n",
       "  <tbody>\n",
       "    <tr>\n",
       "      <th>0</th>\n",
       "      <td>Jenkins, a history professor and Member of Par...</td>\n",
       "      <td>4</td>\n",
       "      <td>True</td>\n",
       "      <td>7276.0</td>\n",
       "      <td>True</td>\n",
       "    </tr>\n",
       "    <tr>\n",
       "      <th>2</th>\n",
       "      <td>I didn't read this.  I purchased it for a gift...</td>\n",
       "      <td>3</td>\n",
       "      <td>False</td>\n",
       "      <td>3190.0</td>\n",
       "      <td>False</td>\n",
       "    </tr>\n",
       "    <tr>\n",
       "      <th>3</th>\n",
       "      <td>Fierce Angels by Sheri Park reads like a disse...</td>\n",
       "      <td>4</td>\n",
       "      <td>True</td>\n",
       "      <td>4246.0</td>\n",
       "      <td>True</td>\n",
       "    </tr>\n",
       "    <tr>\n",
       "      <th>4</th>\n",
       "      <td>Clearly this author had two goals in mind: 1) ...</td>\n",
       "      <td>1</td>\n",
       "      <td>True</td>\n",
       "      <td>6714.0</td>\n",
       "      <td>False</td>\n",
       "    </tr>\n",
       "    <tr>\n",
       "      <th>5</th>\n",
       "      <td>This is a collection of stories and memories b...</td>\n",
       "      <td>5</td>\n",
       "      <td>True</td>\n",
       "      <td>6077.0</td>\n",
       "      <td>False</td>\n",
       "    </tr>\n",
       "    <tr>\n",
       "      <th>...</th>\n",
       "      <td>...</td>\n",
       "      <td>...</td>\n",
       "      <td>...</td>\n",
       "      <td>...</td>\n",
       "      <td>...</td>\n",
       "    </tr>\n",
       "    <tr>\n",
       "      <th>49982</th>\n",
       "      <td>Daniel Klein is the co-author (with Thomas Cat...</td>\n",
       "      <td>4</td>\n",
       "      <td>True</td>\n",
       "      <td>3199.0</td>\n",
       "      <td>True</td>\n",
       "    </tr>\n",
       "    <tr>\n",
       "      <th>49983</th>\n",
       "      <td>This Golden Book has been around since 1962.  ...</td>\n",
       "      <td>5</td>\n",
       "      <td>True</td>\n",
       "      <td>5525.0</td>\n",
       "      <td>False</td>\n",
       "    </tr>\n",
       "    <tr>\n",
       "      <th>49987</th>\n",
       "      <td>I was initially attracted to this book because...</td>\n",
       "      <td>5</td>\n",
       "      <td>True</td>\n",
       "      <td>4695.0</td>\n",
       "      <td>False</td>\n",
       "    </tr>\n",
       "    <tr>\n",
       "      <th>49990</th>\n",
       "      <td>Intriguing mystery and compelling romance. Cha...</td>\n",
       "      <td>5</td>\n",
       "      <td>True</td>\n",
       "      <td>3533.0</td>\n",
       "      <td>True</td>\n",
       "    </tr>\n",
       "    <tr>\n",
       "      <th>49991</th>\n",
       "      <td>Oh, the power of words.  This book so powerful...</td>\n",
       "      <td>4</td>\n",
       "      <td>True</td>\n",
       "      <td>4059.0</td>\n",
       "      <td>True</td>\n",
       "    </tr>\n",
       "  </tbody>\n",
       "</table>\n",
       "<p>28423 rows × 5 columns</p>\n",
       "</div>"
      ],
      "text/plain": [
       "                                              reviewText  rating  label  \\\n",
       "0      Jenkins, a history professor and Member of Par...       4   True   \n",
       "2      I didn't read this.  I purchased it for a gift...       3  False   \n",
       "3      Fierce Angels by Sheri Park reads like a disse...       4   True   \n",
       "4      Clearly this author had two goals in mind: 1) ...       1   True   \n",
       "5      This is a collection of stories and memories b...       5   True   \n",
       "...                                                  ...     ...    ...   \n",
       "49982  Daniel Klein is the co-author (with Thomas Cat...       4   True   \n",
       "49983  This Golden Book has been around since 1962.  ...       5   True   \n",
       "49987  I was initially attracted to this book because...       5   True   \n",
       "49990  Intriguing mystery and compelling romance. Cha...       5   True   \n",
       "49991  Oh, the power of words.  This book so powerful...       4   True   \n",
       "\n",
       "       reviewAge  is_person  \n",
       "0         7276.0       True  \n",
       "2         3190.0      False  \n",
       "3         4246.0       True  \n",
       "4         6714.0      False  \n",
       "5         6077.0      False  \n",
       "...          ...        ...  \n",
       "49982     3199.0       True  \n",
       "49983     5525.0      False  \n",
       "49987     4695.0      False  \n",
       "49990     3533.0       True  \n",
       "49991     4059.0       True  \n",
       "\n",
       "[28423 rows x 5 columns]"
      ]
     },
     "execution_count": 313,
     "metadata": {},
     "output_type": "execute_result"
    }
   ],
   "source": [
    "df_baseline"
   ]
  },
  {
   "cell_type": "code",
   "execution_count": 300,
   "id": "103be598",
   "metadata": {},
   "outputs": [
    {
     "data": {
      "text/plain": [
       "0.7104661389621811"
      ]
     },
     "execution_count": 300,
     "metadata": {},
     "output_type": "execute_result"
    }
   ],
   "source": [
    "# Split in train and validation\n",
    "train_data, test_data = train_test_split(df_baseline, test_size=0.2, stratify=df_baseline.label)\n",
    "\n",
    "pipeline = Pipeline([\n",
    "    ('features',feats),\n",
    "    ('classifier', RandomForestClassifier(random_state = 41)),\n",
    "])\n",
    "\n",
    "pipeline.fit(train_data.drop([\"label\"], axis=1), train_data.label)\n",
    "\n",
    "preds = pipeline.predict(test_data.drop([\"label\"], axis=1))\n",
    "np.mean(preds == test_data.label)"
   ]
  },
  {
   "cell_type": "code",
   "execution_count": 299,
   "id": "9b554955",
   "metadata": {},
   "outputs": [
    {
     "data": {
      "text/html": [
       "<div>\n",
       "<style scoped>\n",
       "    .dataframe tbody tr th:only-of-type {\n",
       "        vertical-align: middle;\n",
       "    }\n",
       "\n",
       "    .dataframe tbody tr th {\n",
       "        vertical-align: top;\n",
       "    }\n",
       "\n",
       "    .dataframe thead th {\n",
       "        text-align: right;\n",
       "    }\n",
       "</style>\n",
       "<table border=\"1\" class=\"dataframe\">\n",
       "  <thead>\n",
       "    <tr style=\"text-align: right;\">\n",
       "      <th></th>\n",
       "      <th>reviewText</th>\n",
       "      <th>rating</th>\n",
       "      <th>label</th>\n",
       "      <th>reviewAge</th>\n",
       "    </tr>\n",
       "  </thead>\n",
       "  <tbody>\n",
       "    <tr>\n",
       "      <th>15762</th>\n",
       "      <td>Hattie Kong, the protagonist in Gish Jen's lat...</td>\n",
       "      <td>3</td>\n",
       "      <td>True</td>\n",
       "      <td>3927.0</td>\n",
       "    </tr>\n",
       "    <tr>\n",
       "      <th>39709</th>\n",
       "      <td>This exciting well written memoir by Fred Burt...</td>\n",
       "      <td>5</td>\n",
       "      <td>True</td>\n",
       "      <td>4902.0</td>\n",
       "    </tr>\n",
       "    <tr>\n",
       "      <th>29985</th>\n",
       "      <td>The latest installment of the &amp;#34;Freak&amp;#34; ...</td>\n",
       "      <td>4</td>\n",
       "      <td>True</td>\n",
       "      <td>2714.0</td>\n",
       "    </tr>\n",
       "    <tr>\n",
       "      <th>15415</th>\n",
       "      <td>I read several of the 1 star reviews of this b...</td>\n",
       "      <td>5</td>\n",
       "      <td>False</td>\n",
       "      <td>3299.0</td>\n",
       "    </tr>\n",
       "    <tr>\n",
       "      <th>13387</th>\n",
       "      <td>Karen Abbott's first book, Sin in the Second C...</td>\n",
       "      <td>4</td>\n",
       "      <td>True</td>\n",
       "      <td>3944.0</td>\n",
       "    </tr>\n",
       "    <tr>\n",
       "      <th>...</th>\n",
       "      <td>...</td>\n",
       "      <td>...</td>\n",
       "      <td>...</td>\n",
       "      <td>...</td>\n",
       "    </tr>\n",
       "    <tr>\n",
       "      <th>9042</th>\n",
       "      <td>I've become a somewhat avid reader of fiction ...</td>\n",
       "      <td>3</td>\n",
       "      <td>True</td>\n",
       "      <td>5359.0</td>\n",
       "    </tr>\n",
       "    <tr>\n",
       "      <th>38939</th>\n",
       "      <td>I bought this book in order to study the kinds...</td>\n",
       "      <td>4</td>\n",
       "      <td>True</td>\n",
       "      <td>7605.0</td>\n",
       "    </tr>\n",
       "    <tr>\n",
       "      <th>3171</th>\n",
       "      <td>Ghost Writer, is a small on length, but big on...</td>\n",
       "      <td>4</td>\n",
       "      <td>False</td>\n",
       "      <td>6631.0</td>\n",
       "    </tr>\n",
       "    <tr>\n",
       "      <th>34441</th>\n",
       "      <td>Tight prose and a gripping story - hard to bel...</td>\n",
       "      <td>5</td>\n",
       "      <td>False</td>\n",
       "      <td>2710.0</td>\n",
       "    </tr>\n",
       "    <tr>\n",
       "      <th>43387</th>\n",
       "      <td>The reviews that I read caused me to expect a ...</td>\n",
       "      <td>1</td>\n",
       "      <td>False</td>\n",
       "      <td>3487.0</td>\n",
       "    </tr>\n",
       "  </tbody>\n",
       "</table>\n",
       "<p>22738 rows × 4 columns</p>\n",
       "</div>"
      ],
      "text/plain": [
       "                                              reviewText  rating  label  \\\n",
       "15762  Hattie Kong, the protagonist in Gish Jen's lat...       3   True   \n",
       "39709  This exciting well written memoir by Fred Burt...       5   True   \n",
       "29985  The latest installment of the &#34;Freak&#34; ...       4   True   \n",
       "15415  I read several of the 1 star reviews of this b...       5  False   \n",
       "13387  Karen Abbott's first book, Sin in the Second C...       4   True   \n",
       "...                                                  ...     ...    ...   \n",
       "9042   I've become a somewhat avid reader of fiction ...       3   True   \n",
       "38939  I bought this book in order to study the kinds...       4   True   \n",
       "3171   Ghost Writer, is a small on length, but big on...       4  False   \n",
       "34441  Tight prose and a gripping story - hard to bel...       5  False   \n",
       "43387  The reviews that I read caused me to expect a ...       1  False   \n",
       "\n",
       "       reviewAge  \n",
       "15762     3927.0  \n",
       "39709     4902.0  \n",
       "29985     2714.0  \n",
       "15415     3299.0  \n",
       "13387     3944.0  \n",
       "...          ...  \n",
       "9042      5359.0  \n",
       "38939     7605.0  \n",
       "3171      6631.0  \n",
       "34441     2710.0  \n",
       "43387     3487.0  \n",
       "\n",
       "[22738 rows x 4 columns]"
      ]
     },
     "execution_count": 299,
     "metadata": {},
     "output_type": "execute_result"
    }
   ],
   "source": []
  },
  {
   "cell_type": "code",
   "execution_count": null,
   "id": "e210cc5b",
   "metadata": {},
   "outputs": [],
   "source": []
  },
  {
   "cell_type": "code",
   "execution_count": null,
   "id": "f8a30ed4",
   "metadata": {},
   "outputs": [],
   "source": []
  },
  {
   "cell_type": "code",
   "execution_count": 64,
   "id": "a8a71e73",
   "metadata": {},
   "outputs": [
    {
     "name": "stderr",
     "output_type": "stream",
     "text": [
      "<__array_function__ internals>:5: RuntimeWarning: Converting input from bool to <class 'numpy.uint8'> for compatibility.\n"
     ]
    },
    {
     "ename": "TypeError",
     "evalue": "numpy boolean subtract, the `-` operator, is not supported, use the bitwise_xor, the `^` operator, or the logical_xor function instead.",
     "output_type": "error",
     "traceback": [
      "\u001b[0;31m---------------------------------------------------------------------------\u001b[0m",
      "\u001b[0;31mKeyError\u001b[0m                                  Traceback (most recent call last)",
      "\u001b[0;32m~/.virtualenvs/hckt04/lib/python3.8/site-packages/numpy/lib/histograms.py\u001b[0m in \u001b[0;36m_unsigned_subtract\u001b[0;34m(a, b)\u001b[0m\n\u001b[1;32m    350\u001b[0m     \u001b[0;32mtry\u001b[0m\u001b[0;34m:\u001b[0m\u001b[0;34m\u001b[0m\u001b[0;34m\u001b[0m\u001b[0m\n\u001b[0;32m--> 351\u001b[0;31m         \u001b[0mdt\u001b[0m \u001b[0;34m=\u001b[0m \u001b[0msigned_to_unsigned\u001b[0m\u001b[0;34m[\u001b[0m\u001b[0mdt\u001b[0m\u001b[0;34m.\u001b[0m\u001b[0mtype\u001b[0m\u001b[0;34m]\u001b[0m\u001b[0;34m\u001b[0m\u001b[0;34m\u001b[0m\u001b[0m\n\u001b[0m\u001b[1;32m    352\u001b[0m     \u001b[0;32mexcept\u001b[0m \u001b[0mKeyError\u001b[0m\u001b[0;34m:\u001b[0m\u001b[0;34m\u001b[0m\u001b[0;34m\u001b[0m\u001b[0m\n",
      "\u001b[0;31mKeyError\u001b[0m: <class 'numpy.bool_'>",
      "\nDuring handling of the above exception, another exception occurred:\n",
      "\u001b[0;31mTypeError\u001b[0m                                 Traceback (most recent call last)",
      "\u001b[0;32m/tmp/ipykernel_14812/4148005488.py\u001b[0m in \u001b[0;36m<module>\u001b[0;34m\u001b[0m\n\u001b[0;32m----> 1\u001b[0;31m \u001b[0max_list\u001b[0m \u001b[0;34m=\u001b[0m \u001b[0mdata\u001b[0m\u001b[0;34m.\u001b[0m\u001b[0mhist\u001b[0m\u001b[0;34m(\u001b[0m\u001b[0mcolumn\u001b[0m\u001b[0;34m=\u001b[0m\u001b[0;34m'is_person'\u001b[0m\u001b[0;34m,\u001b[0m \u001b[0mby\u001b[0m\u001b[0;34m=\u001b[0m\u001b[0;34m'label'\u001b[0m\u001b[0;34m,\u001b[0m \u001b[0mbins\u001b[0m\u001b[0;34m=\u001b[0m\u001b[0;36m50\u001b[0m\u001b[0;34m,\u001b[0m\u001b[0mfigsize\u001b[0m\u001b[0;34m=\u001b[0m\u001b[0;34m(\u001b[0m\u001b[0;36m12\u001b[0m\u001b[0;34m,\u001b[0m\u001b[0;36m4\u001b[0m\u001b[0;34m)\u001b[0m\u001b[0;34m)\u001b[0m\u001b[0;34m\u001b[0m\u001b[0;34m\u001b[0m\u001b[0m\n\u001b[0m\u001b[1;32m      2\u001b[0m \u001b[0max_list\u001b[0m\u001b[0;34m[\u001b[0m\u001b[0;36m0\u001b[0m\u001b[0;34m]\u001b[0m\u001b[0;34m.\u001b[0m\u001b[0mset_xlim\u001b[0m\u001b[0;34m(\u001b[0m\u001b[0;34m(\u001b[0m\u001b[0;36m0\u001b[0m\u001b[0;34m,\u001b[0m\u001b[0;36m25000\u001b[0m\u001b[0;34m)\u001b[0m\u001b[0;34m)\u001b[0m\u001b[0;34m\u001b[0m\u001b[0;34m\u001b[0m\u001b[0m\n\u001b[1;32m      3\u001b[0m \u001b[0max_list\u001b[0m\u001b[0;34m[\u001b[0m\u001b[0;36m1\u001b[0m\u001b[0;34m]\u001b[0m\u001b[0;34m.\u001b[0m\u001b[0mset_xlim\u001b[0m\u001b[0;34m(\u001b[0m\u001b[0;34m(\u001b[0m\u001b[0;36m0\u001b[0m\u001b[0;34m,\u001b[0m\u001b[0;36m25000\u001b[0m\u001b[0;34m)\u001b[0m\u001b[0;34m)\u001b[0m\u001b[0;34m\u001b[0m\u001b[0;34m\u001b[0m\u001b[0m\n",
      "\u001b[0;32m~/.virtualenvs/hckt04/lib/python3.8/site-packages/pandas/plotting/_core.py\u001b[0m in \u001b[0;36mhist_frame\u001b[0;34m(data, column, by, grid, xlabelsize, xrot, ylabelsize, yrot, ax, sharex, sharey, figsize, layout, bins, backend, legend, **kwargs)\u001b[0m\n\u001b[1;32m    209\u001b[0m     \"\"\"\n\u001b[1;32m    210\u001b[0m     \u001b[0mplot_backend\u001b[0m \u001b[0;34m=\u001b[0m \u001b[0m_get_plot_backend\u001b[0m\u001b[0;34m(\u001b[0m\u001b[0mbackend\u001b[0m\u001b[0;34m)\u001b[0m\u001b[0;34m\u001b[0m\u001b[0;34m\u001b[0m\u001b[0m\n\u001b[0;32m--> 211\u001b[0;31m     return plot_backend.hist_frame(\n\u001b[0m\u001b[1;32m    212\u001b[0m         \u001b[0mdata\u001b[0m\u001b[0;34m,\u001b[0m\u001b[0;34m\u001b[0m\u001b[0;34m\u001b[0m\u001b[0m\n\u001b[1;32m    213\u001b[0m         \u001b[0mcolumn\u001b[0m\u001b[0;34m=\u001b[0m\u001b[0mcolumn\u001b[0m\u001b[0;34m,\u001b[0m\u001b[0;34m\u001b[0m\u001b[0;34m\u001b[0m\u001b[0m\n",
      "\u001b[0;32m~/.virtualenvs/hckt04/lib/python3.8/site-packages/pandas/plotting/_matplotlib/hist.py\u001b[0m in \u001b[0;36mhist_frame\u001b[0;34m(data, column, by, grid, xlabelsize, xrot, ylabelsize, yrot, ax, sharex, sharey, figsize, layout, bins, legend, **kwds)\u001b[0m\n\u001b[1;32m    394\u001b[0m         \u001b[0;32mraise\u001b[0m \u001b[0mValueError\u001b[0m\u001b[0;34m(\u001b[0m\u001b[0;34m\"Cannot use both legend and label\"\u001b[0m\u001b[0;34m)\u001b[0m\u001b[0;34m\u001b[0m\u001b[0;34m\u001b[0m\u001b[0m\n\u001b[1;32m    395\u001b[0m     \u001b[0;32mif\u001b[0m \u001b[0mby\u001b[0m \u001b[0;32mis\u001b[0m \u001b[0;32mnot\u001b[0m \u001b[0;32mNone\u001b[0m\u001b[0;34m:\u001b[0m\u001b[0;34m\u001b[0m\u001b[0;34m\u001b[0m\u001b[0m\n\u001b[0;32m--> 396\u001b[0;31m         axes = _grouped_hist(\n\u001b[0m\u001b[1;32m    397\u001b[0m             \u001b[0mdata\u001b[0m\u001b[0;34m,\u001b[0m\u001b[0;34m\u001b[0m\u001b[0;34m\u001b[0m\u001b[0m\n\u001b[1;32m    398\u001b[0m             \u001b[0mcolumn\u001b[0m\u001b[0;34m=\u001b[0m\u001b[0mcolumn\u001b[0m\u001b[0;34m,\u001b[0m\u001b[0;34m\u001b[0m\u001b[0;34m\u001b[0m\u001b[0m\n",
      "\u001b[0;32m~/.virtualenvs/hckt04/lib/python3.8/site-packages/pandas/plotting/_matplotlib/hist.py\u001b[0m in \u001b[0;36m_grouped_hist\u001b[0;34m(data, column, by, ax, bins, figsize, layout, sharex, sharey, rot, grid, xlabelsize, xrot, ylabelsize, yrot, legend, **kwargs)\u001b[0m\n\u001b[1;32m    278\u001b[0m         \u001b[0mxrot\u001b[0m \u001b[0;34m=\u001b[0m \u001b[0mrot\u001b[0m\u001b[0;34m\u001b[0m\u001b[0;34m\u001b[0m\u001b[0m\n\u001b[1;32m    279\u001b[0m \u001b[0;34m\u001b[0m\u001b[0m\n\u001b[0;32m--> 280\u001b[0;31m     fig, axes = _grouped_plot(\n\u001b[0m\u001b[1;32m    281\u001b[0m         \u001b[0mplot_group\u001b[0m\u001b[0;34m,\u001b[0m\u001b[0;34m\u001b[0m\u001b[0;34m\u001b[0m\u001b[0m\n\u001b[1;32m    282\u001b[0m         \u001b[0mdata\u001b[0m\u001b[0;34m,\u001b[0m\u001b[0;34m\u001b[0m\u001b[0;34m\u001b[0m\u001b[0m\n",
      "\u001b[0;32m~/.virtualenvs/hckt04/lib/python3.8/site-packages/pandas/plotting/_matplotlib/hist.py\u001b[0m in \u001b[0;36m_grouped_plot\u001b[0;34m(plotf, data, column, by, numeric_only, figsize, sharex, sharey, layout, rot, ax, **kwargs)\u001b[0m\n\u001b[1;32m    213\u001b[0m         \u001b[0;32mif\u001b[0m \u001b[0mnumeric_only\u001b[0m \u001b[0;32mand\u001b[0m \u001b[0misinstance\u001b[0m\u001b[0;34m(\u001b[0m\u001b[0mgroup\u001b[0m\u001b[0;34m,\u001b[0m \u001b[0mABCDataFrame\u001b[0m\u001b[0;34m)\u001b[0m\u001b[0;34m:\u001b[0m\u001b[0;34m\u001b[0m\u001b[0;34m\u001b[0m\u001b[0m\n\u001b[1;32m    214\u001b[0m             \u001b[0mgroup\u001b[0m \u001b[0;34m=\u001b[0m \u001b[0mgroup\u001b[0m\u001b[0;34m.\u001b[0m\u001b[0m_get_numeric_data\u001b[0m\u001b[0;34m(\u001b[0m\u001b[0;34m)\u001b[0m\u001b[0;34m\u001b[0m\u001b[0;34m\u001b[0m\u001b[0m\n\u001b[0;32m--> 215\u001b[0;31m         \u001b[0mplotf\u001b[0m\u001b[0;34m(\u001b[0m\u001b[0mgroup\u001b[0m\u001b[0;34m,\u001b[0m \u001b[0max\u001b[0m\u001b[0;34m,\u001b[0m \u001b[0;34m**\u001b[0m\u001b[0mkwargs\u001b[0m\u001b[0;34m)\u001b[0m\u001b[0;34m\u001b[0m\u001b[0;34m\u001b[0m\u001b[0m\n\u001b[0m\u001b[1;32m    216\u001b[0m         \u001b[0max\u001b[0m\u001b[0;34m.\u001b[0m\u001b[0mset_title\u001b[0m\u001b[0;34m(\u001b[0m\u001b[0mpprint_thing\u001b[0m\u001b[0;34m(\u001b[0m\u001b[0mkey\u001b[0m\u001b[0;34m)\u001b[0m\u001b[0;34m)\u001b[0m\u001b[0;34m\u001b[0m\u001b[0;34m\u001b[0m\u001b[0m\n\u001b[1;32m    217\u001b[0m \u001b[0;34m\u001b[0m\u001b[0m\n",
      "\u001b[0;32m~/.virtualenvs/hckt04/lib/python3.8/site-packages/pandas/plotting/_matplotlib/hist.py\u001b[0m in \u001b[0;36mplot_group\u001b[0;34m(group, ax)\u001b[0m\n\u001b[1;32m    271\u001b[0m \u001b[0;34m\u001b[0m\u001b[0m\n\u001b[1;32m    272\u001b[0m     \u001b[0;32mdef\u001b[0m \u001b[0mplot_group\u001b[0m\u001b[0;34m(\u001b[0m\u001b[0mgroup\u001b[0m\u001b[0;34m,\u001b[0m \u001b[0max\u001b[0m\u001b[0;34m)\u001b[0m\u001b[0;34m:\u001b[0m\u001b[0;34m\u001b[0m\u001b[0;34m\u001b[0m\u001b[0m\n\u001b[0;32m--> 273\u001b[0;31m         \u001b[0max\u001b[0m\u001b[0;34m.\u001b[0m\u001b[0mhist\u001b[0m\u001b[0;34m(\u001b[0m\u001b[0mgroup\u001b[0m\u001b[0;34m.\u001b[0m\u001b[0mdropna\u001b[0m\u001b[0;34m(\u001b[0m\u001b[0;34m)\u001b[0m\u001b[0;34m.\u001b[0m\u001b[0mvalues\u001b[0m\u001b[0;34m,\u001b[0m \u001b[0mbins\u001b[0m\u001b[0;34m=\u001b[0m\u001b[0mbins\u001b[0m\u001b[0;34m,\u001b[0m \u001b[0;34m**\u001b[0m\u001b[0mkwargs\u001b[0m\u001b[0;34m)\u001b[0m\u001b[0;34m\u001b[0m\u001b[0;34m\u001b[0m\u001b[0m\n\u001b[0m\u001b[1;32m    274\u001b[0m         \u001b[0;32mif\u001b[0m \u001b[0mlegend\u001b[0m\u001b[0;34m:\u001b[0m\u001b[0;34m\u001b[0m\u001b[0;34m\u001b[0m\u001b[0m\n\u001b[1;32m    275\u001b[0m             \u001b[0max\u001b[0m\u001b[0;34m.\u001b[0m\u001b[0mlegend\u001b[0m\u001b[0;34m(\u001b[0m\u001b[0;34m)\u001b[0m\u001b[0;34m\u001b[0m\u001b[0;34m\u001b[0m\u001b[0m\n",
      "\u001b[0;32m~/.virtualenvs/hckt04/lib/python3.8/site-packages/matplotlib/__init__.py\u001b[0m in \u001b[0;36minner\u001b[0;34m(ax, data, *args, **kwargs)\u001b[0m\n\u001b[1;32m   1359\u001b[0m     \u001b[0;32mdef\u001b[0m \u001b[0minner\u001b[0m\u001b[0;34m(\u001b[0m\u001b[0max\u001b[0m\u001b[0;34m,\u001b[0m \u001b[0;34m*\u001b[0m\u001b[0margs\u001b[0m\u001b[0;34m,\u001b[0m \u001b[0mdata\u001b[0m\u001b[0;34m=\u001b[0m\u001b[0;32mNone\u001b[0m\u001b[0;34m,\u001b[0m \u001b[0;34m**\u001b[0m\u001b[0mkwargs\u001b[0m\u001b[0;34m)\u001b[0m\u001b[0;34m:\u001b[0m\u001b[0;34m\u001b[0m\u001b[0;34m\u001b[0m\u001b[0m\n\u001b[1;32m   1360\u001b[0m         \u001b[0;32mif\u001b[0m \u001b[0mdata\u001b[0m \u001b[0;32mis\u001b[0m \u001b[0;32mNone\u001b[0m\u001b[0;34m:\u001b[0m\u001b[0;34m\u001b[0m\u001b[0;34m\u001b[0m\u001b[0m\n\u001b[0;32m-> 1361\u001b[0;31m             \u001b[0;32mreturn\u001b[0m \u001b[0mfunc\u001b[0m\u001b[0;34m(\u001b[0m\u001b[0max\u001b[0m\u001b[0;34m,\u001b[0m \u001b[0;34m*\u001b[0m\u001b[0mmap\u001b[0m\u001b[0;34m(\u001b[0m\u001b[0msanitize_sequence\u001b[0m\u001b[0;34m,\u001b[0m \u001b[0margs\u001b[0m\u001b[0;34m)\u001b[0m\u001b[0;34m,\u001b[0m \u001b[0;34m**\u001b[0m\u001b[0mkwargs\u001b[0m\u001b[0;34m)\u001b[0m\u001b[0;34m\u001b[0m\u001b[0;34m\u001b[0m\u001b[0m\n\u001b[0m\u001b[1;32m   1362\u001b[0m \u001b[0;34m\u001b[0m\u001b[0m\n\u001b[1;32m   1363\u001b[0m         \u001b[0mbound\u001b[0m \u001b[0;34m=\u001b[0m \u001b[0mnew_sig\u001b[0m\u001b[0;34m.\u001b[0m\u001b[0mbind\u001b[0m\u001b[0;34m(\u001b[0m\u001b[0max\u001b[0m\u001b[0;34m,\u001b[0m \u001b[0;34m*\u001b[0m\u001b[0margs\u001b[0m\u001b[0;34m,\u001b[0m \u001b[0;34m**\u001b[0m\u001b[0mkwargs\u001b[0m\u001b[0;34m)\u001b[0m\u001b[0;34m\u001b[0m\u001b[0;34m\u001b[0m\u001b[0m\n",
      "\u001b[0;32m~/.virtualenvs/hckt04/lib/python3.8/site-packages/matplotlib/axes/_axes.py\u001b[0m in \u001b[0;36mhist\u001b[0;34m(self, x, bins, range, density, weights, cumulative, bottom, histtype, align, orientation, rwidth, log, color, label, stacked, **kwargs)\u001b[0m\n\u001b[1;32m   6757\u001b[0m             \u001b[0;31m# this will automatically overwrite bins,\u001b[0m\u001b[0;34m\u001b[0m\u001b[0;34m\u001b[0m\u001b[0;34m\u001b[0m\u001b[0m\n\u001b[1;32m   6758\u001b[0m             \u001b[0;31m# so that each histogram uses the same bins\u001b[0m\u001b[0;34m\u001b[0m\u001b[0;34m\u001b[0m\u001b[0;34m\u001b[0m\u001b[0m\n\u001b[0;32m-> 6759\u001b[0;31m             \u001b[0mm\u001b[0m\u001b[0;34m,\u001b[0m \u001b[0mbins\u001b[0m \u001b[0;34m=\u001b[0m \u001b[0mnp\u001b[0m\u001b[0;34m.\u001b[0m\u001b[0mhistogram\u001b[0m\u001b[0;34m(\u001b[0m\u001b[0mx\u001b[0m\u001b[0;34m[\u001b[0m\u001b[0mi\u001b[0m\u001b[0;34m]\u001b[0m\u001b[0;34m,\u001b[0m \u001b[0mbins\u001b[0m\u001b[0;34m,\u001b[0m \u001b[0mweights\u001b[0m\u001b[0;34m=\u001b[0m\u001b[0mw\u001b[0m\u001b[0;34m[\u001b[0m\u001b[0mi\u001b[0m\u001b[0;34m]\u001b[0m\u001b[0;34m,\u001b[0m \u001b[0;34m**\u001b[0m\u001b[0mhist_kwargs\u001b[0m\u001b[0;34m)\u001b[0m\u001b[0;34m\u001b[0m\u001b[0;34m\u001b[0m\u001b[0m\n\u001b[0m\u001b[1;32m   6760\u001b[0m             \u001b[0mtops\u001b[0m\u001b[0;34m.\u001b[0m\u001b[0mappend\u001b[0m\u001b[0;34m(\u001b[0m\u001b[0mm\u001b[0m\u001b[0;34m)\u001b[0m\u001b[0;34m\u001b[0m\u001b[0;34m\u001b[0m\u001b[0m\n\u001b[1;32m   6761\u001b[0m         \u001b[0mtops\u001b[0m \u001b[0;34m=\u001b[0m \u001b[0mnp\u001b[0m\u001b[0;34m.\u001b[0m\u001b[0marray\u001b[0m\u001b[0;34m(\u001b[0m\u001b[0mtops\u001b[0m\u001b[0;34m,\u001b[0m \u001b[0mfloat\u001b[0m\u001b[0;34m)\u001b[0m  \u001b[0;31m# causes problems later if it's an int\u001b[0m\u001b[0;34m\u001b[0m\u001b[0;34m\u001b[0m\u001b[0m\n",
      "\u001b[0;32m<__array_function__ internals>\u001b[0m in \u001b[0;36mhistogram\u001b[0;34m(*args, **kwargs)\u001b[0m\n",
      "\u001b[0;32m~/.virtualenvs/hckt04/lib/python3.8/site-packages/numpy/lib/histograms.py\u001b[0m in \u001b[0;36mhistogram\u001b[0;34m(a, bins, range, normed, weights, density)\u001b[0m\n\u001b[1;32m    820\u001b[0m \u001b[0;34m\u001b[0m\u001b[0m\n\u001b[1;32m    821\u001b[0m         \u001b[0;31m# Pre-compute histogram scaling factor\u001b[0m\u001b[0;34m\u001b[0m\u001b[0;34m\u001b[0m\u001b[0;34m\u001b[0m\u001b[0m\n\u001b[0;32m--> 822\u001b[0;31m         \u001b[0mnorm\u001b[0m \u001b[0;34m=\u001b[0m \u001b[0mn_equal_bins\u001b[0m \u001b[0;34m/\u001b[0m \u001b[0m_unsigned_subtract\u001b[0m\u001b[0;34m(\u001b[0m\u001b[0mlast_edge\u001b[0m\u001b[0;34m,\u001b[0m \u001b[0mfirst_edge\u001b[0m\u001b[0;34m)\u001b[0m\u001b[0;34m\u001b[0m\u001b[0;34m\u001b[0m\u001b[0m\n\u001b[0m\u001b[1;32m    823\u001b[0m \u001b[0;34m\u001b[0m\u001b[0m\n\u001b[1;32m    824\u001b[0m         \u001b[0;31m# We iterate over blocks here for two reasons: the first is that for\u001b[0m\u001b[0;34m\u001b[0m\u001b[0;34m\u001b[0m\u001b[0;34m\u001b[0m\u001b[0m\n",
      "\u001b[0;32m~/.virtualenvs/hckt04/lib/python3.8/site-packages/numpy/lib/histograms.py\u001b[0m in \u001b[0;36m_unsigned_subtract\u001b[0;34m(a, b)\u001b[0m\n\u001b[1;32m    351\u001b[0m         \u001b[0mdt\u001b[0m \u001b[0;34m=\u001b[0m \u001b[0msigned_to_unsigned\u001b[0m\u001b[0;34m[\u001b[0m\u001b[0mdt\u001b[0m\u001b[0;34m.\u001b[0m\u001b[0mtype\u001b[0m\u001b[0;34m]\u001b[0m\u001b[0;34m\u001b[0m\u001b[0;34m\u001b[0m\u001b[0m\n\u001b[1;32m    352\u001b[0m     \u001b[0;32mexcept\u001b[0m \u001b[0mKeyError\u001b[0m\u001b[0;34m:\u001b[0m\u001b[0;34m\u001b[0m\u001b[0;34m\u001b[0m\u001b[0m\n\u001b[0;32m--> 353\u001b[0;31m         \u001b[0;32mreturn\u001b[0m \u001b[0mnp\u001b[0m\u001b[0;34m.\u001b[0m\u001b[0msubtract\u001b[0m\u001b[0;34m(\u001b[0m\u001b[0ma\u001b[0m\u001b[0;34m,\u001b[0m \u001b[0mb\u001b[0m\u001b[0;34m,\u001b[0m \u001b[0mdtype\u001b[0m\u001b[0;34m=\u001b[0m\u001b[0mdt\u001b[0m\u001b[0;34m)\u001b[0m\u001b[0;34m\u001b[0m\u001b[0;34m\u001b[0m\u001b[0m\n\u001b[0m\u001b[1;32m    354\u001b[0m     \u001b[0;32melse\u001b[0m\u001b[0;34m:\u001b[0m\u001b[0;34m\u001b[0m\u001b[0;34m\u001b[0m\u001b[0m\n\u001b[1;32m    355\u001b[0m         \u001b[0;31m# we know the inputs are integers, and we are deliberately casting\u001b[0m\u001b[0;34m\u001b[0m\u001b[0;34m\u001b[0m\u001b[0;34m\u001b[0m\u001b[0m\n",
      "\u001b[0;31mTypeError\u001b[0m: numpy boolean subtract, the `-` operator, is not supported, use the bitwise_xor, the `^` operator, or the logical_xor function instead."
     ]
    },
    {
     "data": {
      "image/png": "[encoded data removed]",
      "text/plain": [
       "<Figure size 864x288 with 2 Axes>"
      ]
     },
     "metadata": {
      "needs_background": "light"
     },
     "output_type": "display_data"
    }
   ],
   "source": [
    "ax_list = data.hist(column='length', by='label', bins=50,figsize=(12,4))\n",
    "ax_list[0].set_xlim((0,25000))\n",
    "ax_list[1].set_xlim((0,25000))"
   ]
  },
  {
   "cell_type": "code",
   "execution_count": 24,
   "id": "b33eddab",
   "metadata": {},
   "outputs": [
    {
     "data": {
      "text/plain": [
       "0                                David J. Loftus\n",
       "2                                 crescamp \"esc\"\n",
       "3        Angelia Menchan \"acvermen.blogspot.com\"\n",
       "4                              Grifel \"Tea Time\"\n",
       "5                        isala \"Isabel and Lars\"\n",
       "                          ...                   \n",
       "49982                            W. A. Carpenter\n",
       "49983                             D. Blankenship\n",
       "49987                                   Briggsmo\n",
       "49990                            Sally Berneathy\n",
       "49991              Loni Hackworth \"lovin' books\"\n",
       "Name: reviewerName, Length: 28423, dtype: object"
      ]
     },
     "execution_count": 24,
     "metadata": {},
     "output_type": "execute_result"
    }
   ],
   "source": [
    "df = data.copy()\n",
    "df.reviewerName"
   ]
  },
  {
   "cell_type": "code",
   "execution_count": 26,
   "id": "4e833448",
   "metadata": {},
   "outputs": [
    {
     "name": "stdout",
     "output_type": "stream",
     "text": [
      "Collecting en-core-web-sm==3.1.0\n",
      "  Downloading https://github.com/explosion/spacy-models/releases/download/en_core_web_sm-3.1.0/en_core_web_sm-3.1.0-py3-none-any.whl (13.6 MB)\n",
      "\u001b[K     |████████████████████████████████| 13.6 MB 6.4 MB/s eta 0:00:01    |████████▎                       | 3.5 MB 2.7 MB/s eta 0:00:04     |█████████████████████████▎      | 10.7 MB 6.6 MB/s eta 0:00:01\n",
      "\u001b[?25hRequirement already satisfied: spacy<3.2.0,>=3.1.0 in /home/ana/.virtualenvs/hckt04/lib/python3.8/site-packages (from en-core-web-sm==3.1.0) (3.1.1)\n",
      "Requirement already satisfied: numpy>=1.15.0 in /home/ana/.virtualenvs/hckt04/lib/python3.8/site-packages (from spacy<3.2.0,>=3.1.0->en-core-web-sm==3.1.0) (1.20.3)\n",
      "Requirement already satisfied: jinja2 in /home/ana/.virtualenvs/hckt04/lib/python3.8/site-packages (from spacy<3.2.0,>=3.1.0->en-core-web-sm==3.1.0) (3.0.2)\n",
      "Requirement already satisfied: packaging>=20.0 in /home/ana/.virtualenvs/hckt04/lib/python3.8/site-packages (from spacy<3.2.0,>=3.1.0->en-core-web-sm==3.1.0) (21.2)\n",
      "Requirement already satisfied: blis<0.8.0,>=0.4.0 in /home/ana/.virtualenvs/hckt04/lib/python3.8/site-packages (from spacy<3.2.0,>=3.1.0->en-core-web-sm==3.1.0) (0.7.5)\n",
      "Requirement already satisfied: requests<3.0.0,>=2.13.0 in /home/ana/.virtualenvs/hckt04/lib/python3.8/site-packages (from spacy<3.2.0,>=3.1.0->en-core-web-sm==3.1.0) (2.26.0)\n",
      "Requirement already satisfied: spacy-legacy<3.1.0,>=3.0.7 in /home/ana/.virtualenvs/hckt04/lib/python3.8/site-packages (from spacy<3.2.0,>=3.1.0->en-core-web-sm==3.1.0) (3.0.8)\n",
      "Requirement already satisfied: cymem<2.1.0,>=2.0.2 in /home/ana/.virtualenvs/hckt04/lib/python3.8/site-packages (from spacy<3.2.0,>=3.1.0->en-core-web-sm==3.1.0) (2.0.6)\n",
      "Requirement already satisfied: murmurhash<1.1.0,>=0.28.0 in /home/ana/.virtualenvs/hckt04/lib/python3.8/site-packages (from spacy<3.2.0,>=3.1.0->en-core-web-sm==3.1.0) (1.0.6)\n",
      "Requirement already satisfied: pydantic!=1.8,!=1.8.1,<1.9.0,>=1.7.4 in /home/ana/.virtualenvs/hckt04/lib/python3.8/site-packages (from spacy<3.2.0,>=3.1.0->en-core-web-sm==3.1.0) (1.8.2)\n",
      "Requirement already satisfied: catalogue<2.1.0,>=2.0.4 in /home/ana/.virtualenvs/hckt04/lib/python3.8/site-packages (from spacy<3.2.0,>=3.1.0->en-core-web-sm==3.1.0) (2.0.6)\n",
      "Requirement already satisfied: setuptools in /home/ana/.virtualenvs/hckt04/lib/python3.8/site-packages (from spacy<3.2.0,>=3.1.0->en-core-web-sm==3.1.0) (44.0.0)\n",
      "Requirement already satisfied: thinc<8.1.0,>=8.0.8 in /home/ana/.virtualenvs/hckt04/lib/python3.8/site-packages (from spacy<3.2.0,>=3.1.0->en-core-web-sm==3.1.0) (8.0.13)\n",
      "Requirement already satisfied: typer<0.4.0,>=0.3.0 in /home/ana/.virtualenvs/hckt04/lib/python3.8/site-packages (from spacy<3.2.0,>=3.1.0->en-core-web-sm==3.1.0) (0.3.2)\n",
      "Requirement already satisfied: pathy>=0.3.5 in /home/ana/.virtualenvs/hckt04/lib/python3.8/site-packages (from spacy<3.2.0,>=3.1.0->en-core-web-sm==3.1.0) (0.6.1)\n",
      "Requirement already satisfied: preshed<3.1.0,>=3.0.2 in /home/ana/.virtualenvs/hckt04/lib/python3.8/site-packages (from spacy<3.2.0,>=3.1.0->en-core-web-sm==3.1.0) (3.0.6)\n",
      "Requirement already satisfied: tqdm<5.0.0,>=4.38.0 in /home/ana/.virtualenvs/hckt04/lib/python3.8/site-packages (from spacy<3.2.0,>=3.1.0->en-core-web-sm==3.1.0) (4.62.3)\n",
      "Requirement already satisfied: srsly<3.0.0,>=2.4.1 in /home/ana/.virtualenvs/hckt04/lib/python3.8/site-packages (from spacy<3.2.0,>=3.1.0->en-core-web-sm==3.1.0) (2.4.2)\n",
      "Requirement already satisfied: wasabi<1.1.0,>=0.8.1 in /home/ana/.virtualenvs/hckt04/lib/python3.8/site-packages (from spacy<3.2.0,>=3.1.0->en-core-web-sm==3.1.0) (0.8.2)\n",
      "Requirement already satisfied: MarkupSafe>=2.0 in /home/ana/.virtualenvs/hckt04/lib/python3.8/site-packages (from jinja2->spacy<3.2.0,>=3.1.0->en-core-web-sm==3.1.0) (2.0.1)\n",
      "Collecting pyparsing<3,>=2.0.2\n",
      "  Using cached pyparsing-2.4.7-py2.py3-none-any.whl (67 kB)\n",
      "Requirement already satisfied: idna<4,>=2.5; python_version >= \"3\" in /home/ana/.virtualenvs/hckt04/lib/python3.8/site-packages (from requests<3.0.0,>=2.13.0->spacy<3.2.0,>=3.1.0->en-core-web-sm==3.1.0) (3.3)\n",
      "Requirement already satisfied: charset-normalizer~=2.0.0; python_version >= \"3\" in /home/ana/.virtualenvs/hckt04/lib/python3.8/site-packages (from requests<3.0.0,>=2.13.0->spacy<3.2.0,>=3.1.0->en-core-web-sm==3.1.0) (2.0.7)\n",
      "Requirement already satisfied: certifi>=2017.4.17 in /home/ana/.virtualenvs/hckt04/lib/python3.8/site-packages (from requests<3.0.0,>=2.13.0->spacy<3.2.0,>=3.1.0->en-core-web-sm==3.1.0) (2021.10.8)\n",
      "Requirement already satisfied: urllib3<1.27,>=1.21.1 in /home/ana/.virtualenvs/hckt04/lib/python3.8/site-packages (from requests<3.0.0,>=2.13.0->spacy<3.2.0,>=3.1.0->en-core-web-sm==3.1.0) (1.26.7)\n",
      "Requirement already satisfied: typing-extensions>=3.7.4.3 in /home/ana/.virtualenvs/hckt04/lib/python3.8/site-packages (from pydantic!=1.8,!=1.8.1,<1.9.0,>=1.7.4->spacy<3.2.0,>=3.1.0->en-core-web-sm==3.1.0) (3.10.0.2)\n",
      "Requirement already satisfied: click<7.2.0,>=7.1.1 in /home/ana/.virtualenvs/hckt04/lib/python3.8/site-packages (from typer<0.4.0,>=0.3.0->spacy<3.2.0,>=3.1.0->en-core-web-sm==3.1.0) (7.1.1)\n",
      "Requirement already satisfied: smart-open<6.0.0,>=5.0.0 in /home/ana/.virtualenvs/hckt04/lib/python3.8/site-packages (from pathy>=0.3.5->spacy<3.2.0,>=3.1.0->en-core-web-sm==3.1.0) (5.2.1)\n",
      "Installing collected packages: en-core-web-sm, pyparsing\n",
      "  Attempting uninstall: pyparsing\n",
      "    Found existing installation: pyparsing 3.0.4\n",
      "    Uninstalling pyparsing-3.0.4:\n",
      "      Successfully uninstalled pyparsing-3.0.4\n",
      "Successfully installed en-core-web-sm-3.1.0 pyparsing-2.4.7\n",
      "\u001b[38;5;2m✔ Download and installation successful\u001b[0m\n",
      "You can now load the package via spacy.load('en_core_web_sm')\n"
     ]
    }
   ],
   "source": [
    "#!python -m spacy download en_core_web_sm"
   ]
  },
  {
   "cell_type": "code",
   "execution_count": 28,
   "id": "580b4a2f",
   "metadata": {},
   "outputs": [
    {
     "name": "stderr",
     "output_type": "stream",
     "text": [
      "100%|████████████████████████████████████| 28423/28423 [01:48<00:00, 261.77it/s]\n"
     ]
    }
   ],
   "source": [
    "# Let's also load Spacy's model with merged entities (which will come in handy later) and stopwords\n",
    "nlp = spacy.load('en_core_web_sm')\n",
    "nlp.add_pipe(\"merge_entities\", after=\"ner\")\n",
    "en_stopwords = nlp.Defaults.stop_words\n",
    "\n",
    "# Let's get the text of the news article processed by SpaCy - This might take a while depending on \n",
    "#   your hardware (a break to walk the dog? 🐶)\n",
    "docs_name = list(tqdm(nlp.pipe(df[\"reviewerName\"], batch_size=20, n_process=cpu_count-1), total=len(df[\"reviewerName\"])))\n",
    "#docs_review = list(tqdm(nlp.pipe(df[\"reviewText\"], batch_size=20, n_process=cpu_count-1), total=len(df[\"reviewerName\"])))\n",
    "#docs_summary = list(tqdm(nlp.pipe(df[\"summary\"], batch_size=20, n_process=cpu_count-1), total=len(df[\"reviewerName\"])))\n"
   ]
  },
  {
   "cell_type": "code",
   "execution_count": 205,
   "id": "e1b57a61",
   "metadata": {},
   "outputs": [
    {
     "name": "stderr",
     "output_type": "stream",
     "text": [
      " 99%|█████████████████████████████████████████▌| 99/100 [00:05<00:00, 19.60it/s]\n"
     ]
    }
   ],
   "source": [
    "docs_review = list(tqdm(nlp.pipe(df[\"reviewText\"][0:99], batch_size=20, n_process=cpu_count-1), total=100))\n"
   ]
  },
  {
   "cell_type": "code",
   "execution_count": 29,
   "id": "adc3248f",
   "metadata": {},
   "outputs": [],
   "source": [
    "# I'll reset the matcher for you\n",
    "matcher = Matcher(nlp.vocab)\n",
    "\n",
    "pattern = [[{\"ENT_TYPE\": \"PERSON\"}]] #to find people entities\n",
    "matcher.add(\"person\", pattern)\n",
    "\n",
    "             \n",
    "# do matches and save the text in a list\n",
    "matches_list = []\n",
    "for doc in docs_name:\n",
    "    matches = matcher(doc)\n",
    "    for match_id, start, end in matches:\n",
    "        span = doc[start:end]\n",
    "        matches_list.append(str(span))\n",
    "            \n",
    "# count the number of times the same Person appears on the list (hint: remember the dictionary solution...)\n",
    "# only take the top 10 of the counter! THE RESULT SHOULD BE A LIST\n",
    "\n",
    "matches_dict = dict((x,matches_list.count(x)) for x in set(matches_list))\n",
    "most_common_ents = list(sorted(matches_dict.items(), key=lambda item: item[1], reverse=True))[0:10]\n",
    "\n",
    "\n"
   ]
  },
  {
   "cell_type": "code",
   "execution_count": 263,
   "id": "000b7a23",
   "metadata": {},
   "outputs": [
    {
     "data": {
      "text/plain": [
       "28423"
      ]
     },
     "execution_count": 263,
     "metadata": {},
     "output_type": "execute_result"
    }
   ],
   "source": [
    "len(docs_name)"
   ]
  },
  {
   "cell_type": "code",
   "execution_count": 259,
   "id": "08b688cd",
   "metadata": {},
   "outputs": [],
   "source": [
    "is_person = []\n",
    "for doc in docs: \n",
    "    ent_types = [token.ent_type_ for token in doc]\n",
    "    is_person.append(\"PERSON\" in ent_types)"
   ]
  },
  {
   "cell_type": "code",
   "execution_count": 265,
   "id": "303bb4cb",
   "metadata": {},
   "outputs": [
    {
     "data": {
      "text/html": [
       "<div>\n",
       "<style scoped>\n",
       "    .dataframe tbody tr th:only-of-type {\n",
       "        vertical-align: middle;\n",
       "    }\n",
       "\n",
       "    .dataframe tbody tr th {\n",
       "        vertical-align: top;\n",
       "    }\n",
       "\n",
       "    .dataframe thead th {\n",
       "        text-align: right;\n",
       "    }\n",
       "</style>\n",
       "<table border=\"1\" class=\"dataframe\">\n",
       "  <thead>\n",
       "    <tr style=\"text-align: right;\">\n",
       "      <th></th>\n",
       "      <th>reviewText</th>\n",
       "      <th>rating</th>\n",
       "      <th>label</th>\n",
       "      <th>reviewAge</th>\n",
       "    </tr>\n",
       "  </thead>\n",
       "  <tbody>\n",
       "    <tr>\n",
       "      <th>0</th>\n",
       "      <td>Jenkins, a history professor and Member of Par...</td>\n",
       "      <td>4</td>\n",
       "      <td>True</td>\n",
       "      <td>7276.0</td>\n",
       "    </tr>\n",
       "    <tr>\n",
       "      <th>2</th>\n",
       "      <td>I didn't read this.  I purchased it for a gift...</td>\n",
       "      <td>3</td>\n",
       "      <td>False</td>\n",
       "      <td>3190.0</td>\n",
       "    </tr>\n",
       "    <tr>\n",
       "      <th>3</th>\n",
       "      <td>Fierce Angels by Sheri Park reads like a disse...</td>\n",
       "      <td>4</td>\n",
       "      <td>True</td>\n",
       "      <td>4246.0</td>\n",
       "    </tr>\n",
       "    <tr>\n",
       "      <th>4</th>\n",
       "      <td>Clearly this author had two goals in mind: 1) ...</td>\n",
       "      <td>1</td>\n",
       "      <td>True</td>\n",
       "      <td>6714.0</td>\n",
       "    </tr>\n",
       "    <tr>\n",
       "      <th>5</th>\n",
       "      <td>This is a collection of stories and memories b...</td>\n",
       "      <td>5</td>\n",
       "      <td>True</td>\n",
       "      <td>6077.0</td>\n",
       "    </tr>\n",
       "    <tr>\n",
       "      <th>...</th>\n",
       "      <td>...</td>\n",
       "      <td>...</td>\n",
       "      <td>...</td>\n",
       "      <td>...</td>\n",
       "    </tr>\n",
       "    <tr>\n",
       "      <th>49969</th>\n",
       "      <td>Lots of great recipes. I've tried several and ...</td>\n",
       "      <td>5</td>\n",
       "      <td>True</td>\n",
       "      <td>6768.0</td>\n",
       "    </tr>\n",
       "    <tr>\n",
       "      <th>49977</th>\n",
       "      <td>This book is an excellent manual on how to be ...</td>\n",
       "      <td>2</td>\n",
       "      <td>False</td>\n",
       "      <td>2985.0</td>\n",
       "    </tr>\n",
       "    <tr>\n",
       "      <th>49978</th>\n",
       "      <td>I'll start with a confession: I literally had ...</td>\n",
       "      <td>3</td>\n",
       "      <td>True</td>\n",
       "      <td>3906.0</td>\n",
       "    </tr>\n",
       "    <tr>\n",
       "      <th>49980</th>\n",
       "      <td>The book was good,kind of a wrinkle in time fe...</td>\n",
       "      <td>3</td>\n",
       "      <td>True</td>\n",
       "      <td>2856.0</td>\n",
       "    </tr>\n",
       "    <tr>\n",
       "      <th>49990</th>\n",
       "      <td>Intriguing mystery and compelling romance. Cha...</td>\n",
       "      <td>5</td>\n",
       "      <td>True</td>\n",
       "      <td>3533.0</td>\n",
       "    </tr>\n",
       "  </tbody>\n",
       "</table>\n",
       "<p>15611 rows × 4 columns</p>\n",
       "</div>"
      ],
      "text/plain": [
       "                                              reviewText  rating  label  \\\n",
       "0      Jenkins, a history professor and Member of Par...       4   True   \n",
       "2      I didn't read this.  I purchased it for a gift...       3  False   \n",
       "3      Fierce Angels by Sheri Park reads like a disse...       4   True   \n",
       "4      Clearly this author had two goals in mind: 1) ...       1   True   \n",
       "5      This is a collection of stories and memories b...       5   True   \n",
       "...                                                  ...     ...    ...   \n",
       "49969  Lots of great recipes. I've tried several and ...       5   True   \n",
       "49977  This book is an excellent manual on how to be ...       2  False   \n",
       "49978  I'll start with a confession: I literally had ...       3   True   \n",
       "49980  The book was good,kind of a wrinkle in time fe...       3   True   \n",
       "49990  Intriguing mystery and compelling romance. Cha...       5   True   \n",
       "\n",
       "       reviewAge  \n",
       "0         7276.0  \n",
       "2         3190.0  \n",
       "3         4246.0  \n",
       "4         6714.0  \n",
       "5         6077.0  \n",
       "...          ...  \n",
       "49969     6768.0  \n",
       "49977     2985.0  \n",
       "49978     3906.0  \n",
       "49980     2856.0  \n",
       "49990     3533.0  \n",
       "\n",
       "[15611 rows x 4 columns]"
      ]
     },
     "execution_count": 265,
     "metadata": {},
     "output_type": "execute_result"
    }
   ],
   "source": [
    "df_baseline"
   ]
  },
  {
   "cell_type": "code",
   "execution_count": 297,
   "id": "7b04a589",
   "metadata": {},
   "outputs": [],
   "source": [
    "df_baseline[\"is_person\"] = is_person"
   ]
  },
  {
   "cell_type": "code",
   "execution_count": null,
   "id": "3fa86a7a",
   "metadata": {},
   "outputs": [],
   "source": []
  },
  {
   "cell_type": "code",
   "execution_count": 206,
   "id": "cc4b86d8",
   "metadata": {},
   "outputs": [],
   "source": [
    "punctuation_count = []\n",
    "punctuation_ratio = []\n",
    "\n",
    "for doc in docs_review: \n",
    "    pos_tags = [token.pos_ for token in doc]\n",
    "    punc =  np.sum([t == \"PUNCT\" for t in pos_tags])\n",
    "    punctuation_count.append(punc)\n",
    "    punctuation_ratio.append(punc/len(pos_tags))"
   ]
  },
  {
   "cell_type": "code",
   "execution_count": 226,
   "id": "823a321d",
   "metadata": {},
   "outputs": [
    {
     "data": {
      "text/plain": [
       "0"
      ]
     },
     "execution_count": 226,
     "metadata": {},
     "output_type": "execute_result"
    }
   ],
   "source": [
    "(data.reviewText==\"\").sum()"
   ]
  },
  {
   "cell_type": "code",
   "execution_count": 209,
   "id": "ac7a1ff4",
   "metadata": {},
   "outputs": [
    {
     "data": {
      "text/plain": [
       "0       True\n",
       "2      False\n",
       "3       True\n",
       "4       True\n",
       "5       True\n",
       "       ...  \n",
       "149     True\n",
       "151     True\n",
       "152     True\n",
       "155     True\n",
       "156     True\n",
       "Name: label, Length: 99, dtype: object"
      ]
     },
     "execution_count": 209,
     "metadata": {},
     "output_type": "execute_result"
    }
   ],
   "source": [
    "df.label[0:99]"
   ]
  },
  {
   "cell_type": "code",
   "execution_count": 203,
   "id": "08066a87",
   "metadata": {},
   "outputs": [
    {
     "data": {
      "text/html": [
       "<div>\n",
       "<style scoped>\n",
       "    .dataframe tbody tr th:only-of-type {\n",
       "        vertical-align: middle;\n",
       "    }\n",
       "\n",
       "    .dataframe tbody tr th {\n",
       "        vertical-align: top;\n",
       "    }\n",
       "\n",
       "    .dataframe thead th {\n",
       "        text-align: right;\n",
       "    }\n",
       "</style>\n",
       "<table border=\"1\" class=\"dataframe\">\n",
       "  <thead>\n",
       "    <tr style=\"text-align: right;\">\n",
       "      <th></th>\n",
       "      <th>reviewerName</th>\n",
       "      <th>reviewText</th>\n",
       "      <th>overall</th>\n",
       "      <th>summary</th>\n",
       "      <th>reviewTime</th>\n",
       "      <th>rating</th>\n",
       "      <th>label</th>\n",
       "      <th>length</th>\n",
       "      <th>is_person</th>\n",
       "      <th>reviewYear</th>\n",
       "    </tr>\n",
       "  </thead>\n",
       "  <tbody>\n",
       "    <tr>\n",
       "      <th>0</th>\n",
       "      <td>David J. Loftus</td>\n",
       "      <td>Jenkins, a history professor and Member of Par...</td>\n",
       "      <td>4</td>\n",
       "      <td>Quite readable, nicely done</td>\n",
       "      <td>2001-12-06</td>\n",
       "      <td>4</td>\n",
       "      <td>True</td>\n",
       "      <td>1790</td>\n",
       "      <td>True</td>\n",
       "      <td>2001</td>\n",
       "    </tr>\n",
       "    <tr>\n",
       "      <th>2</th>\n",
       "      <td>crescamp \"esc\"</td>\n",
       "      <td>I didn't read this.  I purchased it for a gift...</td>\n",
       "      <td>3</td>\n",
       "      <td>10-minute life lessons for kids</td>\n",
       "      <td>2013-02-12</td>\n",
       "      <td>3</td>\n",
       "      <td>False</td>\n",
       "      <td>117</td>\n",
       "      <td>False</td>\n",
       "      <td>2013</td>\n",
       "    </tr>\n",
       "    <tr>\n",
       "      <th>3</th>\n",
       "      <td>Angelia Menchan \"acvermen.blogspot.com\"</td>\n",
       "      <td>Fierce Angels by Sheri Park reads like a disse...</td>\n",
       "      <td>4</td>\n",
       "      <td>So FIERCE</td>\n",
       "      <td>2010-03-24</td>\n",
       "      <td>4</td>\n",
       "      <td>True</td>\n",
       "      <td>1557</td>\n",
       "      <td>True</td>\n",
       "      <td>2010</td>\n",
       "    </tr>\n",
       "    <tr>\n",
       "      <th>4</th>\n",
       "      <td>Grifel \"Tea Time\"</td>\n",
       "      <td>Clearly this author had two goals in mind: 1) ...</td>\n",
       "      <td>1</td>\n",
       "      <td>Drivel!</td>\n",
       "      <td>2003-06-21</td>\n",
       "      <td>1</td>\n",
       "      <td>True</td>\n",
       "      <td>584</td>\n",
       "      <td>False</td>\n",
       "      <td>2003</td>\n",
       "    </tr>\n",
       "    <tr>\n",
       "      <th>5</th>\n",
       "      <td>isala \"Isabel and Lars\"</td>\n",
       "      <td>This is a collection of stories and memories b...</td>\n",
       "      <td>5</td>\n",
       "      <td>Compelling stories by ordinary people</td>\n",
       "      <td>2005-03-19</td>\n",
       "      <td>5</td>\n",
       "      <td>True</td>\n",
       "      <td>1531</td>\n",
       "      <td>False</td>\n",
       "      <td>2005</td>\n",
       "    </tr>\n",
       "  </tbody>\n",
       "</table>\n",
       "</div>"
      ],
      "text/plain": [
       "                              reviewerName  \\\n",
       "0                          David J. Loftus   \n",
       "2                           crescamp \"esc\"   \n",
       "3  Angelia Menchan \"acvermen.blogspot.com\"   \n",
       "4                        Grifel \"Tea Time\"   \n",
       "5                  isala \"Isabel and Lars\"   \n",
       "\n",
       "                                          reviewText  overall  \\\n",
       "0  Jenkins, a history professor and Member of Par...        4   \n",
       "2  I didn't read this.  I purchased it for a gift...        3   \n",
       "3  Fierce Angels by Sheri Park reads like a disse...        4   \n",
       "4  Clearly this author had two goals in mind: 1) ...        1   \n",
       "5  This is a collection of stories and memories b...        5   \n",
       "\n",
       "                                 summary reviewTime  rating  label  length  \\\n",
       "0            Quite readable, nicely done 2001-12-06       4   True    1790   \n",
       "2        10-minute life lessons for kids 2013-02-12       3  False     117   \n",
       "3                              So FIERCE 2010-03-24       4   True    1557   \n",
       "4                                Drivel! 2003-06-21       1   True     584   \n",
       "5  Compelling stories by ordinary people 2005-03-19       5   True    1531   \n",
       "\n",
       "   is_person  reviewYear  \n",
       "0       True        2001  \n",
       "2      False        2013  \n",
       "3       True        2010  \n",
       "4      False        2003  \n",
       "5      False        2005  "
      ]
     },
     "execution_count": 203,
     "metadata": {},
     "output_type": "execute_result"
    }
   ],
   "source": [
    "df.head()"
   ]
  },
  {
   "cell_type": "code",
   "execution_count": 71,
   "id": "50261385",
   "metadata": {},
   "outputs": [
    {
     "data": {
      "text/plain": [
       "0.5602856841290504"
      ]
     },
     "execution_count": 71,
     "metadata": {},
     "output_type": "execute_result"
    }
   ],
   "source": [
    "np.sum(df.is_person==df.label)/len(df)"
   ]
  },
  {
   "cell_type": "code",
   "execution_count": 90,
   "id": "4dcea030",
   "metadata": {},
   "outputs": [],
   "source": [
    "df[\"reviewTime\"] = pd.to_datetime(df.reviewTime)"
   ]
  },
  {
   "cell_type": "code",
   "execution_count": 92,
   "id": "ac9e2773",
   "metadata": {},
   "outputs": [],
   "source": [
    "df[\"reviewYear\"] = pd.DatetimeIndex(df[\"reviewTime\"]). year"
   ]
  },
  {
   "cell_type": "code",
   "execution_count": 125,
   "id": "3ebd516f",
   "metadata": {},
   "outputs": [
    {
     "data": {
      "image/png": "[encoded data removed]",
      "text/plain": [
       "<Figure size 864x288 with 2 Axes>"
      ]
     },
     "metadata": {
      "needs_background": "light"
     },
     "output_type": "display_data"
    }
   ],
   "source": [
    "ax_list = df.hist(column=\"rating\", by='label', bins=50,figsize=(12,4))\n",
    "#ax_list[0].set_xlim((0,25000))\n",
    "#ax_list[1].set_xlim((0,25000))"
   ]
  },
  {
   "cell_type": "code",
   "execution_count": 102,
   "id": "cf2d12cc",
   "metadata": {},
   "outputs": [],
   "source": [
    "tokenizer = WordPunctTokenizer()\n",
    "\n",
    "def remove_punctuation(text):\n",
    "    \"\"\"\n",
    "    Hint: Remember the good old RegEx from 2 LUs ago\n",
    "        how can I just remove everything except words, digits and spaces?\n",
    "    \"\"\"\n",
    "    \n",
    "    text = re.sub(r'[^A-Za-z\\d\\s]', '', text)\n",
    "    #text = re.sub(' +', ' ',text)\n",
    "    \n",
    "    return text.lower()\n",
    "\n",
    "def remove_stopwords(text, stopwords):\n",
    "    \"\"\"\n",
    "    Hint: You may want to split the text into tokens using the tokenizer, it might help when searching for stopwords\n",
    "        If you do, do not forget to join the tokens afterwards!\n",
    "    \"\"\"\n",
    "    \n",
    "    tokens = tokenizer.tokenize(text)\n",
    "    tokens = [t for t in tokens if t not in stopwords]\n",
    "    text_processed = \" \".join(tokens)\n",
    "    \n",
    "    # Return the full string again here\n",
    "    return text_processed"
   ]
  },
  {
   "cell_type": "code",
   "execution_count": 104,
   "id": "281db6bc",
   "metadata": {},
   "outputs": [],
   "source": [
    "def preprocess_text(df):\n",
    "    \n",
    "    df_processed = df.copy()\n",
    "    \n",
    "    df_processed[\"reviewerName\"] = df_processed[\"reviewerName\"].apply(remove_punctuation)\n",
    "\n",
    "    \n",
    "    \n",
    "    df_processed[\"reviewerName\"] = df_processed[\"reviewerName\"].apply(remove_stopwords, stopwords = en_stopwords)\n",
    "    \n",
    "    return df_processed\n",
    "\n",
    "df_processed = preprocess_text(df)\n"
   ]
  },
  {
   "cell_type": "code",
   "execution_count": 135,
   "id": "65362db2",
   "metadata": {},
   "outputs": [
    {
     "data": {
      "text/plain": [
       "'Philip Roth is one of those authors I would read no matter what.  He is such an excellent stylist and passionate writer that the pages just seem to drip with energy.  I relish his ability to generate confusion, excitement, disgust, interest and fascination in his work.  That\\'s not to say his work doesn\\'t vary in quality but, in this little story, he hits all the markers I expect and creates a great experience.Indignation tells the story of Marcus Messner, a boy who grew up in his parents\\' kosher butcher shop in Newark during World War II and the years following.  It is now the early 1950\\'s and, after a successful stint at a local college, he clashes with his ever-crazier father and heads to a college in a small town in Ohio.Needless to say, things don\\'t get any easier for Marcus at his new place.  He has intense confrontations with his roommates, his \"girlfriend,\" one of the deans of the school and his mother, among others.  It is a struggle to tell whether Marcus is simply going crazy himself or whether he is an intense, studious boy being pushed to his limits.Ultimately, what I like most about this novel is the way seemly small events have such a powerful impact on people and their lives.  And how events that are ignored when they happen turn out to be the turning points.  I won\\'t give away the results of Marcus\\' story that Roth details in the brief coda that closes the novel.  Needless to say, it isn\\'t what you are expecting.  Anyone looking for a short, intense read won\\'t go wrong choosing this one.'"
      ]
     },
     "execution_count": 135,
     "metadata": {},
     "output_type": "execute_result"
    }
   ],
   "source": [
    "data.reviewText[data.label==False][23]"
   ]
  },
  {
   "cell_type": "code",
   "execution_count": 155,
   "id": "4937def5",
   "metadata": {},
   "outputs": [
    {
     "data": {
      "text/plain": [
       "\"This is a collection of stories and memories by Japanese soldiers that fought in Burma between 1942 and 1945. The collection does not intend to give a comprehensive picture of the war, or of its participants. It is a series of snapshots of war as seen by the eyes of the ordinary people that actually fight it. Neither does the collection have literary ambitions: they have just told us their stories dircetly as they experienced them, with no special narrative technique or refinement. It actually does make the book so much more powerful.Some people have complained that it is mainly about marching or waiting, well: that's what war is for ordinary soldiers: No maps, no situation reports, no overview, no moral justification. They walk in the direction they are told, the lie down when bullets start buzzing around their ears, and they try and kill the enemy before he kills them. In between actions they try and puzzle together a life away from fear.Maybe we are spoilt by the magnificent war memoirs by some of the German generals, which, on the other hand, were educated cultured men with a bird's view of the war.There are some especially poignant stories about meetings between British and Japanese soldiers which are far away from the Hollywood image of the raving yellow lunatics that must be killed on sight.These men and women were not so much different from the allied soldiers we are taught to revere. And, indeed, they were often hailed as liberators by the colonial subjects of the US, Britain, France, and Holland.\""
      ]
     },
     "execution_count": 155,
     "metadata": {},
     "output_type": "execute_result"
    }
   ],
   "source": [
    "data.iloc[5].reviewText\n"
   ]
  },
  {
   "cell_type": "code",
   "execution_count": 227,
   "id": "c4dbc13a",
   "metadata": {},
   "outputs": [],
   "source": [
    "import datetime"
   ]
  },
  {
   "cell_type": "code",
   "execution_count": 238,
   "id": "f99ea27d",
   "metadata": {},
   "outputs": [],
   "source": [
    "df[\"reviewAge\"] = (datetime.datetime.now()-df.reviewTime).astype('timedelta64[D]')"
   ]
  },
  {
   "cell_type": "code",
   "execution_count": 239,
   "id": "37da38db",
   "metadata": {},
   "outputs": [
    {
     "data": {
      "image/png": "[encoded data removed]",
      "text/plain": [
       "<Figure size 864x288 with 2 Axes>"
      ]
     },
     "metadata": {
      "needs_background": "light"
     },
     "output_type": "display_data"
    }
   ],
   "source": [
    "ax_list = df.hist(column=\"reviewAge\", by='label', bins=50,figsize=(12,4))\n",
    "#ax_list[0].set_xlim((0,25000))\n",
    "#ax_list[1].set_xlim((0,25000))"
   ]
  },
  {
   "cell_type": "code",
   "execution_count": null,
   "id": "3d8449b6",
   "metadata": {},
   "outputs": [],
   "source": [
    "df.reviewAge[]"
   ]
  }
 ],
 "metadata": {
  "kernelspec": {
   "display_name": "Python 3",
   "language": "python",
   "name": "python3"
  },
  "language_info": {
   "codemirror_mode": {
    "name": "ipython",
    "version": 3
   },
   "file_extension": ".py",
   "mimetype": "text/x-python",
   "name": "python",
   "nbconvert_exporter": "python",
   "pygments_lexer": "ipython3",
   "version": "3.8.10"
  }
 },
 "nbformat": 4,
 "nbformat_minor": 5
}
