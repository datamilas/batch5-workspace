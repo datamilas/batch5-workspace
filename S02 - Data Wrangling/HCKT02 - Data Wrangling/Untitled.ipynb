{
 "cells": [
  {
   "cell_type": "code",
   "execution_count": 40,
   "id": "23973a9b",
   "metadata": {},
   "outputs": [],
   "source": [
    "import pandas as pd\n",
    "import numpy as np\n",
    "\n",
    "import requests\n",
    "from bs4 import BeautifulSoup"
   ]
  },
  {
   "cell_type": "code",
   "execution_count": 41,
   "id": "415a2c8b",
   "metadata": {},
   "outputs": [],
   "source": [
    "response = requests.get(\"https://s02-infrastructure.s3.eu-west-1.amazonaws.com/hackathon-2/website.html\")\n",
    "soup = BeautifulSoup(response.content, 'html.parser')"
   ]
  },
  {
   "cell_type": "code",
   "execution_count": 44,
   "id": "db07fa29",
   "metadata": {},
   "outputs": [],
   "source": [
    "main_data = soup.find_all('div', class_=\"main-data\")"
   ]
  },
  {
   "cell_type": "code",
   "execution_count": 51,
   "id": "d38f7242",
   "metadata": {},
   "outputs": [],
   "source": [
    "colnames = [colname.get_text() for colname in main_data[0].find_all(\"th\")]"
   ]
  },
  {
   "cell_type": "code",
   "execution_count": 63,
   "id": "54c37ef9",
   "metadata": {},
   "outputs": [],
   "source": [
    "data = []\n",
    "for row in main_data[0].find(\"tbody\").find_all(\"tr\"):\n",
    "    data.append([cell.get_text() for cell in row.find_all(\"td\")])"
   ]
  },
  {
   "cell_type": "code",
   "execution_count": 65,
   "id": "2ade908f",
   "metadata": {},
   "outputs": [],
   "source": [
    "df = pd.DataFrame(data=data, columns=colnames)"
   ]
  },
  {
   "cell_type": "code",
   "execution_count": 67,
   "id": "821e60ba",
   "metadata": {},
   "outputs": [],
   "source": [
    "missing_ids = soup.find_all('div', class_=\"missing-ids\")\n",
    "additional_ids = [x.get_text() for x in missing_ids[0].find(\"tbody\").find_all(\"td\")]"
   ]
  },
  {
   "cell_type": "code",
   "execution_count": 77,
   "id": "b7916762",
   "metadata": {},
   "outputs": [
    {
     "name": "stdout",
     "output_type": "stream",
     "text": [
      "999 999\n"
     ]
    }
   ],
   "source": [
    "#checking if number of NA ids in main df is the same as length of additional ids\n",
    "print(np.sum(df.id==\"<NA>\"), len(additional_ids))"
   ]
  },
  {
   "cell_type": "code",
   "execution_count": 90,
   "id": "471dca61",
   "metadata": {},
   "outputs": [],
   "source": [
    "for index, additional_id in enumerate(additional_ids):\n",
    "    df.iloc[index].id=additional_id"
   ]
  },
  {
   "cell_type": "code",
   "execution_count": 93,
   "id": "60d2e009",
   "metadata": {},
   "outputs": [
    {
     "data": {
      "text/plain": [
       "0"
      ]
     },
     "execution_count": 93,
     "metadata": {},
     "output_type": "execute_result"
    }
   ],
   "source": [
    "#check if all ids have been successfully found\n",
    "np.sum(df.id==\"<NA>\")"
   ]
  },
  {
   "cell_type": "code",
   "execution_count": 115,
   "id": "0f4ae8ad",
   "metadata": {},
   "outputs": [
    {
     "data": {
      "text/html": [
       "<div>\n",
       "<style scoped>\n",
       "    .dataframe tbody tr th:only-of-type {\n",
       "        vertical-align: middle;\n",
       "    }\n",
       "\n",
       "    .dataframe tbody tr th {\n",
       "        vertical-align: top;\n",
       "    }\n",
       "\n",
       "    .dataframe thead th {\n",
       "        text-align: right;\n",
       "    }\n",
       "</style>\n",
       "<table border=\"1\" class=\"dataframe\">\n",
       "  <thead>\n",
       "    <tr style=\"text-align: right;\">\n",
       "      <th></th>\n",
       "      <th>id</th>\n",
       "      <th>NumDots</th>\n",
       "      <th>SubdomainLevel</th>\n",
       "      <th>PathLevel</th>\n",
       "      <th>UrlLength</th>\n",
       "      <th>NumDash</th>\n",
       "      <th>NumDashInHostname</th>\n",
       "      <th>AtSymbol</th>\n",
       "      <th>TildeSymbol</th>\n",
       "      <th>NumUnderscore</th>\n",
       "      <th>...</th>\n",
       "      <th>ExtFavicon</th>\n",
       "      <th>InsecureForms</th>\n",
       "      <th>RelativeFormAction</th>\n",
       "      <th>ExtFormAction</th>\n",
       "      <th>AbnormalFormAction</th>\n",
       "      <th>PctNullSelfRedirectHyperlinks</th>\n",
       "      <th>FrequentDomainNameMismatch</th>\n",
       "      <th>FakeLinkInStatusBar</th>\n",
       "      <th>RightClickDisabled</th>\n",
       "      <th>CLASS_LABEL</th>\n",
       "    </tr>\n",
       "  </thead>\n",
       "  <tbody>\n",
       "    <tr>\n",
       "      <th>0</th>\n",
       "      <td>7368</td>\n",
       "      <td>1</td>\n",
       "      <td>0</td>\n",
       "      <td>3</td>\n",
       "      <td>116</td>\n",
       "      <td>0</td>\n",
       "      <td>0</td>\n",
       "      <td>0</td>\n",
       "      <td>0</td>\n",
       "      <td>3</td>\n",
       "      <td>...</td>\n",
       "      <td>1</td>\n",
       "      <td>1</td>\n",
       "      <td>0</td>\n",
       "      <td>0</td>\n",
       "      <td>0</td>\n",
       "      <td>0</td>\n",
       "      <td>0</td>\n",
       "      <td>0</td>\n",
       "      <td>0</td>\n",
       "      <td>0</td>\n",
       "    </tr>\n",
       "    <tr>\n",
       "      <th>1</th>\n",
       "      <td>3881</td>\n",
       "      <td>4</td>\n",
       "      <td>1</td>\n",
       "      <td>2</td>\n",
       "      <td>44</td>\n",
       "      <td>0</td>\n",
       "      <td>0</td>\n",
       "      <td>0</td>\n",
       "      <td>0</td>\n",
       "      <td>0</td>\n",
       "      <td>...</td>\n",
       "      <td>1</td>\n",
       "      <td>1</td>\n",
       "      <td>1</td>\n",
       "      <td>0</td>\n",
       "      <td>0</td>\n",
       "      <td>0</td>\n",
       "      <td>0</td>\n",
       "      <td>0</td>\n",
       "      <td>0</td>\n",
       "      <td>1</td>\n",
       "    </tr>\n",
       "    <tr>\n",
       "      <th>2</th>\n",
       "      <td>5393</td>\n",
       "      <td>2</td>\n",
       "      <td>0</td>\n",
       "      <td>2</td>\n",
       "      <td>108</td>\n",
       "      <td>0</td>\n",
       "      <td>0</td>\n",
       "      <td>0</td>\n",
       "      <td>0</td>\n",
       "      <td>2</td>\n",
       "      <td>...</td>\n",
       "      <td>0</td>\n",
       "      <td>1</td>\n",
       "      <td>0</td>\n",
       "      <td>0</td>\n",
       "      <td>0</td>\n",
       "      <td>0</td>\n",
       "      <td>0</td>\n",
       "      <td>0</td>\n",
       "      <td>0</td>\n",
       "      <td>0</td>\n",
       "    </tr>\n",
       "    <tr>\n",
       "      <th>3</th>\n",
       "      <td>1401</td>\n",
       "      <td>3</td>\n",
       "      <td>1</td>\n",
       "      <td>2</td>\n",
       "      <td>40</td>\n",
       "      <td>0</td>\n",
       "      <td>0</td>\n",
       "      <td>0</td>\n",
       "      <td>0</td>\n",
       "      <td>0</td>\n",
       "      <td>...</td>\n",
       "      <td>0</td>\n",
       "      <td>1</td>\n",
       "      <td>0</td>\n",
       "      <td>0</td>\n",
       "      <td>0</td>\n",
       "      <td>0</td>\n",
       "      <td>0</td>\n",
       "      <td>0</td>\n",
       "      <td>0</td>\n",
       "      <td>1</td>\n",
       "    </tr>\n",
       "    <tr>\n",
       "      <th>4</th>\n",
       "      <td>4925</td>\n",
       "      <td>2</td>\n",
       "      <td>1</td>\n",
       "      <td>3</td>\n",
       "      <td>42</td>\n",
       "      <td>0</td>\n",
       "      <td>0</td>\n",
       "      <td>0</td>\n",
       "      <td>1</td>\n",
       "      <td>0</td>\n",
       "      <td>...</td>\n",
       "      <td>0</td>\n",
       "      <td>0</td>\n",
       "      <td>0</td>\n",
       "      <td>0</td>\n",
       "      <td>0</td>\n",
       "      <td>0</td>\n",
       "      <td>0</td>\n",
       "      <td>0</td>\n",
       "      <td>0</td>\n",
       "      <td>1</td>\n",
       "    </tr>\n",
       "  </tbody>\n",
       "</table>\n",
       "<p>5 rows × 39 columns</p>\n",
       "</div>"
      ],
      "text/plain": [
       "     id  NumDots  SubdomainLevel  PathLevel  UrlLength  NumDash  \\\n",
       "0  7368        1               0          3        116        0   \n",
       "1  3881        4               1          2         44        0   \n",
       "2  5393        2               0          2        108        0   \n",
       "3  1401        3               1          2         40        0   \n",
       "4  4925        2               1          3         42        0   \n",
       "\n",
       "   NumDashInHostname  AtSymbol  TildeSymbol  NumUnderscore  ...  ExtFavicon  \\\n",
       "0                  0         0            0              3  ...           1   \n",
       "1                  0         0            0              0  ...           1   \n",
       "2                  0         0            0              2  ...           0   \n",
       "3                  0         0            0              0  ...           0   \n",
       "4                  0         0            1              0  ...           0   \n",
       "\n",
       "   InsecureForms  RelativeFormAction  ExtFormAction  AbnormalFormAction  \\\n",
       "0              1                   0              0                   0   \n",
       "1              1                   1              0                   0   \n",
       "2              1                   0              0                   0   \n",
       "3              1                   0              0                   0   \n",
       "4              0                   0              0                   0   \n",
       "\n",
       "   PctNullSelfRedirectHyperlinks  FrequentDomainNameMismatch  \\\n",
       "0                              0                           0   \n",
       "1                              0                           0   \n",
       "2                              0                           0   \n",
       "3                              0                           0   \n",
       "4                              0                           0   \n",
       "\n",
       "   FakeLinkInStatusBar  RightClickDisabled  CLASS_LABEL  \n",
       "0                    0                   0            0  \n",
       "1                    0                   0            1  \n",
       "2                    0                   0            0  \n",
       "3                    0                   0            1  \n",
       "4                    0                   0            1  \n",
       "\n",
       "[5 rows x 39 columns]"
      ]
     },
     "execution_count": 115,
     "metadata": {},
     "output_type": "execute_result"
    }
   ],
   "source": [
    "df = df.astype('int64')\n",
    "df.head()"
   ]
  },
  {
   "cell_type": "code",
   "execution_count": 117,
   "id": "9d23404a",
   "metadata": {},
   "outputs": [],
   "source": [
    "df.to_csv(\"webscraping.csv\")"
   ]
  }
 ],
 "metadata": {
  "kernelspec": {
   "display_name": "Python 3",
   "language": "python",
   "name": "python3"
  },
  "language_info": {
   "codemirror_mode": {
    "name": "ipython",
    "version": 3
   },
   "file_extension": ".py",
   "mimetype": "text/x-python",
   "name": "python",
   "nbconvert_exporter": "python",
   "pygments_lexer": "ipython3",
   "version": "3.8.10"
  }
 },
 "nbformat": 4,
 "nbformat_minor": 5
}
