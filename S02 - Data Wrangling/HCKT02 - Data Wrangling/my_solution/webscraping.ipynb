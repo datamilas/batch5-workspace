{
 "cells": [
  {
   "cell_type": "code",
   "execution_count": 1,
   "id": "304f475b",
   "metadata": {},
   "outputs": [],
   "source": [
    "import pandas as pd\n",
    "import numpy as np\n",
    "\n",
    "import requests\n",
    "from bs4 import BeautifulSoup"
   ]
  },
  {
   "cell_type": "code",
   "execution_count": 3,
   "id": "d3d9f6ed",
   "metadata": {},
   "outputs": [],
   "source": [
    "def check_data(df):\n",
    "    print(df.head())\n",
    "    print(\"\\n\")\n",
    "    print(\"SHAPE\")\n",
    "    print(df.shape)\n",
    "    print(\"\\n\")\n",
    "    print(\"DATA TYPES\")\n",
    "    print(df.dtypes)\n",
    "    print(\"\\n\")\n",
    "    print(\"UNIQUE VALUES\")\n",
    "    print(df.nunique())\n",
    "    print(\"\\n\")\n",
    "    print(\"MISSING VALUES\")\n",
    "    print(df.isna().sum())"
   ]
  },
  {
   "cell_type": "code",
   "execution_count": 4,
   "id": "d8876e3d",
   "metadata": {},
   "outputs": [],
   "source": [
    "response = requests.get(\"https://s02-infrastructure.s3.eu-west-1.amazonaws.com/hackathon-2/website.html\")\n",
    "soup = BeautifulSoup(response.content, 'html.parser')"
   ]
  },
  {
   "cell_type": "code",
   "execution_count": 5,
   "id": "c9d0a991",
   "metadata": {},
   "outputs": [],
   "source": [
    "main_data = soup.find_all('div', class_=\"main-data\")"
   ]
  },
  {
   "cell_type": "code",
   "execution_count": 6,
   "id": "f517fcaf",
   "metadata": {},
   "outputs": [],
   "source": [
    "colnames = [colname.get_text() for colname in main_data[0].find_all(\"th\")]"
   ]
  },
  {
   "cell_type": "code",
   "execution_count": 7,
   "id": "8a718e03",
   "metadata": {},
   "outputs": [],
   "source": [
    "data = []\n",
    "for row in main_data[0].find(\"tbody\").find_all(\"tr\"):\n",
    "    data.append([cell.get_text() for cell in row.find_all(\"td\")])"
   ]
  },
  {
   "cell_type": "code",
   "execution_count": 8,
   "id": "cd4a6bb7",
   "metadata": {},
   "outputs": [],
   "source": [
    "df = pd.DataFrame(data=data, columns=colnames)"
   ]
  },
  {
   "cell_type": "code",
   "execution_count": 9,
   "id": "29116ed0",
   "metadata": {},
   "outputs": [],
   "source": [
    "missing_ids = soup.find_all('div', class_=\"missing-ids\")\n",
    "additional_ids = [x.get_text() for x in missing_ids[0].find(\"tbody\").find_all(\"td\")]"
   ]
  },
  {
   "cell_type": "code",
   "execution_count": 10,
   "id": "3e539ac4",
   "metadata": {},
   "outputs": [
    {
     "name": "stdout",
     "output_type": "stream",
     "text": [
      "999 999\n"
     ]
    }
   ],
   "source": [
    "#checking if number of NA ids in main df is the same as length of additional ids\n",
    "print(np.sum(df.id==\"<NA>\"), len(additional_ids))"
   ]
  },
  {
   "cell_type": "code",
   "execution_count": 11,
   "id": "85c7623b",
   "metadata": {},
   "outputs": [],
   "source": [
    "for index, additional_id in enumerate(additional_ids):\n",
    "    df.iloc[index].id=additional_id"
   ]
  },
  {
   "cell_type": "code",
   "execution_count": 12,
   "id": "27bf9838",
   "metadata": {},
   "outputs": [
    {
     "data": {
      "text/plain": [
       "0"
      ]
     },
     "execution_count": 12,
     "metadata": {},
     "output_type": "execute_result"
    }
   ],
   "source": [
    "#check if all ids have been successfully found\n",
    "np.sum(df.id==\"<NA>\")"
   ]
  },
  {
   "cell_type": "code",
   "execution_count": 15,
   "id": "991481df",
   "metadata": {},
   "outputs": [
    {
     "name": "stdout",
     "output_type": "stream",
     "text": [
      "        numdots  subdomainlevel  pathlevel  urllength  numdash  \\\n",
      "id                                                               \n",
      "7368.0      1.0             0.0        3.0      116.0      0.0   \n",
      "3881.0      4.0             1.0        2.0       44.0      0.0   \n",
      "5393.0      2.0             0.0        2.0      108.0      0.0   \n",
      "1401.0      3.0             1.0        2.0       40.0      0.0   \n",
      "4925.0      2.0             1.0        3.0       42.0      0.0   \n",
      "\n",
      "        numdashinhostname  atsymbol  tildesymbol  numunderscore  numpercent  \\\n",
      "id                                                                            \n",
      "7368.0                0.0       0.0          0.0            3.0         0.0   \n",
      "3881.0                0.0       0.0          0.0            0.0         0.0   \n",
      "5393.0                0.0       0.0          0.0            2.0         0.0   \n",
      "1401.0                0.0       0.0          0.0            0.0         0.0   \n",
      "4925.0                0.0       0.0          1.0            0.0         0.0   \n",
      "\n",
      "        ...  extfavicon  insecureforms  relativeformaction  extformaction  \\\n",
      "id      ...                                                                 \n",
      "7368.0  ...         1.0            1.0                 0.0            0.0   \n",
      "3881.0  ...         1.0            1.0                 1.0            0.0   \n",
      "5393.0  ...         0.0            1.0                 0.0            0.0   \n",
      "1401.0  ...         0.0            1.0                 0.0            0.0   \n",
      "4925.0  ...         0.0            0.0                 0.0            0.0   \n",
      "\n",
      "        abnormalformaction  pctnullselfredirecthyperlinks  \\\n",
      "id                                                          \n",
      "7368.0                 0.0                            0.0   \n",
      "3881.0                 0.0                            0.0   \n",
      "5393.0                 0.0                            0.0   \n",
      "1401.0                 0.0                            0.0   \n",
      "4925.0                 0.0                            0.0   \n",
      "\n",
      "        frequentdomainnamemismatch  fakelinkinstatusbar  rightclickdisabled  \\\n",
      "id                                                                            \n",
      "7368.0                         0.0                  0.0                 0.0   \n",
      "3881.0                         0.0                  0.0                 0.0   \n",
      "5393.0                         0.0                  0.0                 0.0   \n",
      "1401.0                         0.0                  0.0                 0.0   \n",
      "4925.0                         0.0                  0.0                 0.0   \n",
      "\n",
      "        class_label  \n",
      "id                   \n",
      "7368.0          0.0  \n",
      "3881.0          1.0  \n",
      "5393.0          0.0  \n",
      "1401.0          1.0  \n",
      "4925.0          1.0  \n",
      "\n",
      "[5 rows x 38 columns]\n",
      "\n",
      "\n",
      "SHAPE\n",
      "(2665, 38)\n",
      "\n",
      "\n",
      "DATA TYPES\n",
      "numdots                          float64\n",
      "subdomainlevel                   float64\n",
      "pathlevel                        float64\n",
      "urllength                        float64\n",
      "numdash                          float64\n",
      "numdashinhostname                float64\n",
      "atsymbol                         float64\n",
      "tildesymbol                      float64\n",
      "numunderscore                    float64\n",
      "numpercent                       float64\n",
      "numquerycomponents               float64\n",
      "numampersand                     float64\n",
      "numhash                          float64\n",
      "numnumericchars                  float64\n",
      "nohttps                          float64\n",
      "randomstring                     float64\n",
      "ipaddress                        float64\n",
      "domaininsubdomains               float64\n",
      "domaininpaths                    float64\n",
      "httpsinhostname                  float64\n",
      "hostnamelength                   float64\n",
      "pathlength                       float64\n",
      "querylength                      float64\n",
      "doubleslashinpath                float64\n",
      "numsensitivewords                float64\n",
      "embeddedbrandname                float64\n",
      "pctexthyperlinks                 float64\n",
      "pctextresourceurls               float64\n",
      "extfavicon                       float64\n",
      "insecureforms                    float64\n",
      "relativeformaction               float64\n",
      "extformaction                    float64\n",
      "abnormalformaction               float64\n",
      "pctnullselfredirecthyperlinks    float64\n",
      "frequentdomainnamemismatch       float64\n",
      "fakelinkinstatusbar              float64\n",
      "rightclickdisabled               float64\n",
      "class_label                      float64\n",
      "dtype: object\n",
      "\n",
      "\n",
      "UNIQUE VALUES\n",
      "numdots                           15\n",
      "subdomainlevel                    11\n",
      "pathlevel                         17\n",
      "urllength                        187\n",
      "numdash                            1\n",
      "numdashinhostname                  7\n",
      "atsymbol                           2\n",
      "tildesymbol                        2\n",
      "numunderscore                     14\n",
      "numpercent                         9\n",
      "numquerycomponents                15\n",
      "numampersand                      13\n",
      "numhash                            2\n",
      "numnumericchars                    1\n",
      "nohttps                            2\n",
      "randomstring                       2\n",
      "ipaddress                          2\n",
      "domaininsubdomains                 2\n",
      "domaininpaths                      2\n",
      "httpsinhostname                    1\n",
      "hostnamelength                    56\n",
      "pathlength                       127\n",
      "querylength                      122\n",
      "doubleslashinpath                  2\n",
      "numsensitivewords                  4\n",
      "embeddedbrandname                  2\n",
      "pctexthyperlinks                   1\n",
      "pctextresourceurls                 1\n",
      "extfavicon                         2\n",
      "insecureforms                      2\n",
      "relativeformaction                 2\n",
      "extformaction                      2\n",
      "abnormalformaction                 2\n",
      "pctnullselfredirecthyperlinks      1\n",
      "frequentdomainnamemismatch         1\n",
      "fakelinkinstatusbar                2\n",
      "rightclickdisabled                 2\n",
      "class_label                        2\n",
      "dtype: int64\n",
      "\n",
      "\n",
      "MISSING VALUES\n",
      "numdots                          0\n",
      "subdomainlevel                   0\n",
      "pathlevel                        0\n",
      "urllength                        0\n",
      "numdash                          0\n",
      "numdashinhostname                0\n",
      "atsymbol                         0\n",
      "tildesymbol                      0\n",
      "numunderscore                    0\n",
      "numpercent                       0\n",
      "numquerycomponents               0\n",
      "numampersand                     0\n",
      "numhash                          0\n",
      "numnumericchars                  0\n",
      "nohttps                          0\n",
      "randomstring                     0\n",
      "ipaddress                        0\n",
      "domaininsubdomains               0\n",
      "domaininpaths                    0\n",
      "httpsinhostname                  0\n",
      "hostnamelength                   0\n",
      "pathlength                       0\n",
      "querylength                      0\n",
      "doubleslashinpath                0\n",
      "numsensitivewords                0\n",
      "embeddedbrandname                0\n",
      "pctexthyperlinks                 0\n",
      "pctextresourceurls               0\n",
      "extfavicon                       0\n",
      "insecureforms                    0\n",
      "relativeformaction               0\n",
      "extformaction                    0\n",
      "abnormalformaction               0\n",
      "pctnullselfredirecthyperlinks    0\n",
      "frequentdomainnamemismatch       0\n",
      "fakelinkinstatusbar              0\n",
      "rightclickdisabled               0\n",
      "class_label                      0\n",
      "dtype: int64\n"
     ]
    }
   ],
   "source": [
    "df = df.astype('float64')\n",
    "df = df.rename(columns=str.lower)\n",
    "df = df.set_index(\"id\")\n",
    "check_data(df)"
   ]
  },
  {
   "cell_type": "code",
   "execution_count": 16,
   "id": "fdb3f7eb",
   "metadata": {},
   "outputs": [],
   "source": [
    "df.to_csv(\"webscraping.csv\")"
   ]
  }
 ],
 "metadata": {
  "kernelspec": {
   "display_name": "Python 3",
   "language": "python",
   "name": "python3"
  },
  "language_info": {
   "codemirror_mode": {
    "name": "ipython",
    "version": 3
   },
   "file_extension": ".py",
   "mimetype": "text/x-python",
   "name": "python",
   "nbconvert_exporter": "python",
   "pygments_lexer": "ipython3",
   "version": "3.8.10"
  }
 },
 "nbformat": 4,
 "nbformat_minor": 5
}
